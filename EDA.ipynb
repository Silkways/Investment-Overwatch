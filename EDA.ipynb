{
 "cells": [
  {
   "cell_type": "code",
   "execution_count": 147,
   "metadata": {
    "Collapsed": "false"
   },
   "outputs": [
    {
     "name": "stdout",
     "output_type": "stream",
     "text": [
      "The autoreload extension is already loaded. To reload it, use:\n",
      "  %reload_ext autoreload\n"
     ]
    }
   ],
   "source": [
    "import websocket\n",
    "import pandas as pd\n",
    "import requests\n",
    "from pandas.io.json import json_normalize\n",
    "import json\n",
    "from code_ref import get_keys\n",
    "from code_ref import findata\n",
    "from code_ref import FinnhubRequestException\n",
    "from code_ref import FinnhubAPIException\n",
    "import time\n",
    "import threading\n",
    "%matplotlib inline\n",
    "%load_ext autoreload\n",
    "%autoreload 2\n",
    "import warnings\n",
    "from ratelimit import limits\n",
    "from ratelimiter import RateLimiter\n",
    "import pandas as pd \n",
    "import seaborn as sns\n",
    "import matplotlib.pyplot as plt\n",
    "\n",
    "\n",
    "from sklearn.experimental import enable_iterative_imputer  \n",
    "from sklearn.datasets import fetch_california_housing\n",
    "from sklearn.impute import SimpleImputer\n",
    "from sklearn.impute import IterativeImputer\n",
    "from sklearn.linear_model import BayesianRidge\n",
    "from sklearn.tree import DecisionTreeRegressor\n",
    "from sklearn.ensemble import ExtraTreesRegressor\n",
    "from sklearn.neighbors import KNeighborsRegressor\n",
    "from sklearn.pipeline import make_pipeline\n",
    "from sklearn.model_selection import cross_val_score\n",
    "from sklearn.ensemble import RandomForestRegressor\n"
   ]
  },
  {
   "cell_type": "markdown",
   "metadata": {
    "Collapsed": "false"
   },
   "source": [
    "## DataSet1"
   ]
  },
  {
   "cell_type": "code",
   "execution_count": 100,
   "metadata": {
    "Collapsed": "false"
   },
   "outputs": [],
   "source": [
    "df = pd.read_csv('data_api/management1.csv')\n",
    "df1 = pd.read_csv('data_api/margin1.csv')\n",
    "df2 = pd.read_csv('data_api/growth1.csv')"
   ]
  },
  {
   "cell_type": "code",
   "execution_count": 101,
   "metadata": {
    "Collapsed": "false"
   },
   "outputs": [],
   "source": [
    "df.drop(columns = ['Unnamed: 0'] , inplace = True)\n",
    "df1.drop(columns = ['Unnamed: 0'] , inplace = True)\n",
    "df2.drop(columns = ['Unnamed: 0'] , inplace = True)"
   ]
  },
  {
   "cell_type": "code",
   "execution_count": 102,
   "metadata": {
    "Collapsed": "false"
   },
   "outputs": [],
   "source": [
    "df.dropna(subset =['symbol'], inplace = True)\n",
    "df1.dropna(subset =['symbol'], inplace = True)\n",
    "df2.dropna(subset = ['symbol'], inplace = True)"
   ]
  },
  {
   "cell_type": "code",
   "execution_count": 103,
   "metadata": {
    "Collapsed": "false"
   },
   "outputs": [],
   "source": [
    "comb1 = pd.merge(df, df1, how = 'left', on = 'symbol').merge(df2, how = 'left', on = 'symbol')"
   ]
  },
  {
   "cell_type": "code",
   "execution_count": 104,
   "metadata": {
    "Collapsed": "false"
   },
   "outputs": [],
   "source": [
    "remove = ['metricType_x', 'metricType_y', 'metricType']"
   ]
  },
  {
   "cell_type": "code",
   "execution_count": 105,
   "metadata": {
    "Collapsed": "false"
   },
   "outputs": [],
   "source": [
    "comb1.drop(columns = remove, inplace = True)"
   ]
  },
  {
   "cell_type": "code",
   "execution_count": 106,
   "metadata": {
    "Collapsed": "false"
   },
   "outputs": [
    {
     "data": {
      "text/plain": [
       "(8639, 52)"
      ]
     },
     "execution_count": 106,
     "metadata": {},
     "output_type": "execute_result"
    }
   ],
   "source": [
    "comb1.shape"
   ]
  },
  {
   "cell_type": "code",
   "execution_count": 107,
   "metadata": {
    "Collapsed": "false"
   },
   "outputs": [
    {
     "data": {
      "text/plain": [
       "symbol                                        0\n",
       "metric.assetTurnoverAnnual                  541\n",
       "metric.assetTurnoverTTM                     710\n",
       "metric.inventoryTurnoverAnnual             3395\n",
       "metric.inventoryTurnoverTTM                3627\n",
       "metric.netIncomeEmployeeAnnual             3456\n",
       "metric.netIncomeEmployeeTTM                3531\n",
       "metric.receivablesTurnoverAnnual           1152\n",
       "metric.receivablesTurnoverTTM              1364\n",
       "metric.revenueEmployeeAnnual               3552\n",
       "metric.revenueEmployeeTTM                  3530\n",
       "metric.roaRfy                                83\n",
       "metric.roaa5Y                               352\n",
       "metric.roae5Y                               585\n",
       "metric.roaeTTM                              609\n",
       "metric.roeRfy                               446\n",
       "metric.roeTTM                               259\n",
       "metric.roi5Y                               1014\n",
       "metric.roiAnnual                            802\n",
       "metric.roiTTM                               968\n",
       "metric.freeOperatingCashFlow/revenue5Y     1008\n",
       "metric.freeOperatingCashFlow/revenueTTM    1114\n",
       "metric.grossMargin5Y                       2217\n",
       "metric.grossMarginAnnual                   1842\n",
       "metric.grossMarginTTM                      1895\n",
       "metric.netProfitMargin%Annual               341\n",
       "metric.netProfitMargin5Y                    485\n",
       "metric.netProfitMarginTTM                   414\n",
       "metric.operatingMargin5Y                    495\n",
       "metric.operatingMarginAnnual                350\n",
       "metric.operatingMarginTTM                   422\n",
       "metric.pretaxMargin5Y                       485\n",
       "metric.pretaxMarginAnnual                   341\n",
       "metric.pretaxMarginTTM                      414\n",
       "metric.bookValueShareGrowth5Y               898\n",
       "metric.capitalSpendingGrowth5Y             1593\n",
       "metric.dividendGrowthRate5Y                4857\n",
       "metric.ebitdaCagr5Y                        2840\n",
       "metric.ebitdaInterimCagr5Y                 2962\n",
       "metric.epsGrowth3Y                         4088\n",
       "metric.epsGrowth5Y                         4126\n",
       "metric.epsGrowthQuarterlyYoy                157\n",
       "metric.epsGrowthTTMYoy                      182\n",
       "metric.focfCagr5Y                          5897\n",
       "metric.netMarginGrowth5Y                   4087\n",
       "metric.revenueGrowth3Y                      555\n",
       "metric.revenueGrowth5Y                      782\n",
       "metric.revenueGrowthQuarterlyYoy            465\n",
       "metric.revenueGrowthTTMYoy                  442\n",
       "metric.revenueShareGrowth5Y                 786\n",
       "metric.tbvCagr5Y                           2213\n",
       "metric.totalDebtCagr5Y                     2415\n",
       "dtype: int64"
      ]
     },
     "execution_count": 107,
     "metadata": {},
     "output_type": "execute_result"
    }
   ],
   "source": [
    "comb1.isnull().sum()"
   ]
  },
  {
   "cell_type": "markdown",
   "metadata": {
    "Collapsed": "false"
   },
   "source": [
    "## Testing Iterative Imputer for NaN values"
   ]
  },
  {
   "cell_type": "markdown",
   "metadata": {
    "Collapsed": "false"
   },
   "source": [
    "### KNN to fill Null Values"
   ]
  },
  {
   "cell_type": "code",
   "execution_count": 108,
   "metadata": {
    "Collapsed": "false"
   },
   "outputs": [],
   "source": [
    "X = comb1.iloc[:,1:52]\n",
    "y_full = comb1.iloc[:,1:52]\n",
    "N_SPLITS = 5\n"
   ]
  },
  {
   "cell_type": "code",
   "execution_count": 109,
   "metadata": {
    "Collapsed": "false"
   },
   "outputs": [],
   "source": [
    "imputer = KNNImputer(n_neighbors = 5)"
   ]
  },
  {
   "cell_type": "code",
   "execution_count": 110,
   "metadata": {
    "Collapsed": "false"
   },
   "outputs": [
    {
     "data": {
      "text/plain": [
       "array([[  0.73888 ,   0.74946 ,  40.13446 , ...,  13.39077 ,  -2.517   ,\n",
       "         25.07771 ],\n",
       "       [  0.173776,   0.173776,   1.860672, ...,   3.55274 ,   3.2392  ,\n",
       "         -2.10678 ],\n",
       "       [  1.44638 ,   1.44637 ,   8.78851 , ...,  23.64296 ,  45.39267 ,\n",
       "         21.04941 ],\n",
       "       ...,\n",
       "       [  4.59832 ,   4.59832 ,   9.58863 , ...,  20.54647 ,   2.54733 ,\n",
       "        107.868166],\n",
       "       [  1.13807 ,   1.06326 ,   8.13695 , ..., -26.68394 , -27.67067 ,\n",
       "        -40.03788 ],\n",
       "       [  0.4288  ,   0.3463  ,  51.422902, ...,  19.4473  ,  12.602796,\n",
       "        109.0842  ]])"
      ]
     },
     "execution_count": 110,
     "metadata": {},
     "output_type": "execute_result"
    }
   ],
   "source": [
    "imputer.fit_transform(X)"
   ]
  },
  {
   "cell_type": "code",
   "execution_count": 111,
   "metadata": {
    "Collapsed": "false"
   },
   "outputs": [
    {
     "data": {
      "text/plain": [
       "(8639, 51)"
      ]
     },
     "execution_count": 111,
     "metadata": {},
     "output_type": "execute_result"
    }
   ],
   "source": [
    "comb2.shape"
   ]
  },
  {
   "cell_type": "code",
   "execution_count": 112,
   "metadata": {
    "Collapsed": "false"
   },
   "outputs": [
    {
     "data": {
      "text/plain": [
       "array([[  0.73888 ,   0.74946 ,  40.13446 , ...,  13.39077 ,  -2.517   ,\n",
       "         25.07771 ],\n",
       "       [  0.173776,   0.173776,   1.860672, ...,   3.55274 ,   3.2392  ,\n",
       "         -2.10678 ],\n",
       "       [  1.44638 ,   1.44637 ,   8.78851 , ...,  23.64296 ,  45.39267 ,\n",
       "         21.04941 ],\n",
       "       ...,\n",
       "       [  4.59832 ,   4.59832 ,   9.58863 , ...,  20.54647 ,   2.54733 ,\n",
       "        107.868166],\n",
       "       [  1.13807 ,   1.06326 ,   8.13695 , ..., -26.68394 , -27.67067 ,\n",
       "        -40.03788 ],\n",
       "       [  0.4288  ,   0.3463  ,  51.422902, ...,  19.4473  ,  12.602796,\n",
       "        109.0842  ]])"
      ]
     },
     "execution_count": 112,
     "metadata": {},
     "output_type": "execute_result"
    }
   ],
   "source": [
    "comb2"
   ]
  },
  {
   "cell_type": "code",
   "execution_count": 113,
   "metadata": {
    "Collapsed": "false"
   },
   "outputs": [],
   "source": [
    "tst = pd.DataFrame(comb2, index = [comb1.index, comb1.iloc[:,0]], columns = X.columns)"
   ]
  },
  {
   "cell_type": "code",
   "execution_count": 114,
   "metadata": {
    "Collapsed": "false"
   },
   "outputs": [],
   "source": [
    "tst.reset_index(inplace = True)"
   ]
  },
  {
   "cell_type": "code",
   "execution_count": 115,
   "metadata": {
    "Collapsed": "false"
   },
   "outputs": [
    {
     "data": {
      "text/plain": [
       "Index(['symbol', 'metric.assetTurnoverAnnual', 'metric.assetTurnoverTTM',\n",
       "       'metric.inventoryTurnoverAnnual', 'metric.inventoryTurnoverTTM',\n",
       "       'metric.netIncomeEmployeeAnnual', 'metric.netIncomeEmployeeTTM',\n",
       "       'metric.receivablesTurnoverAnnual', 'metric.receivablesTurnoverTTM',\n",
       "       'metric.revenueEmployeeAnnual', 'metric.revenueEmployeeTTM',\n",
       "       'metric.roaRfy', 'metric.roaa5Y', 'metric.roae5Y', 'metric.roaeTTM',\n",
       "       'metric.roeRfy', 'metric.roeTTM', 'metric.roi5Y', 'metric.roiAnnual',\n",
       "       'metric.roiTTM', 'metric.freeOperatingCashFlow/revenue5Y',\n",
       "       'metric.freeOperatingCashFlow/revenueTTM', 'metric.grossMargin5Y',\n",
       "       'metric.grossMarginAnnual', 'metric.grossMarginTTM',\n",
       "       'metric.netProfitMargin%Annual', 'metric.netProfitMargin5Y',\n",
       "       'metric.netProfitMarginTTM', 'metric.operatingMargin5Y',\n",
       "       'metric.operatingMarginAnnual', 'metric.operatingMarginTTM',\n",
       "       'metric.pretaxMargin5Y', 'metric.pretaxMarginAnnual',\n",
       "       'metric.pretaxMarginTTM', 'metric.bookValueShareGrowth5Y',\n",
       "       'metric.capitalSpendingGrowth5Y', 'metric.dividendGrowthRate5Y',\n",
       "       'metric.ebitdaCagr5Y', 'metric.ebitdaInterimCagr5Y',\n",
       "       'metric.epsGrowth3Y', 'metric.epsGrowth5Y',\n",
       "       'metric.epsGrowthQuarterlyYoy', 'metric.epsGrowthTTMYoy',\n",
       "       'metric.focfCagr5Y', 'metric.netMarginGrowth5Y',\n",
       "       'metric.revenueGrowth3Y', 'metric.revenueGrowth5Y',\n",
       "       'metric.revenueGrowthQuarterlyYoy', 'metric.revenueGrowthTTMYoy',\n",
       "       'metric.revenueShareGrowth5Y', 'metric.tbvCagr5Y',\n",
       "       'metric.totalDebtCagr5Y'],\n",
       "      dtype='object')"
      ]
     },
     "execution_count": 115,
     "metadata": {},
     "output_type": "execute_result"
    }
   ],
   "source": [
    "comb1.columns"
   ]
  },
  {
   "cell_type": "code",
   "execution_count": 116,
   "metadata": {
    "Collapsed": "false"
   },
   "outputs": [],
   "source": [
    "tst.drop(tst.columns[0], axis = 1, inplace = True)"
   ]
  },
  {
   "cell_type": "code",
   "execution_count": 117,
   "metadata": {
    "Collapsed": "false"
   },
   "outputs": [
    {
     "data": {
      "text/html": [
       "<div>\n",
       "<style scoped>\n",
       "    .dataframe tbody tr th:only-of-type {\n",
       "        vertical-align: middle;\n",
       "    }\n",
       "\n",
       "    .dataframe tbody tr th {\n",
       "        vertical-align: top;\n",
       "    }\n",
       "\n",
       "    .dataframe thead th {\n",
       "        text-align: right;\n",
       "    }\n",
       "</style>\n",
       "<table border=\"1\" class=\"dataframe\">\n",
       "  <thead>\n",
       "    <tr style=\"text-align: right;\">\n",
       "      <th></th>\n",
       "      <th>symbol</th>\n",
       "      <th>metric.assetTurnoverAnnual</th>\n",
       "      <th>metric.assetTurnoverTTM</th>\n",
       "      <th>metric.inventoryTurnoverAnnual</th>\n",
       "      <th>metric.inventoryTurnoverTTM</th>\n",
       "      <th>metric.netIncomeEmployeeAnnual</th>\n",
       "      <th>metric.netIncomeEmployeeTTM</th>\n",
       "      <th>metric.receivablesTurnoverAnnual</th>\n",
       "      <th>metric.receivablesTurnoverTTM</th>\n",
       "      <th>metric.revenueEmployeeAnnual</th>\n",
       "      <th>...</th>\n",
       "      <th>metric.epsGrowthTTMYoy</th>\n",
       "      <th>metric.focfCagr5Y</th>\n",
       "      <th>metric.netMarginGrowth5Y</th>\n",
       "      <th>metric.revenueGrowth3Y</th>\n",
       "      <th>metric.revenueGrowth5Y</th>\n",
       "      <th>metric.revenueGrowthQuarterlyYoy</th>\n",
       "      <th>metric.revenueGrowthTTMYoy</th>\n",
       "      <th>metric.revenueShareGrowth5Y</th>\n",
       "      <th>metric.tbvCagr5Y</th>\n",
       "      <th>metric.totalDebtCagr5Y</th>\n",
       "    </tr>\n",
       "  </thead>\n",
       "  <tbody>\n",
       "    <tr>\n",
       "      <th>0</th>\n",
       "      <td>AAPL</td>\n",
       "      <td>0.738880</td>\n",
       "      <td>0.749460</td>\n",
       "      <td>40.134460</td>\n",
       "      <td>36.566870</td>\n",
       "      <td>4.108253e+05</td>\n",
       "      <td>4.199051e+05</td>\n",
       "      <td>11.284440</td>\n",
       "      <td>13.710810</td>\n",
       "      <td>1.934379e+06</td>\n",
       "      <td>...</td>\n",
       "      <td>6.08985</td>\n",
       "      <td>2.920730</td>\n",
       "      <td>-0.350630</td>\n",
       "      <td>6.45813</td>\n",
       "      <td>7.31487</td>\n",
       "      <td>8.90642</td>\n",
       "      <td>2.32061</td>\n",
       "      <td>13.39077</td>\n",
       "      <td>-2.517000</td>\n",
       "      <td>25.077710</td>\n",
       "    </tr>\n",
       "    <tr>\n",
       "      <th>1</th>\n",
       "      <td>BAC</td>\n",
       "      <td>0.173776</td>\n",
       "      <td>0.173776</td>\n",
       "      <td>1.860672</td>\n",
       "      <td>1.861056</td>\n",
       "      <td>1.331553e+05</td>\n",
       "      <td>-8.119027e+03</td>\n",
       "      <td>13.398604</td>\n",
       "      <td>13.398604</td>\n",
       "      <td>4.429320e+05</td>\n",
       "      <td>...</td>\n",
       "      <td>5.46688</td>\n",
       "      <td>14.408500</td>\n",
       "      <td>36.147300</td>\n",
       "      <td>11.74155</td>\n",
       "      <td>6.61499</td>\n",
       "      <td>-5.10204</td>\n",
       "      <td>6.69023</td>\n",
       "      <td>3.55274</td>\n",
       "      <td>3.239200</td>\n",
       "      <td>-2.106780</td>\n",
       "    </tr>\n",
       "    <tr>\n",
       "      <th>2</th>\n",
       "      <td>AMZN</td>\n",
       "      <td>1.446380</td>\n",
       "      <td>1.446370</td>\n",
       "      <td>8.788510</td>\n",
       "      <td>8.788510</td>\n",
       "      <td>1.605258e+04</td>\n",
       "      <td>1.453885e+04</td>\n",
       "      <td>15.074940</td>\n",
       "      <td>15.074890</td>\n",
       "      <td>3.881314e+05</td>\n",
       "      <td>...</td>\n",
       "      <td>16.05445</td>\n",
       "      <td>61.860640</td>\n",
       "      <td>21.712602</td>\n",
       "      <td>27.29844</td>\n",
       "      <td>25.81346</td>\n",
       "      <td>20.79632</td>\n",
       "      <td>20.45370</td>\n",
       "      <td>23.64296</td>\n",
       "      <td>45.392670</td>\n",
       "      <td>21.049410</td>\n",
       "    </tr>\n",
       "    <tr>\n",
       "      <th>3</th>\n",
       "      <td>T</td>\n",
       "      <td>0.334450</td>\n",
       "      <td>0.334450</td>\n",
       "      <td>29.863710</td>\n",
       "      <td>5.313690</td>\n",
       "      <td>5.826848e+04</td>\n",
       "      <td>6.087398e+04</td>\n",
       "      <td>6.973920</td>\n",
       "      <td>6.973920</td>\n",
       "      <td>7.050311e+05</td>\n",
       "      <td>...</td>\n",
       "      <td>-31.64462</td>\n",
       "      <td>89.501430</td>\n",
       "      <td>10.197840</td>\n",
       "      <td>3.42405</td>\n",
       "      <td>6.46819</td>\n",
       "      <td>-2.44202</td>\n",
       "      <td>6.11223</td>\n",
       "      <td>-0.56557</td>\n",
       "      <td>16.693836</td>\n",
       "      <td>14.796610</td>\n",
       "    </tr>\n",
       "    <tr>\n",
       "      <th>4</th>\n",
       "      <td>GOOGL</td>\n",
       "      <td>0.636350</td>\n",
       "      <td>0.636350</td>\n",
       "      <td>68.277300</td>\n",
       "      <td>68.277300</td>\n",
       "      <td>3.155511e+05</td>\n",
       "      <td>2.888418e+05</td>\n",
       "      <td>7.012260</td>\n",
       "      <td>7.012260</td>\n",
       "      <td>1.487178e+06</td>\n",
       "      <td>...</td>\n",
       "      <td>12.54100</td>\n",
       "      <td>20.860740</td>\n",
       "      <td>0.557860</td>\n",
       "      <td>21.48595</td>\n",
       "      <td>19.65096</td>\n",
       "      <td>17.31083</td>\n",
       "      <td>18.30009</td>\n",
       "      <td>19.25488</td>\n",
       "      <td>16.411290</td>\n",
       "      <td>-2.756160</td>\n",
       "    </tr>\n",
       "    <tr>\n",
       "      <th>...</th>\n",
       "      <td>...</td>\n",
       "      <td>...</td>\n",
       "      <td>...</td>\n",
       "      <td>...</td>\n",
       "      <td>...</td>\n",
       "      <td>...</td>\n",
       "      <td>...</td>\n",
       "      <td>...</td>\n",
       "      <td>...</td>\n",
       "      <td>...</td>\n",
       "      <td>...</td>\n",
       "      <td>...</td>\n",
       "      <td>...</td>\n",
       "      <td>...</td>\n",
       "      <td>...</td>\n",
       "      <td>...</td>\n",
       "      <td>...</td>\n",
       "      <td>...</td>\n",
       "      <td>...</td>\n",
       "      <td>...</td>\n",
       "      <td>...</td>\n",
       "    </tr>\n",
       "    <tr>\n",
       "      <th>8634</th>\n",
       "      <td>TEXF.BR</td>\n",
       "      <td>0.169610</td>\n",
       "      <td>0.169610</td>\n",
       "      <td>17.176738</td>\n",
       "      <td>0.135890</td>\n",
       "      <td>2.242304e+08</td>\n",
       "      <td>2.454196e+08</td>\n",
       "      <td>22.760760</td>\n",
       "      <td>21.647700</td>\n",
       "      <td>1.087099e+09</td>\n",
       "      <td>...</td>\n",
       "      <td>-16.56199</td>\n",
       "      <td>-5.478452</td>\n",
       "      <td>14.466250</td>\n",
       "      <td>5.65341</td>\n",
       "      <td>2.76366</td>\n",
       "      <td>16.78672</td>\n",
       "      <td>14.95575</td>\n",
       "      <td>2.02197</td>\n",
       "      <td>6.587440</td>\n",
       "      <td>106.394080</td>\n",
       "    </tr>\n",
       "    <tr>\n",
       "      <th>8635</th>\n",
       "      <td>TRB.L</td>\n",
       "      <td>0.962060</td>\n",
       "      <td>0.962060</td>\n",
       "      <td>3.210916</td>\n",
       "      <td>14.593422</td>\n",
       "      <td>-1.510887e+04</td>\n",
       "      <td>-4.921439e+03</td>\n",
       "      <td>5.642860</td>\n",
       "      <td>5.642860</td>\n",
       "      <td>5.270169e+05</td>\n",
       "      <td>...</td>\n",
       "      <td>-178.28910</td>\n",
       "      <td>-22.104800</td>\n",
       "      <td>-0.620884</td>\n",
       "      <td>-4.66251</td>\n",
       "      <td>-8.76186</td>\n",
       "      <td>-0.62249</td>\n",
       "      <td>-2.31321</td>\n",
       "      <td>-15.92563</td>\n",
       "      <td>-3.767374</td>\n",
       "      <td>-27.472460</td>\n",
       "    </tr>\n",
       "    <tr>\n",
       "      <th>8636</th>\n",
       "      <td>ZO1.DE</td>\n",
       "      <td>4.598320</td>\n",
       "      <td>4.598320</td>\n",
       "      <td>9.588630</td>\n",
       "      <td>9.588630</td>\n",
       "      <td>-1.790420e+04</td>\n",
       "      <td>-1.692487e+04</td>\n",
       "      <td>40.701720</td>\n",
       "      <td>40.701720</td>\n",
       "      <td>2.260676e+06</td>\n",
       "      <td>...</td>\n",
       "      <td>-481.13260</td>\n",
       "      <td>1.234240</td>\n",
       "      <td>-2.739404</td>\n",
       "      <td>18.80649</td>\n",
       "      <td>22.91472</td>\n",
       "      <td>14.00036</td>\n",
       "      <td>13.56446</td>\n",
       "      <td>20.54647</td>\n",
       "      <td>2.547330</td>\n",
       "      <td>107.868166</td>\n",
       "    </tr>\n",
       "    <tr>\n",
       "      <th>8637</th>\n",
       "      <td>TRY.AX</td>\n",
       "      <td>1.138070</td>\n",
       "      <td>1.063260</td>\n",
       "      <td>8.136950</td>\n",
       "      <td>5.217190</td>\n",
       "      <td>-7.372773e+05</td>\n",
       "      <td>-7.429255e+05</td>\n",
       "      <td>114.245900</td>\n",
       "      <td>18.936710</td>\n",
       "      <td>2.377278e+06</td>\n",
       "      <td>...</td>\n",
       "      <td>14.57079</td>\n",
       "      <td>-7.865382</td>\n",
       "      <td>2.328676</td>\n",
       "      <td>19.73821</td>\n",
       "      <td>-10.25960</td>\n",
       "      <td>-53.11131</td>\n",
       "      <td>-43.37273</td>\n",
       "      <td>-26.68394</td>\n",
       "      <td>-27.670670</td>\n",
       "      <td>-40.037880</td>\n",
       "    </tr>\n",
       "    <tr>\n",
       "      <th>8638</th>\n",
       "      <td>N1H.AX</td>\n",
       "      <td>0.428800</td>\n",
       "      <td>0.346300</td>\n",
       "      <td>51.422902</td>\n",
       "      <td>39.053936</td>\n",
       "      <td>-2.665228e+05</td>\n",
       "      <td>-3.051806e+05</td>\n",
       "      <td>5.237940</td>\n",
       "      <td>3.175090</td>\n",
       "      <td>5.125426e+05</td>\n",
       "      <td>...</td>\n",
       "      <td>-66.15249</td>\n",
       "      <td>66.678580</td>\n",
       "      <td>13.432040</td>\n",
       "      <td>6.50696</td>\n",
       "      <td>19.59779</td>\n",
       "      <td>-12.95757</td>\n",
       "      <td>-2.30964</td>\n",
       "      <td>19.44730</td>\n",
       "      <td>12.602796</td>\n",
       "      <td>109.084200</td>\n",
       "    </tr>\n",
       "  </tbody>\n",
       "</table>\n",
       "<p>8639 rows × 52 columns</p>\n",
       "</div>"
      ],
      "text/plain": [
       "       symbol  metric.assetTurnoverAnnual  metric.assetTurnoverTTM  \\\n",
       "0        AAPL                    0.738880                 0.749460   \n",
       "1         BAC                    0.173776                 0.173776   \n",
       "2        AMZN                    1.446380                 1.446370   \n",
       "3           T                    0.334450                 0.334450   \n",
       "4       GOOGL                    0.636350                 0.636350   \n",
       "...       ...                         ...                      ...   \n",
       "8634  TEXF.BR                    0.169610                 0.169610   \n",
       "8635    TRB.L                    0.962060                 0.962060   \n",
       "8636   ZO1.DE                    4.598320                 4.598320   \n",
       "8637   TRY.AX                    1.138070                 1.063260   \n",
       "8638   N1H.AX                    0.428800                 0.346300   \n",
       "\n",
       "      metric.inventoryTurnoverAnnual  metric.inventoryTurnoverTTM  \\\n",
       "0                          40.134460                    36.566870   \n",
       "1                           1.860672                     1.861056   \n",
       "2                           8.788510                     8.788510   \n",
       "3                          29.863710                     5.313690   \n",
       "4                          68.277300                    68.277300   \n",
       "...                              ...                          ...   \n",
       "8634                       17.176738                     0.135890   \n",
       "8635                        3.210916                    14.593422   \n",
       "8636                        9.588630                     9.588630   \n",
       "8637                        8.136950                     5.217190   \n",
       "8638                       51.422902                    39.053936   \n",
       "\n",
       "      metric.netIncomeEmployeeAnnual  metric.netIncomeEmployeeTTM  \\\n",
       "0                       4.108253e+05                 4.199051e+05   \n",
       "1                       1.331553e+05                -8.119027e+03   \n",
       "2                       1.605258e+04                 1.453885e+04   \n",
       "3                       5.826848e+04                 6.087398e+04   \n",
       "4                       3.155511e+05                 2.888418e+05   \n",
       "...                              ...                          ...   \n",
       "8634                    2.242304e+08                 2.454196e+08   \n",
       "8635                   -1.510887e+04                -4.921439e+03   \n",
       "8636                   -1.790420e+04                -1.692487e+04   \n",
       "8637                   -7.372773e+05                -7.429255e+05   \n",
       "8638                   -2.665228e+05                -3.051806e+05   \n",
       "\n",
       "      metric.receivablesTurnoverAnnual  metric.receivablesTurnoverTTM  \\\n",
       "0                            11.284440                      13.710810   \n",
       "1                            13.398604                      13.398604   \n",
       "2                            15.074940                      15.074890   \n",
       "3                             6.973920                       6.973920   \n",
       "4                             7.012260                       7.012260   \n",
       "...                                ...                            ...   \n",
       "8634                         22.760760                      21.647700   \n",
       "8635                          5.642860                       5.642860   \n",
       "8636                         40.701720                      40.701720   \n",
       "8637                        114.245900                      18.936710   \n",
       "8638                          5.237940                       3.175090   \n",
       "\n",
       "      metric.revenueEmployeeAnnual  ...  metric.epsGrowthTTMYoy  \\\n",
       "0                     1.934379e+06  ...                 6.08985   \n",
       "1                     4.429320e+05  ...                 5.46688   \n",
       "2                     3.881314e+05  ...                16.05445   \n",
       "3                     7.050311e+05  ...               -31.64462   \n",
       "4                     1.487178e+06  ...                12.54100   \n",
       "...                            ...  ...                     ...   \n",
       "8634                  1.087099e+09  ...               -16.56199   \n",
       "8635                  5.270169e+05  ...              -178.28910   \n",
       "8636                  2.260676e+06  ...              -481.13260   \n",
       "8637                  2.377278e+06  ...                14.57079   \n",
       "8638                  5.125426e+05  ...               -66.15249   \n",
       "\n",
       "      metric.focfCagr5Y  metric.netMarginGrowth5Y  metric.revenueGrowth3Y  \\\n",
       "0              2.920730                 -0.350630                 6.45813   \n",
       "1             14.408500                 36.147300                11.74155   \n",
       "2             61.860640                 21.712602                27.29844   \n",
       "3             89.501430                 10.197840                 3.42405   \n",
       "4             20.860740                  0.557860                21.48595   \n",
       "...                 ...                       ...                     ...   \n",
       "8634          -5.478452                 14.466250                 5.65341   \n",
       "8635         -22.104800                 -0.620884                -4.66251   \n",
       "8636           1.234240                 -2.739404                18.80649   \n",
       "8637          -7.865382                  2.328676                19.73821   \n",
       "8638          66.678580                 13.432040                 6.50696   \n",
       "\n",
       "      metric.revenueGrowth5Y  metric.revenueGrowthQuarterlyYoy  \\\n",
       "0                    7.31487                           8.90642   \n",
       "1                    6.61499                          -5.10204   \n",
       "2                   25.81346                          20.79632   \n",
       "3                    6.46819                          -2.44202   \n",
       "4                   19.65096                          17.31083   \n",
       "...                      ...                               ...   \n",
       "8634                 2.76366                          16.78672   \n",
       "8635                -8.76186                          -0.62249   \n",
       "8636                22.91472                          14.00036   \n",
       "8637               -10.25960                         -53.11131   \n",
       "8638                19.59779                         -12.95757   \n",
       "\n",
       "      metric.revenueGrowthTTMYoy  metric.revenueShareGrowth5Y  \\\n",
       "0                        2.32061                     13.39077   \n",
       "1                        6.69023                      3.55274   \n",
       "2                       20.45370                     23.64296   \n",
       "3                        6.11223                     -0.56557   \n",
       "4                       18.30009                     19.25488   \n",
       "...                          ...                          ...   \n",
       "8634                    14.95575                      2.02197   \n",
       "8635                    -2.31321                    -15.92563   \n",
       "8636                    13.56446                     20.54647   \n",
       "8637                   -43.37273                    -26.68394   \n",
       "8638                    -2.30964                     19.44730   \n",
       "\n",
       "      metric.tbvCagr5Y  metric.totalDebtCagr5Y  \n",
       "0            -2.517000               25.077710  \n",
       "1             3.239200               -2.106780  \n",
       "2            45.392670               21.049410  \n",
       "3            16.693836               14.796610  \n",
       "4            16.411290               -2.756160  \n",
       "...                ...                     ...  \n",
       "8634          6.587440              106.394080  \n",
       "8635         -3.767374              -27.472460  \n",
       "8636          2.547330              107.868166  \n",
       "8637        -27.670670              -40.037880  \n",
       "8638         12.602796              109.084200  \n",
       "\n",
       "[8639 rows x 52 columns]"
      ]
     },
     "execution_count": 117,
     "metadata": {},
     "output_type": "execute_result"
    }
   ],
   "source": [
    "tst"
   ]
  },
  {
   "cell_type": "markdown",
   "metadata": {
    "Collapsed": "false"
   },
   "source": [
    "### Iterative Imputer: Bayesian Ridge, Decision Tree Regressor, ExtraTrees, KNN"
   ]
  },
  {
   "cell_type": "code",
   "execution_count": 121,
   "metadata": {
    "Collapsed": "false"
   },
   "outputs": [],
   "source": [
    "N_SPLITS = 5\n",
    "rng = np.random.RandomState(0)"
   ]
  },
  {
   "cell_type": "code",
   "execution_count": 148,
   "metadata": {
    "Collapsed": "false"
   },
   "outputs": [],
   "source": [
    "X_full = X.to_numpy() #taking continuous subset of variables\n",
    "y_full = X['metric.assetTurnoverAnnual'].to_numpy()\n",
    "\n",
    "n_samples, n_features = X_full.shape\n",
    "REGRESSOR = RandomForestRegressor(random_state=0)\n"
   ]
  },
  {
   "cell_type": "code",
   "execution_count": 156,
   "metadata": {
    "Collapsed": "false"
   },
   "outputs": [],
   "source": [
    "def get_scores_for_imputer(imputer, X_missing, y_missing):\n",
    "    estimator = make_pipeline(make_union(imputer, MissingIndicator(missing_values=0)), REGRESSOR)\n",
    "    impute_score = cross_val_score(estimator, X_missing, y_missing, scoring = 'neg_mean_squared_error', cv = N_SPLITS)\n",
    "    \n",
    "    return impute_scores"
   ]
  },
  {
   "cell_type": "code",
   "execution_count": 153,
   "metadata": {
    "Collapsed": "false"
   },
   "outputs": [],
   "source": [
    "def get_results(dataset):\n",
    "    X_full, y_full = dataset.data, dataset.target\n",
    "    n_samples = X_full.shape[0]\n",
    "    n_features = X_full.shape[1]\n",
    "    full_scores = cross_val_score(REGRESSOR, X_full, y_full, scoring = 'neg_mean_squared_error', cv = N_SPLITS)\n",
    "    missing_rate = 0.75\n",
    "    nn_missing_samples = int(np.floor)\n",
    "    missing_samples = np.hstack((np.zeros(n_samples - n_missing_samples,\n",
    "                                          dtype=np.bool),\n",
    "                                 np.ones(n_missing_samples,\n",
    "                                         dtype=np.bool)))\n",
    "    rng.shuffle(missing_samples)\n",
    "    missing_features = rng.randint(0, n_features, n_missing_samples)\n",
    "    X_missing = X_full.copy()\n",
    "    X_missing[np.where(missing_samples)[0], missing_features] = 0\n",
    "    y_missing = y_full.copy()\n",
    "\n",
    "    # Estimate the score after replacing missing values by 0\n",
    "    imputer = SimpleImputer(missing_values=0,\n",
    "                            strategy='constant',\n",
    "                            fill_value=0)\n",
    "    zero_impute_scores = get_scores_for_imputer(imputer, X_missing, y_missing)\n",
    "\n",
    "    # Estimate the score after imputation (mean strategy) of the missing values\n",
    "    imputer = SimpleImputer(missing_values=0, strategy=\"mean\")\n",
    "    mean_impute_scores = get_scores_for_imputer(imputer, X_missing, y_missing)\n",
    "\n",
    "    # Estimate the score after kNN-imputation of the missing values\n",
    "    imputer = KNNImputer(missing_values=0)\n",
    "    knn_impute_scores = get_scores_for_imputer(imputer, X_missing, y_missing)\n",
    "\n",
    "    # Estimate the score after iterative imputation of the missing values\n",
    "    imputer = IterativeImputer(missing_values=0,\n",
    "                               random_state=0,\n",
    "                               n_nearest_features=5,\n",
    "                               sample_posterior=True)\n",
    "    iterative_impute_scores = get_scores_for_imputer(imputer,\n",
    "                                                     X_missing,\n",
    "                                                     y_missing)\n",
    "\n",
    "    return ((full_scores.mean(), full_scores.std()),\n",
    "            (zero_impute_scores.mean(), zero_impute_scores.std()),\n",
    "            (mean_impute_scores.mean(), mean_impute_scores.std()),\n",
    "            (knn_impute_scores.mean(), knn_impute_scores.std()),\n",
    "            (iterative_impute_scores.mean(), iterative_impute_scores.std()))\n"
   ]
  },
  {
   "cell_type": "code",
   "execution_count": 159,
   "metadata": {
    "Collapsed": "false"
   },
   "outputs": [
    {
     "ename": "AttributeError",
     "evalue": "'numpy.ndarray' object has no attribute 'target'",
     "output_type": "error",
     "traceback": [
      "\u001b[0;31m---------------------------------------------------------------------------\u001b[0m",
      "\u001b[0;31mAttributeError\u001b[0m                            Traceback (most recent call last)",
      "\u001b[0;32m<ipython-input-159-bbd926784d07>\u001b[0m in \u001b[0;36m<module>\u001b[0;34m\u001b[0m\n\u001b[0;32m----> 1\u001b[0;31m \u001b[0mresults_diabetes\u001b[0m \u001b[0;34m=\u001b[0m \u001b[0mnp\u001b[0m\u001b[0;34m.\u001b[0m\u001b[0marray\u001b[0m\u001b[0;34m(\u001b[0m\u001b[0mget_results\u001b[0m\u001b[0;34m(\u001b[0m\u001b[0my_full\u001b[0m\u001b[0;34m)\u001b[0m\u001b[0;34m)\u001b[0m\u001b[0;34m\u001b[0m\u001b[0;34m\u001b[0m\u001b[0m\n\u001b[0m\u001b[1;32m      2\u001b[0m \u001b[0;34m\u001b[0m\u001b[0m\n",
      "\u001b[0;32m<ipython-input-153-870cf2a8e52e>\u001b[0m in \u001b[0;36mget_results\u001b[0;34m(dataset)\u001b[0m\n\u001b[1;32m      1\u001b[0m \u001b[0;32mdef\u001b[0m \u001b[0mget_results\u001b[0m\u001b[0;34m(\u001b[0m\u001b[0mdataset\u001b[0m\u001b[0;34m)\u001b[0m\u001b[0;34m:\u001b[0m\u001b[0;34m\u001b[0m\u001b[0;34m\u001b[0m\u001b[0m\n\u001b[0;32m----> 2\u001b[0;31m     \u001b[0mX_full\u001b[0m\u001b[0;34m,\u001b[0m \u001b[0my_full\u001b[0m \u001b[0;34m=\u001b[0m \u001b[0mdataset\u001b[0m\u001b[0;34m.\u001b[0m\u001b[0mdata\u001b[0m\u001b[0;34m,\u001b[0m \u001b[0mdataset\u001b[0m\u001b[0;34m.\u001b[0m\u001b[0mtarget\u001b[0m\u001b[0;34m\u001b[0m\u001b[0;34m\u001b[0m\u001b[0m\n\u001b[0m\u001b[1;32m      3\u001b[0m     \u001b[0mn_samples\u001b[0m \u001b[0;34m=\u001b[0m \u001b[0mX_full\u001b[0m\u001b[0;34m.\u001b[0m\u001b[0mshape\u001b[0m\u001b[0;34m[\u001b[0m\u001b[0;36m0\u001b[0m\u001b[0;34m]\u001b[0m\u001b[0;34m\u001b[0m\u001b[0;34m\u001b[0m\u001b[0m\n\u001b[1;32m      4\u001b[0m     \u001b[0mn_features\u001b[0m \u001b[0;34m=\u001b[0m \u001b[0mX_full\u001b[0m\u001b[0;34m.\u001b[0m\u001b[0mshape\u001b[0m\u001b[0;34m[\u001b[0m\u001b[0;36m1\u001b[0m\u001b[0;34m]\u001b[0m\u001b[0;34m\u001b[0m\u001b[0;34m\u001b[0m\u001b[0m\n\u001b[1;32m      5\u001b[0m     \u001b[0mfull_scores\u001b[0m \u001b[0;34m=\u001b[0m \u001b[0mcross_val_score\u001b[0m\u001b[0;34m(\u001b[0m\u001b[0mREGRESSOR\u001b[0m\u001b[0;34m,\u001b[0m \u001b[0mX_full\u001b[0m\u001b[0;34m,\u001b[0m \u001b[0my_full\u001b[0m\u001b[0;34m,\u001b[0m \u001b[0mscoring\u001b[0m \u001b[0;34m=\u001b[0m \u001b[0;34m'neg_mean_squared_error'\u001b[0m\u001b[0;34m,\u001b[0m \u001b[0mcv\u001b[0m \u001b[0;34m=\u001b[0m \u001b[0mN_SPLITS\u001b[0m\u001b[0;34m)\u001b[0m\u001b[0;34m\u001b[0m\u001b[0;34m\u001b[0m\u001b[0m\n",
      "\u001b[0;31mAttributeError\u001b[0m: 'numpy.ndarray' object has no attribute 'target'"
     ]
    }
   ],
   "source": [
    "results_diabetes = np.array(get_results(y_full))\n",
    "\n"
   ]
  },
  {
   "cell_type": "code",
   "execution_count": null,
   "metadata": {
    "Collapsed": "false"
   },
   "outputs": [],
   "source": []
  }
 ],
 "metadata": {
  "kernelspec": {
   "display_name": "Python 3",
   "language": "python",
   "name": "python3"
  },
  "language_info": {
   "codemirror_mode": {
    "name": "ipython",
    "version": 3
   },
   "file_extension": ".py",
   "mimetype": "text/x-python",
   "name": "python",
   "nbconvert_exporter": "python",
   "pygments_lexer": "ipython3",
   "version": "3.6.8"
  }
 },
 "nbformat": 4,
 "nbformat_minor": 4
}
