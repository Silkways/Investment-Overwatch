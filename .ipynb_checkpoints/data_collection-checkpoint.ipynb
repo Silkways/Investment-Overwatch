{
 "cells": [
  {
   "cell_type": "markdown",
   "metadata": {
    "Collapsed": "true"
   },
   "source": [
    "# I. Importing relevant libraries for Data Collection"
   ]
  },
  {
   "cell_type": "code",
   "execution_count": 1,
   "metadata": {
    "Collapsed": "false"
   },
   "outputs": [],
   "source": [
    "import websocket\n",
    "import pandas as pd\n",
    "import requests\n",
    "from pandas.io.json import json_normalize\n",
    "import json\n",
    "from code_ref import get_keys\n",
    "from code_ref import finhub\n",
    "from code_ref import FinnhubRequestException\n",
    "from code_ref import FinnhubAPIException\n",
    "import time\n",
    "import threading\n",
    "%matplotlib inline\n",
    "%load_ext autoreload\n",
    "%autoreload 2\n",
    "from ratelimit import limits\n",
    "from ratelimiter import RateLimiter\n",
    "import numpy as np\n"
   ]
  },
  {
   "cell_type": "markdown",
   "metadata": {
    "Collapsed": "true"
   },
   "source": [
    "# II. Loading API Keys and setting url extension to collect data"
   ]
  },
  {
   "cell_type": "code",
   "execution_count": 5,
   "metadata": {
    "Collapsed": "false"
   },
   "outputs": [],
   "source": [
    "keys = get_keys(\"/Users/augustingoudet/.secret/code_file\") #Finnhub Key\n",
    "api_key1 = keys ['finnhub'] #api_key\n",
    "query = finhub(api_key = api_key1)\n",
    "rate_limiter = RateLimiter(max_calls=45, period=60)"
   ]
  },
  {
   "cell_type": "code",
   "execution_count": 6,
   "metadata": {
    "Collapsed": "false"
   },
   "outputs": [],
   "source": [
    "url = \"https://finnhub.io/api/v1/\"\n",
    "ext1 = \"?symbol={}&token={}\"\n",
    "ext2 = \"?symbol={}&metric=management&token={}\"\n",
    "ext3 = \"?symbol={}&metric=margin&token={}\"\n",
    "ext4 = \"?symbol={}&metric=growth&token={}\"\n",
    "ext5 = \"?symbol={}&metric=price&token={}\"\n",
    "ext6 = \"?symbol={}&metric=valuation&token={}\"\n",
    "ext7 = \"?symbol={}&metric=financialStrength&token={}\"\n",
    "ext8 = \"?symbol={}&metric=perShare&token={}\"\n",
    "metric= \"stock/metric\"\n",
    "\n",
    "\n",
    "profile =\"stock/profile\"\n",
    "ceo_comp = \"stock/ceo-compensation\"\n",
    "board = \"stock/executive\"\n",
    "reco = \"stock/recommendation\"\n",
    "price_target = \"stock/price-target\"\n",
    "up_down = \"stock/upgrade-downgrade\"\n",
    "peers = \"stock/peers\"\n",
    "rev_est = \"stock/revenue-estimate\"\n",
    "eps_est = \"stock/eps-estimate\"\n",
    "ownership = \"stock/investor-ownership\"\n",
    "quote = \"quote\"\n",
    "news = \"news\"\n",
    "covid = \"covid19\"\n",
    "transcript = \"stock/transcripts\"\n",
    "divs = \"stock/dividend?symbol={}&from=2019-02-01&to=2020-02-01\"\n",
    "split = \"stock/split?symbol=AAPL&from=2010-02-01&to=2020-02-01\"\n",
    "inc = \"stock/financials?symbol={}&statement=is&freq=annual\"\n",
    "bs = \"stock/financials?symbol={}&statement=bs&freq=annual\"\n",
    "cfs = \"stock/financials?symbol={}&statement=cf&freq=annual\""
   ]
  },
  {
   "cell_type": "markdown",
   "metadata": {
    "Collapsed": "true"
   },
   "source": [
    "## III.Loading Ticker Data gathered from YahooFinance"
   ]
  },
  {
   "cell_type": "code",
   "execution_count": 8,
   "metadata": {
    "Collapsed": "false"
   },
   "outputs": [],
   "source": [
    "tickers = pd.read_csv('ticker_data/Ticker_list_1.csv')\n",
    "tickers.drop(tickers[tickers['Exchange'] == 'PNK'].index, inplace = True)\n",
    "drop = ['Argentina', 'Brazil', 'Estonia', 'Greece', 'Iceland', 'India', 'Indonesia', 'Latvia', 'Lithuania', 'Malaysia', 'Mexico', 'New Zealand', 'Qatar', 'Russia', 'Taiwan', 'Thailand', 'Turkey','China','Switzerland']\n",
    "drop1 = ['MUN', 'STU', 'DUS', 'HAM', 'HAN', 'EUX', 'FRA', \"ENX\", 'BER', 'CNQ', 'VAN', 'IOB', 'KOE', 'PCX', 'OBB']\n",
    "tickers.dropna(subset = ['Country'], inplace = True)"
   ]
  },
  {
   "cell_type": "code",
   "execution_count": 9,
   "metadata": {
    "Collapsed": "false"
   },
   "outputs": [],
   "source": [
    "for values in drop:\n",
    "    tickers.drop(tickers[tickers['Country'] == values].index, inplace = True)\n",
    "for exch in drop1: \n",
    "    tickers.drop(tickers[tickers['Exchange'] == exch].index, inplace = True)"
   ]
  },
  {
   "cell_type": "code",
   "execution_count": 10,
   "metadata": {
    "Collapsed": "false"
   },
   "outputs": [],
   "source": [
    "tickers['Category Name'].fillna(1, inplace = True)\n",
    "drop2 = tickers[ (tickers['Category Name'] == 1)].index\n",
    "tickers.drop(drop2, inplace = True)"
   ]
  },
  {
   "cell_type": "code",
   "execution_count": 11,
   "metadata": {
    "Collapsed": "false"
   },
   "outputs": [
    {
     "data": {
      "text/plain": [
       "Ticker           0\n",
       "Name             0\n",
       "Exchange         0\n",
       "Category Name    0\n",
       "Country          0\n",
       "dtype: int64"
      ]
     },
     "execution_count": 11,
     "metadata": {},
     "output_type": "execute_result"
    }
   ],
   "source": [
    "tickers.drop_duplicates(subset = 'Name', keep = 'first', inplace = True)\n",
    "tickers.isna().sum()"
   ]
  },
  {
   "cell_type": "code",
   "execution_count": 12,
   "metadata": {
    "Collapsed": "false"
   },
   "outputs": [
    {
     "data": {
      "text/plain": [
       "['AAPL']"
      ]
     },
     "execution_count": 12,
     "metadata": {},
     "output_type": "execute_result"
    }
   ],
   "source": [
    "tick = list(tickers.Ticker[:1])\n",
    "tick"
   ]
  },
  {
   "cell_type": "markdown",
   "metadata": {
    "Collapsed": "true"
   },
   "source": [
    "# III. API Calls to Finnhub to gather financial metrics"
   ]
  },
  {
   "cell_type": "markdown",
   "metadata": {
    "Collapsed": "false"
   },
   "source": [
    "Data below will run sample data pulls - Increase ticker list to pull the metrics for a wider range of stocks. The financial metrics collected are what we use for the analysis.\n",
    "\n",
    "    - Data will be saved as test files in the api_data folder\n",
    "    - backup files will be saved in the backup folder within api_data\n",
    "    - To pull large sets of companies it is recommended to use a Virtual machine to run collection for multiple days\n",
    "    - API calls have limits per minute implemented - we use Rate limiter to manage this\n"
   ]
  },
  {
   "cell_type": "markdown",
   "metadata": {
    "Collapsed": "true"
   },
   "source": [
    "### Management metrics: Asset turnover / Inventory Turnover / net Income per Employee (example of data contained)"
   ]
  },
  {
   "cell_type": "code",
   "execution_count": 24,
   "metadata": {
    "Collapsed": "false"
   },
   "outputs": [
    {
     "name": "stderr",
     "output_type": "stream",
     "text": [
      "/anaconda3/lib/python3.6/site-packages/ipykernel_launcher.py:10: FutureWarning: pandas.io.json.json_normalize is deprecated, use pandas.json_normalize instead\n",
      "  # Remove the CWD from sys.path while we load stuff.\n"
     ]
    },
    {
     "data": {
      "text/html": [
       "<div>\n",
       "<style scoped>\n",
       "    .dataframe tbody tr th:only-of-type {\n",
       "        vertical-align: middle;\n",
       "    }\n",
       "\n",
       "    .dataframe tbody tr th {\n",
       "        vertical-align: top;\n",
       "    }\n",
       "\n",
       "    .dataframe thead th {\n",
       "        text-align: right;\n",
       "    }\n",
       "</style>\n",
       "<table border=\"1\" class=\"dataframe\">\n",
       "  <thead>\n",
       "    <tr style=\"text-align: right;\">\n",
       "      <th></th>\n",
       "      <th>metricType</th>\n",
       "      <th>symbol</th>\n",
       "      <th>metric.assetTurnoverAnnual</th>\n",
       "      <th>metric.assetTurnoverTTM</th>\n",
       "      <th>metric.inventoryTurnoverAnnual</th>\n",
       "      <th>metric.inventoryTurnoverTTM</th>\n",
       "      <th>metric.netIncomeEmployeeAnnual</th>\n",
       "      <th>metric.netIncomeEmployeeTTM</th>\n",
       "      <th>metric.receivablesTurnoverAnnual</th>\n",
       "      <th>metric.receivablesTurnoverTTM</th>\n",
       "      <th>...</th>\n",
       "      <th>metric.revenueEmployeeTTM</th>\n",
       "      <th>metric.roaRfy</th>\n",
       "      <th>metric.roaa5Y</th>\n",
       "      <th>metric.roae5Y</th>\n",
       "      <th>metric.roaeTTM</th>\n",
       "      <th>metric.roeRfy</th>\n",
       "      <th>metric.roeTTM</th>\n",
       "      <th>metric.roi5Y</th>\n",
       "      <th>metric.roiAnnual</th>\n",
       "      <th>metric.roiTTM</th>\n",
       "    </tr>\n",
       "  </thead>\n",
       "  <tbody>\n",
       "    <tr>\n",
       "      <th>0</th>\n",
       "      <td>management</td>\n",
       "      <td>AAPL</td>\n",
       "      <td>0.73888</td>\n",
       "      <td>0.74946</td>\n",
       "      <td>40.13446</td>\n",
       "      <td>36.56687</td>\n",
       "      <td>410825.3</td>\n",
       "      <td>419905.1</td>\n",
       "      <td>11.28444</td>\n",
       "      <td>13.71081</td>\n",
       "      <td>...</td>\n",
       "      <td>1953891</td>\n",
       "      <td>15.69236</td>\n",
       "      <td>16.0985</td>\n",
       "      <td>44.71466</td>\n",
       "      <td>55.46829</td>\n",
       "      <td>55.91722</td>\n",
       "      <td>16.1064</td>\n",
       "      <td>22.4014</td>\n",
       "      <td>22.89958</td>\n",
       "      <td>22.83302</td>\n",
       "    </tr>\n",
       "  </tbody>\n",
       "</table>\n",
       "<p>1 rows × 21 columns</p>\n",
       "</div>"
      ],
      "text/plain": [
       "   metricType symbol  metric.assetTurnoverAnnual  metric.assetTurnoverTTM  \\\n",
       "0  management   AAPL                     0.73888                  0.74946   \n",
       "\n",
       "   metric.inventoryTurnoverAnnual  metric.inventoryTurnoverTTM  \\\n",
       "0                        40.13446                     36.56687   \n",
       "\n",
       "   metric.netIncomeEmployeeAnnual  metric.netIncomeEmployeeTTM  \\\n",
       "0                        410825.3                     419905.1   \n",
       "\n",
       "   metric.receivablesTurnoverAnnual  metric.receivablesTurnoverTTM  ...  \\\n",
       "0                          11.28444                       13.71081  ...   \n",
       "\n",
       "   metric.revenueEmployeeTTM  metric.roaRfy  metric.roaa5Y  metric.roae5Y  \\\n",
       "0                    1953891       15.69236        16.0985       44.71466   \n",
       "\n",
       "   metric.roaeTTM  metric.roeRfy  metric.roeTTM  metric.roi5Y  \\\n",
       "0        55.46829       55.91722        16.1064       22.4014   \n",
       "\n",
       "   metric.roiAnnual  metric.roiTTM  \n",
       "0          22.89958       22.83302  \n",
       "\n",
       "[1 rows x 21 columns]"
      ]
     },
     "execution_count": 24,
     "metadata": {},
     "output_type": "execute_result"
    }
   ],
   "source": [
    "results = []\n",
    "\n",
    "for items in tick: \n",
    "    with rate_limiter:\n",
    "        data = url + metric + ext2.format(items, api_key1)\n",
    "        req = requests.get(data).json()\n",
    "        with open ('api_data/backup/mgmt_test.py', 'a+') as f:\n",
    "            json.dump(req,f)\n",
    "        results.append(req)\n",
    "        m1 = json_normalize(results)\n",
    "m1.to_csv('api_data/mgmt_test.csv')\n",
    "m1.sample()"
   ]
  },
  {
   "cell_type": "markdown",
   "metadata": {
    "Collapsed": "true"
   },
   "source": [
    "### Margin metrics: cash flow to revenue / gross margin / net profit margin (example of data contained)"
   ]
  },
  {
   "cell_type": "code",
   "execution_count": 25,
   "metadata": {
    "Collapsed": "false"
   },
   "outputs": [
    {
     "name": "stderr",
     "output_type": "stream",
     "text": [
      "/anaconda3/lib/python3.6/site-packages/ipykernel_launcher.py:10: FutureWarning: pandas.io.json.json_normalize is deprecated, use pandas.json_normalize instead\n",
      "  # Remove the CWD from sys.path while we load stuff.\n"
     ]
    },
    {
     "data": {
      "text/html": [
       "<div>\n",
       "<style scoped>\n",
       "    .dataframe tbody tr th:only-of-type {\n",
       "        vertical-align: middle;\n",
       "    }\n",
       "\n",
       "    .dataframe tbody tr th {\n",
       "        vertical-align: top;\n",
       "    }\n",
       "\n",
       "    .dataframe thead th {\n",
       "        text-align: right;\n",
       "    }\n",
       "</style>\n",
       "<table border=\"1\" class=\"dataframe\">\n",
       "  <thead>\n",
       "    <tr style=\"text-align: right;\">\n",
       "      <th></th>\n",
       "      <th>metricType</th>\n",
       "      <th>symbol</th>\n",
       "      <th>metric.freeOperatingCashFlow/revenue5Y</th>\n",
       "      <th>metric.freeOperatingCashFlow/revenueTTM</th>\n",
       "      <th>metric.grossMargin5Y</th>\n",
       "      <th>metric.grossMarginAnnual</th>\n",
       "      <th>metric.grossMarginTTM</th>\n",
       "      <th>metric.netProfitMargin%Annual</th>\n",
       "      <th>metric.netProfitMargin5Y</th>\n",
       "      <th>metric.netProfitMarginTTM</th>\n",
       "      <th>metric.operatingMargin5Y</th>\n",
       "      <th>metric.operatingMarginAnnual</th>\n",
       "      <th>metric.operatingMarginTTM</th>\n",
       "      <th>metric.pretaxMargin5Y</th>\n",
       "      <th>metric.pretaxMarginAnnual</th>\n",
       "      <th>metric.pretaxMarginTTM</th>\n",
       "    </tr>\n",
       "  </thead>\n",
       "  <tbody>\n",
       "    <tr>\n",
       "      <th>0</th>\n",
       "      <td>margin</td>\n",
       "      <td>AAPL</td>\n",
       "      <td>19.40911</td>\n",
       "      <td>18.63398</td>\n",
       "      <td>38.71825</td>\n",
       "      <td>37.81777</td>\n",
       "      <td>37.94712</td>\n",
       "      <td>21.23809</td>\n",
       "      <td>21.89832</td>\n",
       "      <td>21.49072</td>\n",
       "      <td>27.18679</td>\n",
       "      <td>24.57202</td>\n",
       "      <td>24.71319</td>\n",
       "      <td>27.94985</td>\n",
       "      <td>25.26655</td>\n",
       "      <td>25.30941</td>\n",
       "    </tr>\n",
       "  </tbody>\n",
       "</table>\n",
       "</div>"
      ],
      "text/plain": [
       "  metricType symbol  metric.freeOperatingCashFlow/revenue5Y  \\\n",
       "0     margin   AAPL                                19.40911   \n",
       "\n",
       "   metric.freeOperatingCashFlow/revenueTTM  metric.grossMargin5Y  \\\n",
       "0                                 18.63398              38.71825   \n",
       "\n",
       "   metric.grossMarginAnnual  metric.grossMarginTTM  \\\n",
       "0                  37.81777               37.94712   \n",
       "\n",
       "   metric.netProfitMargin%Annual  metric.netProfitMargin5Y  \\\n",
       "0                       21.23809                  21.89832   \n",
       "\n",
       "   metric.netProfitMarginTTM  metric.operatingMargin5Y  \\\n",
       "0                   21.49072                  27.18679   \n",
       "\n",
       "   metric.operatingMarginAnnual  metric.operatingMarginTTM  \\\n",
       "0                      24.57202                   24.71319   \n",
       "\n",
       "   metric.pretaxMargin5Y  metric.pretaxMarginAnnual  metric.pretaxMarginTTM  \n",
       "0               27.94985                   25.26655                25.30941  "
      ]
     },
     "execution_count": 25,
     "metadata": {},
     "output_type": "execute_result"
    }
   ],
   "source": [
    "results = []\n",
    "\n",
    "for items in tick: \n",
    "    with rate_limiter:\n",
    "        data = url + metric + ext3.format(items, api_key1)\n",
    "        req = requests.get(data).json()\n",
    "        with open ('api_data/backup/margin_test.py', 'a+') as f:\n",
    "            json.dump(req,f)\n",
    "        results.append(req)\n",
    "        m2 = json_normalize(results)\n",
    "m2.to_csv('api_data/margin_test.csv')\n",
    "m2.sample()"
   ]
  },
  {
   "cell_type": "markdown",
   "metadata": {
    "Collapsed": "true"
   },
   "source": [
    "### Growth metrics: dividend growth / capital spending growth / eps growth (example of data contained)"
   ]
  },
  {
   "cell_type": "code",
   "execution_count": 26,
   "metadata": {
    "Collapsed": "false"
   },
   "outputs": [
    {
     "name": "stderr",
     "output_type": "stream",
     "text": [
      "/anaconda3/lib/python3.6/site-packages/ipykernel_launcher.py:10: FutureWarning: pandas.io.json.json_normalize is deprecated, use pandas.json_normalize instead\n",
      "  # Remove the CWD from sys.path while we load stuff.\n"
     ]
    },
    {
     "data": {
      "text/html": [
       "<div>\n",
       "<style scoped>\n",
       "    .dataframe tbody tr th:only-of-type {\n",
       "        vertical-align: middle;\n",
       "    }\n",
       "\n",
       "    .dataframe tbody tr th {\n",
       "        vertical-align: top;\n",
       "    }\n",
       "\n",
       "    .dataframe thead th {\n",
       "        text-align: right;\n",
       "    }\n",
       "</style>\n",
       "<table border=\"1\" class=\"dataframe\">\n",
       "  <thead>\n",
       "    <tr style=\"text-align: right;\">\n",
       "      <th></th>\n",
       "      <th>metricType</th>\n",
       "      <th>symbol</th>\n",
       "      <th>metric.bookValueShareGrowth5Y</th>\n",
       "      <th>metric.capitalSpendingGrowth5Y</th>\n",
       "      <th>metric.dividendGrowthRate5Y</th>\n",
       "      <th>metric.ebitdaCagr5Y</th>\n",
       "      <th>metric.ebitdaInterimCagr5Y</th>\n",
       "      <th>metric.epsGrowth3Y</th>\n",
       "      <th>metric.epsGrowth5Y</th>\n",
       "      <th>metric.epsGrowthQuarterlyYoy</th>\n",
       "      <th>metric.epsGrowthTTMYoy</th>\n",
       "      <th>metric.focfCagr5Y</th>\n",
       "      <th>metric.netMarginGrowth5Y</th>\n",
       "      <th>metric.revenueGrowth3Y</th>\n",
       "      <th>metric.revenueGrowth5Y</th>\n",
       "      <th>metric.revenueGrowthQuarterlyYoy</th>\n",
       "      <th>metric.revenueGrowthTTMYoy</th>\n",
       "      <th>metric.revenueShareGrowth5Y</th>\n",
       "      <th>metric.tbvCagr5Y</th>\n",
       "      <th>metric.totalDebtCagr5Y</th>\n",
       "    </tr>\n",
       "  </thead>\n",
       "  <tbody>\n",
       "    <tr>\n",
       "      <th>0</th>\n",
       "      <td>growth</td>\n",
       "      <td>AAPL</td>\n",
       "      <td>1.38123</td>\n",
       "      <td>1.35289</td>\n",
       "      <td>11.2299</td>\n",
       "      <td>4.79747</td>\n",
       "      <td>2.89968</td>\n",
       "      <td>12.6869</td>\n",
       "      <td>12.99321</td>\n",
       "      <td>19.34191</td>\n",
       "      <td>6.08985</td>\n",
       "      <td>2.92073</td>\n",
       "      <td>-0.35063</td>\n",
       "      <td>6.45813</td>\n",
       "      <td>7.31487</td>\n",
       "      <td>8.90642</td>\n",
       "      <td>2.32061</td>\n",
       "      <td>13.39077</td>\n",
       "      <td>-2.517</td>\n",
       "      <td>25.07771</td>\n",
       "    </tr>\n",
       "  </tbody>\n",
       "</table>\n",
       "</div>"
      ],
      "text/plain": [
       "  metricType symbol  metric.bookValueShareGrowth5Y  \\\n",
       "0     growth   AAPL                        1.38123   \n",
       "\n",
       "   metric.capitalSpendingGrowth5Y  metric.dividendGrowthRate5Y  \\\n",
       "0                         1.35289                      11.2299   \n",
       "\n",
       "   metric.ebitdaCagr5Y  metric.ebitdaInterimCagr5Y  metric.epsGrowth3Y  \\\n",
       "0              4.79747                     2.89968             12.6869   \n",
       "\n",
       "   metric.epsGrowth5Y  metric.epsGrowthQuarterlyYoy  metric.epsGrowthTTMYoy  \\\n",
       "0            12.99321                      19.34191                 6.08985   \n",
       "\n",
       "   metric.focfCagr5Y  metric.netMarginGrowth5Y  metric.revenueGrowth3Y  \\\n",
       "0            2.92073                  -0.35063                 6.45813   \n",
       "\n",
       "   metric.revenueGrowth5Y  metric.revenueGrowthQuarterlyYoy  \\\n",
       "0                 7.31487                           8.90642   \n",
       "\n",
       "   metric.revenueGrowthTTMYoy  metric.revenueShareGrowth5Y  metric.tbvCagr5Y  \\\n",
       "0                     2.32061                     13.39077            -2.517   \n",
       "\n",
       "   metric.totalDebtCagr5Y  \n",
       "0                25.07771  "
      ]
     },
     "execution_count": 26,
     "metadata": {},
     "output_type": "execute_result"
    }
   ],
   "source": [
    "results = []\n",
    "\n",
    "for items in tick: \n",
    "    with rate_limiter:\n",
    "        data = url + metric + ext4.format(items, api_key1)\n",
    "        req = requests.get(data).json()\n",
    "        with open ('api_data/backup/growth_test.py', 'a+') as f:\n",
    "            json.dump(req,f)\n",
    "        results.append(req)\n",
    "        m3 = json_normalize(results)\n",
    "m3.to_csv('api_data/growth_test.csv')\n",
    "m3.sample()"
   ]
  },
  {
   "cell_type": "markdown",
   "metadata": {
    "Collapsed": "true"
   },
   "source": [
    "### Share / Price metrics: trading volume / price return / share price returns (example of data contained)"
   ]
  },
  {
   "cell_type": "code",
   "execution_count": 27,
   "metadata": {
    "Collapsed": "false"
   },
   "outputs": [
    {
     "name": "stderr",
     "output_type": "stream",
     "text": [
      "/anaconda3/lib/python3.6/site-packages/ipykernel_launcher.py:10: FutureWarning: pandas.io.json.json_normalize is deprecated, use pandas.json_normalize instead\n",
      "  # Remove the CWD from sys.path while we load stuff.\n"
     ]
    },
    {
     "data": {
      "text/html": [
       "<div>\n",
       "<style scoped>\n",
       "    .dataframe tbody tr th:only-of-type {\n",
       "        vertical-align: middle;\n",
       "    }\n",
       "\n",
       "    .dataframe tbody tr th {\n",
       "        vertical-align: top;\n",
       "    }\n",
       "\n",
       "    .dataframe thead th {\n",
       "        text-align: right;\n",
       "    }\n",
       "</style>\n",
       "<table border=\"1\" class=\"dataframe\">\n",
       "  <thead>\n",
       "    <tr style=\"text-align: right;\">\n",
       "      <th></th>\n",
       "      <th>metricType</th>\n",
       "      <th>symbol</th>\n",
       "      <th>metric.10DayAverageTradingVolume</th>\n",
       "      <th>metric.13WeekPriceReturnDaily</th>\n",
       "      <th>metric.26WeekPriceReturnDaily</th>\n",
       "      <th>metric.3MonthAverageTradingVolume</th>\n",
       "      <th>metric.52WeekHigh</th>\n",
       "      <th>metric.52WeekHighDate</th>\n",
       "      <th>metric.52WeekLow</th>\n",
       "      <th>metric.52WeekLowDate</th>\n",
       "      <th>...</th>\n",
       "      <th>metric.5DayPriceReturnDaily</th>\n",
       "      <th>metric.beta</th>\n",
       "      <th>metric.marketCapitalization</th>\n",
       "      <th>metric.monthToDatePriceReturnDaily</th>\n",
       "      <th>metric.priceRelativeToS&amp;P50013Week</th>\n",
       "      <th>metric.priceRelativeToS&amp;P50026Week</th>\n",
       "      <th>metric.priceRelativeToS&amp;P5004Week</th>\n",
       "      <th>metric.priceRelativeToS&amp;P50052Week</th>\n",
       "      <th>metric.priceRelativeToS&amp;P500Ytd</th>\n",
       "      <th>metric.yearToDatePriceReturnDaily</th>\n",
       "    </tr>\n",
       "  </thead>\n",
       "  <tbody>\n",
       "    <tr>\n",
       "      <th>0</th>\n",
       "      <td>price</td>\n",
       "      <td>AAPL</td>\n",
       "      <td>55.54186</td>\n",
       "      <td>-18.83468</td>\n",
       "      <td>6.34333</td>\n",
       "      <td>1036.01008</td>\n",
       "      <td>327.85</td>\n",
       "      <td>2020-01-29</td>\n",
       "      <td>170.27</td>\n",
       "      <td>2019-06-03</td>\n",
       "      <td>...</td>\n",
       "      <td>-2.5551</td>\n",
       "      <td>1.18158</td>\n",
       "      <td>1056285</td>\n",
       "      <td>-5.06508</td>\n",
       "      <td>5.50203</td>\n",
       "      <td>26.14332</td>\n",
       "      <td>-0.24116</td>\n",
       "      <td>42.73264</td>\n",
       "      <td>6.72565</td>\n",
       "      <td>-17.78989</td>\n",
       "    </tr>\n",
       "  </tbody>\n",
       "</table>\n",
       "<p>1 rows × 21 columns</p>\n",
       "</div>"
      ],
      "text/plain": [
       "  metricType symbol  metric.10DayAverageTradingVolume  \\\n",
       "0      price   AAPL                          55.54186   \n",
       "\n",
       "   metric.13WeekPriceReturnDaily  metric.26WeekPriceReturnDaily  \\\n",
       "0                      -18.83468                        6.34333   \n",
       "\n",
       "   metric.3MonthAverageTradingVolume  metric.52WeekHigh metric.52WeekHighDate  \\\n",
       "0                         1036.01008             327.85            2020-01-29   \n",
       "\n",
       "   metric.52WeekLow metric.52WeekLowDate  ...  metric.5DayPriceReturnDaily  \\\n",
       "0            170.27           2019-06-03  ...                      -2.5551   \n",
       "\n",
       "   metric.beta  metric.marketCapitalization  \\\n",
       "0      1.18158                      1056285   \n",
       "\n",
       "   metric.monthToDatePriceReturnDaily  metric.priceRelativeToS&P50013Week  \\\n",
       "0                            -5.06508                             5.50203   \n",
       "\n",
       "   metric.priceRelativeToS&P50026Week  metric.priceRelativeToS&P5004Week  \\\n",
       "0                            26.14332                           -0.24116   \n",
       "\n",
       "   metric.priceRelativeToS&P50052Week  metric.priceRelativeToS&P500Ytd  \\\n",
       "0                            42.73264                          6.72565   \n",
       "\n",
       "   metric.yearToDatePriceReturnDaily  \n",
       "0                          -17.78989  \n",
       "\n",
       "[1 rows x 21 columns]"
      ]
     },
     "execution_count": 27,
     "metadata": {},
     "output_type": "execute_result"
    }
   ],
   "source": [
    "results = []\n",
    "\n",
    "for items in tick: \n",
    "    with rate_limiter:\n",
    "        data = url + metric + ext5.format(items, api_key1)\n",
    "        req = requests.get(data).json()\n",
    "        with open ('api_data/backup/price_test.py', 'a+') as f:\n",
    "            json.dump(req,f)\n",
    "        results.append(req)\n",
    "        m4 = json_normalize(results)\n",
    "        m4.dropna(inplace=True)\n",
    "m4.to_csv('api_data/price_test.csv')\n",
    "m4.sample()"
   ]
  },
  {
   "cell_type": "markdown",
   "metadata": {
    "Collapsed": "true"
   },
   "source": [
    "### Valuation metrics: dividend yield / net debt / price earning ratios (example of data contained)"
   ]
  },
  {
   "cell_type": "code",
   "execution_count": 30,
   "metadata": {
    "Collapsed": "false"
   },
   "outputs": [
    {
     "name": "stderr",
     "output_type": "stream",
     "text": [
      "/anaconda3/lib/python3.6/site-packages/ipykernel_launcher.py:10: FutureWarning: pandas.io.json.json_normalize is deprecated, use pandas.json_normalize instead\n",
      "  # Remove the CWD from sys.path while we load stuff.\n"
     ]
    },
    {
     "data": {
      "text/html": [
       "<div>\n",
       "<style scoped>\n",
       "    .dataframe tbody tr th:only-of-type {\n",
       "        vertical-align: middle;\n",
       "    }\n",
       "\n",
       "    .dataframe tbody tr th {\n",
       "        vertical-align: top;\n",
       "    }\n",
       "\n",
       "    .dataframe thead th {\n",
       "        text-align: right;\n",
       "    }\n",
       "</style>\n",
       "<table border=\"1\" class=\"dataframe\">\n",
       "  <thead>\n",
       "    <tr style=\"text-align: right;\">\n",
       "      <th></th>\n",
       "      <th>metricType</th>\n",
       "      <th>symbol</th>\n",
       "      <th>metric.currentDividendYieldTTM</th>\n",
       "      <th>metric.dividendYield5Y</th>\n",
       "      <th>metric.dividendYieldIndicatedAnnual</th>\n",
       "      <th>metric.netDebtAnnual</th>\n",
       "      <th>metric.netDebtInterim</th>\n",
       "      <th>metric.pbAnnual</th>\n",
       "      <th>metric.pbQuarterly</th>\n",
       "      <th>metric.pcfShareTTM</th>\n",
       "      <th>...</th>\n",
       "      <th>metric.peExclExtraTTM</th>\n",
       "      <th>metric.peExclLowTTM</th>\n",
       "      <th>metric.peInclExtraTTM</th>\n",
       "      <th>metric.peNormalizedAnnual</th>\n",
       "      <th>metric.pfcfShareAnnual</th>\n",
       "      <th>metric.pfcfShareTTM</th>\n",
       "      <th>metric.psAnnual</th>\n",
       "      <th>metric.psTTM</th>\n",
       "      <th>metric.ptbvAnnual</th>\n",
       "      <th>metric.ptbvQuarterly</th>\n",
       "    </tr>\n",
       "  </thead>\n",
       "  <tbody>\n",
       "    <tr>\n",
       "      <th>0</th>\n",
       "      <td>valuation</td>\n",
       "      <td>AAPL</td>\n",
       "      <td>1.25927</td>\n",
       "      <td>1.4865</td>\n",
       "      <td>1.27584</td>\n",
       "      <td>7490</td>\n",
       "      <td>1771</td>\n",
       "      <td>11.85397</td>\n",
       "      <td>11.82354</td>\n",
       "      <td>15.19943</td>\n",
       "      <td>...</td>\n",
       "      <td>19.06634</td>\n",
       "      <td>10.90846</td>\n",
       "      <td>19.06634</td>\n",
       "      <td>20.31081</td>\n",
       "      <td>23.58989</td>\n",
       "      <td>21.17652</td>\n",
       "      <td>4.05992</td>\n",
       "      <td>3.94603</td>\n",
       "      <td>11.6732</td>\n",
       "      <td>11.79798</td>\n",
       "    </tr>\n",
       "  </tbody>\n",
       "</table>\n",
       "<p>1 rows × 23 columns</p>\n",
       "</div>"
      ],
      "text/plain": [
       "  metricType symbol  metric.currentDividendYieldTTM  metric.dividendYield5Y  \\\n",
       "0  valuation   AAPL                         1.25927                  1.4865   \n",
       "\n",
       "   metric.dividendYieldIndicatedAnnual  metric.netDebtAnnual  \\\n",
       "0                              1.27584                  7490   \n",
       "\n",
       "   metric.netDebtInterim  metric.pbAnnual  metric.pbQuarterly  \\\n",
       "0                   1771         11.85397            11.82354   \n",
       "\n",
       "   metric.pcfShareTTM  ...  metric.peExclExtraTTM  metric.peExclLowTTM  \\\n",
       "0            15.19943  ...               19.06634             10.90846   \n",
       "\n",
       "   metric.peInclExtraTTM  metric.peNormalizedAnnual  metric.pfcfShareAnnual  \\\n",
       "0               19.06634                   20.31081                23.58989   \n",
       "\n",
       "   metric.pfcfShareTTM  metric.psAnnual  metric.psTTM  metric.ptbvAnnual  \\\n",
       "0             21.17652          4.05992       3.94603            11.6732   \n",
       "\n",
       "   metric.ptbvQuarterly  \n",
       "0              11.79798  \n",
       "\n",
       "[1 rows x 23 columns]"
      ]
     },
     "execution_count": 30,
     "metadata": {},
     "output_type": "execute_result"
    }
   ],
   "source": [
    "results = []\n",
    "\n",
    "for items in tick: \n",
    "    with rate_limiter:\n",
    "        data = url + metric + ext6.format(items, api_key1)\n",
    "        req = requests.get(data).json()\n",
    "        with open ('api_data/backup/valuation_test.py', 'a+') as f:\n",
    "            json.dump(req,f)\n",
    "        results.append(req)\n",
    "        m5 = json_normalize(results)\n",
    "        m5.dropna(inplace=True)\n",
    "m5.to_csv('api_data/valuation_test.csv')\n",
    "m5.sample()"
   ]
  },
  {
   "cell_type": "markdown",
   "metadata": {
    "Collapsed": "true"
   },
   "source": [
    "### Financial strength metrics: enterprise value over free cash flow / current raito  / annual free cash flow (example of data contained)"
   ]
  },
  {
   "cell_type": "code",
   "execution_count": 31,
   "metadata": {
    "Collapsed": "false"
   },
   "outputs": [
    {
     "name": "stderr",
     "output_type": "stream",
     "text": [
      "/anaconda3/lib/python3.6/site-packages/ipykernel_launcher.py:10: FutureWarning: pandas.io.json.json_normalize is deprecated, use pandas.json_normalize instead\n",
      "  # Remove the CWD from sys.path while we load stuff.\n"
     ]
    },
    {
     "data": {
      "text/html": [
       "<div>\n",
       "<style scoped>\n",
       "    .dataframe tbody tr th:only-of-type {\n",
       "        vertical-align: middle;\n",
       "    }\n",
       "\n",
       "    .dataframe tbody tr th {\n",
       "        vertical-align: top;\n",
       "    }\n",
       "\n",
       "    .dataframe thead th {\n",
       "        text-align: right;\n",
       "    }\n",
       "</style>\n",
       "<table border=\"1\" class=\"dataframe\">\n",
       "  <thead>\n",
       "    <tr style=\"text-align: right;\">\n",
       "      <th></th>\n",
       "      <th>metricType</th>\n",
       "      <th>symbol</th>\n",
       "      <th>metric.currentEv/freeCashFlowAnnual</th>\n",
       "      <th>metric.currentEv/freeCashFlowTTM</th>\n",
       "      <th>metric.currentRatioAnnual</th>\n",
       "      <th>metric.currentRatioQuarterly</th>\n",
       "      <th>metric.freeCashFlowAnnual</th>\n",
       "      <th>metric.freeCashFlowTTM</th>\n",
       "      <th>metric.longTermDebt/equityAnnual</th>\n",
       "      <th>metric.longTermDebt/equityQuarterly</th>\n",
       "      <th>metric.netInterestCoverageAnnual</th>\n",
       "      <th>metric.netInterestCoverageTTM</th>\n",
       "      <th>metric.payoutRatioAnnual</th>\n",
       "      <th>metric.payoutRatioTTM</th>\n",
       "      <th>metric.quickRatioAnnual</th>\n",
       "      <th>metric.quickRatioQuarterly</th>\n",
       "      <th>metric.totalDebt/totalEquityAnnual</th>\n",
       "      <th>metric.totalDebt/totalEquityQuarterly</th>\n",
       "    </tr>\n",
       "  </thead>\n",
       "  <tbody>\n",
       "    <tr>\n",
       "      <th>0</th>\n",
       "      <td>financialStrength</td>\n",
       "      <td>AAPL</td>\n",
       "      <td>24.63068</td>\n",
       "      <td>22.92248</td>\n",
       "      <td>1.54013</td>\n",
       "      <td>1.59778</td>\n",
       "      <td>44777</td>\n",
       "      <td>49880</td>\n",
       "      <td>101.4576</td>\n",
       "      <td>104.6621</td>\n",
       "      <td></td>\n",
       "      <td></td>\n",
       "      <td>25.57007</td>\n",
       "      <td>24.48937</td>\n",
       "      <td>1.50129</td>\n",
       "      <td>1.55768</td>\n",
       "      <td>119.4048</td>\n",
       "      <td>121.6707</td>\n",
       "    </tr>\n",
       "  </tbody>\n",
       "</table>\n",
       "</div>"
      ],
      "text/plain": [
       "          metricType symbol  metric.currentEv/freeCashFlowAnnual  \\\n",
       "0  financialStrength   AAPL                             24.63068   \n",
       "\n",
       "   metric.currentEv/freeCashFlowTTM  metric.currentRatioAnnual  \\\n",
       "0                          22.92248                    1.54013   \n",
       "\n",
       "   metric.currentRatioQuarterly  metric.freeCashFlowAnnual  \\\n",
       "0                       1.59778                      44777   \n",
       "\n",
       "   metric.freeCashFlowTTM  metric.longTermDebt/equityAnnual  \\\n",
       "0                   49880                          101.4576   \n",
       "\n",
       "   metric.longTermDebt/equityQuarterly metric.netInterestCoverageAnnual  \\\n",
       "0                             104.6621                                    \n",
       "\n",
       "  metric.netInterestCoverageTTM  metric.payoutRatioAnnual  \\\n",
       "0                                                25.57007   \n",
       "\n",
       "   metric.payoutRatioTTM  metric.quickRatioAnnual  metric.quickRatioQuarterly  \\\n",
       "0               24.48937                  1.50129                     1.55768   \n",
       "\n",
       "   metric.totalDebt/totalEquityAnnual  metric.totalDebt/totalEquityQuarterly  \n",
       "0                            119.4048                               121.6707  "
      ]
     },
     "execution_count": 31,
     "metadata": {},
     "output_type": "execute_result"
    }
   ],
   "source": [
    "results = []\n",
    "\n",
    "for items in tick: \n",
    "    with rate_limiter:\n",
    "        data = url + metric + ext7.format(items, api_key1)\n",
    "        req = requests.get(data).json()\n",
    "        with open ('api_data/backup/financialstrength_test.py', 'a+') as f:\n",
    "            json.dump(req,f)\n",
    "        results.append(req)\n",
    "        m6 = json_normalize(results)\n",
    "        m6.dropna(inplace=True)\n",
    "m6.to_csv('api_data/financialstrength_test.csv')\n",
    "m6.sample()"
   ]
  },
  {
   "cell_type": "markdown",
   "metadata": {
    "Collapsed": "true"
   },
   "source": [
    "### Per share metrics: book value per share / cash flow per share / eps normalized (example of data contained)"
   ]
  },
  {
   "cell_type": "code",
   "execution_count": 34,
   "metadata": {
    "Collapsed": "false"
   },
   "outputs": [
    {
     "name": "stderr",
     "output_type": "stream",
     "text": [
      "/anaconda3/lib/python3.6/site-packages/ipykernel_launcher.py:10: FutureWarning: pandas.io.json.json_normalize is deprecated, use pandas.json_normalize instead\n",
      "  # Remove the CWD from sys.path while we load stuff.\n"
     ]
    },
    {
     "data": {
      "text/html": [
       "<div>\n",
       "<style scoped>\n",
       "    .dataframe tbody tr th:only-of-type {\n",
       "        vertical-align: middle;\n",
       "    }\n",
       "\n",
       "    .dataframe tbody tr th {\n",
       "        vertical-align: top;\n",
       "    }\n",
       "\n",
       "    .dataframe thead th {\n",
       "        text-align: right;\n",
       "    }\n",
       "</style>\n",
       "<table border=\"1\" class=\"dataframe\">\n",
       "  <thead>\n",
       "    <tr style=\"text-align: right;\">\n",
       "      <th></th>\n",
       "      <th>metricType</th>\n",
       "      <th>symbol</th>\n",
       "      <th>metric.bookValuePerShareAnnual</th>\n",
       "      <th>metric.bookValuePerShareQuarterly</th>\n",
       "      <th>metric.cashFlowPerShareAnnual</th>\n",
       "      <th>metric.cashFlowPerShareTTM</th>\n",
       "      <th>metric.cashPerSharePerShareAnnual</th>\n",
       "      <th>metric.cashPerSharePerShareQuarterly</th>\n",
       "      <th>metric.dividendPerShare5Y</th>\n",
       "      <th>metric.dividendPerShareAnnual</th>\n",
       "      <th>...</th>\n",
       "      <th>metric.epsExclExtraItemsAnnual</th>\n",
       "      <th>metric.epsExclExtraItemsTTM</th>\n",
       "      <th>metric.epsInclExtraItemsAnnual</th>\n",
       "      <th>metric.epsInclExtraItemsTTM</th>\n",
       "      <th>metric.epsNormalizedAnnual</th>\n",
       "      <th>metric.freeCashFlowPerShareTTM</th>\n",
       "      <th>metric.revenuePerShareAnnual</th>\n",
       "      <th>metric.revenuePerShareTTM</th>\n",
       "      <th>metric.tangibleBookValuePerShareAnnual</th>\n",
       "      <th>metric.tangibleBookValuePerShareQuarterly</th>\n",
       "    </tr>\n",
       "  </thead>\n",
       "  <tbody>\n",
       "    <tr>\n",
       "      <th>0</th>\n",
       "      <td>perShare</td>\n",
       "      <td>AAPL</td>\n",
       "      <td>20.36534</td>\n",
       "      <td>20.41775</td>\n",
       "      <td>14.5847</td>\n",
       "      <td>15.20928</td>\n",
       "      <td>22.63148</td>\n",
       "      <td>24.43854</td>\n",
       "      <td>2.456</td>\n",
       "      <td>3</td>\n",
       "      <td>...</td>\n",
       "      <td>11.88579</td>\n",
       "      <td>12.66158</td>\n",
       "      <td>11.88579</td>\n",
       "      <td>12.66158</td>\n",
       "      <td>11.88579</td>\n",
       "      <td>10.91645</td>\n",
       "      <td>55.96448</td>\n",
       "      <td>58.58356</td>\n",
       "      <td>20.36534</td>\n",
       "      <td>20.41775</td>\n",
       "    </tr>\n",
       "  </tbody>\n",
       "</table>\n",
       "<p>1 rows × 24 columns</p>\n",
       "</div>"
      ],
      "text/plain": [
       "  metricType symbol  metric.bookValuePerShareAnnual  \\\n",
       "0   perShare   AAPL                        20.36534   \n",
       "\n",
       "   metric.bookValuePerShareQuarterly  metric.cashFlowPerShareAnnual  \\\n",
       "0                           20.41775                        14.5847   \n",
       "\n",
       "   metric.cashFlowPerShareTTM  metric.cashPerSharePerShareAnnual  \\\n",
       "0                    15.20928                           22.63148   \n",
       "\n",
       "   metric.cashPerSharePerShareQuarterly  metric.dividendPerShare5Y  \\\n",
       "0                              24.43854                      2.456   \n",
       "\n",
       "   metric.dividendPerShareAnnual  ...  metric.epsExclExtraItemsAnnual  \\\n",
       "0                              3  ...                        11.88579   \n",
       "\n",
       "   metric.epsExclExtraItemsTTM  metric.epsInclExtraItemsAnnual  \\\n",
       "0                     12.66158                        11.88579   \n",
       "\n",
       "   metric.epsInclExtraItemsTTM  metric.epsNormalizedAnnual  \\\n",
       "0                     12.66158                    11.88579   \n",
       "\n",
       "   metric.freeCashFlowPerShareTTM  metric.revenuePerShareAnnual  \\\n",
       "0                        10.91645                      55.96448   \n",
       "\n",
       "   metric.revenuePerShareTTM  metric.tangibleBookValuePerShareAnnual  \\\n",
       "0                   58.58356                                20.36534   \n",
       "\n",
       "   metric.tangibleBookValuePerShareQuarterly  \n",
       "0                                   20.41775  \n",
       "\n",
       "[1 rows x 24 columns]"
      ]
     },
     "execution_count": 34,
     "metadata": {},
     "output_type": "execute_result"
    }
   ],
   "source": [
    "results = []\n",
    "\n",
    "for items in tick: \n",
    "    with rate_limiter:\n",
    "        data = url + metric + ext8.format(items, api_key1)\n",
    "        req = requests.get(data).json()\n",
    "        with open ('api_data/backup/pershare_test.py', 'a+') as f:\n",
    "            json.dump(req,f)\n",
    "        results.append(req)\n",
    "        m7 = json_normalize(results)\n",
    "        m7.dropna(inplace=True)\n",
    "        m7.dropna(inplace=True)\n",
    "m7.to_csv('api_data/pershare_test.csv')\n",
    "m7.sample()"
   ]
  },
  {
   "cell_type": "markdown",
   "metadata": {
    "Collapsed": "true"
   },
   "source": [
    "# IV. Supplementary Data from Finnhub Class"
   ]
  },
  {
   "cell_type": "markdown",
   "metadata": {},
   "source": [
    "The supplementary data below can be obtained using the finhub class in code_ref. It is provided by finnhub to access additional data points to supplement our analysis."
   ]
  },
  {
   "cell_type": "markdown",
   "metadata": {
    "Collapsed": "true"
   },
   "source": [
    "## Stock Upgrade / Downgrade"
   ]
  },
  {
   "cell_type": "code",
   "execution_count": 6,
   "metadata": {
    "Collapsed": "false"
   },
   "outputs": [],
   "source": [
    "url4 = \"https://finnhub.io/api/v1/stock/upgrade-downgrade?symbol={}&token={}\".format(company, api_key1) #url\n",
    "req4 = requests.get(url4) \n",
    "status = pd.DataFrame(req4.json())"
   ]
  },
  {
   "cell_type": "code",
   "execution_count": 7,
   "metadata": {
    "Collapsed": "false"
   },
   "outputs": [
    {
     "data": {
      "text/html": [
       "<div>\n",
       "<style scoped>\n",
       "    .dataframe tbody tr th:only-of-type {\n",
       "        vertical-align: middle;\n",
       "    }\n",
       "\n",
       "    .dataframe tbody tr th {\n",
       "        vertical-align: top;\n",
       "    }\n",
       "\n",
       "    .dataframe thead th {\n",
       "        text-align: right;\n",
       "    }\n",
       "</style>\n",
       "<table border=\"1\" class=\"dataframe\">\n",
       "  <thead>\n",
       "    <tr style=\"text-align: right;\">\n",
       "      <th></th>\n",
       "      <th>symbol</th>\n",
       "      <th>gradeTime</th>\n",
       "      <th>company</th>\n",
       "      <th>fromGrade</th>\n",
       "      <th>toGrade</th>\n",
       "      <th>action</th>\n",
       "    </tr>\n",
       "  </thead>\n",
       "  <tbody>\n",
       "    <tr>\n",
       "      <th>0</th>\n",
       "      <td>KER.PA</td>\n",
       "      <td>1541116800</td>\n",
       "      <td>RBC Capital</td>\n",
       "      <td>Sector Perform</td>\n",
       "      <td>Outperform</td>\n",
       "      <td>up</td>\n",
       "    </tr>\n",
       "  </tbody>\n",
       "</table>\n",
       "</div>"
      ],
      "text/plain": [
       "   symbol   gradeTime      company       fromGrade     toGrade action\n",
       "0  KER.PA  1541116800  RBC Capital  Sector Perform  Outperform     up"
      ]
     },
     "execution_count": 7,
     "metadata": {},
     "output_type": "execute_result"
    }
   ],
   "source": [
    "status"
   ]
  },
  {
   "cell_type": "markdown",
   "metadata": {
    "Collapsed": "true"
   },
   "source": [
    "### Peers"
   ]
  },
  {
   "cell_type": "code",
   "execution_count": null,
   "metadata": {
    "Collapsed": "false"
   },
   "outputs": [],
   "source": [
    "url5 = \"https://finnhub.io/api/v1/stock/peers?symbol={}&token={}\".format(company, api_key) #url\n",
    "req5 = requests.get(url5) "
   ]
  },
  {
   "cell_type": "code",
   "execution_count": null,
   "metadata": {
    "Collapsed": "false"
   },
   "outputs": [],
   "source": [
    "print(req5.json())"
   ]
  },
  {
   "cell_type": "markdown",
   "metadata": {
    "Collapsed": "true"
   },
   "source": [
    "## Revenue Estimates"
   ]
  },
  {
   "cell_type": "code",
   "execution_count": null,
   "metadata": {
    "Collapsed": "false"
   },
   "outputs": [],
   "source": [
    "url6 = \"https://finnhub.io/api/v1/stock/revenue-estimate?symbol={}&token={}\".format(company, api_key) #url\n",
    "req6 = requests.get(url6) \n",
    "rev = pd.DataFrame(req6.json())\n",
    "rev1 = json_normalize(rev['data'])\n",
    "rev1"
   ]
  },
  {
   "cell_type": "markdown",
   "metadata": {
    "Collapsed": "true"
   },
   "source": [
    "## Earnings Estimate"
   ]
  },
  {
   "cell_type": "code",
   "execution_count": null,
   "metadata": {
    "Collapsed": "false"
   },
   "outputs": [],
   "source": [
    "url7 = \"https://finnhub.io/api/v1/stock/eps-estimate?symbol={}&token={}\".format(company, api_key) #url\n",
    "req7 = requests.get(url7) \n",
    "print(req7.json())"
   ]
  },
  {
   "cell_type": "code",
   "execution_count": null,
   "metadata": {
    "Collapsed": "false"
   },
   "outputs": [],
   "source": [
    "eps = pd.DataFrame(req7.json())\n",
    "eps1 = json_normalize(eps['data'])\n",
    "eps1"
   ]
  },
  {
   "cell_type": "markdown",
   "metadata": {
    "Collapsed": "true"
   },
   "source": [
    "## Investor Ownership"
   ]
  },
  {
   "cell_type": "code",
   "execution_count": null,
   "metadata": {
    "Collapsed": "false"
   },
   "outputs": [],
   "source": [
    "url8 = \"https://finnhub.io/api/v1/stock/investor-ownership?symbol={}&token={}\".format(company, api_key) #url\n",
    "req8 = requests.get(url8) \n",
    "# print(req8.json())\n",
    "own = req8.json()"
   ]
  },
  {
   "cell_type": "code",
   "execution_count": null,
   "metadata": {
    "Collapsed": "false"
   },
   "outputs": [],
   "source": [
    "ownership = pd.DataFrame(own.items(), columns =['Features', 'Value'])\n",
    "# print(req8.json())\n",
    "owner = pd.DataFrame(req8.json())\n",
    "owner1 = json_normalize(owner['ownership'])"
   ]
  },
  {
   "cell_type": "code",
   "execution_count": null,
   "metadata": {
    "Collapsed": "false"
   },
   "outputs": [],
   "source": [
    "owner1"
   ]
  },
  {
   "cell_type": "markdown",
   "metadata": {
    "Collapsed": "true"
   },
   "source": [
    "## Fund Ownership"
   ]
  },
  {
   "cell_type": "code",
   "execution_count": null,
   "metadata": {
    "Collapsed": "false"
   },
   "outputs": [],
   "source": [
    "url9 = \"https://finnhub.io/api/v1/stock/fund-ownership?symbol={}&token={}\".format(company, api_key) #url\n",
    "req9 = requests.get(url9)\n",
    "fdowner = pd.DataFrame(req9.json())\n",
    "fdowner1 = json_normalize(fdowner['ownership'])\n",
    "fdowner1"
   ]
  },
  {
   "cell_type": "markdown",
   "metadata": {
    "Collapsed": "true"
   },
   "source": [
    "## stock quote"
   ]
  },
  {
   "cell_type": "code",
   "execution_count": null,
   "metadata": {
    "Collapsed": "false"
   },
   "outputs": [],
   "source": [
    "url10 = \"https://finnhub.io/api/v1/quote?symbol={}&token={}\".format(company, api_key) #url\n",
    "req10 = requests.get(url10) \n",
    "print(req10.json())"
   ]
  },
  {
   "cell_type": "code",
   "execution_count": null,
   "metadata": {
    "Collapsed": "false"
   },
   "outputs": [],
   "source": [
    "url10 = \"https://finnhub.io/api/v1/quote?symbol=BINANCE:BTCEUR&token={}\".format(api_key) #url\n",
    "req10 = requests.get(url10) \n",
    "print(req10.json())"
   ]
  },
  {
   "cell_type": "markdown",
   "metadata": {
    "Collapsed": "true"
   },
   "source": [
    "## General News"
   ]
  },
  {
   "cell_type": "code",
   "execution_count": null,
   "metadata": {
    "Collapsed": "false"
   },
   "outputs": [],
   "source": [
    "url11 = \"https://finnhub.io/api/v1/news?category=general&token={}\".format(api_key) #url\n",
    "req11 = requests.get(url11) \n",
    "news = pd.DataFrame(req11.json())\n",
    "news"
   ]
  },
  {
   "cell_type": "markdown",
   "metadata": {
    "Collapsed": "true"
   },
   "source": [
    "## company news "
   ]
  },
  {
   "cell_type": "code",
   "execution_count": null,
   "metadata": {
    "Collapsed": "false"
   },
   "outputs": [],
   "source": [
    "url12 = \"https://finnhub.io/api/v1/news/{}?token={}\".format(company,api_key) #url\n",
    "req12 = requests.get(url12) \n",
    "compnews = pd.DataFrame(req12.json())\n",
    "compnews"
   ]
  },
  {
   "cell_type": "markdown",
   "metadata": {
    "Collapsed": "true"
   },
   "source": [
    "## Major Developments"
   ]
  },
  {
   "cell_type": "code",
   "execution_count": null,
   "metadata": {
    "Collapsed": "false"
   },
   "outputs": [],
   "source": [
    "url13 = \"https://finnhub.io/api/v1/major-development?symbol={}&token={}'\".format(company,api_key) #url\n",
    "req13 = requests.get(url13) \n",
    "# print(req13.json())"
   ]
  },
  {
   "cell_type": "markdown",
   "metadata": {
    "Collapsed": "true"
   },
   "source": [
    "## New Sentiment"
   ]
  },
  {
   "cell_type": "code",
   "execution_count": null,
   "metadata": {
    "Collapsed": "false"
   },
   "outputs": [],
   "source": [
    "url14 = \"https://finnhub.io/api/v1/news-sentiment?symbol={}&token={}\".format(company,api_key) #url\n",
    "req14 = requests.get(url14) \n",
    "\n",
    "cpn = pd.DataFrame(req14.json())\n",
    "print(req14.json())"
   ]
  },
  {
   "cell_type": "markdown",
   "metadata": {
    "Collapsed": "true"
   },
   "source": [
    "## Economic Code & Data\n"
   ]
  },
  {
   "cell_type": "code",
   "execution_count": null,
   "metadata": {
    "Collapsed": "false"
   },
   "outputs": [],
   "source": []
  },
  {
   "cell_type": "code",
   "execution_count": null,
   "metadata": {
    "Collapsed": "false"
   },
   "outputs": [],
   "source": [
    "url15 = \"https://finnhub.io/api/v1/economic/code?token={}\".format(api_key) #url\n",
    "req15 = requests.get(url15) \n",
    "# print(req15.json())\n"
   ]
  },
  {
   "cell_type": "code",
   "execution_count": null,
   "metadata": {
    "Collapsed": "false"
   },
   "outputs": [],
   "source": [
    "code = pd.DataFrame(req15.json())\n",
    "code.head(n=15)"
   ]
  },
  {
   "cell_type": "code",
   "execution_count": null,
   "metadata": {
    "Collapsed": "false"
   },
   "outputs": [],
   "source": [
    "df = code.loc[code['country'] == 'United States']"
   ]
  },
  {
   "cell_type": "code",
   "execution_count": null,
   "metadata": {
    "Collapsed": "false"
   },
   "outputs": [],
   "source": [
    "code.code.value_counts().sum()"
   ]
  },
  {
   "cell_type": "code",
   "execution_count": null,
   "metadata": {
    "Collapsed": "false"
   },
   "outputs": [],
   "source": [
    "url16 = \"https://finnhub.io/api/v1/economic?code=A-FRA-6682&token={}\".format(api_key) #url\n",
    "req16 = requests.get(url16) \n",
    "eco = pd.DataFrame(req16.json(), columns =['Date', 'Monthly Bankruptices in France'])\n",
    "eco"
   ]
  },
  {
   "cell_type": "code",
   "execution_count": null,
   "metadata": {
    "Collapsed": "false"
   },
   "outputs": [],
   "source": [
    "url17 = \"https://finnhub.io/api/v1/covid19/us?token={}\".format(api_key) #url\n",
    "req17 = requests.get(url17) \n",
    "# print(req17.json())\n",
    "\n",
    "covid = pd.DataFrame(req17.json())\n",
    "covid.head(n=20)"
   ]
  },
  {
   "cell_type": "markdown",
   "metadata": {
    "Collapsed": "true"
   },
   "source": [
    "## Financials"
   ]
  },
  {
   "cell_type": "code",
   "execution_count": 111,
   "metadata": {
    "Collapsed": "false"
   },
   "outputs": [],
   "source": [
    "\n",
    "import csv, json, sys\n",
    "if sys.argv[1] is not None and sys.argv[2] is not None:\n",
    "    fileInput = sys.argv[1]\n",
    "    fileOutput = sys.argv[2]"
   ]
  },
  {
   "cell_type": "code",
   "execution_count": 122,
   "metadata": {
    "Collapsed": "false"
   },
   "outputs": [
    {
     "name": "stdout",
     "output_type": "stream",
     "text": [
      "{'financials': [{'accountsPayable': 46236, 'accountsReceivableTradeNet': 22926, 'accruedExpenses': 20951, 'accumulatedDepreciationTotal': -58579, 'cash': 12204, 'cashEquivalents': 36640, 'cashandShortTermInvestments': 100557, 'commonStockTotal': 45174, 'currentPortofLTDebtCapitalLeases': 10260, 'deferredIncomeTax': 31504, 'goodwillNet': 5414, 'intangiblesNet': 3206, 'longTermDebt': 91807, 'longTermInvestments': 105341, 'notesPayableShortTermDebt': 5980, 'otherCurrentAssetsTotal': 12352, 'otherCurrentliabilitiesTotal': 43242, 'otherEquityTotal': -1291, 'otherLiabilitiesTotal': 50503, 'otherLongTermAssetsTotal': 32978, 'period': '2019-09-28', 'propertyPlantEquipmentTotalGross': 95957, 'propertyPlantEquipmentTotalNet': 37378, 'retainedEarningsAccumulatedDeficit': 45898, 'shortTermInvestments': 51713, 'tangibleBookValueperShare': 20.36534, 'totalAssets': 338516, 'totalCommonSharesOutstanding': 4443.236, 'totalCurrentAssets': 162819, 'totalCurrentLiabilities': 105718, 'totalDebt': 108047, 'totalEquity': 90488, 'totalInventory': 4106, 'totalLiabilities': 248028, 'totalLiabilitiesShareholdersEquity': 338516, 'totalLongTermDebt': 91807, 'totalReceivablesNet': 45804, 'unrealizedGainLoss': 707}, {'accountsPayable': 55888, 'accountsReceivableTradeNet': 23186, 'accruedExpenses': 24169, 'accumulatedDepreciationTotal': -49099, 'cash': 11575, 'cashEquivalents': 14338, 'cashandShortTermInvestments': 66301, 'commonStockTotal': 40201, 'currentPortofLTDebtCapitalLeases': 8784, 'deferredIncomeTax': 26019, 'goodwillNet': 5116, 'intangiblesNet': 3893, 'longTermDebt': 93735, 'longTermInvestments': 170799, 'notesPayableShortTermDebt': 11964, 'otherCurrentAssetsTotal': 12087, 'otherCurrentliabilitiesTotal': 39293, 'otherEquityTotal': -245, 'otherLiabilitiesTotal': 48914, 'otherLongTermAssetsTotal': 22283, 'period': '2018-09-29', 'propertyPlantEquipmentTotalGross': 90403, 'propertyPlantEquipmentTotalNet': 41304, 'retainedEarningsAccumulatedDeficit': 70400, 'shortTermInvestments': 40388, 'tangibleBookValueperShare': 22.53361, 'totalAssets': 365725, 'totalCommonSharesOutstanding': 4754.986, 'totalCurrentAssets': 131339, 'totalCurrentLiabilities': 115929, 'totalDebt': 114483, 'totalEquity': 107147, 'totalInventory': 3956, 'totalLiabilities': 258578, 'totalLiabilitiesShareholdersEquity': 365725, 'totalLongTermDebt': 93735, 'totalReceivablesNet': 48995, 'unrealizedGainLoss': -3209}, {'accountsPayable': 44242, 'accountsReceivableTradeNet': 17874, 'accruedExpenses': 7689, 'accumulatedDepreciationTotal': -41293, 'cash': 7982, 'cashEquivalents': 12307, 'cashandShortTermInvestments': 74181, 'commonStockTotal': 35867, 'currentPortofLTDebtCapitalLeases': 6496, 'deferredIncomeTax': 24062, 'goodwillNet': 4616, 'intangiblesNet': 4142, 'longTermDebt': 97207, 'longTermInvestments': 194714, 'notesPayableShortTermDebt': 11977, 'otherCurrentAssetsTotal': 13936, 'otherCurrentliabilitiesTotal': 38099, 'otherEquityTotal': -478, 'otherLiabilitiesTotal': 11747, 'otherLongTermAssetsTotal': 18177, 'period': '2017-09-30', 'propertyPlantEquipmentTotalGross': 75076, 'propertyPlantEquipmentTotalNet': 33783, 'retainedEarningsAccumulatedDeficit': 98330, 'shortTermInvestments': 53892, 'tangibleBookValueperShare': 26.14938, 'totalAssets': 375319, 'totalCommonSharesOutstanding': 5126.201, 'totalCurrentAssets': 128645, 'totalCurrentLiabilities': 100814, 'totalDebt': 115680, 'totalEquity': 134047, 'totalInventory': 4855, 'totalLiabilities': 241272, 'totalLiabilitiesShareholdersEquity': 375319, 'totalLongTermDebt': 97207, 'totalReceivablesNet': 35673, 'unrealizedGainLoss': 328}, {'accountsPayable': 37294, 'accountsReceivableTradeNet': 15754, 'accruedExpenses': 0, 'accumulatedDepreciationTotal': -34235, 'cash': 8601, 'cashEquivalents': 11883, 'cashandShortTermInvestments': 67155, 'commonStockTotal': 31251, 'currentPortofLTDebtCapitalLeases': 3500, 'deferredIncomeTax': 20259, 'goodwillNet': 0, 'intangiblesNet': 0, 'longTermDebt': 75427, 'longTermInvestments': 170430, 'notesPayableShortTermDebt': 8105, 'otherCurrentAssetsTotal': 8283, 'otherCurrentliabilitiesTotal': 9156, 'otherEquityTotal': -540, 'otherLiabilitiesTotal': 12985, 'otherLongTermAssetsTotal': 8757, 'period': '2016-09-24', 'propertyPlantEquipmentTotalGross': 61245, 'propertyPlantEquipmentTotalNet': 27010, 'retainedEarningsAccumulatedDeficit': 96364, 'shortTermInvestments': 46671, 'tangibleBookValueperShare': 22.41853, 'totalAssets': 321686, 'totalCommonSharesOutstanding': 5336.166, 'totalCurrentAssets': 106869, 'totalCurrentLiabilities': 79006, 'totalDebt': 87032, 'totalEquity': 128249, 'totalInventory': 2132, 'totalLiabilities': 193437, 'totalLiabilitiesShareholdersEquity': 321686, 'totalLongTermDebt': 75427, 'totalReceivablesNet': 29299, 'unrealizedGainLoss': 1174}, {'accountsPayable': 35490, 'accountsReceivableTradeNet': 16849, 'accruedExpenses': 0, 'accumulatedDepreciationTotal': -26786, 'cash': 11389, 'cashEquivalents': 9731, 'cashandShortTermInvestments': 41601, 'commonStockTotal': 27416, 'currentPortofLTDebtCapitalLeases': 2500, 'deferredIncomeTax': 0, 'goodwillNet': 0, 'intangiblesNet': 0, 'longTermDebt': 53329, 'longTermInvestments': 164065, 'notesPayableShortTermDebt': 8499, 'otherCurrentAssetsTotal': 15085, 'otherCurrentliabilitiesTotal': 9952, 'otherEquityTotal': 308, 'otherLiabilitiesTotal': 12989, 'otherLongTermAssetsTotal': 5422, 'period': '2015-09-26', 'propertyPlantEquipmentTotalGross': 49257, 'propertyPlantEquipmentTotalNet': 22471, 'retainedEarningsAccumulatedDeficit': 92284, 'shortTermInvestments': 20481, 'tangibleBookValueperShare': 19.77969, 'totalAssets': 290345, 'totalCommonSharesOutstanding': 5578.753, 'totalCurrentAssets': 89378, 'totalCurrentLiabilities': 80610, 'totalDebt': 64328, 'totalEquity': 119355, 'totalInventory': 2349, 'totalLiabilities': 170990, 'totalLiabilitiesShareholdersEquity': 290345, 'totalLongTermDebt': 53329, 'totalReceivablesNet': 30343, 'unrealizedGainLoss': -653}], 'symbol': 'AAPL'}\n"
     ]
    }
   ],
   "source": [
    "import requests\n",
    "r = requests.get('https://finnhub.io/api/v1/stock/financials?symbol=AAPL&statement=bs&freq=annual&token=bq06smvrh5rddd65esl0')\n",
    "data = r.json()\n",
    "print(data)"
   ]
  },
  {
   "cell_type": "code",
   "execution_count": 121,
   "metadata": {
    "Collapsed": "false"
   },
   "outputs": [
    {
     "data": {
      "text/plain": [
       "['financials', 'symbol']"
      ]
     },
     "execution_count": 121,
     "metadata": {},
     "output_type": "execute_result"
    }
   ],
   "source": [
    "key_list = []\n",
    "\n",
    "for key in data: \n",
    "    key_list.append(key)"
   ]
  },
  {
   "cell_type": "code",
   "execution_count": 123,
   "metadata": {
    "Collapsed": "false"
   },
   "outputs": [],
   "source": [
    "f = csv.writer(open(\"test.csv\", \"w\"))\n",
    "f.writerows(key_list)\n",
    "\n"
   ]
  },
  {
   "cell_type": "code",
   "execution_count": 131,
   "metadata": {
    "Collapsed": "false"
   },
   "outputs": [
    {
     "ename": "IndentationError",
     "evalue": "unindent does not match any outer indentation level (<tokenize>, line 8)",
     "output_type": "error",
     "traceback": [
      "\u001b[0;36m  File \u001b[0;32m\"<tokenize>\"\u001b[0;36m, line \u001b[0;32m8\u001b[0m\n\u001b[0;31m    for record in jsonobj:\u001b[0m\n\u001b[0m    ^\u001b[0m\n\u001b[0;31mIndentationError\u001b[0m\u001b[0;31m:\u001b[0m unindent does not match any outer indentation level\n"
     ]
    }
   ],
   "source": [
    "# def jsontocsv(input_json, output_path):\n",
    "# keylist = []\n",
    "# for key in jsonobj[0]:\n",
    "#     keylist.append(key)\n",
    "#     f = csv.writer(open(output_path, \"w\"))\n",
    "#     f.writerow(keylist)\n",
    " \n",
    "#   for record in jsonobj:\n",
    "#     currentrecord = []\n",
    "#     for key in keylist:\n",
    "#       currentrecord.append(record[key])\n",
    "#       f.writerow(currentrecord)"
   ]
  },
  {
   "cell_type": "code",
   "execution_count": 54,
   "metadata": {
    "Collapsed": "false"
   },
   "outputs": [],
   "source": [
    "df = pd.DataFrame(r.json())"
   ]
  },
  {
   "cell_type": "code",
   "execution_count": 56,
   "metadata": {
    "Collapsed": "false"
   },
   "outputs": [],
   "source": [
    "df1 = json_normalize(df['financials'])"
   ]
  },
  {
   "cell_type": "code",
   "execution_count": 58,
   "metadata": {
    "Collapsed": "false"
   },
   "outputs": [
    {
     "data": {
      "text/plain": [
       "Index(['accountsPayable', 'accountsReceivableTradeNet', 'accruedExpenses',\n",
       "       'accumulatedDepreciationTotal', 'cash', 'cashEquivalents',\n",
       "       'cashandShortTermInvestments', 'commonStockTotal',\n",
       "       'currentPortofLTDebtCapitalLeases', 'deferredIncomeTax', 'goodwillNet',\n",
       "       'intangiblesNet', 'longTermDebt', 'longTermInvestments',\n",
       "       'notesPayableShortTermDebt', 'otherCurrentAssetsTotal',\n",
       "       'otherCurrentliabilitiesTotal', 'otherEquityTotal',\n",
       "       'otherLiabilitiesTotal', 'otherLongTermAssetsTotal', 'period',\n",
       "       'propertyPlantEquipmentTotalGross', 'propertyPlantEquipmentTotalNet',\n",
       "       'retainedEarningsAccumulatedDeficit', 'shortTermInvestments',\n",
       "       'tangibleBookValueperShare', 'totalAssets',\n",
       "       'totalCommonSharesOutstanding', 'totalCurrentAssets',\n",
       "       'totalCurrentLiabilities', 'totalDebt', 'totalEquity', 'totalInventory',\n",
       "       'totalLiabilities', 'totalLiabilitiesShareholdersEquity',\n",
       "       'totalLongTermDebt', 'totalReceivablesNet', 'unrealizedGainLoss'],\n",
       "      dtype='object')"
      ]
     },
     "execution_count": 58,
     "metadata": {},
     "output_type": "execute_result"
    }
   ],
   "source": [
    "\n",
    "\n",
    "df1.columns"
   ]
  },
  {
   "cell_type": "code",
   "execution_count": null,
   "metadata": {
    "Collapsed": "false"
   },
   "outputs": [],
   "source": []
  }
 ],
 "metadata": {
  "kernelspec": {
   "display_name": "Python 3",
   "language": "python",
   "name": "python3"
  },
  "language_info": {
   "codemirror_mode": {
    "name": "ipython",
    "version": 3
   },
   "file_extension": ".py",
   "mimetype": "text/x-python",
   "name": "python",
   "nbconvert_exporter": "python",
   "pygments_lexer": "ipython3",
   "version": "3.6.8"
  },
  "toc-autonumbering": false
 },
 "nbformat": 4,
 "nbformat_minor": 4
}
