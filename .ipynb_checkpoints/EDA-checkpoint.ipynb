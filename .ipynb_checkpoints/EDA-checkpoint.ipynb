{
 "cells": [
  {
   "cell_type": "markdown",
   "metadata": {
    "Collapsed": "true"
   },
   "source": [
    "# Imports"
   ]
  },
  {
   "cell_type": "code",
   "execution_count": 94,
   "metadata": {
    "Collapsed": "false"
   },
   "outputs": [
    {
     "name": "stdout",
     "output_type": "stream",
     "text": [
      "The autoreload extension is already loaded. To reload it, use:\n",
      "  %reload_ext autoreload\n",
      "The autoreload extension is already loaded. To reload it, use:\n",
      "  %reload_ext autoreload\n"
     ]
    }
   ],
   "source": [
    "import websocket\n",
    "import pandas as pd\n",
    "import requests\n",
    "from pandas.io.json import json_normalize\n",
    "import json\n",
    "from code_ref import get_keys\n",
    "from code_ref import findata\n",
    "from code_ref import FinnhubRequestException\n",
    "from code_ref import FinnhubAPIException\n",
    "import time\n",
    "import threading\n",
    "%matplotlib inline\n",
    "%load_ext autoreload\n",
    "%autoreload 2\n",
    "from ratelimit import limits\n",
    "from ratelimiter import RateLimiter\n",
    "import pandas as pd \n",
    "import seaborn as sns\n",
    "import matplotlib.pyplot as plt\n",
    "import os\n",
    "import glob\n",
    "\n",
    "from sklearn.experimental import enable_iterative_imputer  \n",
    "from sklearn.datasets import fetch_california_housing\n",
    "from sklearn.impute import SimpleImputer\n",
    "from sklearn.impute import IterativeImputer\n",
    "from sklearn.linear_model import BayesianRidge\n",
    "from sklearn.tree import DecisionTreeRegressor\n",
    "from sklearn.ensemble import ExtraTreesRegressor\n",
    "from sklearn.neighbors import KNeighborsRegressor\n",
    "from sklearn.discriminant_analysis import LinearDiscriminantAnalysis\n",
    "from sklearn.pipeline import make_pipeline\n",
    "from sklearn.model_selection import cross_val_score\n",
    "from sklearn.ensemble import RandomForestRegressor\n",
    "from sklearn.impute import KNNImputer\n",
    "from sklearn.model_selection import KFold\n",
    "import scipy.cluster.hierarchy as shc\n",
    "\n",
    "\n",
    "\n",
    "import websocket\n",
    "import pandas as pd\n",
    "import requests\n",
    "from pandas.io.json import json_normalize\n",
    "import json\n",
    "from code_ref import get_keys\n",
    "from code_ref import findata\n",
    "from code_ref import FinnhubRequestException\n",
    "from code_ref import FinnhubAPIException\n",
    "import time\n",
    "import threading\n",
    "%matplotlib inline\n",
    "%load_ext autoreload\n",
    "%autoreload 2\n",
    "from ratelimit import limits\n",
    "from ratelimiter import RateLimiter\n",
    "import numpy as np"
   ]
  },
  {
   "cell_type": "markdown",
   "metadata": {
    "Collapsed": "true",
    "toc-hr-collapsed": true
   },
   "source": [
    "# Data Collection"
   ]
  },
  {
   "cell_type": "markdown",
   "metadata": {
    "Collapsed": "false"
   },
   "source": [
    "## Ticker List "
   ]
  },
  {
   "cell_type": "code",
   "execution_count": 14,
   "metadata": {
    "Collapsed": "false"
   },
   "outputs": [],
   "source": [
    "tickers = pd.read_csv('Ticker_list_1.csv')\n",
    "tickers.drop(tickers[tickers['Exchange'] == 'PNK'].index, inplace = True)\n",
    "drop = ['Argentina', 'Brazil', 'Estonia', 'Greece', 'Iceland', 'India', 'Indonesia', 'Latvia', 'Lithuania', 'Malaysia', 'Mexico', 'New Zealand', 'Qatar', 'Russia', 'Taiwan', 'Thailand', 'Turkey','China','Switzerland']\n",
    "drop1 = ['MUN', 'STU', 'DUS', 'HAM', 'HAN', 'EUX', 'FRA', \"ENX\", 'BER', 'CNQ', 'VAN', 'IOB', 'KOE', 'PCX', 'OBB']\n",
    "tickers.dropna(subset = ['Country'], inplace = True)"
   ]
  },
  {
   "cell_type": "code",
   "execution_count": 15,
   "metadata": {
    "Collapsed": "false"
   },
   "outputs": [],
   "source": [
    "for values in drop:\n",
    "    tickers.drop(tickers[tickers['Country'] == values].index, inplace = True)\n",
    "for exch in drop1: \n",
    "    tickers.drop(tickers[tickers['Exchange'] == exch].index, inplace = True)"
   ]
  },
  {
   "cell_type": "code",
   "execution_count": 16,
   "metadata": {
    "Collapsed": "false"
   },
   "outputs": [],
   "source": [
    "tickers['Category Name'].fillna(1, inplace = True)\n",
    "drop2 = tickers[ (tickers['Category Name'] == 1)].index\n",
    "tickers.drop(drop2, inplace = True)"
   ]
  },
  {
   "cell_type": "code",
   "execution_count": 20,
   "metadata": {
    "Collapsed": "false"
   },
   "outputs": [
    {
     "data": {
      "text/html": [
       "<div>\n",
       "<style scoped>\n",
       "    .dataframe tbody tr th:only-of-type {\n",
       "        vertical-align: middle;\n",
       "    }\n",
       "\n",
       "    .dataframe tbody tr th {\n",
       "        vertical-align: top;\n",
       "    }\n",
       "\n",
       "    .dataframe thead th {\n",
       "        text-align: right;\n",
       "    }\n",
       "</style>\n",
       "<table border=\"1\" class=\"dataframe\">\n",
       "  <thead>\n",
       "    <tr style=\"text-align: right;\">\n",
       "      <th></th>\n",
       "      <th>Ticker</th>\n",
       "      <th>Name</th>\n",
       "      <th>Exchange</th>\n",
       "      <th>Category Name</th>\n",
       "      <th>Country</th>\n",
       "    </tr>\n",
       "  </thead>\n",
       "  <tbody>\n",
       "    <tr>\n",
       "      <th>2298</th>\n",
       "      <td>EBR</td>\n",
       "      <td>Centrais Elétricas Brasileiras S.A. - Eletrobras</td>\n",
       "      <td>NYQ</td>\n",
       "      <td>Electric Utilities</td>\n",
       "      <td>USA</td>\n",
       "    </tr>\n",
       "  </tbody>\n",
       "</table>\n",
       "</div>"
      ],
      "text/plain": [
       "     Ticker                                              Name Exchange  \\\n",
       "2298    EBR  Centrais Elétricas Brasileiras S.A. - Eletrobras      NYQ   \n",
       "\n",
       "           Category Name Country  \n",
       "2298  Electric Utilities     USA  "
      ]
     },
     "execution_count": 20,
     "metadata": {},
     "output_type": "execute_result"
    }
   ],
   "source": [
    "tickers.drop_duplicates(subset = 'Name', keep = 'first', inplace = True)\n",
    "tickers.sample()"
   ]
  },
  {
   "cell_type": "code",
   "execution_count": 71,
   "metadata": {
    "Collapsed": "false"
   },
   "outputs": [],
   "source": [
    "tickers.to_csv('tickers_final.csv')"
   ]
  },
  {
   "cell_type": "code",
   "execution_count": 29,
   "metadata": {
    "Collapsed": "false"
   },
   "outputs": [],
   "source": [
    "tick = list(tickers.Ticker[:10])"
   ]
  },
  {
   "cell_type": "markdown",
   "metadata": {
    "Collapsed": "false"
   },
   "source": [
    "## Financial Metric Collection"
   ]
  },
  {
   "cell_type": "code",
   "execution_count": 33,
   "metadata": {
    "Collapsed": "false"
   },
   "outputs": [],
   "source": [
    "keys = get_keys(\"/Users/augustingoudet/.secret/code_file\") #Finnhub Key\n",
    "api_key1 = keys ['finnhub'] #api_key\n",
    "query = findata(api_key = api_key1)\n",
    "rate_limiter = RateLimiter(max_calls=45, period=60)"
   ]
  },
  {
   "cell_type": "code",
   "execution_count": 36,
   "metadata": {
    "Collapsed": "false"
   },
   "outputs": [],
   "source": [
    "url = \"https://finnhub.io/api/v1/\"\n",
    "ext1 = \"?symbol={}&token={}\"\n",
    "ext2 = \"?symbol={}&metric=management&token={}\"\n",
    "ext3 = \"?symbol={}&metric=margin&token={}\"\n",
    "ext4 = \"?symbol={}&metric=growth&token={}\"\n",
    "ext5 = \"?symbol={}&metric=price&token={}\"\n",
    "ext6 = \"?symbol={}&metric=valuation&token={}\"\n",
    "ext7 = \"?symbol={}&metric=financialStrength&token={}\"\n",
    "ext8 = \"?symbol={}&metric=perShare&token={}\"\n",
    "metric= \"stock/metric\""
   ]
  },
  {
   "cell_type": "code",
   "execution_count": 41,
   "metadata": {
    "Collapsed": "false"
   },
   "outputs": [
    {
     "name": "stderr",
     "output_type": "stream",
     "text": [
      "/anaconda3/lib/python3.6/site-packages/ipykernel_launcher.py:10: FutureWarning: pandas.io.json.json_normalize is deprecated, use pandas.json_normalize instead\n",
      "  # Remove the CWD from sys.path while we load stuff.\n"
     ]
    },
    {
     "data": {
      "text/html": [
       "<div>\n",
       "<style scoped>\n",
       "    .dataframe tbody tr th:only-of-type {\n",
       "        vertical-align: middle;\n",
       "    }\n",
       "\n",
       "    .dataframe tbody tr th {\n",
       "        vertical-align: top;\n",
       "    }\n",
       "\n",
       "    .dataframe thead th {\n",
       "        text-align: right;\n",
       "    }\n",
       "</style>\n",
       "<table border=\"1\" class=\"dataframe\">\n",
       "  <thead>\n",
       "    <tr style=\"text-align: right;\">\n",
       "      <th></th>\n",
       "      <th>metricType</th>\n",
       "      <th>symbol</th>\n",
       "      <th>metric.assetTurnoverAnnual</th>\n",
       "      <th>metric.assetTurnoverTTM</th>\n",
       "      <th>metric.inventoryTurnoverAnnual</th>\n",
       "      <th>metric.inventoryTurnoverTTM</th>\n",
       "      <th>metric.netIncomeEmployeeAnnual</th>\n",
       "      <th>metric.netIncomeEmployeeTTM</th>\n",
       "      <th>metric.receivablesTurnoverAnnual</th>\n",
       "      <th>metric.receivablesTurnoverTTM</th>\n",
       "      <th>...</th>\n",
       "      <th>metric.revenueEmployeeTTM</th>\n",
       "      <th>metric.roaRfy</th>\n",
       "      <th>metric.roaa5Y</th>\n",
       "      <th>metric.roae5Y</th>\n",
       "      <th>metric.roaeTTM</th>\n",
       "      <th>metric.roeRfy</th>\n",
       "      <th>metric.roeTTM</th>\n",
       "      <th>metric.roi5Y</th>\n",
       "      <th>metric.roiAnnual</th>\n",
       "      <th>metric.roiTTM</th>\n",
       "    </tr>\n",
       "  </thead>\n",
       "  <tbody>\n",
       "    <tr>\n",
       "      <th>5</th>\n",
       "      <td>management</td>\n",
       "      <td>MO</td>\n",
       "      <td>0.47952</td>\n",
       "      <td>0.47952</td>\n",
       "      <td>5.36202</td>\n",
       "      <td>5.36202</td>\n",
       "      <td>-155641</td>\n",
       "      <td>-166027</td>\n",
       "      <td>170.816</td>\n",
       "      <td>170.816</td>\n",
       "      <td>...</td>\n",
       "      <td>3439726</td>\n",
       "      <td>-2.31834</td>\n",
       "      <td>14.8161</td>\n",
       "      <td>63.8761</td>\n",
       "      <td>-11.55695</td>\n",
       "      <td>-11.57599</td>\n",
       "      <td>-2.31452</td>\n",
       "      <td>19.2954</td>\n",
       "      <td>-3.22928</td>\n",
       "      <td>-3.22396</td>\n",
       "    </tr>\n",
       "  </tbody>\n",
       "</table>\n",
       "<p>1 rows × 21 columns</p>\n",
       "</div>"
      ],
      "text/plain": [
       "   metricType symbol metric.assetTurnoverAnnual metric.assetTurnoverTTM  \\\n",
       "5  management     MO                    0.47952                 0.47952   \n",
       "\n",
       "  metric.inventoryTurnoverAnnual metric.inventoryTurnoverTTM  \\\n",
       "5                        5.36202                     5.36202   \n",
       "\n",
       "  metric.netIncomeEmployeeAnnual metric.netIncomeEmployeeTTM  \\\n",
       "5                        -155641                     -166027   \n",
       "\n",
       "  metric.receivablesTurnoverAnnual metric.receivablesTurnoverTTM  ...  \\\n",
       "5                          170.816                       170.816  ...   \n",
       "\n",
       "  metric.revenueEmployeeTTM metric.roaRfy  metric.roaa5Y metric.roae5Y  \\\n",
       "5                   3439726      -2.31834        14.8161       63.8761   \n",
       "\n",
       "  metric.roaeTTM  metric.roeRfy  metric.roeTTM  metric.roi5Y metric.roiAnnual  \\\n",
       "5      -11.55695      -11.57599       -2.31452       19.2954         -3.22928   \n",
       "\n",
       "  metric.roiTTM  \n",
       "5      -3.22396  \n",
       "\n",
       "[1 rows x 21 columns]"
      ]
     },
     "execution_count": 41,
     "metadata": {},
     "output_type": "execute_result"
    }
   ],
   "source": [
    "results = []\n",
    "\n",
    "for items in tick:\n",
    "    with rate_limiter:\n",
    "        data = url + metric + ext2.format(items, api_key1)\n",
    "        req = requests.get(data).json()\n",
    "        with open ('backup/mgmt2.py', 'a+') as f:\n",
    "            json.dump(req,f)\n",
    "            results.append(req)\n",
    "            m1 = json_normalize(results)\n",
    "m1.to_csv('data_api/management.csv')\n",
    "m1.sample()"
   ]
  },
  {
   "cell_type": "code",
   "execution_count": 42,
   "metadata": {
    "Collapsed": "false"
   },
   "outputs": [
    {
     "name": "stderr",
     "output_type": "stream",
     "text": [
      "/anaconda3/lib/python3.6/site-packages/ipykernel_launcher.py:10: FutureWarning: pandas.io.json.json_normalize is deprecated, use pandas.json_normalize instead\n",
      "  # Remove the CWD from sys.path while we load stuff.\n"
     ]
    },
    {
     "data": {
      "text/html": [
       "<div>\n",
       "<style scoped>\n",
       "    .dataframe tbody tr th:only-of-type {\n",
       "        vertical-align: middle;\n",
       "    }\n",
       "\n",
       "    .dataframe tbody tr th {\n",
       "        vertical-align: top;\n",
       "    }\n",
       "\n",
       "    .dataframe thead th {\n",
       "        text-align: right;\n",
       "    }\n",
       "</style>\n",
       "<table border=\"1\" class=\"dataframe\">\n",
       "  <thead>\n",
       "    <tr style=\"text-align: right;\">\n",
       "      <th></th>\n",
       "      <th>metricType</th>\n",
       "      <th>symbol</th>\n",
       "      <th>metric.freeOperatingCashFlow/revenue5Y</th>\n",
       "      <th>metric.freeOperatingCashFlow/revenueTTM</th>\n",
       "      <th>metric.grossMargin5Y</th>\n",
       "      <th>metric.grossMarginAnnual</th>\n",
       "      <th>metric.grossMarginTTM</th>\n",
       "      <th>metric.netProfitMargin%Annual</th>\n",
       "      <th>metric.netProfitMargin5Y</th>\n",
       "      <th>metric.netProfitMarginTTM</th>\n",
       "      <th>metric.operatingMargin5Y</th>\n",
       "      <th>metric.operatingMarginAnnual</th>\n",
       "      <th>metric.operatingMarginTTM</th>\n",
       "      <th>metric.pretaxMargin5Y</th>\n",
       "      <th>metric.pretaxMarginAnnual</th>\n",
       "      <th>metric.pretaxMarginTTM</th>\n",
       "    </tr>\n",
       "  </thead>\n",
       "  <tbody>\n",
       "    <tr>\n",
       "      <th>0</th>\n",
       "      <td>margin</td>\n",
       "      <td>AAPL</td>\n",
       "      <td>19.4091</td>\n",
       "      <td>18.63398</td>\n",
       "      <td>38.7182</td>\n",
       "      <td>37.8178</td>\n",
       "      <td>37.9471</td>\n",
       "      <td>21.23809</td>\n",
       "      <td>21.8983</td>\n",
       "      <td>21.49072</td>\n",
       "      <td>27.1868</td>\n",
       "      <td>24.57202</td>\n",
       "      <td>24.71319</td>\n",
       "      <td>27.9499</td>\n",
       "      <td>25.26655</td>\n",
       "      <td>25.30941</td>\n",
       "    </tr>\n",
       "  </tbody>\n",
       "</table>\n",
       "</div>"
      ],
      "text/plain": [
       "  metricType symbol metric.freeOperatingCashFlow/revenue5Y  \\\n",
       "0     margin   AAPL                                19.4091   \n",
       "\n",
       "   metric.freeOperatingCashFlow/revenueTTM metric.grossMargin5Y  \\\n",
       "0                                 18.63398              38.7182   \n",
       "\n",
       "  metric.grossMarginAnnual metric.grossMarginTTM  \\\n",
       "0                  37.8178               37.9471   \n",
       "\n",
       "   metric.netProfitMargin%Annual metric.netProfitMargin5Y  \\\n",
       "0                       21.23809                  21.8983   \n",
       "\n",
       "   metric.netProfitMarginTTM metric.operatingMargin5Y  \\\n",
       "0                   21.49072                  27.1868   \n",
       "\n",
       "   metric.operatingMarginAnnual  metric.operatingMarginTTM  \\\n",
       "0                      24.57202                   24.71319   \n",
       "\n",
       "  metric.pretaxMargin5Y  metric.pretaxMarginAnnual  metric.pretaxMarginTTM  \n",
       "0               27.9499                   25.26655                25.30941  "
      ]
     },
     "execution_count": 42,
     "metadata": {},
     "output_type": "execute_result"
    }
   ],
   "source": [
    "results = []\n",
    "\n",
    "for items in tick: \n",
    "    with rate_limiter:\n",
    "        data = url + metric + ext3.format(items, api_key1)\n",
    "        req = requests.get(data).json()\n",
    "        with open ('backup/margin2.py', 'a+') as f:\n",
    "            json.dump(req,f)\n",
    "        results.append(req)\n",
    "        m2 = json_normalize(results)\n",
    "m2.to_csv('data_api/margin2.csv')\n",
    "m2.sample()"
   ]
  },
  {
   "cell_type": "code",
   "execution_count": 47,
   "metadata": {
    "Collapsed": "false"
   },
   "outputs": [
    {
     "name": "stderr",
     "output_type": "stream",
     "text": [
      "/anaconda3/lib/python3.6/site-packages/ipykernel_launcher.py:10: FutureWarning: pandas.io.json.json_normalize is deprecated, use pandas.json_normalize instead\n",
      "  # Remove the CWD from sys.path while we load stuff.\n"
     ]
    },
    {
     "data": {
      "text/html": [
       "<div>\n",
       "<style scoped>\n",
       "    .dataframe tbody tr th:only-of-type {\n",
       "        vertical-align: middle;\n",
       "    }\n",
       "\n",
       "    .dataframe tbody tr th {\n",
       "        vertical-align: top;\n",
       "    }\n",
       "\n",
       "    .dataframe thead th {\n",
       "        text-align: right;\n",
       "    }\n",
       "</style>\n",
       "<table border=\"1\" class=\"dataframe\">\n",
       "  <thead>\n",
       "    <tr style=\"text-align: right;\">\n",
       "      <th></th>\n",
       "      <th>metricType</th>\n",
       "      <th>symbol</th>\n",
       "      <th>metric.bookValueShareGrowth5Y</th>\n",
       "      <th>metric.capitalSpendingGrowth5Y</th>\n",
       "      <th>metric.dividendGrowthRate5Y</th>\n",
       "      <th>metric.ebitdaCagr5Y</th>\n",
       "      <th>metric.ebitdaInterimCagr5Y</th>\n",
       "      <th>metric.epsGrowth3Y</th>\n",
       "      <th>metric.epsGrowth5Y</th>\n",
       "      <th>metric.epsGrowthQuarterlyYoy</th>\n",
       "      <th>metric.epsGrowthTTMYoy</th>\n",
       "      <th>metric.focfCagr5Y</th>\n",
       "      <th>metric.netMarginGrowth5Y</th>\n",
       "      <th>metric.revenueGrowth3Y</th>\n",
       "      <th>metric.revenueGrowth5Y</th>\n",
       "      <th>metric.revenueGrowthQuarterlyYoy</th>\n",
       "      <th>metric.revenueGrowthTTMYoy</th>\n",
       "      <th>metric.revenueShareGrowth5Y</th>\n",
       "      <th>metric.tbvCagr5Y</th>\n",
       "      <th>metric.totalDebtCagr5Y</th>\n",
       "    </tr>\n",
       "  </thead>\n",
       "  <tbody>\n",
       "    <tr>\n",
       "      <th>4</th>\n",
       "      <td>growth</td>\n",
       "      <td>GOOGL</td>\n",
       "      <td>13.8949</td>\n",
       "      <td>16.4131</td>\n",
       "      <td></td>\n",
       "      <td>17.2445</td>\n",
       "      <td>17.6616</td>\n",
       "      <td>20.8173</td>\n",
       "      <td>19.9201</td>\n",
       "      <td>20.23469</td>\n",
       "      <td>12.541</td>\n",
       "      <td>20.8607</td>\n",
       "      <td>0.55786</td>\n",
       "      <td>21.48595</td>\n",
       "      <td>19.651</td>\n",
       "      <td>17.31083</td>\n",
       "      <td>18.30009</td>\n",
       "      <td>19.2549</td>\n",
       "      <td>16.4113</td>\n",
       "      <td>-2.75616</td>\n",
       "    </tr>\n",
       "  </tbody>\n",
       "</table>\n",
       "</div>"
      ],
      "text/plain": [
       "  metricType symbol metric.bookValueShareGrowth5Y  \\\n",
       "4     growth  GOOGL                       13.8949   \n",
       "\n",
       "  metric.capitalSpendingGrowth5Y metric.dividendGrowthRate5Y  \\\n",
       "4                        16.4131                               \n",
       "\n",
       "  metric.ebitdaCagr5Y metric.ebitdaInterimCagr5Y metric.epsGrowth3Y  \\\n",
       "4             17.2445                    17.6616            20.8173   \n",
       "\n",
       "  metric.epsGrowth5Y  metric.epsGrowthQuarterlyYoy  metric.epsGrowthTTMYoy  \\\n",
       "4            19.9201                      20.23469                  12.541   \n",
       "\n",
       "  metric.focfCagr5Y metric.netMarginGrowth5Y  metric.revenueGrowth3Y  \\\n",
       "4           20.8607                  0.55786                21.48595   \n",
       "\n",
       "  metric.revenueGrowth5Y  metric.revenueGrowthQuarterlyYoy  \\\n",
       "4                 19.651                          17.31083   \n",
       "\n",
       "   metric.revenueGrowthTTMYoy metric.revenueShareGrowth5Y metric.tbvCagr5Y  \\\n",
       "4                    18.30009                     19.2549          16.4113   \n",
       "\n",
       "  metric.totalDebtCagr5Y  \n",
       "4               -2.75616  "
      ]
     },
     "execution_count": 47,
     "metadata": {},
     "output_type": "execute_result"
    }
   ],
   "source": [
    "results = []\n",
    "\n",
    "for items in tick: \n",
    "    with rate_limiter:\n",
    "        data = url + metric + ext4.format(items, api_key1)\n",
    "        req = requests.get(data).json()\n",
    "        with open ('backup/growth2.py', 'a+') as f:\n",
    "            json.dump(req,f)\n",
    "        results.append(req)\n",
    "        m3 = json_normalize(results)\n",
    "m3.to_csv('data_api/growth.csv')\n",
    "m3.sample()"
   ]
  },
  {
   "cell_type": "code",
   "execution_count": 50,
   "metadata": {
    "Collapsed": "false"
   },
   "outputs": [
    {
     "name": "stderr",
     "output_type": "stream",
     "text": [
      "/anaconda3/lib/python3.6/site-packages/ipykernel_launcher.py:10: FutureWarning: pandas.io.json.json_normalize is deprecated, use pandas.json_normalize instead\n",
      "  # Remove the CWD from sys.path while we load stuff.\n"
     ]
    },
    {
     "data": {
      "text/html": [
       "<div>\n",
       "<style scoped>\n",
       "    .dataframe tbody tr th:only-of-type {\n",
       "        vertical-align: middle;\n",
       "    }\n",
       "\n",
       "    .dataframe tbody tr th {\n",
       "        vertical-align: top;\n",
       "    }\n",
       "\n",
       "    .dataframe thead th {\n",
       "        text-align: right;\n",
       "    }\n",
       "</style>\n",
       "<table border=\"1\" class=\"dataframe\">\n",
       "  <thead>\n",
       "    <tr style=\"text-align: right;\">\n",
       "      <th></th>\n",
       "      <th>metricType</th>\n",
       "      <th>symbol</th>\n",
       "      <th>metric.currentEv/freeCashFlowAnnual</th>\n",
       "      <th>metric.currentEv/freeCashFlowTTM</th>\n",
       "      <th>metric.currentRatioAnnual</th>\n",
       "      <th>metric.currentRatioQuarterly</th>\n",
       "      <th>metric.freeCashFlowAnnual</th>\n",
       "      <th>metric.freeCashFlowTTM</th>\n",
       "      <th>metric.longTermDebt/equityAnnual</th>\n",
       "      <th>metric.longTermDebt/equityQuarterly</th>\n",
       "      <th>metric.netInterestCoverageAnnual</th>\n",
       "      <th>metric.netInterestCoverageTTM</th>\n",
       "      <th>metric.payoutRatioAnnual</th>\n",
       "      <th>metric.payoutRatioTTM</th>\n",
       "      <th>metric.quickRatioAnnual</th>\n",
       "      <th>metric.quickRatioQuarterly</th>\n",
       "      <th>metric.totalDebt/totalEquityAnnual</th>\n",
       "      <th>metric.totalDebt/totalEquityQuarterly</th>\n",
       "    </tr>\n",
       "  </thead>\n",
       "  <tbody>\n",
       "    <tr>\n",
       "      <th>1</th>\n",
       "      <td>financialStrength</td>\n",
       "      <td>BAC</td>\n",
       "      <td></td>\n",
       "      <td></td>\n",
       "      <td></td>\n",
       "      <td></td>\n",
       "      <td>55843</td>\n",
       "      <td>55843</td>\n",
       "      <td>81.79525</td>\n",
       "      <td>81.79525</td>\n",
       "      <td></td>\n",
       "      <td></td>\n",
       "      <td>23.6403</td>\n",
       "      <td>23.6403</td>\n",
       "      <td></td>\n",
       "      <td></td>\n",
       "      <td>161.458</td>\n",
       "      <td>161.458</td>\n",
       "    </tr>\n",
       "  </tbody>\n",
       "</table>\n",
       "</div>"
      ],
      "text/plain": [
       "          metricType symbol metric.currentEv/freeCashFlowAnnual  \\\n",
       "1  financialStrength    BAC                                       \n",
       "\n",
       "  metric.currentEv/freeCashFlowTTM metric.currentRatioAnnual  \\\n",
       "1                                                              \n",
       "\n",
       "  metric.currentRatioQuarterly  metric.freeCashFlowAnnual  \\\n",
       "1                                                   55843   \n",
       "\n",
       "   metric.freeCashFlowTTM  metric.longTermDebt/equityAnnual  \\\n",
       "1                   55843                          81.79525   \n",
       "\n",
       "   metric.longTermDebt/equityQuarterly metric.netInterestCoverageAnnual  \\\n",
       "1                             81.79525                                    \n",
       "\n",
       "  metric.netInterestCoverageTTM metric.payoutRatioAnnual  \\\n",
       "1                                                23.6403   \n",
       "\n",
       "  metric.payoutRatioTTM metric.quickRatioAnnual metric.quickRatioQuarterly  \\\n",
       "1               23.6403                                                      \n",
       "\n",
       "   metric.totalDebt/totalEquityAnnual  metric.totalDebt/totalEquityQuarterly  \n",
       "1                             161.458                                161.458  "
      ]
     },
     "execution_count": 50,
     "metadata": {},
     "output_type": "execute_result"
    }
   ],
   "source": [
    "results = []\n",
    "\n",
    "for items in tick: \n",
    "    with rate_limiter:\n",
    "        data = url + metric + ext7.format(items, api_key1)\n",
    "        req = requests.get(data).json()\n",
    "        with open ('backup/financialstrength2.py', 'a+') as f:\n",
    "            json.dump(req,f)\n",
    "        results.append(req)\n",
    "        m6 = json_normalize(results)\n",
    "        m6.dropna(inplace=True)\n",
    "m6.to_csv('data_api/financialstrength.csv')\n",
    "m6.sample()"
   ]
  },
  {
   "cell_type": "code",
   "execution_count": 51,
   "metadata": {
    "Collapsed": "false"
   },
   "outputs": [
    {
     "name": "stderr",
     "output_type": "stream",
     "text": [
      "/anaconda3/lib/python3.6/site-packages/ipykernel_launcher.py:10: FutureWarning: pandas.io.json.json_normalize is deprecated, use pandas.json_normalize instead\n",
      "  # Remove the CWD from sys.path while we load stuff.\n"
     ]
    },
    {
     "data": {
      "text/html": [
       "<div>\n",
       "<style scoped>\n",
       "    .dataframe tbody tr th:only-of-type {\n",
       "        vertical-align: middle;\n",
       "    }\n",
       "\n",
       "    .dataframe tbody tr th {\n",
       "        vertical-align: top;\n",
       "    }\n",
       "\n",
       "    .dataframe thead th {\n",
       "        text-align: right;\n",
       "    }\n",
       "</style>\n",
       "<table border=\"1\" class=\"dataframe\">\n",
       "  <thead>\n",
       "    <tr style=\"text-align: right;\">\n",
       "      <th></th>\n",
       "      <th>metricType</th>\n",
       "      <th>symbol</th>\n",
       "      <th>metric.currentDividendYieldTTM</th>\n",
       "      <th>metric.dividendYield5Y</th>\n",
       "      <th>metric.dividendYieldIndicatedAnnual</th>\n",
       "      <th>metric.netDebtAnnual</th>\n",
       "      <th>metric.netDebtInterim</th>\n",
       "      <th>metric.pbAnnual</th>\n",
       "      <th>metric.pbQuarterly</th>\n",
       "      <th>metric.pcfShareTTM</th>\n",
       "      <th>...</th>\n",
       "      <th>metric.peExclExtraTTM</th>\n",
       "      <th>metric.peExclLowTTM</th>\n",
       "      <th>metric.peInclExtraTTM</th>\n",
       "      <th>metric.peNormalizedAnnual</th>\n",
       "      <th>metric.pfcfShareAnnual</th>\n",
       "      <th>metric.pfcfShareTTM</th>\n",
       "      <th>metric.psAnnual</th>\n",
       "      <th>metric.psTTM</th>\n",
       "      <th>metric.ptbvAnnual</th>\n",
       "      <th>metric.ptbvQuarterly</th>\n",
       "    </tr>\n",
       "  </thead>\n",
       "  <tbody>\n",
       "    <tr>\n",
       "      <th>5</th>\n",
       "      <td>valuation</td>\n",
       "      <td>MO</td>\n",
       "      <td>8.66079</td>\n",
       "      <td>4.39064</td>\n",
       "      <td>8.98156</td>\n",
       "      <td>25925</td>\n",
       "      <td>25925</td>\n",
       "      <td>11.17118</td>\n",
       "      <td>11.17118</td>\n",
       "      <td></td>\n",
       "      <td>...</td>\n",
       "      <td></td>\n",
       "      <td>7.93118</td>\n",
       "      <td></td>\n",
       "      <td>12.5675</td>\n",
       "      <td>45.6778</td>\n",
       "      <td>45.6778</td>\n",
       "      <td>2.76868</td>\n",
       "      <td>2.76868</td>\n",
       "      <td></td>\n",
       "      <td></td>\n",
       "    </tr>\n",
       "  </tbody>\n",
       "</table>\n",
       "<p>1 rows × 23 columns</p>\n",
       "</div>"
      ],
      "text/plain": [
       "  metricType symbol  metric.currentDividendYieldTTM metric.dividendYield5Y  \\\n",
       "5  valuation     MO                         8.66079                4.39064   \n",
       "\n",
       "  metric.dividendYieldIndicatedAnnual  metric.netDebtAnnual  \\\n",
       "5                             8.98156                 25925   \n",
       "\n",
       "   metric.netDebtInterim  metric.pbAnnual  metric.pbQuarterly  \\\n",
       "5                  25925         11.17118            11.17118   \n",
       "\n",
       "  metric.pcfShareTTM  ... metric.peExclExtraTTM metric.peExclLowTTM  \\\n",
       "5                     ...                                   7.93118   \n",
       "\n",
       "  metric.peInclExtraTTM metric.peNormalizedAnnual metric.pfcfShareAnnual  \\\n",
       "5                                         12.5675                45.6778   \n",
       "\n",
       "  metric.pfcfShareTTM metric.psAnnual metric.psTTM metric.ptbvAnnual  \\\n",
       "5             45.6778         2.76868      2.76868                     \n",
       "\n",
       "   metric.ptbvQuarterly  \n",
       "5                        \n",
       "\n",
       "[1 rows x 23 columns]"
      ]
     },
     "execution_count": 51,
     "metadata": {},
     "output_type": "execute_result"
    }
   ],
   "source": [
    "results = []\n",
    "\n",
    "for items in tick: \n",
    "    with rate_limiter:\n",
    "        data = url + metric + ext6.format(items, api_key1)\n",
    "        req = requests.get(data).json()\n",
    "        with open ('backup/valuation2.py', 'a+') as f:\n",
    "            json.dump(req,f)\n",
    "        results.append(req)\n",
    "        m5 = json_normalize(results)\n",
    "        m5.dropna(inplace=True)\n",
    "m5.to_csv('data_api/valuation1.csv')\n",
    "m5.sample()"
   ]
  },
  {
   "cell_type": "markdown",
   "metadata": {
    "Collapsed": "false",
    "toc-hr-collapsed": true
   },
   "source": [
    "# DataSet Construction"
   ]
  },
  {
   "cell_type": "markdown",
   "metadata": {
    "Collapsed": "true"
   },
   "source": [
    "## Dataset:\n",
    "   - findata frame will be used for scaling and modelling purposes"
   ]
  },
  {
   "cell_type": "code",
   "execution_count": 54,
   "metadata": {
    "Collapsed": "false"
   },
   "outputs": [],
   "source": [
    "findata = pd.read_csv('metric_final_set.csv')"
   ]
  },
  {
   "cell_type": "code",
   "execution_count": 55,
   "metadata": {
    "Collapsed": "false"
   },
   "outputs": [],
   "source": [
    "findata.drop(columns = ['Unnamed: 0'] , inplace = True)"
   ]
  },
  {
   "cell_type": "markdown",
   "metadata": {
    "Collapsed": "false"
   },
   "source": [
    "## KNN Imputer to fill Null Values\n",
    "   - We elected KNNImputer to fill in missing values with the rationale that similar companies in terms of ratios would be grouped within the matrix dimensions and provide accurate inputs that would not affect the clustering outcomes. "
   ]
  },
  {
   "cell_type": "code",
   "execution_count": 83,
   "metadata": {
    "Collapsed": "false"
   },
   "outputs": [],
   "source": [
    "X = findata.iloc[:,1:89]\n",
    "y_full = findata.iloc[:,1:89]\n",
    "N_SPLITS = 5\n"
   ]
  },
  {
   "cell_type": "code",
   "execution_count": 60,
   "metadata": {
    "Collapsed": "false"
   },
   "outputs": [],
   "source": [
    "imputer = KNNImputer(n_neighbors = 20)"
   ]
  },
  {
   "cell_type": "code",
   "execution_count": 61,
   "metadata": {
    "Collapsed": "false"
   },
   "outputs": [],
   "source": [
    "comb2 = imputer.fit_transform(X)"
   ]
  },
  {
   "cell_type": "code",
   "execution_count": 62,
   "metadata": {
    "Collapsed": "false"
   },
   "outputs": [
    {
     "data": {
      "text/plain": [
       "array([[7.38880000e-01, 7.49460000e-01, 4.01344600e+01, ...,\n",
       "        1.55768000e+00, 1.19404800e+02, 1.21670700e+02],\n",
       "       [6.29504500e-01, 6.14567000e-01, 9.11558750e+00, ...,\n",
       "        5.24087000e-01, 1.61458000e+02, 1.61458000e+02],\n",
       "       [1.44638000e+00, 1.44637000e+00, 8.78851000e+00, ...,\n",
       "        8.63630000e-01, 6.73799500e+01, 6.73799500e+01],\n",
       "       ...,\n",
       "       [4.59832000e+00, 4.59832000e+00, 9.58863000e+00, ...,\n",
       "        7.07650000e-01, 8.16128100e+01, 8.16128100e+01],\n",
       "       [1.13807000e+00, 1.06326000e+00, 8.13695000e+00, ...,\n",
       "        2.61130000e-01, 8.12866000e+00, 9.46215000e+00],\n",
       "       [4.28800000e-01, 3.46300000e-01, 3.89363545e+01, ...,\n",
       "        9.68392000e-01, 3.36664100e+03, 1.82633639e+03]])"
      ]
     },
     "execution_count": 62,
     "metadata": {},
     "output_type": "execute_result"
    }
   ],
   "source": [
    "comb2"
   ]
  },
  {
   "cell_type": "code",
   "execution_count": 69,
   "metadata": {
    "Collapsed": "false"
   },
   "outputs": [],
   "source": [
    "findata2 = pd.DataFrame(comb2, index = [findata.index, findata.iloc[:,0]], columns = X.columns)\n",
    "findata2.reset_index(inplace = True)\n",
    "findata2.drop(findata2.columns[0], axis = 1, inplace = True)"
   ]
  },
  {
   "cell_type": "markdown",
   "metadata": {
    "Collapsed": "false"
   },
   "source": [
    "#### Clean dataframe with ticker fields - Full Name / Sector / Country / Exchange"
   ]
  },
  {
   "cell_type": "code",
   "execution_count": 81,
   "metadata": {
    "Collapsed": "false"
   },
   "outputs": [],
   "source": [
    "tickers_final = pd.read_csv('tickers_final.csv')\n",
    "tickers_final.drop(columns = ['Unnamed: 0'], inplace = True)"
   ]
  },
  {
   "cell_type": "code",
   "execution_count": 153,
   "metadata": {
    "Collapsed": "false"
   },
   "outputs": [],
   "source": [
    "findata3 = findata2.merge(ticker_final, left_on = 'symbol', right_on = 'Ticker', how = 'left').drop(columns =['Unnamed: 0'])"
   ]
  },
  {
   "cell_type": "code",
   "execution_count": 156,
   "metadata": {
    "Collapsed": "false"
   },
   "outputs": [
    {
     "data": {
      "text/plain": [
       "Index(['symbol', 'metric.assetTurnoverAnnual', 'metric.assetTurnoverTTM',\n",
       "       'metric.inventoryTurnoverAnnual', 'metric.inventoryTurnoverTTM',\n",
       "       'metric.netIncomeEmployeeAnnual', 'metric.netIncomeEmployeeTTM',\n",
       "       'metric.receivablesTurnoverAnnual', 'metric.receivablesTurnoverTTM',\n",
       "       'metric.revenueEmployeeAnnual', 'metric.revenueEmployeeTTM',\n",
       "       'metric.roaRfy', 'metric.roaa5Y', 'metric.roae5Y', 'metric.roaeTTM',\n",
       "       'metric.roeRfy', 'metric.roeTTM', 'metric.roi5Y', 'metric.roiAnnual',\n",
       "       'metric.roiTTM', 'metric.freeOperatingCashFlow/revenue5Y',\n",
       "       'metric.freeOperatingCashFlow/revenueTTM', 'metric.grossMargin5Y',\n",
       "       'metric.grossMarginAnnual', 'metric.grossMarginTTM',\n",
       "       'metric.netProfitMargin%Annual', 'metric.netProfitMargin5Y',\n",
       "       'metric.netProfitMarginTTM', 'metric.operatingMargin5Y',\n",
       "       'metric.operatingMarginAnnual', 'metric.operatingMarginTTM',\n",
       "       'metric.pretaxMargin5Y', 'metric.pretaxMarginAnnual',\n",
       "       'metric.pretaxMarginTTM', 'metric.bookValueShareGrowth5Y',\n",
       "       'metric.capitalSpendingGrowth5Y', 'metric.dividendGrowthRate5Y',\n",
       "       'metric.ebitdaCagr5Y', 'metric.ebitdaInterimCagr5Y',\n",
       "       'metric.epsGrowth3Y', 'metric.epsGrowth5Y',\n",
       "       'metric.epsGrowthQuarterlyYoy', 'metric.epsGrowthTTMYoy',\n",
       "       'metric.focfCagr5Y', 'metric.netMarginGrowth5Y',\n",
       "       'metric.revenueGrowth3Y', 'metric.revenueGrowth5Y',\n",
       "       'metric.revenueGrowthQuarterlyYoy', 'metric.revenueGrowthTTMYoy',\n",
       "       'metric.revenueShareGrowth5Y', 'metric.tbvCagr5Y',\n",
       "       'metric.totalDebtCagr5Y', 'metric.currentDividendYieldTTM',\n",
       "       'metric.dividendYield5Y', 'metric.dividendYieldIndicatedAnnual',\n",
       "       'metric.netDebtAnnual', 'metric.netDebtInterim', 'metric.pbAnnual',\n",
       "       'metric.pbQuarterly', 'metric.pcfShareTTM',\n",
       "       'metric.peBasicExclExtraTTM', 'metric.peExclExtraAnnual',\n",
       "       'metric.peExclExtraHighTTM', 'metric.peExclExtraTTM',\n",
       "       'metric.peExclLowTTM', 'metric.peInclExtraTTM',\n",
       "       'metric.peNormalizedAnnual', 'metric.pfcfShareAnnual',\n",
       "       'metric.pfcfShareTTM', 'metric.psAnnual', 'metric.psTTM',\n",
       "       'metric.ptbvAnnual', 'metric.ptbvQuarterly',\n",
       "       'metric.currentEv/freeCashFlowAnnual',\n",
       "       'metric.currentEv/freeCashFlowTTM', 'metric.currentRatioAnnual',\n",
       "       'metric.currentRatioQuarterly', 'metric.freeCashFlowAnnual',\n",
       "       'metric.freeCashFlowTTM', 'metric.longTermDebt/equityAnnual',\n",
       "       'metric.longTermDebt/equityQuarterly',\n",
       "       'metric.netInterestCoverageAnnual', 'metric.netInterestCoverageTTM',\n",
       "       'metric.payoutRatioAnnual', 'metric.payoutRatioTTM',\n",
       "       'metric.quickRatioAnnual', 'metric.quickRatioQuarterly',\n",
       "       'metric.totalDebt/totalEquityAnnual',\n",
       "       'metric.totalDebt/totalEquityQuarterly', 'Ticker', 'Name', 'Exchange',\n",
       "       'Category Name', 'Country'],\n",
       "      dtype='object')"
      ]
     },
     "execution_count": 156,
     "metadata": {},
     "output_type": "execute_result"
    }
   ],
   "source": [
    "findata3.columns"
   ]
  },
  {
   "cell_type": "markdown",
   "metadata": {
    "Collapsed": "false"
   },
   "source": [
    "## Iterative Imputer & Fancy Impute"
   ]
  },
  {
   "cell_type": "markdown",
   "metadata": {
    "Collapsed": "true"
   },
   "source": [
    "#### IterativeTest"
   ]
  },
  {
   "cell_type": "code",
   "execution_count": 15,
   "metadata": {
    "Collapsed": "false"
   },
   "outputs": [],
   "source": [
    "N_SPLITS = 5\n",
    "rng = np.random.RandomState(0)"
   ]
  },
  {
   "cell_type": "code",
   "execution_count": 16,
   "metadata": {
    "Collapsed": "false"
   },
   "outputs": [],
   "source": [
    "X1 = X.dropna().to_numpy()\n",
    "X_full = X.to_numpy() #taking continuous subset of variables\n",
    "y_full = X['metric.assetTurnoverAnnual'].to_numpy()\n",
    "\n",
    "n_samples, n_features = X_full.shape\n",
    "REGRESSOR = RandomForestRegressor(random_state=0)\n"
   ]
  },
  {
   "cell_type": "code",
   "execution_count": 120,
   "metadata": {
    "Collapsed": "false"
   },
   "outputs": [],
   "source": [
    "imp_mean = IterativeImputer(estimator = dt, random_state=0)"
   ]
  },
  {
   "cell_type": "code",
   "execution_count": 121,
   "metadata": {
    "Collapsed": "false"
   },
   "outputs": [
    {
     "name": "stderr",
     "output_type": "stream",
     "text": [
      "/anaconda3/lib/python3.6/site-packages/sklearn/impute/_iterative.py:638: ConvergenceWarning: [IterativeImputer] Early stopping criterion not reached.\n",
      "  \" reached.\", ConvergenceWarning)\n"
     ]
    },
    {
     "data": {
      "text/plain": [
       "IterativeImputer(add_indicator=False,\n",
       "                 estimator=DecisionTreeRegressor(ccp_alpha=0.0, criterion='mse',\n",
       "                                                 max_depth=None,\n",
       "                                                 max_features=None,\n",
       "                                                 max_leaf_nodes=None,\n",
       "                                                 min_impurity_decrease=0.0,\n",
       "                                                 min_impurity_split=None,\n",
       "                                                 min_samples_leaf=1,\n",
       "                                                 min_samples_split=2,\n",
       "                                                 min_weight_fraction_leaf=0.0,\n",
       "                                                 presort='deprecated',\n",
       "                                                 random_state=None,\n",
       "                                                 splitter='best'),\n",
       "                 imputation_order='ascending', initial_strategy='mean',\n",
       "                 max_iter=10, max_value=None, min_value=None,\n",
       "                 missing_values=nan, n_nearest_features=None, random_state=0,\n",
       "                 sample_posterior=False, skip_complete=False, tol=0.001,\n",
       "                 verbose=0)"
      ]
     },
     "execution_count": 121,
     "metadata": {},
     "output_type": "execute_result"
    }
   ],
   "source": [
    "imp_mean.fit(X_full)"
   ]
  },
  {
   "cell_type": "code",
   "execution_count": 122,
   "metadata": {
    "Collapsed": "false"
   },
   "outputs": [],
   "source": [
    "comb3 = imp_mean.transform(X_full)"
   ]
  },
  {
   "cell_type": "code",
   "execution_count": 123,
   "metadata": {
    "Collapsed": "false"
   },
   "outputs": [],
   "source": [
    "tst1 = pd.DataFrame(comb3, index = [comb1.index, comb1.iloc[:,0]], columns = X.columns)\n"
   ]
  },
  {
   "cell_type": "code",
   "execution_count": 84,
   "metadata": {
    "Collapsed": "false"
   },
   "outputs": [],
   "source": [
    "tst1.reset_index(inplace = True)\n",
    "tst1.drop(tst1.columns[0], axis = 1, inplace = True)\n",
    "tst1.head()"
   ]
  },
  {
   "cell_type": "markdown",
   "metadata": {
    "Collapsed": "true"
   },
   "source": [
    "#### Combination"
   ]
  },
  {
   "cell_type": "markdown",
   "metadata": {
    "Collapsed": "true"
   },
   "source": [
    "##### KNN: \n",
    "\n",
    "- Nearest neighbor imputations which weights samples using the mean squared difference on features for which two rows both have observed data.\n",
    "\n",
    "##### SoftImpute: \n",
    "\n",
    "- Matrix completion by iterative soft thresholding of SVD decompositions. Inspired by the softImpute package for R, which is based on Spectral Regularization Algorithms for Learning Large Incomplete Matrices\n",
    "\n",
    "##### NuclearNormMinimization: \n",
    "\n",
    "- Simple implementation of Exact Matrix Completion via Convex Optimization by Emmanuel Candes and Benjamin Recht using cvxpy. Too slow for large matrices.\n",
    "\n"
   ]
  },
  {
   "cell_type": "code",
   "execution_count": 4,
   "metadata": {
    "Collapsed": "false"
   },
   "outputs": [],
   "source": [
    "from fancyimpute import KNN, NuclearNormMinimization, SoftImpute, BiScaler"
   ]
  },
  {
   "cell_type": "code",
   "execution_count": 21,
   "metadata": {
    "Collapsed": "false"
   },
   "outputs": [],
   "source": [
    "X_filled_knn = KNN(k=3).fit_transform(X_full)\n",
    "X_filled_nnm = NuclearNormMinimization().fit_transform(X_full)\n",
    "X_incomplete_normalized = BiScaler().fit_transform(X_full)\n",
    "X_filled_softimpute = SoftImpute().fit_transform(X_incomplete_normalized)\n",
    "\n"
   ]
  },
  {
   "cell_type": "code",
   "execution_count": 19,
   "metadata": {
    "Collapsed": "false"
   },
   "outputs": [],
   "source": [
    "nnm_mse = ((X_filled_nnm[missing_mask] - X1[missing_mask]) ** 2).mean()\n",
    "print(\"Nuclear norm minimization MSE: %f\" % nnm_mse)\n",
    "\n",
    "softImpute_mse = ((X_filled_softimpute[missing_mask] - X1[missing_mask]) ** 2).mean()\n",
    "print(\"SoftImpute MSE: %f\" % softImpute_mse)\n",
    "\n",
    "knn_mse = ((X_filled_knn[missing_mask] - X1[missing_mask]) ** 2).mean()\n",
    "print(\"knnImpute MSE: %f\" % knn_mse)"
   ]
  },
  {
   "cell_type": "markdown",
   "metadata": {
    "Collapsed": "false"
   },
   "source": [
    "# Dimensionality Reduction Using PCA"
   ]
  },
  {
   "cell_type": "markdown",
   "metadata": {
    "Collapsed": "false"
   },
   "source": [
    "We are able to reduce the dimensions of the dataset using PCA. From the below 96% of the variance is explained by the first 55 principal components."
   ]
  },
  {
   "cell_type": "code",
   "execution_count": 111,
   "metadata": {
    "Collapsed": "false"
   },
   "outputs": [],
   "source": [
    "from sklearn.decomposition import PCA\n",
    "from sklearn.preprocessing import StandardScaler\n",
    "\n",
    "sc = StandardScaler()\n",
    "scaled = sc.fit_transform(comb2)"
   ]
  },
  {
   "cell_type": "code",
   "execution_count": 112,
   "metadata": {
    "Collapsed": "false"
   },
   "outputs": [],
   "source": [
    "pca = PCA(n_components = None)"
   ]
  },
  {
   "cell_type": "code",
   "execution_count": 113,
   "metadata": {
    "Collapsed": "false"
   },
   "outputs": [],
   "source": [
    "XD = pca.fit_transform(scaled)"
   ]
  },
  {
   "cell_type": "code",
   "execution_count": 114,
   "metadata": {
    "Collapsed": "false"
   },
   "outputs": [
    {
     "data": {
      "text/plain": [
       "array([7.74513427e-02, 5.57821106e-02, 4.68660488e-02, 4.60117756e-02,\n",
       "       4.32657384e-02, 3.67766249e-02, 3.52287608e-02, 2.49514759e-02,\n",
       "       2.42997698e-02, 2.37424060e-02, 2.25730917e-02, 2.17961424e-02,\n",
       "       2.14346326e-02, 2.05733422e-02, 2.03688773e-02, 1.97791603e-02,\n",
       "       1.87834895e-02, 1.70929586e-02, 1.58578351e-02, 1.51770714e-02,\n",
       "       1.45033072e-02, 1.38903214e-02, 1.35548929e-02, 1.32834969e-02,\n",
       "       1.28299829e-02, 1.21696030e-02, 1.21542560e-02, 1.18413236e-02,\n",
       "       1.14468427e-02, 1.13979222e-02, 1.13672681e-02, 1.13527358e-02,\n",
       "       1.13399112e-02, 1.11612630e-02, 1.11191548e-02, 1.09200347e-02,\n",
       "       1.06213489e-02, 1.04817140e-02, 1.04257276e-02, 1.02824665e-02,\n",
       "       9.94485183e-03, 9.64057898e-03, 9.13303350e-03, 8.84682127e-03,\n",
       "       8.70538233e-03, 8.52105954e-03, 8.28787851e-03, 7.83414935e-03,\n",
       "       7.74501374e-03, 7.55556554e-03, 7.34822740e-03, 7.25533139e-03,\n",
       "       7.09121012e-03, 6.46965571e-03, 6.16028221e-03, 3.89107515e-03,\n",
       "       3.48453410e-03, 3.44461667e-03, 3.04469307e-03, 2.69072647e-03,\n",
       "       2.63009041e-03, 2.52001693e-03, 2.12310911e-03, 1.70697217e-03,\n",
       "       1.66355511e-03, 1.55501675e-03, 1.22732673e-03, 1.04732441e-03,\n",
       "       9.66287879e-04, 6.20314729e-04, 5.38408075e-04, 4.75790541e-04,\n",
       "       4.49564183e-04, 3.99885077e-04, 3.95178353e-04, 2.34995438e-04,\n",
       "       1.20269110e-04, 1.19572211e-04, 5.75154188e-05, 4.75135927e-05,\n",
       "       1.45366027e-05, 1.44246383e-05, 1.17243339e-05, 7.09377663e-06,\n",
       "       1.52992791e-06, 8.22575840e-07, 2.08260336e-07, 3.88860889e-08])"
      ]
     },
     "execution_count": 114,
     "metadata": {},
     "output_type": "execute_result"
    }
   ],
   "source": [
    "pca.explained_variance_ratio_"
   ]
  },
  {
   "cell_type": "code",
   "execution_count": 115,
   "metadata": {
    "Collapsed": "false"
   },
   "outputs": [
    {
     "data": {
      "text/plain": [
       "88"
      ]
     },
     "execution_count": 115,
     "metadata": {},
     "output_type": "execute_result"
    }
   ],
   "source": [
    "len(pca.explained_variance_ratio_)"
   ]
  },
  {
   "cell_type": "code",
   "execution_count": 116,
   "metadata": {
    "Collapsed": "false"
   },
   "outputs": [
    {
     "data": {
      "text/plain": [
       "<matplotlib.axes._subplots.AxesSubplot at 0x1a1f662a58>"
      ]
     },
     "execution_count": 116,
     "metadata": {},
     "output_type": "execute_result"
    },
    {
     "data": {
      "image/png": "[encoded data removed]",
      "text/plain": [
       "<Figure size 432x288 with 1 Axes>"
      ]
     },
     "metadata": {
      "needs_background": "light"
     },
     "output_type": "display_data"
    }
   ],
   "source": [
    "df = pd.DataFrame(pca.explained_variance_ratio_)\n",
    "df.cumsum().plot()"
   ]
  },
  {
   "cell_type": "code",
   "execution_count": 124,
   "metadata": {
    "Collapsed": "false"
   },
   "outputs": [],
   "source": [
    "pca1 = PCA(n_components = 55)"
   ]
  },
  {
   "cell_type": "code",
   "execution_count": 131,
   "metadata": {
    "Collapsed": "false"
   },
   "outputs": [
    {
     "name": "stdout",
     "output_type": "stream",
     "text": [
      "55 principal components explain: 0.9644952117063538 of the data variance\n"
     ]
    }
   ],
   "source": [
    "XD = pca1.fit_transform(scaled)\n",
    "print('55 principal components explain:', pca1.explained_variance_ratio_.sum(), 'of the data variance')\n"
   ]
  },
  {
   "cell_type": "markdown",
   "metadata": {
    "Collapsed": "false"
   },
   "source": [
    "# Clustering"
   ]
  },
  {
   "cell_type": "code",
   "execution_count": 150,
   "metadata": {
    "Collapsed": "false"
   },
   "outputs": [
    {
     "data": {
      "text/plain": [
       "21983.47355423745"
      ]
     },
     "execution_count": 150,
     "metadata": {},
     "output_type": "execute_result"
    }
   ],
   "source": [
    "from sklearn.cluster import KMeans\n",
    "\n",
    "kmeans = KMeans(n_clusters = 1200, random_state =0).fit(XD)\n",
    "kmeans.inertia_"
   ]
  },
  {
   "cell_type": "code",
   "execution_count": 102,
   "metadata": {
    "Collapsed": "false"
   },
   "outputs": [
    {
     "ename": "AttributeError",
     "evalue": "'DataFrame' object has no attribute 'labels_'",
     "output_type": "error",
     "traceback": [
      "\u001b[0;31m---------------------------------------------------------------------------\u001b[0m",
      "\u001b[0;31mAttributeError\u001b[0m                            Traceback (most recent call last)",
      "\u001b[0;32m<ipython-input-102-d5f67ea12200>\u001b[0m in \u001b[0;36m<module>\u001b[0;34m\u001b[0m\n\u001b[1;32m      1\u001b[0m \u001b[0mfig\u001b[0m\u001b[0;34m,\u001b[0m \u001b[0;34m(\u001b[0m\u001b[0max1\u001b[0m\u001b[0;34m,\u001b[0m \u001b[0max2\u001b[0m\u001b[0;34m)\u001b[0m \u001b[0;34m=\u001b[0m \u001b[0mplt\u001b[0m\u001b[0;34m.\u001b[0m\u001b[0msubplots\u001b[0m\u001b[0;34m(\u001b[0m\u001b[0;36m1\u001b[0m\u001b[0;34m,\u001b[0m\u001b[0;36m2\u001b[0m\u001b[0;34m,\u001b[0m \u001b[0mfigsize\u001b[0m\u001b[0;34m=\u001b[0m\u001b[0;34m(\u001b[0m\u001b[0;36m14\u001b[0m\u001b[0;34m,\u001b[0m\u001b[0;36m5\u001b[0m\u001b[0;34m)\u001b[0m\u001b[0;34m)\u001b[0m\u001b[0;34m\u001b[0m\u001b[0;34m\u001b[0m\u001b[0m\n\u001b[1;32m      2\u001b[0m \u001b[0;34m\u001b[0m\u001b[0m\n\u001b[0;32m----> 3\u001b[0;31m \u001b[0max2\u001b[0m\u001b[0;34m.\u001b[0m\u001b[0mscatter\u001b[0m\u001b[0;34m(\u001b[0m\u001b[0mcomb2\u001b[0m\u001b[0;34m[\u001b[0m\u001b[0;34m:\u001b[0m\u001b[0;34m,\u001b[0m\u001b[0;36m1\u001b[0m\u001b[0;34m]\u001b[0m\u001b[0;34m,\u001b[0m \u001b[0mcomb2\u001b[0m\u001b[0;34m[\u001b[0m\u001b[0;34m:\u001b[0m\u001b[0;34m,\u001b[0m\u001b[0;36m2\u001b[0m\u001b[0;34m]\u001b[0m\u001b[0;34m,\u001b[0m \u001b[0ms\u001b[0m\u001b[0;34m=\u001b[0m\u001b[0;36m40\u001b[0m\u001b[0;34m,\u001b[0m \u001b[0mc\u001b[0m\u001b[0;34m=\u001b[0m\u001b[0mfindata2\u001b[0m\u001b[0;34m.\u001b[0m\u001b[0mlabels_\u001b[0m\u001b[0;34m,\u001b[0m \u001b[0mcmap\u001b[0m\u001b[0;34m=\u001b[0m\u001b[0mplt\u001b[0m\u001b[0;34m.\u001b[0m\u001b[0mcm\u001b[0m\u001b[0;34m.\u001b[0m\u001b[0mprism\u001b[0m\u001b[0;34m)\u001b[0m\u001b[0;34m\u001b[0m\u001b[0;34m\u001b[0m\u001b[0m\n\u001b[0m\u001b[1;32m      4\u001b[0m \u001b[0max2\u001b[0m\u001b[0;34m.\u001b[0m\u001b[0mset_title\u001b[0m\u001b[0;34m(\u001b[0m\u001b[0;34m'K-Means Clustering Results with K=3'\u001b[0m\u001b[0;34m)\u001b[0m\u001b[0;34m\u001b[0m\u001b[0;34m\u001b[0m\u001b[0m\n\u001b[1;32m      5\u001b[0m \u001b[0max2\u001b[0m\u001b[0;34m.\u001b[0m\u001b[0mscatter\u001b[0m\u001b[0;34m(\u001b[0m\u001b[0mkmeans\u001b[0m\u001b[0;34m.\u001b[0m\u001b[0mcluster_centers_\u001b[0m\u001b[0;34m[\u001b[0m\u001b[0;34m:\u001b[0m\u001b[0;34m,\u001b[0m\u001b[0;36m0\u001b[0m\u001b[0;34m]\u001b[0m\u001b[0;34m,\u001b[0m \u001b[0mkmeans\u001b[0m\u001b[0;34m.\u001b[0m\u001b[0mcluster_centers_\u001b[0m\u001b[0;34m[\u001b[0m\u001b[0;34m:\u001b[0m\u001b[0;34m,\u001b[0m\u001b[0;36m1\u001b[0m\u001b[0;34m]\u001b[0m\u001b[0;34m,\u001b[0m \u001b[0mmarker\u001b[0m\u001b[0;34m=\u001b[0m\u001b[0;34m'+'\u001b[0m\u001b[0;34m,\u001b[0m \u001b[0ms\u001b[0m\u001b[0;34m=\u001b[0m\u001b[0;36m100\u001b[0m\u001b[0;34m,\u001b[0m \u001b[0mc\u001b[0m\u001b[0;34m=\u001b[0m\u001b[0;34m'k'\u001b[0m\u001b[0;34m,\u001b[0m \u001b[0mlinewidth\u001b[0m\u001b[0;34m=\u001b[0m\u001b[0;36m2\u001b[0m\u001b[0;34m)\u001b[0m\u001b[0;34m;\u001b[0m\u001b[0;34m\u001b[0m\u001b[0;34m\u001b[0m\u001b[0m\n",
      "\u001b[0;32m/anaconda3/lib/python3.6/site-packages/pandas/core/generic.py\u001b[0m in \u001b[0;36m__getattr__\u001b[0;34m(self, name)\u001b[0m\n\u001b[1;32m   5272\u001b[0m             \u001b[0;32mif\u001b[0m \u001b[0mself\u001b[0m\u001b[0;34m.\u001b[0m\u001b[0m_info_axis\u001b[0m\u001b[0;34m.\u001b[0m\u001b[0m_can_hold_identifiers_and_holds_name\u001b[0m\u001b[0;34m(\u001b[0m\u001b[0mname\u001b[0m\u001b[0;34m)\u001b[0m\u001b[0;34m:\u001b[0m\u001b[0;34m\u001b[0m\u001b[0;34m\u001b[0m\u001b[0m\n\u001b[1;32m   5273\u001b[0m                 \u001b[0;32mreturn\u001b[0m \u001b[0mself\u001b[0m\u001b[0;34m[\u001b[0m\u001b[0mname\u001b[0m\u001b[0;34m]\u001b[0m\u001b[0;34m\u001b[0m\u001b[0;34m\u001b[0m\u001b[0m\n\u001b[0;32m-> 5274\u001b[0;31m             \u001b[0;32mreturn\u001b[0m \u001b[0mobject\u001b[0m\u001b[0;34m.\u001b[0m\u001b[0m__getattribute__\u001b[0m\u001b[0;34m(\u001b[0m\u001b[0mself\u001b[0m\u001b[0;34m,\u001b[0m \u001b[0mname\u001b[0m\u001b[0;34m)\u001b[0m\u001b[0;34m\u001b[0m\u001b[0;34m\u001b[0m\u001b[0m\n\u001b[0m\u001b[1;32m   5275\u001b[0m \u001b[0;34m\u001b[0m\u001b[0m\n\u001b[1;32m   5276\u001b[0m     \u001b[0;32mdef\u001b[0m \u001b[0m__setattr__\u001b[0m\u001b[0;34m(\u001b[0m\u001b[0mself\u001b[0m\u001b[0;34m,\u001b[0m \u001b[0mname\u001b[0m\u001b[0;34m:\u001b[0m \u001b[0mstr\u001b[0m\u001b[0;34m,\u001b[0m \u001b[0mvalue\u001b[0m\u001b[0;34m)\u001b[0m \u001b[0;34m->\u001b[0m \u001b[0;32mNone\u001b[0m\u001b[0;34m:\u001b[0m\u001b[0;34m\u001b[0m\u001b[0;34m\u001b[0m\u001b[0m\n",
      "\u001b[0;31mAttributeError\u001b[0m: 'DataFrame' object has no attribute 'labels_'"
     ]
    },
    {
     "data": {
      "image/png": "[encoded data removed]",
      "text/plain": [
       "<Figure size 1008x360 with 2 Axes>"
      ]
     },
     "metadata": {
      "needs_background": "light"
     },
     "output_type": "display_data"
    }
   ],
   "source": [
    "fig, (ax1, ax2) = plt.subplots(1,2, figsize=(14,5))\n",
    "\n",
    "ax1.scatter(XD[:,0], XD[:,1], s=40, c=km1.labels_, cmap=plt.cm.prism) \n",
    "ax1.set_title('K-Means Clustering Results with K=2')\n",
    "ax1.scatter(kmeans.cluster_centers_[:,0], kmeans.cluster_centers_[:,1], marker='+', s=100, c='k', linewidth=2)\n",
    "\n",
    "ax2.scatter(X[:,0], X[:,1], s=40, c=km2.labels_, cmap=plt.cm.prism) \n",
    "ax2.set_title('K-Means Clustering Results with K=3')\n",
    "ax2.scatter(kmeans.cluster_centers_[:,0], kmeans.cluster_centers_[:,1], marker='+', s=100, c='k', linewidth=2);"
   ]
  },
  {
   "cell_type": "code",
   "execution_count": 140,
   "metadata": {
    "Collapsed": "false"
   },
   "outputs": [
    {
     "data": {
      "text/plain": [
       "<matplotlib.collections.PathCollection at 0x1a27d9ea20>"
      ]
     },
     "execution_count": 140,
     "metadata": {},
     "output_type": "execute_result"
    },
    {
     "data": {
      "image/png": "[encoded data removed]",
      "text/plain": [
       "<Figure size 1440x1440 with 1 Axes>"
      ]
     },
     "metadata": {
      "needs_background": "light"
     },
     "output_type": "display_data"
    }
   ],
   "source": [
    "from sklearn.cluster import AgglomerativeClustering\n",
    "\n",
    "data = findata2.iloc[:,1:89].values\n",
    "\n",
    "cluster = AgglomerativeClustering(n_clusters=50, affinity='euclidean', linkage='ward')\n",
    "cluster.fit_predict(data)\n",
    "plt.figure(figsize=(20, 20))\n",
    "plt.scatter(data[:,0], data[:,55], c=cluster.labels_, cmap='rainbow')"
   ]
  },
  {
   "cell_type": "code",
   "execution_count": null,
   "metadata": {
    "Collapsed": "false"
   },
   "outputs": [],
   "source": []
  },
  {
   "cell_type": "markdown",
   "metadata": {
    "Collapsed": "false"
   },
   "source": [
    "### Elbow Method"
   ]
  },
  {
   "cell_type": "markdown",
   "metadata": {
    "Collapsed": "false"
   },
   "source": [
    "This method indicates that four 3-4 clusters may be able to clear "
   ]
  },
  {
   "cell_type": "code",
   "execution_count": 112,
   "metadata": {
    "Collapsed": "false"
   },
   "outputs": [
    {
     "data": {
      "image/png": "[encoded data removed]",
      "text/plain": [
       "<Figure size 432x432 with 1 Axes>"
      ]
     },
     "metadata": {
      "needs_background": "light"
     },
     "output_type": "display_data"
    }
   ],
   "source": [
    "sse = []\n",
    "list_k = list(range(1, 10))\n",
    "\n",
    "for k in list_k:\n",
    "    km = KMeans(n_clusters=k)\n",
    "    km.fit(comb2)\n",
    "    sse.append(km.inertia_)\n",
    "\n",
    "# Plot sse against k\n",
    "plt.figure(figsize=(6, 6))\n",
    "plt.plot(list_k, sse, '-o')\n",
    "plt.xlabel(r'Number of clusters *k*')\n",
    "plt.ylabel('Sum of squared distance');"
   ]
  },
  {
   "cell_type": "code",
   "execution_count": null,
   "metadata": {
    "Collapsed": "false"
   },
   "outputs": [],
   "source": []
  }
 ],
 "metadata": {
  "kernelspec": {
   "display_name": "Python 3",
   "language": "python",
   "name": "python3"
  },
  "language_info": {
   "codemirror_mode": {
    "name": "ipython",
    "version": 3
   },
   "file_extension": ".py",
   "mimetype": "text/x-python",
   "name": "python",
   "nbconvert_exporter": "python",
   "pygments_lexer": "ipython3",
   "version": "3.6.8"
  },
  "toc-showmarkdowntxt": false,
  "toc-showtags": false
 },
 "nbformat": 4,
 "nbformat_minor": 4
}
