{
 "cells": [
  {
   "cell_type": "code",
   "execution_count": 24,
   "metadata": {
    "Collapsed": "false"
   },
   "outputs": [
    {
     "name": "stdout",
     "output_type": "stream",
     "text": [
      "The autoreload extension is already loaded. To reload it, use:\n",
      "  %reload_ext autoreload\n"
     ]
    }
   ],
   "source": [
    "import websocket\n",
    "import pandas as pd\n",
    "import requests\n",
    "from pandas.io.json import json_normalize\n",
    "import json\n",
    "from code_ref import get_keys\n",
    "from code_ref import findata\n",
    "from code_ref import FinnhubRequestException\n",
    "from code_ref import FinnhubAPIException\n",
    "import time\n",
    "import threading\n",
    "%matplotlib inline\n",
    "%load_ext autoreload\n",
    "%autoreload 2\n",
    "import warnings\n",
    "from ratelimit import limits\n",
    "from ratelimiter import RateLimiter\n",
    "import pandas as pd \n",
    "import seaborn as sns\n",
    "import matplotlib.pyplot as plt\n",
    "import os\n",
    "import glob\n",
    "\n",
    "from sklearn.experimental import enable_iterative_imputer  \n",
    "from sklearn.datasets import fetch_california_housing\n",
    "from sklearn.impute import SimpleImputer\n",
    "from sklearn.impute import IterativeImputer\n",
    "from sklearn.linear_model import BayesianRidge\n",
    "from sklearn.tree import DecisionTreeRegressor\n",
    "from sklearn.ensemble import ExtraTreesRegressor\n",
    "from sklearn.neighbors import KNeighborsRegressor\n",
    "from sklearn.discriminant_analysis import LinearDiscriminantAnalysis\n",
    "from sklearn.pipeline import make_pipeline\n",
    "from sklearn.model_selection import cross_val_score\n",
    "from sklearn.ensemble import RandomForestRegressor\n",
    "from sklearn.impute import KNNImputer\n",
    "from sklearn.model_selection import KFold"
   ]
  },
  {
   "cell_type": "markdown",
   "metadata": {
    "Collapsed": "false"
   },
   "source": [
    "## DataSet Construction"
   ]
  },
  {
   "cell_type": "markdown",
   "metadata": {
    "Collapsed": "false"
   },
   "source": [
    "df = pd.read_csv('data_api/management1.csv')\n",
    "df1 = pd.read_csv('data_api/margin1.csv')\n",
    "df2 = pd.read_csv('data_api/growth1.csv')\n",
    "df3 = pd.read_csv('data_api/valuation1.csv')\n",
    "df4 = pd.read_csv('data_api/financialstrength1.csv')"
   ]
  },
  {
   "cell_type": "code",
   "execution_count": 26,
   "metadata": {
    "Collapsed": "false"
   },
   "outputs": [],
   "source": [
    "df.drop(columns = ['Unnamed: 0'] , inplace = True)\n",
    "df1.drop(columns = ['Unnamed: 0'] , inplace = True)\n",
    "df2.drop(columns = ['Unnamed: 0'] , inplace = True)\n",
    "df3.drop(columns = ['Unnamed: 0'] , inplace = True)\n",
    "df4.drop(columns = ['Unnamed: 0'] , inplace = True)"
   ]
  },
  {
   "cell_type": "code",
   "execution_count": 27,
   "metadata": {
    "Collapsed": "false"
   },
   "outputs": [],
   "source": [
    "df.dropna(subset =['symbol'], inplace = True)\n",
    "df1.dropna(subset =['symbol'], inplace = True)\n",
    "df2.dropna(subset = ['symbol'], inplace = True)\n",
    "df3.dropna(subset = ['symbol'], inplace = True)\n",
    "df4.dropna(subset = ['symbol'], inplace = True)"
   ]
  },
  {
   "cell_type": "code",
   "execution_count": 28,
   "metadata": {
    "Collapsed": "false"
   },
   "outputs": [],
   "source": [
    "comb1 = pd.merge(df, df1, how = 'left', on = 'symbol').merge(df2, how = 'left', on = 'symbol').merge(df3, how = 'left', on = 'symbol').merge(df4, how = 'left', on = 'symbol')"
   ]
  },
  {
   "cell_type": "code",
   "execution_count": 29,
   "metadata": {
    "Collapsed": "false"
   },
   "outputs": [],
   "source": [
    "remove = ['metricType_x', 'metricType_y', 'metricType']"
   ]
  },
  {
   "cell_type": "code",
   "execution_count": 30,
   "metadata": {
    "Collapsed": "false"
   },
   "outputs": [],
   "source": [
    "comb1.drop(columns = remove, inplace = True)"
   ]
  },
  {
   "cell_type": "code",
   "execution_count": 31,
   "metadata": {
    "Collapsed": "false"
   },
   "outputs": [
    {
     "data": {
      "text/plain": [
       "(8831, 89)"
      ]
     },
     "execution_count": 31,
     "metadata": {},
     "output_type": "execute_result"
    }
   ],
   "source": [
    "comb1.shape"
   ]
  },
  {
   "cell_type": "markdown",
   "metadata": {
    "Collapsed": "false"
   },
   "source": [
    "## Testing Iterative Imputer for NaN values"
   ]
  },
  {
   "cell_type": "markdown",
   "metadata": {
    "Collapsed": "false"
   },
   "source": [
    "We elected to go for KNNImputer to fill in missing values with the rationale that similar companies in terms of ratios would be grouped within the matrix dimensions and provide accurate inputs that would not affect the clustering outcomes. "
   ]
  },
  {
   "cell_type": "markdown",
   "metadata": {
    "Collapsed": "false"
   },
   "source": [
    "### KNN to fill Null Values"
   ]
  },
  {
   "cell_type": "code",
   "execution_count": 14,
   "metadata": {
    "Collapsed": "false"
   },
   "outputs": [],
   "source": [
    "X = comb1.iloc[:,1:89]\n",
    "y_full = comb1.iloc[:,1:89]\n",
    "N_SPLITS = 5\n"
   ]
  },
  {
   "cell_type": "code",
   "execution_count": 35,
   "metadata": {
    "Collapsed": "false"
   },
   "outputs": [],
   "source": [
    "imputer = KNNImputer(n_neighbors = 20)"
   ]
  },
  {
   "cell_type": "code",
   "execution_count": 36,
   "metadata": {
    "Collapsed": "false"
   },
   "outputs": [],
   "source": [
    "comb2 = imputer.fit_transform(X)"
   ]
  },
  {
   "cell_type": "code",
   "execution_count": 37,
   "metadata": {
    "Collapsed": "false"
   },
   "outputs": [
    {
     "data": {
      "text/plain": [
       "array([[7.38880000e-01, 7.49460000e-01, 4.01344600e+01, ...,\n",
       "        1.55768000e+00, 1.19404800e+02, 1.21670700e+02],\n",
       "       [6.29504500e-01, 6.14567000e-01, 9.11558750e+00, ...,\n",
       "        5.24087000e-01, 1.61458000e+02, 1.61458000e+02],\n",
       "       [1.44638000e+00, 1.44637000e+00, 8.78851000e+00, ...,\n",
       "        8.63630000e-01, 6.73799500e+01, 6.73799500e+01],\n",
       "       ...,\n",
       "       [4.59832000e+00, 4.59832000e+00, 9.58863000e+00, ...,\n",
       "        7.07650000e-01, 8.16128100e+01, 8.16128100e+01],\n",
       "       [1.13807000e+00, 1.06326000e+00, 8.13695000e+00, ...,\n",
       "        2.61130000e-01, 8.12866000e+00, 9.46215000e+00],\n",
       "       [4.28800000e-01, 3.46300000e-01, 3.89363545e+01, ...,\n",
       "        9.68392000e-01, 3.36664100e+03, 1.82633639e+03]])"
      ]
     },
     "execution_count": 37,
     "metadata": {},
     "output_type": "execute_result"
    }
   ],
   "source": [
    "comb2"
   ]
  },
  {
   "cell_type": "code",
   "execution_count": 38,
   "metadata": {
    "Collapsed": "false"
   },
   "outputs": [],
   "source": [
    "tst = pd.DataFrame(comb2, index = [comb1.index, comb1.iloc[:,0]], columns = X.columns)"
   ]
  },
  {
   "cell_type": "code",
   "execution_count": 39,
   "metadata": {
    "Collapsed": "false"
   },
   "outputs": [],
   "source": [
    "tst.reset_index(inplace = True)"
   ]
  },
  {
   "cell_type": "code",
   "execution_count": 41,
   "metadata": {
    "Collapsed": "false"
   },
   "outputs": [],
   "source": [
    "tst.drop(tst.columns[0], axis = 1, inplace = True)"
   ]
  },
  {
   "cell_type": "code",
   "execution_count": 53,
   "metadata": {
    "Collapsed": "false"
   },
   "outputs": [
    {
     "data": {
      "text/plain": [
       "<matplotlib.axes._subplots.AxesSubplot at 0x1a46373588>"
      ]
     },
     "execution_count": 53,
     "metadata": {},
     "output_type": "execute_result"
    },
    {
     "data": {
      "image/png": "[encoded data removed]",
      "text/plain": [
       "<Figure size 432x288 with 1 Axes>"
      ]
     },
     "metadata": {
      "needs_background": "light"
     },
     "output_type": "display_data"
    }
   ],
   "source": [
    "tst['metric.assetTurnoverAnnual'].cumsum().plot()"
   ]
  },
  {
   "cell_type": "code",
   "execution_count": 105,
   "metadata": {
    "Collapsed": "false"
   },
   "outputs": [
    {
     "data": {
      "text/html": [
       "<div>\n",
       "<style scoped>\n",
       "    .dataframe tbody tr th:only-of-type {\n",
       "        vertical-align: middle;\n",
       "    }\n",
       "\n",
       "    .dataframe tbody tr th {\n",
       "        vertical-align: top;\n",
       "    }\n",
       "\n",
       "    .dataframe thead th {\n",
       "        text-align: right;\n",
       "    }\n",
       "</style>\n",
       "<table border=\"1\" class=\"dataframe\">\n",
       "  <thead>\n",
       "    <tr style=\"text-align: right;\">\n",
       "      <th></th>\n",
       "      <th>symbol</th>\n",
       "      <th>metric.assetTurnoverAnnual</th>\n",
       "      <th>metric.assetTurnoverTTM</th>\n",
       "      <th>metric.inventoryTurnoverAnnual</th>\n",
       "      <th>metric.inventoryTurnoverTTM</th>\n",
       "      <th>metric.netIncomeEmployeeAnnual</th>\n",
       "      <th>metric.netIncomeEmployeeTTM</th>\n",
       "      <th>metric.receivablesTurnoverAnnual</th>\n",
       "      <th>metric.receivablesTurnoverTTM</th>\n",
       "      <th>metric.revenueEmployeeAnnual</th>\n",
       "      <th>...</th>\n",
       "      <th>metric.longTermDebt/equityAnnual</th>\n",
       "      <th>metric.longTermDebt/equityQuarterly</th>\n",
       "      <th>metric.netInterestCoverageAnnual</th>\n",
       "      <th>metric.netInterestCoverageTTM</th>\n",
       "      <th>metric.payoutRatioAnnual</th>\n",
       "      <th>metric.payoutRatioTTM</th>\n",
       "      <th>metric.quickRatioAnnual</th>\n",
       "      <th>metric.quickRatioQuarterly</th>\n",
       "      <th>metric.totalDebt/totalEquityAnnual</th>\n",
       "      <th>metric.totalDebt/totalEquityQuarterly</th>\n",
       "    </tr>\n",
       "  </thead>\n",
       "  <tbody>\n",
       "    <tr>\n",
       "      <th>0</th>\n",
       "      <td>AAPL</td>\n",
       "      <td>0.738880</td>\n",
       "      <td>0.749460</td>\n",
       "      <td>40.134460</td>\n",
       "      <td>36.566870</td>\n",
       "      <td>410825.30</td>\n",
       "      <td>419905.10000</td>\n",
       "      <td>11.284440</td>\n",
       "      <td>13.71081</td>\n",
       "      <td>1934379.0</td>\n",
       "      <td>...</td>\n",
       "      <td>101.45760</td>\n",
       "      <td>104.66210</td>\n",
       "      <td>22.568915</td>\n",
       "      <td>22.538062</td>\n",
       "      <td>25.570070</td>\n",
       "      <td>24.48937</td>\n",
       "      <td>1.501290</td>\n",
       "      <td>1.557680</td>\n",
       "      <td>119.40480</td>\n",
       "      <td>121.67070</td>\n",
       "    </tr>\n",
       "    <tr>\n",
       "      <th>1</th>\n",
       "      <td>BAC</td>\n",
       "      <td>0.629505</td>\n",
       "      <td>0.614567</td>\n",
       "      <td>9.115588</td>\n",
       "      <td>10.783792</td>\n",
       "      <td>133155.30</td>\n",
       "      <td>69181.74465</td>\n",
       "      <td>9.857896</td>\n",
       "      <td>7.81659</td>\n",
       "      <td>442932.0</td>\n",
       "      <td>...</td>\n",
       "      <td>81.79525</td>\n",
       "      <td>81.79525</td>\n",
       "      <td>23.522583</td>\n",
       "      <td>24.086032</td>\n",
       "      <td>23.640280</td>\n",
       "      <td>23.64028</td>\n",
       "      <td>0.524087</td>\n",
       "      <td>0.524087</td>\n",
       "      <td>161.45800</td>\n",
       "      <td>161.45800</td>\n",
       "    </tr>\n",
       "    <tr>\n",
       "      <th>2</th>\n",
       "      <td>AMZN</td>\n",
       "      <td>1.446380</td>\n",
       "      <td>1.446370</td>\n",
       "      <td>8.788510</td>\n",
       "      <td>8.788510</td>\n",
       "      <td>16052.58</td>\n",
       "      <td>14538.85000</td>\n",
       "      <td>15.074940</td>\n",
       "      <td>15.07489</td>\n",
       "      <td>388131.4</td>\n",
       "      <td>...</td>\n",
       "      <td>65.27393</td>\n",
       "      <td>65.27393</td>\n",
       "      <td>18.933590</td>\n",
       "      <td>18.956980</td>\n",
       "      <td>36.943664</td>\n",
       "      <td>0.00000</td>\n",
       "      <td>0.863630</td>\n",
       "      <td>0.863630</td>\n",
       "      <td>67.37995</td>\n",
       "      <td>67.37995</td>\n",
       "    </tr>\n",
       "    <tr>\n",
       "      <th>3</th>\n",
       "      <td>T</td>\n",
       "      <td>0.334450</td>\n",
       "      <td>0.334450</td>\n",
       "      <td>29.863710</td>\n",
       "      <td>6.369177</td>\n",
       "      <td>58268.48</td>\n",
       "      <td>60873.98000</td>\n",
       "      <td>6.973920</td>\n",
       "      <td>6.97392</td>\n",
       "      <td>705031.1</td>\n",
       "      <td>...</td>\n",
       "      <td>82.13450</td>\n",
       "      <td>82.13450</td>\n",
       "      <td>3.773710</td>\n",
       "      <td>3.745440</td>\n",
       "      <td>108.115100</td>\n",
       "      <td>108.11510</td>\n",
       "      <td>0.753100</td>\n",
       "      <td>0.540961</td>\n",
       "      <td>88.56048</td>\n",
       "      <td>88.56048</td>\n",
       "    </tr>\n",
       "    <tr>\n",
       "      <th>4</th>\n",
       "      <td>GOOGL</td>\n",
       "      <td>0.636350</td>\n",
       "      <td>0.636350</td>\n",
       "      <td>68.277300</td>\n",
       "      <td>68.277300</td>\n",
       "      <td>315551.10</td>\n",
       "      <td>288841.80000</td>\n",
       "      <td>7.012260</td>\n",
       "      <td>7.01226</td>\n",
       "      <td>1487178.0</td>\n",
       "      <td>...</td>\n",
       "      <td>2.26070</td>\n",
       "      <td>2.26070</td>\n",
       "      <td>22.451458</td>\n",
       "      <td>23.180339</td>\n",
       "      <td>0.000000</td>\n",
       "      <td>0.00000</td>\n",
       "      <td>3.351960</td>\n",
       "      <td>3.351960</td>\n",
       "      <td>2.26070</td>\n",
       "      <td>2.26070</td>\n",
       "    </tr>\n",
       "  </tbody>\n",
       "</table>\n",
       "<p>5 rows × 89 columns</p>\n",
       "</div>"
      ],
      "text/plain": [
       "  symbol  metric.assetTurnoverAnnual  metric.assetTurnoverTTM  \\\n",
       "0   AAPL                    0.738880                 0.749460   \n",
       "1    BAC                    0.629505                 0.614567   \n",
       "2   AMZN                    1.446380                 1.446370   \n",
       "3      T                    0.334450                 0.334450   \n",
       "4  GOOGL                    0.636350                 0.636350   \n",
       "\n",
       "   metric.inventoryTurnoverAnnual  metric.inventoryTurnoverTTM  \\\n",
       "0                       40.134460                    36.566870   \n",
       "1                        9.115588                    10.783792   \n",
       "2                        8.788510                     8.788510   \n",
       "3                       29.863710                     6.369177   \n",
       "4                       68.277300                    68.277300   \n",
       "\n",
       "   metric.netIncomeEmployeeAnnual  metric.netIncomeEmployeeTTM  \\\n",
       "0                       410825.30                 419905.10000   \n",
       "1                       133155.30                  69181.74465   \n",
       "2                        16052.58                  14538.85000   \n",
       "3                        58268.48                  60873.98000   \n",
       "4                       315551.10                 288841.80000   \n",
       "\n",
       "   metric.receivablesTurnoverAnnual  metric.receivablesTurnoverTTM  \\\n",
       "0                         11.284440                       13.71081   \n",
       "1                          9.857896                        7.81659   \n",
       "2                         15.074940                       15.07489   \n",
       "3                          6.973920                        6.97392   \n",
       "4                          7.012260                        7.01226   \n",
       "\n",
       "   metric.revenueEmployeeAnnual  ...  metric.longTermDebt/equityAnnual  \\\n",
       "0                     1934379.0  ...                         101.45760   \n",
       "1                      442932.0  ...                          81.79525   \n",
       "2                      388131.4  ...                          65.27393   \n",
       "3                      705031.1  ...                          82.13450   \n",
       "4                     1487178.0  ...                           2.26070   \n",
       "\n",
       "   metric.longTermDebt/equityQuarterly  metric.netInterestCoverageAnnual  \\\n",
       "0                            104.66210                         22.568915   \n",
       "1                             81.79525                         23.522583   \n",
       "2                             65.27393                         18.933590   \n",
       "3                             82.13450                          3.773710   \n",
       "4                              2.26070                         22.451458   \n",
       "\n",
       "   metric.netInterestCoverageTTM  metric.payoutRatioAnnual  \\\n",
       "0                      22.538062                 25.570070   \n",
       "1                      24.086032                 23.640280   \n",
       "2                      18.956980                 36.943664   \n",
       "3                       3.745440                108.115100   \n",
       "4                      23.180339                  0.000000   \n",
       "\n",
       "   metric.payoutRatioTTM  metric.quickRatioAnnual  metric.quickRatioQuarterly  \\\n",
       "0               24.48937                 1.501290                    1.557680   \n",
       "1               23.64028                 0.524087                    0.524087   \n",
       "2                0.00000                 0.863630                    0.863630   \n",
       "3              108.11510                 0.753100                    0.540961   \n",
       "4                0.00000                 3.351960                    3.351960   \n",
       "\n",
       "   metric.totalDebt/totalEquityAnnual  metric.totalDebt/totalEquityQuarterly  \n",
       "0                           119.40480                              121.67070  \n",
       "1                           161.45800                              161.45800  \n",
       "2                            67.37995                               67.37995  \n",
       "3                            88.56048                               88.56048  \n",
       "4                             2.26070                                2.26070  \n",
       "\n",
       "[5 rows x 89 columns]"
      ]
     },
     "execution_count": 105,
     "metadata": {},
     "output_type": "execute_result"
    }
   ],
   "source": [
    "tst.head()"
   ]
  },
  {
   "cell_type": "markdown",
   "metadata": {
    "Collapsed": "true"
   },
   "source": [
    "### Iterative Imputer & Fancy Impute"
   ]
  },
  {
   "cell_type": "markdown",
   "metadata": {
    "Collapsed": "false"
   },
   "source": [
    "#### IterativeTest"
   ]
  },
  {
   "cell_type": "code",
   "execution_count": 15,
   "metadata": {
    "Collapsed": "false"
   },
   "outputs": [],
   "source": [
    "N_SPLITS = 5\n",
    "rng = np.random.RandomState(0)"
   ]
  },
  {
   "cell_type": "code",
   "execution_count": 16,
   "metadata": {
    "Collapsed": "false"
   },
   "outputs": [],
   "source": [
    "X1 = X.dropna().to_numpy()\n",
    "X_full = X.to_numpy() #taking continuous subset of variables\n",
    "y_full = X['metric.assetTurnoverAnnual'].to_numpy()\n",
    "\n",
    "n_samples, n_features = X_full.shape\n",
    "REGRESSOR = RandomForestRegressor(random_state=0)\n"
   ]
  },
  {
   "cell_type": "code",
   "execution_count": 120,
   "metadata": {
    "Collapsed": "false"
   },
   "outputs": [],
   "source": [
    "imp_mean = IterativeImputer(estimator = dt, random_state=0)"
   ]
  },
  {
   "cell_type": "code",
   "execution_count": 121,
   "metadata": {
    "Collapsed": "false"
   },
   "outputs": [
    {
     "name": "stderr",
     "output_type": "stream",
     "text": [
      "/anaconda3/lib/python3.6/site-packages/sklearn/impute/_iterative.py:638: ConvergenceWarning: [IterativeImputer] Early stopping criterion not reached.\n",
      "  \" reached.\", ConvergenceWarning)\n"
     ]
    },
    {
     "data": {
      "text/plain": [
       "IterativeImputer(add_indicator=False,\n",
       "                 estimator=DecisionTreeRegressor(ccp_alpha=0.0, criterion='mse',\n",
       "                                                 max_depth=None,\n",
       "                                                 max_features=None,\n",
       "                                                 max_leaf_nodes=None,\n",
       "                                                 min_impurity_decrease=0.0,\n",
       "                                                 min_impurity_split=None,\n",
       "                                                 min_samples_leaf=1,\n",
       "                                                 min_samples_split=2,\n",
       "                                                 min_weight_fraction_leaf=0.0,\n",
       "                                                 presort='deprecated',\n",
       "                                                 random_state=None,\n",
       "                                                 splitter='best'),\n",
       "                 imputation_order='ascending', initial_strategy='mean',\n",
       "                 max_iter=10, max_value=None, min_value=None,\n",
       "                 missing_values=nan, n_nearest_features=None, random_state=0,\n",
       "                 sample_posterior=False, skip_complete=False, tol=0.001,\n",
       "                 verbose=0)"
      ]
     },
     "execution_count": 121,
     "metadata": {},
     "output_type": "execute_result"
    }
   ],
   "source": [
    "imp_mean.fit(X_full)"
   ]
  },
  {
   "cell_type": "code",
   "execution_count": 122,
   "metadata": {
    "Collapsed": "false"
   },
   "outputs": [],
   "source": [
    "comb3 = imp_mean.transform(X_full)"
   ]
  },
  {
   "cell_type": "code",
   "execution_count": 123,
   "metadata": {
    "Collapsed": "false"
   },
   "outputs": [],
   "source": [
    "tst1 = pd.DataFrame(comb3, index = [comb1.index, comb1.iloc[:,0]], columns = X.columns)\n"
   ]
  },
  {
   "cell_type": "code",
   "execution_count": 23,
   "metadata": {
    "Collapsed": "false"
   },
   "outputs": [
    {
     "ename": "NameError",
     "evalue": "name 'tst1' is not defined",
     "output_type": "error",
     "traceback": [
      "\u001b[0;31m---------------------------------------------------------------------------\u001b[0m",
      "\u001b[0;31mNameError\u001b[0m                                 Traceback (most recent call last)",
      "\u001b[0;32m<ipython-input-23-efb169c31ee3>\u001b[0m in \u001b[0;36m<module>\u001b[0;34m\u001b[0m\n\u001b[0;32m----> 1\u001b[0;31m \u001b[0mtst1\u001b[0m\u001b[0;34m.\u001b[0m\u001b[0mreset_index\u001b[0m\u001b[0;34m(\u001b[0m\u001b[0minplace\u001b[0m \u001b[0;34m=\u001b[0m \u001b[0;32mTrue\u001b[0m\u001b[0;34m)\u001b[0m\u001b[0;34m\u001b[0m\u001b[0;34m\u001b[0m\u001b[0m\n\u001b[0m\u001b[1;32m      2\u001b[0m \u001b[0mtst1\u001b[0m\u001b[0;34m.\u001b[0m\u001b[0mdrop\u001b[0m\u001b[0;34m(\u001b[0m\u001b[0mtst1\u001b[0m\u001b[0;34m.\u001b[0m\u001b[0mcolumns\u001b[0m\u001b[0;34m[\u001b[0m\u001b[0;36m0\u001b[0m\u001b[0;34m]\u001b[0m\u001b[0;34m,\u001b[0m \u001b[0maxis\u001b[0m \u001b[0;34m=\u001b[0m \u001b[0;36m1\u001b[0m\u001b[0;34m,\u001b[0m \u001b[0minplace\u001b[0m \u001b[0;34m=\u001b[0m \u001b[0;32mTrue\u001b[0m\u001b[0;34m)\u001b[0m\u001b[0;34m\u001b[0m\u001b[0;34m\u001b[0m\u001b[0m\n\u001b[1;32m      3\u001b[0m \u001b[0mtst1\u001b[0m\u001b[0;34m.\u001b[0m\u001b[0mhead\u001b[0m\u001b[0;34m(\u001b[0m\u001b[0;34m)\u001b[0m\u001b[0;34m\u001b[0m\u001b[0;34m\u001b[0m\u001b[0m\n",
      "\u001b[0;31mNameError\u001b[0m: name 'tst1' is not defined"
     ]
    }
   ],
   "source": [
    "tst1.reset_index(inplace = True)\n",
    "tst1.drop(tst1.columns[0], axis = 1, inplace = True)\n",
    "tst1.head()"
   ]
  },
  {
   "cell_type": "markdown",
   "metadata": {
    "Collapsed": "false"
   },
   "source": [
    "#### Combination"
   ]
  },
  {
   "cell_type": "markdown",
   "metadata": {
    "Collapsed": "false"
   },
   "source": [
    "##### KNN: \n",
    "\n",
    "- Nearest neighbor imputations which weights samples using the mean squared difference on features for which two rows both have observed data.\n",
    "\n",
    "##### SoftImpute: \n",
    "\n",
    "- Matrix completion by iterative soft thresholding of SVD decompositions. Inspired by the softImpute package for R, which is based on Spectral Regularization Algorithms for Learning Large Incomplete Matrices\n",
    "\n",
    "##### NuclearNormMinimization: \n",
    "\n",
    "- Simple implementation of Exact Matrix Completion via Convex Optimization by Emmanuel Candes and Benjamin Recht using cvxpy. Too slow for large matrices.\n",
    "\n"
   ]
  },
  {
   "cell_type": "code",
   "execution_count": 4,
   "metadata": {
    "Collapsed": "false"
   },
   "outputs": [],
   "source": [
    "from fancyimpute import KNN, NuclearNormMinimization, SoftImpute, BiScaler"
   ]
  },
  {
   "cell_type": "code",
   "execution_count": 21,
   "metadata": {
    "Collapsed": "false"
   },
   "outputs": [],
   "source": [
    "# X_filled_knn = KNN(k=3).fit_transform(X_full)\n",
    "# # X_filled_nnm = NuclearNormMinimization().fit_transform(X_full)\n",
    "# X_incomplete_normalized = BiScaler().fit_transform(X_full)\n",
    "# # X_filled_softimpute = SoftImpute().fit_transform(X_incomplete_normalized)\n",
    "\n"
   ]
  },
  {
   "cell_type": "code",
   "execution_count": 19,
   "metadata": {
    "Collapsed": "false"
   },
   "outputs": [],
   "source": [
    "# # nnm_mse = ((X_filled_nnm[missing_mask] - X1[missing_mask]) ** 2).mean()\n",
    "# # print(\"Nuclear norm minimization MSE: %f\" % nnm_mse)\n",
    "\n",
    "# # softImpute_mse = ((X_filled_softimpute[missing_mask] - X1[missing_mask]) ** 2).mean()\n",
    "# # print(\"SoftImpute MSE: %f\" % softImpute_mse)\n",
    "\n",
    "# knn_mse = ((X_filled_knn[missing_mask] - X1[missing_mask]) ** 2).mean()\n",
    "# print(\"knnImpute MSE: %f\" % knn_mse)"
   ]
  },
  {
   "cell_type": "markdown",
   "metadata": {
    "Collapsed": "false"
   },
   "source": [
    "## Dimensionality Reduction Using PCA"
   ]
  },
  {
   "cell_type": "markdown",
   "metadata": {
    "Collapsed": "false"
   },
   "source": [
    "We are able to reduce the dimensions of the dataset using PCA. From the below 96% of the variance is explained by the first 55 principal components."
   ]
  },
  {
   "cell_type": "code",
   "execution_count": 69,
   "metadata": {
    "Collapsed": "false"
   },
   "outputs": [],
   "source": [
    "from sklearn.decomposition import PCA\n",
    "from sklearn.preprocessing import StandardScaler\n",
    "\n",
    "sc = StandardScaler()\n",
    "scaled = sc.fit_transform(comb2)"
   ]
  },
  {
   "cell_type": "code",
   "execution_count": 97,
   "metadata": {
    "Collapsed": "false"
   },
   "outputs": [],
   "source": [
    "pca = PCA(n_components = None)"
   ]
  },
  {
   "cell_type": "code",
   "execution_count": 98,
   "metadata": {
    "Collapsed": "false"
   },
   "outputs": [],
   "source": [
    "X2D = pca.fit_transform(scaled)"
   ]
  },
  {
   "cell_type": "code",
   "execution_count": 99,
   "metadata": {
    "Collapsed": "false"
   },
   "outputs": [
    {
     "data": {
      "text/plain": [
       "0.9999999999999998"
      ]
     },
     "execution_count": 99,
     "metadata": {},
     "output_type": "execute_result"
    }
   ],
   "source": [
    "pca.explained_variance_ratio_.sum()"
   ]
  },
  {
   "cell_type": "code",
   "execution_count": 100,
   "metadata": {
    "Collapsed": "false"
   },
   "outputs": [
    {
     "data": {
      "text/plain": [
       "88"
      ]
     },
     "execution_count": 100,
     "metadata": {},
     "output_type": "execute_result"
    }
   ],
   "source": [
    "len(pca.explained_variance_ratio_)"
   ]
  },
  {
   "cell_type": "code",
   "execution_count": 101,
   "metadata": {
    "Collapsed": "false"
   },
   "outputs": [],
   "source": [
    "df = pd.DataFrame(pca.explained_variance_ratio_)"
   ]
  },
  {
   "cell_type": "markdown",
   "metadata": {
    "Collapsed": "false"
   },
   "source": [
    "## Clustering"
   ]
  },
  {
   "cell_type": "code",
   "execution_count": 113,
   "metadata": {
    "Collapsed": "false"
   },
   "outputs": [
    {
     "data": {
      "text/plain": [
       "KMeans(algorithm='auto', copy_x=True, init='k-means++', max_iter=300,\n",
       "       n_clusters=50, n_init=10, n_jobs=None, precompute_distances='auto',\n",
       "       random_state=0, tol=0.0001, verbose=0)"
      ]
     },
     "execution_count": 113,
     "metadata": {},
     "output_type": "execute_result"
    }
   ],
   "source": [
    "from sklearn.cluster import KMeans\n",
    "\n",
    "kmeans = KMeans(n_clusters = 50, random_state =0).fit(comb2)\n",
    "kmeans"
   ]
  },
  {
   "cell_type": "markdown",
   "metadata": {
    "Collapsed": "false"
   },
   "source": [
    "### Elbow Method"
   ]
  },
  {
   "cell_type": "markdown",
   "metadata": {
    "Collapsed": "false"
   },
   "source": [
    "This method indicates that four 3-4 clusters may be able to clear "
   ]
  },
  {
   "cell_type": "code",
   "execution_count": 112,
   "metadata": {
    "Collapsed": "false"
   },
   "outputs": [
    {
     "data": {
      "image/png": "[encoded data removed]",
      "text/plain": [
       "<Figure size 432x432 with 1 Axes>"
      ]
     },
     "metadata": {
      "needs_background": "light"
     },
     "output_type": "display_data"
    }
   ],
   "source": [
    "sse = []\n",
    "list_k = list(range(1, 10))\n",
    "\n",
    "for k in list_k:\n",
    "    km = KMeans(n_clusters=k)\n",
    "    km.fit(comb2)\n",
    "    sse.append(km.inertia_)\n",
    "\n",
    "# Plot sse against k\n",
    "plt.figure(figsize=(6, 6))\n",
    "plt.plot(list_k, sse, '-o')\n",
    "plt.xlabel(r'Number of clusters *k*')\n",
    "plt.ylabel('Sum of squared distance');"
   ]
  },
  {
   "cell_type": "code",
   "execution_count": null,
   "metadata": {
    "Collapsed": "false"
   },
   "outputs": [],
   "source": []
  }
 ],
 "metadata": {
  "kernelspec": {
   "display_name": "Python 3",
   "language": "python",
   "name": "python3"
  },
  "language_info": {
   "codemirror_mode": {
    "name": "ipython",
    "version": 3
   },
   "file_extension": ".py",
   "mimetype": "text/x-python",
   "name": "python",
   "nbconvert_exporter": "python",
   "pygments_lexer": "ipython3",
   "version": "3.6.8"
  }
 },
 "nbformat": 4,
 "nbformat_minor": 4
}
