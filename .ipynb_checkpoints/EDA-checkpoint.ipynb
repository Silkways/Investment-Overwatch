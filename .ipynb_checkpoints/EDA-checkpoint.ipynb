{
 "cells": [
  {
   "cell_type": "code",
   "execution_count": 19,
   "metadata": {
    "Collapsed": "false"
   },
   "outputs": [],
   "source": [
    "import pandas as pd "
   ]
  },
  {
   "cell_type": "code",
   "execution_count": 20,
   "metadata": {
    "Collapsed": "false"
   },
   "outputs": [],
   "source": [
    "psm = pd.read_csv('pershare.csv')\n",
    "mgmt = pd.read_csv(\"management.csv\")"
   ]
  },
  {
   "cell_type": "code",
   "execution_count": 21,
   "metadata": {
    "Collapsed": "false"
   },
   "outputs": [
    {
     "data": {
      "text/plain": [
       "(3026, 25)"
      ]
     },
     "execution_count": 21,
     "metadata": {},
     "output_type": "execute_result"
    }
   ],
   "source": [
    "psm.shape"
   ]
  },
  {
   "cell_type": "code",
   "execution_count": 22,
   "metadata": {
    "Collapsed": "false"
   },
   "outputs": [
    {
     "data": {
      "text/plain": [
       "(1753, 22)"
      ]
     },
     "execution_count": 22,
     "metadata": {},
     "output_type": "execute_result"
    }
   ],
   "source": [
    "mgmt.shape"
   ]
  },
  {
   "cell_type": "code",
   "execution_count": 23,
   "metadata": {
    "Collapsed": "false"
   },
   "outputs": [],
   "source": [
    "df = pd.merge(psm, mgmt, on ='symbol')"
   ]
  },
  {
   "cell_type": "code",
   "execution_count": 25,
   "metadata": {
    "Collapsed": "false"
   },
   "outputs": [],
   "source": [
    "df.drop(columns =['Unnamed: 0_x', 'Unnamed: 0_y'], inplace = True)"
   ]
  },
  {
   "cell_type": "code",
   "execution_count": 27,
   "metadata": {
    "Collapsed": "false"
   },
   "outputs": [],
   "source": [
    "df.to_csv('preliminarydata.csv')"
   ]
  },
  {
   "cell_type": "code",
   "execution_count": 28,
   "metadata": {
    "Collapsed": "false"
   },
   "outputs": [
    {
     "data": {
      "text/plain": [
       "metricType_x                                   0\n",
       "symbol                                         0\n",
       "metric.bookValuePerShareAnnual               136\n",
       "metric.bookValuePerShareQuarterly            143\n",
       "metric.cashFlowPerShareAnnual                279\n",
       "metric.cashFlowPerShareTTM                   290\n",
       "metric.cashPerSharePerShareAnnual            167\n",
       "metric.cashPerSharePerShareQuarterly         176\n",
       "metric.dividendPerShare5Y                    894\n",
       "metric.dividendPerShareAnnual                812\n",
       "metric.dividendsPerShareTTM                  146\n",
       "metric.ebitdPerShareTTM                      156\n",
       "metric.epsBasicExclExtraItemsAnnual          125\n",
       "metric.epsBasicExclExtraItemsTTM             142\n",
       "metric.epsExclExtraItemsAnnual               125\n",
       "metric.epsExclExtraItemsTTM                  142\n",
       "metric.epsInclExtraItemsAnnual               125\n",
       "metric.epsInclExtraItemsTTM                  142\n",
       "metric.epsNormalizedAnnual                   124\n",
       "metric.freeCashFlowPerShareTTM               211\n",
       "metric.revenuePerShareAnnual                  25\n",
       "metric.revenuePerShareTTM                    144\n",
       "metric.tangibleBookValuePerShareAnnual       136\n",
       "metric.tangibleBookValuePerShareQuarterly    143\n",
       "metricType_y                                   0\n",
       "metric.assetTurnoverAnnual                   407\n",
       "metric.assetTurnoverTTM                      419\n",
       "metric.inventoryTurnoverAnnual               966\n",
       "metric.inventoryTurnoverTTM                  990\n",
       "metric.netIncomeEmployeeAnnual               698\n",
       "metric.netIncomeEmployeeTTM                  886\n",
       "metric.receivablesTurnoverAnnual             582\n",
       "metric.receivablesTurnoverTTM                604\n",
       "metric.revenueEmployeeAnnual                 731\n",
       "metric.revenueEmployeeTTM                    886\n",
       "metric.roaRfy                                143\n",
       "metric.roaa5Y                                187\n",
       "metric.roae5Y                                233\n",
       "metric.roaeTTM                               233\n",
       "metric.roeRfy                                215\n",
       "metric.roeTTM                                155\n",
       "metric.roi5Y                                 494\n",
       "metric.roiAnnual                             464\n",
       "metric.roiTTM                                475\n",
       "dtype: int64"
      ]
     },
     "execution_count": 28,
     "metadata": {},
     "output_type": "execute_result"
    }
   ],
   "source": [
    "df.isnull().sum()"
   ]
  },
  {
   "cell_type": "code",
   "execution_count": null,
   "metadata": {
    "Collapsed": "false"
   },
   "outputs": [],
   "source": []
  }
 ],
 "metadata": {
  "kernelspec": {
   "display_name": "Python 3",
   "language": "python",
   "name": "python3"
  },
  "language_info": {
   "codemirror_mode": {
    "name": "ipython",
    "version": 3
   },
   "file_extension": ".py",
   "mimetype": "text/x-python",
   "name": "python",
   "nbconvert_exporter": "python",
   "pygments_lexer": "ipython3",
   "version": "3.6.8"
  }
 },
 "nbformat": 4,
 "nbformat_minor": 4
}
