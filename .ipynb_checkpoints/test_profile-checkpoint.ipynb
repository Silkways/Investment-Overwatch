{
 "cells": [
  {
   "cell_type": "code",
   "execution_count": 4,
   "metadata": {
    "Collapsed": "false"
   },
   "outputs": [],
   "source": [
    "import websocket\n",
    "import pandas as pd\n",
    "import requests\n"
   ]
  },
  {
   "cell_type": "code",
   "execution_count": 5,
   "metadata": {
    "Collapsed": "false"
   },
   "outputs": [],
   "source": [
    "def get_keys(path):\n",
    "    with open(path) as f:\n",
    "        return json.load(f)"
   ]
  },
  {
   "cell_type": "code",
   "execution_count": 6,
   "metadata": {
    "Collapsed": "false"
   },
   "outputs": [],
   "source": [
    "keys = get_keys(\"/Users/augustingoudet/.secret/code_file\") #Finnhub Key\n",
    "\n",
    "company = \"AI.PA\" #Company Ticker\n",
    "api_key = keys ['finnhub'] #api_key\n",
    "\n",
    "url = \"https://finnhub.io/api/v1/stock/profile?symbol={}&token={}\".format(company, api_key) #url\n",
    "req = requests.get(url)"
   ]
  },
  {
   "cell_type": "code",
   "execution_count": 7,
   "metadata": {
    "Collapsed": "false"
   },
   "outputs": [
    {
     "data": {
      "text/plain": [
       "{'address': '75 Quai D Orsay, Paris Cedex 07',\n",
       " 'city': 'Paris',\n",
       " 'country': 'FR',\n",
       " 'currency': 'EUR',\n",
       " 'cusip': 'F01764103',\n",
       " 'description': 'Air Liquide SA is a France-based gas company, which provides gases-related technologies and services. It operates through three segments: Gas & Services, Engineering & Construction and Global Markets & Technologies. Gas & Services is responsible for operations management and performance monitoring. Engineering & Construction designs, develops and builds industrial gas production plants for the Group and third parties as well as designs and manufactures plants in the traditional, renewable and alternative energy sectors. Global Markets & Technologies focuses on new markets which require a global approach, drawing on science, technologies, development models, and usages related to digital transformation. The Company assist across the world many industries, such as aeronautics, automotive, beverage, chemicals, construction, electronics manufacturing, food and glass, among others.',\n",
       " 'employeeTotal': '66000',\n",
       " 'exchange': 'NYSE EURONEXT - EURONEXT PARIS',\n",
       " 'ggroup': 'Materials',\n",
       " 'gind': 'Chemicals',\n",
       " 'gsector': 'Materials',\n",
       " 'gsubind': 'Industrial Gases',\n",
       " 'ipo': '1913-02-20',\n",
       " 'isin': 'FR0000120073',\n",
       " 'marketCapitalization': 53290.09,\n",
       " 'naics': 'Basic Chemical Manufacturing',\n",
       " 'naicsNationalIndustry': 'Industrial Gas Manufacturing',\n",
       " 'naicsSector': 'Manufacturing',\n",
       " 'naicsSubsector': 'Chemical Manufacturing',\n",
       " 'name': 'Air Liquide SA',\n",
       " 'phone': '33140625555',\n",
       " 'sedol': 'B1YXBJ7',\n",
       " 'shareOutstanding': 473.105514,\n",
       " 'state': 'ILE-DE-FRANCE',\n",
       " 'ticker': 'AI.PA',\n",
       " 'weburl': 'https://www.airliquide.com'}"
      ]
     },
     "execution_count": 7,
     "metadata": {},
     "output_type": "execute_result"
    }
   ],
   "source": [
    "r = req.json()\n",
    "r"
   ]
  },
  {
   "cell_type": "code",
   "execution_count": 8,
   "metadata": {
    "Collapsed": "false"
   },
   "outputs": [],
   "source": [
    "df = pd.DataFrame(r.items(), columns =['Features', 'Value'])"
   ]
  },
  {
   "cell_type": "code",
   "execution_count": 9,
   "metadata": {
    "Collapsed": "false"
   },
   "outputs": [
    {
     "data": {
      "text/html": [
       "<div>\n",
       "<style scoped>\n",
       "    .dataframe tbody tr th:only-of-type {\n",
       "        vertical-align: middle;\n",
       "    }\n",
       "\n",
       "    .dataframe tbody tr th {\n",
       "        vertical-align: top;\n",
       "    }\n",
       "\n",
       "    .dataframe thead th {\n",
       "        text-align: right;\n",
       "    }\n",
       "</style>\n",
       "<table border=\"1\" class=\"dataframe\">\n",
       "  <thead>\n",
       "    <tr style=\"text-align: right;\">\n",
       "      <th></th>\n",
       "      <th>Features</th>\n",
       "      <th>Value</th>\n",
       "    </tr>\n",
       "  </thead>\n",
       "  <tbody>\n",
       "    <tr>\n",
       "      <th>0</th>\n",
       "      <td>address</td>\n",
       "      <td>75 Quai D Orsay, Paris Cedex 07</td>\n",
       "    </tr>\n",
       "    <tr>\n",
       "      <th>1</th>\n",
       "      <td>city</td>\n",
       "      <td>Paris</td>\n",
       "    </tr>\n",
       "    <tr>\n",
       "      <th>2</th>\n",
       "      <td>country</td>\n",
       "      <td>FR</td>\n",
       "    </tr>\n",
       "    <tr>\n",
       "      <th>3</th>\n",
       "      <td>currency</td>\n",
       "      <td>EUR</td>\n",
       "    </tr>\n",
       "    <tr>\n",
       "      <th>4</th>\n",
       "      <td>cusip</td>\n",
       "      <td>F01764103</td>\n",
       "    </tr>\n",
       "    <tr>\n",
       "      <th>5</th>\n",
       "      <td>description</td>\n",
       "      <td>Air Liquide SA is a France-based gas company, ...</td>\n",
       "    </tr>\n",
       "    <tr>\n",
       "      <th>6</th>\n",
       "      <td>employeeTotal</td>\n",
       "      <td>66000</td>\n",
       "    </tr>\n",
       "    <tr>\n",
       "      <th>7</th>\n",
       "      <td>exchange</td>\n",
       "      <td>NYSE EURONEXT - EURONEXT PARIS</td>\n",
       "    </tr>\n",
       "    <tr>\n",
       "      <th>8</th>\n",
       "      <td>ggroup</td>\n",
       "      <td>Materials</td>\n",
       "    </tr>\n",
       "    <tr>\n",
       "      <th>9</th>\n",
       "      <td>gind</td>\n",
       "      <td>Chemicals</td>\n",
       "    </tr>\n",
       "    <tr>\n",
       "      <th>10</th>\n",
       "      <td>gsector</td>\n",
       "      <td>Materials</td>\n",
       "    </tr>\n",
       "    <tr>\n",
       "      <th>11</th>\n",
       "      <td>gsubind</td>\n",
       "      <td>Industrial Gases</td>\n",
       "    </tr>\n",
       "    <tr>\n",
       "      <th>12</th>\n",
       "      <td>ipo</td>\n",
       "      <td>1913-02-20</td>\n",
       "    </tr>\n",
       "    <tr>\n",
       "      <th>13</th>\n",
       "      <td>isin</td>\n",
       "      <td>FR0000120073</td>\n",
       "    </tr>\n",
       "    <tr>\n",
       "      <th>14</th>\n",
       "      <td>marketCapitalization</td>\n",
       "      <td>53290.1</td>\n",
       "    </tr>\n",
       "    <tr>\n",
       "      <th>15</th>\n",
       "      <td>naics</td>\n",
       "      <td>Basic Chemical Manufacturing</td>\n",
       "    </tr>\n",
       "    <tr>\n",
       "      <th>16</th>\n",
       "      <td>naicsNationalIndustry</td>\n",
       "      <td>Industrial Gas Manufacturing</td>\n",
       "    </tr>\n",
       "    <tr>\n",
       "      <th>17</th>\n",
       "      <td>naicsSector</td>\n",
       "      <td>Manufacturing</td>\n",
       "    </tr>\n",
       "    <tr>\n",
       "      <th>18</th>\n",
       "      <td>naicsSubsector</td>\n",
       "      <td>Chemical Manufacturing</td>\n",
       "    </tr>\n",
       "    <tr>\n",
       "      <th>19</th>\n",
       "      <td>name</td>\n",
       "      <td>Air Liquide SA</td>\n",
       "    </tr>\n",
       "    <tr>\n",
       "      <th>20</th>\n",
       "      <td>phone</td>\n",
       "      <td>33140625555</td>\n",
       "    </tr>\n",
       "    <tr>\n",
       "      <th>21</th>\n",
       "      <td>sedol</td>\n",
       "      <td>B1YXBJ7</td>\n",
       "    </tr>\n",
       "    <tr>\n",
       "      <th>22</th>\n",
       "      <td>shareOutstanding</td>\n",
       "      <td>473.106</td>\n",
       "    </tr>\n",
       "    <tr>\n",
       "      <th>23</th>\n",
       "      <td>state</td>\n",
       "      <td>ILE-DE-FRANCE</td>\n",
       "    </tr>\n",
       "    <tr>\n",
       "      <th>24</th>\n",
       "      <td>ticker</td>\n",
       "      <td>AI.PA</td>\n",
       "    </tr>\n",
       "    <tr>\n",
       "      <th>25</th>\n",
       "      <td>weburl</td>\n",
       "      <td>https://www.airliquide.com</td>\n",
       "    </tr>\n",
       "  </tbody>\n",
       "</table>\n",
       "</div>"
      ],
      "text/plain": [
       "                 Features                                              Value\n",
       "0                 address                    75 Quai D Orsay, Paris Cedex 07\n",
       "1                    city                                              Paris\n",
       "2                 country                                                 FR\n",
       "3                currency                                                EUR\n",
       "4                   cusip                                          F01764103\n",
       "5             description  Air Liquide SA is a France-based gas company, ...\n",
       "6           employeeTotal                                              66000\n",
       "7                exchange                     NYSE EURONEXT - EURONEXT PARIS\n",
       "8                  ggroup                                          Materials\n",
       "9                    gind                                          Chemicals\n",
       "10                gsector                                          Materials\n",
       "11                gsubind                                   Industrial Gases\n",
       "12                    ipo                                         1913-02-20\n",
       "13                   isin                                       FR0000120073\n",
       "14   marketCapitalization                                            53290.1\n",
       "15                  naics                       Basic Chemical Manufacturing\n",
       "16  naicsNationalIndustry                       Industrial Gas Manufacturing\n",
       "17            naicsSector                                      Manufacturing\n",
       "18         naicsSubsector                             Chemical Manufacturing\n",
       "19                   name                                     Air Liquide SA\n",
       "20                  phone                                        33140625555\n",
       "21                  sedol                                            B1YXBJ7\n",
       "22       shareOutstanding                                            473.106\n",
       "23                  state                                      ILE-DE-FRANCE\n",
       "24                 ticker                                              AI.PA\n",
       "25                 weburl                         https://www.airliquide.com"
      ]
     },
     "execution_count": 9,
     "metadata": {},
     "output_type": "execute_result"
    }
   ],
   "source": [
    "df"
   ]
  },
  {
   "cell_type": "code",
   "execution_count": null,
   "metadata": {
    "Collapsed": "false"
   },
   "outputs": [],
   "source": [
    "from datapackage import Package\n",
    "\n",
    "package = Package('https://datahub.io/core/s-and-p-500-companies-financials/datapackage.json')\n",
    "\n",
    "# print list of all resources:\n",
    "print(package.resource_names)\n",
    "\n",
    "# print processed tabular data (if exists any)\n",
    "for resource in package.resources:\n",
    "    if resource.descriptor['datahub']['type'] == 'derived/csv':\n",
    "            print(resource.read())"
   ]
  }
 ],
 "metadata": {
  "kernelspec": {
   "display_name": "Python 3",
   "language": "python",
   "name": "python3"
  },
  "language_info": {
   "codemirror_mode": {
    "name": "ipython",
    "version": 3
   },
   "file_extension": ".py",
   "mimetype": "text/x-python",
   "name": "python",
   "nbconvert_exporter": "python",
   "pygments_lexer": "ipython3",
   "version": "3.6.8"
  }
 },
 "nbformat": 4,
 "nbformat_minor": 4
}
