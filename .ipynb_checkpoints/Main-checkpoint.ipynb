{
 "cells": [
  {
   "cell_type": "markdown",
   "metadata": {
    "Collapsed": "false"
   },
   "source": [
    "# Imports"
   ]
  },
  {
   "cell_type": "code",
   "execution_count": 119,
   "metadata": {
    "Collapsed": "false"
   },
   "outputs": [
    {
     "name": "stdout",
     "output_type": "stream",
     "text": [
      "The autoreload extension is already loaded. To reload it, use:\n",
      "  %reload_ext autoreload\n",
      "The autoreload extension is already loaded. To reload it, use:\n",
      "  %reload_ext autoreload\n"
     ]
    }
   ],
   "source": [
    "import websocket\n",
    "import pandas as pd\n",
    "import requests\n",
    "from pandas.io.json import json_normalize\n",
    "import json\n",
    "from code_ref import get_keys\n",
    "from code_ref import findata\n",
    "from code_ref import FinnhubRequestException\n",
    "from code_ref import FinnhubAPIException\n",
    "import time\n",
    "import threading\n",
    "%matplotlib inline\n",
    "%load_ext autoreload\n",
    "%autoreload 2\n",
    "from ratelimit import limits\n",
    "from ratelimiter import RateLimiter\n",
    "import pandas as pd \n",
    "import seaborn as sns\n",
    "import matplotlib.pyplot as plt\n",
    "import os\n",
    "import glob\n",
    "from mpl_toolkits.mplot3d import Axes3D\n",
    "\n",
    "\n",
    "from sklearn.experimental import enable_iterative_imputer  \n",
    "from sklearn.datasets import fetch_california_housing\n",
    "from sklearn.impute import SimpleImputer\n",
    "from sklearn.impute import IterativeImputer\n",
    "from sklearn.linear_model import BayesianRidge\n",
    "from sklearn.tree import DecisionTreeRegressor\n",
    "from sklearn.ensemble import ExtraTreesRegressor\n",
    "from sklearn.neighbors import KNeighborsRegressor\n",
    "from sklearn.discriminant_analysis import LinearDiscriminantAnalysis\n",
    "from sklearn.pipeline import make_pipeline\n",
    "from sklearn.model_selection import cross_val_score\n",
    "from sklearn.ensemble import RandomForestRegressor\n",
    "from sklearn.impute import KNNImputer\n",
    "from sklearn.model_selection import KFold\n",
    "import scipy.cluster.hierarchy as shc\n",
    "from sklearn.metrics import silhouette_score\n",
    "from sklearn.cluster import KMeans, DBSCAN\n",
    "\n",
    "\n",
    "\n",
    "import websocket\n",
    "import pandas as pd\n",
    "import requests\n",
    "from pandas.io.json import json_normalize\n",
    "import json\n",
    "from code_ref import get_keys\n",
    "from code_ref import findata\n",
    "from code_ref import FinnhubRequestException\n",
    "from code_ref import FinnhubAPIException\n",
    "from code_ref import *\n",
    "\n",
    "import time\n",
    "import threading\n",
    "%matplotlib inline\n",
    "%load_ext autoreload\n",
    "%autoreload 2\n",
    "from ratelimit import limits\n",
    "from ratelimiter import RateLimiter\n",
    "import numpy as np"
   ]
  },
  {
   "cell_type": "markdown",
   "metadata": {
    "Collapsed": "true",
    "toc-hr-collapsed": true
   },
   "source": [
    "# Data Collection"
   ]
  },
  {
   "cell_type": "markdown",
   "metadata": {
    "Collapsed": "false"
   },
   "source": [
    "## Ticker List "
   ]
  },
  {
   "cell_type": "code",
   "execution_count": 14,
   "metadata": {
    "Collapsed": "false"
   },
   "outputs": [],
   "source": [
    "tickers = pd.read_csv('Ticker_list_1.csv')\n",
    "tickers.drop(tickers[tickers['Exchange'] == 'PNK'].index, inplace = True)\n",
    "drop = ['Argentina', 'Brazil', 'Estonia', 'Greece', 'Iceland', 'India', 'Indonesia', 'Latvia', 'Lithuania', 'Malaysia', 'Mexico', 'New Zealand', 'Qatar', 'Russia', 'Taiwan', 'Thailand', 'Turkey','China','Switzerland']\n",
    "drop1 = ['MUN', 'STU', 'DUS', 'HAM', 'HAN', 'EUX', 'FRA', \"ENX\", 'BER', 'CNQ', 'VAN', 'IOB', 'KOE', 'PCX', 'OBB']\n",
    "tickers.dropna(subset = ['Country'], inplace = True)"
   ]
  },
  {
   "cell_type": "code",
   "execution_count": 15,
   "metadata": {
    "Collapsed": "false"
   },
   "outputs": [],
   "source": [
    "for values in drop:\n",
    "    tickers.drop(tickers[tickers['Country'] == values].index, inplace = True)\n",
    "for exch in drop1: \n",
    "    tickers.drop(tickers[tickers['Exchange'] == exch].index, inplace = True)"
   ]
  },
  {
   "cell_type": "code",
   "execution_count": 16,
   "metadata": {
    "Collapsed": "false"
   },
   "outputs": [],
   "source": [
    "tickers['Category Name'].fillna(1, inplace = True)\n",
    "drop2 = tickers[ (tickers['Category Name'] == 1)].index\n",
    "tickers.drop(drop2, inplace = True)"
   ]
  },
  {
   "cell_type": "code",
   "execution_count": 20,
   "metadata": {
    "Collapsed": "false"
   },
   "outputs": [
    {
     "data": {
      "text/html": [
       "<div>\n",
       "<style scoped>\n",
       "    .dataframe tbody tr th:only-of-type {\n",
       "        vertical-align: middle;\n",
       "    }\n",
       "\n",
       "    .dataframe tbody tr th {\n",
       "        vertical-align: top;\n",
       "    }\n",
       "\n",
       "    .dataframe thead th {\n",
       "        text-align: right;\n",
       "    }\n",
       "</style>\n",
       "<table border=\"1\" class=\"dataframe\">\n",
       "  <thead>\n",
       "    <tr style=\"text-align: right;\">\n",
       "      <th></th>\n",
       "      <th>Ticker</th>\n",
       "      <th>Name</th>\n",
       "      <th>Exchange</th>\n",
       "      <th>Category Name</th>\n",
       "      <th>Country</th>\n",
       "    </tr>\n",
       "  </thead>\n",
       "  <tbody>\n",
       "    <tr>\n",
       "      <th>2298</th>\n",
       "      <td>EBR</td>\n",
       "      <td>Centrais Elétricas Brasileiras S.A. - Eletrobras</td>\n",
       "      <td>NYQ</td>\n",
       "      <td>Electric Utilities</td>\n",
       "      <td>USA</td>\n",
       "    </tr>\n",
       "  </tbody>\n",
       "</table>\n",
       "</div>"
      ],
      "text/plain": [
       "     Ticker                                              Name Exchange  \\\n",
       "2298    EBR  Centrais Elétricas Brasileiras S.A. - Eletrobras      NYQ   \n",
       "\n",
       "           Category Name Country  \n",
       "2298  Electric Utilities     USA  "
      ]
     },
     "execution_count": 20,
     "metadata": {},
     "output_type": "execute_result"
    }
   ],
   "source": [
    "tickers.drop_duplicates(subset = 'Name', keep = 'first', inplace = True)\n",
    "tickers.sample()"
   ]
  },
  {
   "cell_type": "code",
   "execution_count": 71,
   "metadata": {
    "Collapsed": "false"
   },
   "outputs": [],
   "source": [
    "tickers.to_csv('tickers_final.csv')"
   ]
  },
  {
   "cell_type": "code",
   "execution_count": 29,
   "metadata": {
    "Collapsed": "false"
   },
   "outputs": [],
   "source": [
    "tick = list(tickers.Ticker[:10])"
   ]
  },
  {
   "cell_type": "markdown",
   "metadata": {
    "Collapsed": "false"
   },
   "source": [
    "## Financial Metric Collection"
   ]
  },
  {
   "cell_type": "code",
   "execution_count": 33,
   "metadata": {
    "Collapsed": "false"
   },
   "outputs": [],
   "source": [
    "keys = get_keys(\"/Users/augustingoudet/.secret/code_file\") #Finnhub Key\n",
    "api_key1 = keys ['finnhub'] #api_key\n",
    "query = findata(api_key = api_key1)\n",
    "rate_limiter = RateLimiter(max_calls=45, period=60)"
   ]
  },
  {
   "cell_type": "code",
   "execution_count": 36,
   "metadata": {
    "Collapsed": "false"
   },
   "outputs": [],
   "source": [
    "url = \"https://finnhub.io/api/v1/\"\n",
    "ext1 = \"?symbol={}&token={}\"\n",
    "ext2 = \"?symbol={}&metric=management&token={}\"\n",
    "ext3 = \"?symbol={}&metric=margin&token={}\"\n",
    "ext4 = \"?symbol={}&metric=growth&token={}\"\n",
    "ext5 = \"?symbol={}&metric=price&token={}\"\n",
    "ext6 = \"?symbol={}&metric=valuation&token={}\"\n",
    "ext7 = \"?symbol={}&metric=financialStrength&token={}\"\n",
    "ext8 = \"?symbol={}&metric=perShare&token={}\"\n",
    "metric= \"stock/metric\""
   ]
  },
  {
   "cell_type": "code",
   "execution_count": 41,
   "metadata": {
    "Collapsed": "false"
   },
   "outputs": [
    {
     "name": "stderr",
     "output_type": "stream",
     "text": [
      "/anaconda3/lib/python3.6/site-packages/ipykernel_launcher.py:10: FutureWarning: pandas.io.json.json_normalize is deprecated, use pandas.json_normalize instead\n",
      "  # Remove the CWD from sys.path while we load stuff.\n"
     ]
    },
    {
     "data": {
      "text/html": [
       "<div>\n",
       "<style scoped>\n",
       "    .dataframe tbody tr th:only-of-type {\n",
       "        vertical-align: middle;\n",
       "    }\n",
       "\n",
       "    .dataframe tbody tr th {\n",
       "        vertical-align: top;\n",
       "    }\n",
       "\n",
       "    .dataframe thead th {\n",
       "        text-align: right;\n",
       "    }\n",
       "</style>\n",
       "<table border=\"1\" class=\"dataframe\">\n",
       "  <thead>\n",
       "    <tr style=\"text-align: right;\">\n",
       "      <th></th>\n",
       "      <th>metricType</th>\n",
       "      <th>symbol</th>\n",
       "      <th>metric.assetTurnoverAnnual</th>\n",
       "      <th>metric.assetTurnoverTTM</th>\n",
       "      <th>metric.inventoryTurnoverAnnual</th>\n",
       "      <th>metric.inventoryTurnoverTTM</th>\n",
       "      <th>metric.netIncomeEmployeeAnnual</th>\n",
       "      <th>metric.netIncomeEmployeeTTM</th>\n",
       "      <th>metric.receivablesTurnoverAnnual</th>\n",
       "      <th>metric.receivablesTurnoverTTM</th>\n",
       "      <th>...</th>\n",
       "      <th>metric.revenueEmployeeTTM</th>\n",
       "      <th>metric.roaRfy</th>\n",
       "      <th>metric.roaa5Y</th>\n",
       "      <th>metric.roae5Y</th>\n",
       "      <th>metric.roaeTTM</th>\n",
       "      <th>metric.roeRfy</th>\n",
       "      <th>metric.roeTTM</th>\n",
       "      <th>metric.roi5Y</th>\n",
       "      <th>metric.roiAnnual</th>\n",
       "      <th>metric.roiTTM</th>\n",
       "    </tr>\n",
       "  </thead>\n",
       "  <tbody>\n",
       "    <tr>\n",
       "      <th>5</th>\n",
       "      <td>management</td>\n",
       "      <td>MO</td>\n",
       "      <td>0.47952</td>\n",
       "      <td>0.47952</td>\n",
       "      <td>5.36202</td>\n",
       "      <td>5.36202</td>\n",
       "      <td>-155641</td>\n",
       "      <td>-166027</td>\n",
       "      <td>170.816</td>\n",
       "      <td>170.816</td>\n",
       "      <td>...</td>\n",
       "      <td>3439726</td>\n",
       "      <td>-2.31834</td>\n",
       "      <td>14.8161</td>\n",
       "      <td>63.8761</td>\n",
       "      <td>-11.55695</td>\n",
       "      <td>-11.57599</td>\n",
       "      <td>-2.31452</td>\n",
       "      <td>19.2954</td>\n",
       "      <td>-3.22928</td>\n",
       "      <td>-3.22396</td>\n",
       "    </tr>\n",
       "  </tbody>\n",
       "</table>\n",
       "<p>1 rows × 21 columns</p>\n",
       "</div>"
      ],
      "text/plain": [
       "   metricType symbol metric.assetTurnoverAnnual metric.assetTurnoverTTM  \\\n",
       "5  management     MO                    0.47952                 0.47952   \n",
       "\n",
       "  metric.inventoryTurnoverAnnual metric.inventoryTurnoverTTM  \\\n",
       "5                        5.36202                     5.36202   \n",
       "\n",
       "  metric.netIncomeEmployeeAnnual metric.netIncomeEmployeeTTM  \\\n",
       "5                        -155641                     -166027   \n",
       "\n",
       "  metric.receivablesTurnoverAnnual metric.receivablesTurnoverTTM  ...  \\\n",
       "5                          170.816                       170.816  ...   \n",
       "\n",
       "  metric.revenueEmployeeTTM metric.roaRfy  metric.roaa5Y metric.roae5Y  \\\n",
       "5                   3439726      -2.31834        14.8161       63.8761   \n",
       "\n",
       "  metric.roaeTTM  metric.roeRfy  metric.roeTTM  metric.roi5Y metric.roiAnnual  \\\n",
       "5      -11.55695      -11.57599       -2.31452       19.2954         -3.22928   \n",
       "\n",
       "  metric.roiTTM  \n",
       "5      -3.22396  \n",
       "\n",
       "[1 rows x 21 columns]"
      ]
     },
     "execution_count": 41,
     "metadata": {},
     "output_type": "execute_result"
    }
   ],
   "source": [
    "results = []\n",
    "\n",
    "for items in tick:\n",
    "    with rate_limiter:\n",
    "        data = url + metric + ext2.format(items, api_key1)\n",
    "        req = requests.get(data).json()\n",
    "        with open ('backup/mgmt2.py', 'a+') as f:\n",
    "            json.dump(req,f)\n",
    "            results.append(req)\n",
    "            m1 = json_normalize(results)\n",
    "m1.to_csv('data_api/management.csv')\n",
    "m1.sample()"
   ]
  },
  {
   "cell_type": "code",
   "execution_count": 42,
   "metadata": {
    "Collapsed": "false"
   },
   "outputs": [
    {
     "name": "stderr",
     "output_type": "stream",
     "text": [
      "/anaconda3/lib/python3.6/site-packages/ipykernel_launcher.py:10: FutureWarning: pandas.io.json.json_normalize is deprecated, use pandas.json_normalize instead\n",
      "  # Remove the CWD from sys.path while we load stuff.\n"
     ]
    },
    {
     "data": {
      "text/html": [
       "<div>\n",
       "<style scoped>\n",
       "    .dataframe tbody tr th:only-of-type {\n",
       "        vertical-align: middle;\n",
       "    }\n",
       "\n",
       "    .dataframe tbody tr th {\n",
       "        vertical-align: top;\n",
       "    }\n",
       "\n",
       "    .dataframe thead th {\n",
       "        text-align: right;\n",
       "    }\n",
       "</style>\n",
       "<table border=\"1\" class=\"dataframe\">\n",
       "  <thead>\n",
       "    <tr style=\"text-align: right;\">\n",
       "      <th></th>\n",
       "      <th>metricType</th>\n",
       "      <th>symbol</th>\n",
       "      <th>metric.freeOperatingCashFlow/revenue5Y</th>\n",
       "      <th>metric.freeOperatingCashFlow/revenueTTM</th>\n",
       "      <th>metric.grossMargin5Y</th>\n",
       "      <th>metric.grossMarginAnnual</th>\n",
       "      <th>metric.grossMarginTTM</th>\n",
       "      <th>metric.netProfitMargin%Annual</th>\n",
       "      <th>metric.netProfitMargin5Y</th>\n",
       "      <th>metric.netProfitMarginTTM</th>\n",
       "      <th>metric.operatingMargin5Y</th>\n",
       "      <th>metric.operatingMarginAnnual</th>\n",
       "      <th>metric.operatingMarginTTM</th>\n",
       "      <th>metric.pretaxMargin5Y</th>\n",
       "      <th>metric.pretaxMarginAnnual</th>\n",
       "      <th>metric.pretaxMarginTTM</th>\n",
       "    </tr>\n",
       "  </thead>\n",
       "  <tbody>\n",
       "    <tr>\n",
       "      <th>0</th>\n",
       "      <td>margin</td>\n",
       "      <td>AAPL</td>\n",
       "      <td>19.4091</td>\n",
       "      <td>18.63398</td>\n",
       "      <td>38.7182</td>\n",
       "      <td>37.8178</td>\n",
       "      <td>37.9471</td>\n",
       "      <td>21.23809</td>\n",
       "      <td>21.8983</td>\n",
       "      <td>21.49072</td>\n",
       "      <td>27.1868</td>\n",
       "      <td>24.57202</td>\n",
       "      <td>24.71319</td>\n",
       "      <td>27.9499</td>\n",
       "      <td>25.26655</td>\n",
       "      <td>25.30941</td>\n",
       "    </tr>\n",
       "  </tbody>\n",
       "</table>\n",
       "</div>"
      ],
      "text/plain": [
       "  metricType symbol metric.freeOperatingCashFlow/revenue5Y  \\\n",
       "0     margin   AAPL                                19.4091   \n",
       "\n",
       "   metric.freeOperatingCashFlow/revenueTTM metric.grossMargin5Y  \\\n",
       "0                                 18.63398              38.7182   \n",
       "\n",
       "  metric.grossMarginAnnual metric.grossMarginTTM  \\\n",
       "0                  37.8178               37.9471   \n",
       "\n",
       "   metric.netProfitMargin%Annual metric.netProfitMargin5Y  \\\n",
       "0                       21.23809                  21.8983   \n",
       "\n",
       "   metric.netProfitMarginTTM metric.operatingMargin5Y  \\\n",
       "0                   21.49072                  27.1868   \n",
       "\n",
       "   metric.operatingMarginAnnual  metric.operatingMarginTTM  \\\n",
       "0                      24.57202                   24.71319   \n",
       "\n",
       "  metric.pretaxMargin5Y  metric.pretaxMarginAnnual  metric.pretaxMarginTTM  \n",
       "0               27.9499                   25.26655                25.30941  "
      ]
     },
     "execution_count": 42,
     "metadata": {},
     "output_type": "execute_result"
    }
   ],
   "source": [
    "results = []\n",
    "\n",
    "for items in tick: \n",
    "    with rate_limiter:\n",
    "        data = url + metric + ext3.format(items, api_key1)\n",
    "        req = requests.get(data).json()\n",
    "        with open ('backup/margin2.py', 'a+') as f:\n",
    "            json.dump(req,f)\n",
    "        results.append(req)\n",
    "        m2 = json_normalize(results)\n",
    "m2.to_csv('data_api/margin2.csv')\n",
    "m2.sample()"
   ]
  },
  {
   "cell_type": "code",
   "execution_count": 47,
   "metadata": {
    "Collapsed": "false"
   },
   "outputs": [
    {
     "name": "stderr",
     "output_type": "stream",
     "text": [
      "/anaconda3/lib/python3.6/site-packages/ipykernel_launcher.py:10: FutureWarning: pandas.io.json.json_normalize is deprecated, use pandas.json_normalize instead\n",
      "  # Remove the CWD from sys.path while we load stuff.\n"
     ]
    },
    {
     "data": {
      "text/html": [
       "<div>\n",
       "<style scoped>\n",
       "    .dataframe tbody tr th:only-of-type {\n",
       "        vertical-align: middle;\n",
       "    }\n",
       "\n",
       "    .dataframe tbody tr th {\n",
       "        vertical-align: top;\n",
       "    }\n",
       "\n",
       "    .dataframe thead th {\n",
       "        text-align: right;\n",
       "    }\n",
       "</style>\n",
       "<table border=\"1\" class=\"dataframe\">\n",
       "  <thead>\n",
       "    <tr style=\"text-align: right;\">\n",
       "      <th></th>\n",
       "      <th>metricType</th>\n",
       "      <th>symbol</th>\n",
       "      <th>metric.bookValueShareGrowth5Y</th>\n",
       "      <th>metric.capitalSpendingGrowth5Y</th>\n",
       "      <th>metric.dividendGrowthRate5Y</th>\n",
       "      <th>metric.ebitdaCagr5Y</th>\n",
       "      <th>metric.ebitdaInterimCagr5Y</th>\n",
       "      <th>metric.epsGrowth3Y</th>\n",
       "      <th>metric.epsGrowth5Y</th>\n",
       "      <th>metric.epsGrowthQuarterlyYoy</th>\n",
       "      <th>metric.epsGrowthTTMYoy</th>\n",
       "      <th>metric.focfCagr5Y</th>\n",
       "      <th>metric.netMarginGrowth5Y</th>\n",
       "      <th>metric.revenueGrowth3Y</th>\n",
       "      <th>metric.revenueGrowth5Y</th>\n",
       "      <th>metric.revenueGrowthQuarterlyYoy</th>\n",
       "      <th>metric.revenueGrowthTTMYoy</th>\n",
       "      <th>metric.revenueShareGrowth5Y</th>\n",
       "      <th>metric.tbvCagr5Y</th>\n",
       "      <th>metric.totalDebtCagr5Y</th>\n",
       "    </tr>\n",
       "  </thead>\n",
       "  <tbody>\n",
       "    <tr>\n",
       "      <th>4</th>\n",
       "      <td>growth</td>\n",
       "      <td>GOOGL</td>\n",
       "      <td>13.8949</td>\n",
       "      <td>16.4131</td>\n",
       "      <td></td>\n",
       "      <td>17.2445</td>\n",
       "      <td>17.6616</td>\n",
       "      <td>20.8173</td>\n",
       "      <td>19.9201</td>\n",
       "      <td>20.23469</td>\n",
       "      <td>12.541</td>\n",
       "      <td>20.8607</td>\n",
       "      <td>0.55786</td>\n",
       "      <td>21.48595</td>\n",
       "      <td>19.651</td>\n",
       "      <td>17.31083</td>\n",
       "      <td>18.30009</td>\n",
       "      <td>19.2549</td>\n",
       "      <td>16.4113</td>\n",
       "      <td>-2.75616</td>\n",
       "    </tr>\n",
       "  </tbody>\n",
       "</table>\n",
       "</div>"
      ],
      "text/plain": [
       "  metricType symbol metric.bookValueShareGrowth5Y  \\\n",
       "4     growth  GOOGL                       13.8949   \n",
       "\n",
       "  metric.capitalSpendingGrowth5Y metric.dividendGrowthRate5Y  \\\n",
       "4                        16.4131                               \n",
       "\n",
       "  metric.ebitdaCagr5Y metric.ebitdaInterimCagr5Y metric.epsGrowth3Y  \\\n",
       "4             17.2445                    17.6616            20.8173   \n",
       "\n",
       "  metric.epsGrowth5Y  metric.epsGrowthQuarterlyYoy  metric.epsGrowthTTMYoy  \\\n",
       "4            19.9201                      20.23469                  12.541   \n",
       "\n",
       "  metric.focfCagr5Y metric.netMarginGrowth5Y  metric.revenueGrowth3Y  \\\n",
       "4           20.8607                  0.55786                21.48595   \n",
       "\n",
       "  metric.revenueGrowth5Y  metric.revenueGrowthQuarterlyYoy  \\\n",
       "4                 19.651                          17.31083   \n",
       "\n",
       "   metric.revenueGrowthTTMYoy metric.revenueShareGrowth5Y metric.tbvCagr5Y  \\\n",
       "4                    18.30009                     19.2549          16.4113   \n",
       "\n",
       "  metric.totalDebtCagr5Y  \n",
       "4               -2.75616  "
      ]
     },
     "execution_count": 47,
     "metadata": {},
     "output_type": "execute_result"
    }
   ],
   "source": [
    "results = []\n",
    "\n",
    "for items in tick: \n",
    "    with rate_limiter:\n",
    "        data = url + metric + ext4.format(items, api_key1)\n",
    "        req = requests.get(data).json()\n",
    "        with open ('backup/growth2.py', 'a+') as f:\n",
    "            json.dump(req,f)\n",
    "        results.append(req)\n",
    "        m3 = json_normalize(results)\n",
    "m3.to_csv('data_api/growth.csv')\n",
    "m3.sample()"
   ]
  },
  {
   "cell_type": "code",
   "execution_count": 50,
   "metadata": {
    "Collapsed": "false"
   },
   "outputs": [
    {
     "name": "stderr",
     "output_type": "stream",
     "text": [
      "/anaconda3/lib/python3.6/site-packages/ipykernel_launcher.py:10: FutureWarning: pandas.io.json.json_normalize is deprecated, use pandas.json_normalize instead\n",
      "  # Remove the CWD from sys.path while we load stuff.\n"
     ]
    },
    {
     "data": {
      "text/html": [
       "<div>\n",
       "<style scoped>\n",
       "    .dataframe tbody tr th:only-of-type {\n",
       "        vertical-align: middle;\n",
       "    }\n",
       "\n",
       "    .dataframe tbody tr th {\n",
       "        vertical-align: top;\n",
       "    }\n",
       "\n",
       "    .dataframe thead th {\n",
       "        text-align: right;\n",
       "    }\n",
       "</style>\n",
       "<table border=\"1\" class=\"dataframe\">\n",
       "  <thead>\n",
       "    <tr style=\"text-align: right;\">\n",
       "      <th></th>\n",
       "      <th>metricType</th>\n",
       "      <th>symbol</th>\n",
       "      <th>metric.currentEv/freeCashFlowAnnual</th>\n",
       "      <th>metric.currentEv/freeCashFlowTTM</th>\n",
       "      <th>metric.currentRatioAnnual</th>\n",
       "      <th>metric.currentRatioQuarterly</th>\n",
       "      <th>metric.freeCashFlowAnnual</th>\n",
       "      <th>metric.freeCashFlowTTM</th>\n",
       "      <th>metric.longTermDebt/equityAnnual</th>\n",
       "      <th>metric.longTermDebt/equityQuarterly</th>\n",
       "      <th>metric.netInterestCoverageAnnual</th>\n",
       "      <th>metric.netInterestCoverageTTM</th>\n",
       "      <th>metric.payoutRatioAnnual</th>\n",
       "      <th>metric.payoutRatioTTM</th>\n",
       "      <th>metric.quickRatioAnnual</th>\n",
       "      <th>metric.quickRatioQuarterly</th>\n",
       "      <th>metric.totalDebt/totalEquityAnnual</th>\n",
       "      <th>metric.totalDebt/totalEquityQuarterly</th>\n",
       "    </tr>\n",
       "  </thead>\n",
       "  <tbody>\n",
       "    <tr>\n",
       "      <th>1</th>\n",
       "      <td>financialStrength</td>\n",
       "      <td>BAC</td>\n",
       "      <td></td>\n",
       "      <td></td>\n",
       "      <td></td>\n",
       "      <td></td>\n",
       "      <td>55843</td>\n",
       "      <td>55843</td>\n",
       "      <td>81.79525</td>\n",
       "      <td>81.79525</td>\n",
       "      <td></td>\n",
       "      <td></td>\n",
       "      <td>23.6403</td>\n",
       "      <td>23.6403</td>\n",
       "      <td></td>\n",
       "      <td></td>\n",
       "      <td>161.458</td>\n",
       "      <td>161.458</td>\n",
       "    </tr>\n",
       "  </tbody>\n",
       "</table>\n",
       "</div>"
      ],
      "text/plain": [
       "          metricType symbol metric.currentEv/freeCashFlowAnnual  \\\n",
       "1  financialStrength    BAC                                       \n",
       "\n",
       "  metric.currentEv/freeCashFlowTTM metric.currentRatioAnnual  \\\n",
       "1                                                              \n",
       "\n",
       "  metric.currentRatioQuarterly  metric.freeCashFlowAnnual  \\\n",
       "1                                                   55843   \n",
       "\n",
       "   metric.freeCashFlowTTM  metric.longTermDebt/equityAnnual  \\\n",
       "1                   55843                          81.79525   \n",
       "\n",
       "   metric.longTermDebt/equityQuarterly metric.netInterestCoverageAnnual  \\\n",
       "1                             81.79525                                    \n",
       "\n",
       "  metric.netInterestCoverageTTM metric.payoutRatioAnnual  \\\n",
       "1                                                23.6403   \n",
       "\n",
       "  metric.payoutRatioTTM metric.quickRatioAnnual metric.quickRatioQuarterly  \\\n",
       "1               23.6403                                                      \n",
       "\n",
       "   metric.totalDebt/totalEquityAnnual  metric.totalDebt/totalEquityQuarterly  \n",
       "1                             161.458                                161.458  "
      ]
     },
     "execution_count": 50,
     "metadata": {},
     "output_type": "execute_result"
    }
   ],
   "source": [
    "results = []\n",
    "\n",
    "for items in tick: \n",
    "    with rate_limiter:\n",
    "        data = url + metric + ext7.format(items, api_key1)\n",
    "        req = requests.get(data).json()\n",
    "        with open ('backup/financialstrength2.py', 'a+') as f:\n",
    "            json.dump(req,f)\n",
    "        results.append(req)\n",
    "        m6 = json_normalize(results)\n",
    "        m6.dropna(inplace=True)\n",
    "m6.to_csv('data_api/financialstrength.csv')\n",
    "m6.sample()"
   ]
  },
  {
   "cell_type": "code",
   "execution_count": 51,
   "metadata": {
    "Collapsed": "false"
   },
   "outputs": [
    {
     "name": "stderr",
     "output_type": "stream",
     "text": [
      "/anaconda3/lib/python3.6/site-packages/ipykernel_launcher.py:10: FutureWarning: pandas.io.json.json_normalize is deprecated, use pandas.json_normalize instead\n",
      "  # Remove the CWD from sys.path while we load stuff.\n"
     ]
    },
    {
     "data": {
      "text/html": [
       "<div>\n",
       "<style scoped>\n",
       "    .dataframe tbody tr th:only-of-type {\n",
       "        vertical-align: middle;\n",
       "    }\n",
       "\n",
       "    .dataframe tbody tr th {\n",
       "        vertical-align: top;\n",
       "    }\n",
       "\n",
       "    .dataframe thead th {\n",
       "        text-align: right;\n",
       "    }\n",
       "</style>\n",
       "<table border=\"1\" class=\"dataframe\">\n",
       "  <thead>\n",
       "    <tr style=\"text-align: right;\">\n",
       "      <th></th>\n",
       "      <th>metricType</th>\n",
       "      <th>symbol</th>\n",
       "      <th>metric.currentDividendYieldTTM</th>\n",
       "      <th>metric.dividendYield5Y</th>\n",
       "      <th>metric.dividendYieldIndicatedAnnual</th>\n",
       "      <th>metric.netDebtAnnual</th>\n",
       "      <th>metric.netDebtInterim</th>\n",
       "      <th>metric.pbAnnual</th>\n",
       "      <th>metric.pbQuarterly</th>\n",
       "      <th>metric.pcfShareTTM</th>\n",
       "      <th>...</th>\n",
       "      <th>metric.peExclExtraTTM</th>\n",
       "      <th>metric.peExclLowTTM</th>\n",
       "      <th>metric.peInclExtraTTM</th>\n",
       "      <th>metric.peNormalizedAnnual</th>\n",
       "      <th>metric.pfcfShareAnnual</th>\n",
       "      <th>metric.pfcfShareTTM</th>\n",
       "      <th>metric.psAnnual</th>\n",
       "      <th>metric.psTTM</th>\n",
       "      <th>metric.ptbvAnnual</th>\n",
       "      <th>metric.ptbvQuarterly</th>\n",
       "    </tr>\n",
       "  </thead>\n",
       "  <tbody>\n",
       "    <tr>\n",
       "      <th>5</th>\n",
       "      <td>valuation</td>\n",
       "      <td>MO</td>\n",
       "      <td>8.66079</td>\n",
       "      <td>4.39064</td>\n",
       "      <td>8.98156</td>\n",
       "      <td>25925</td>\n",
       "      <td>25925</td>\n",
       "      <td>11.17118</td>\n",
       "      <td>11.17118</td>\n",
       "      <td></td>\n",
       "      <td>...</td>\n",
       "      <td></td>\n",
       "      <td>7.93118</td>\n",
       "      <td></td>\n",
       "      <td>12.5675</td>\n",
       "      <td>45.6778</td>\n",
       "      <td>45.6778</td>\n",
       "      <td>2.76868</td>\n",
       "      <td>2.76868</td>\n",
       "      <td></td>\n",
       "      <td></td>\n",
       "    </tr>\n",
       "  </tbody>\n",
       "</table>\n",
       "<p>1 rows × 23 columns</p>\n",
       "</div>"
      ],
      "text/plain": [
       "  metricType symbol  metric.currentDividendYieldTTM metric.dividendYield5Y  \\\n",
       "5  valuation     MO                         8.66079                4.39064   \n",
       "\n",
       "  metric.dividendYieldIndicatedAnnual  metric.netDebtAnnual  \\\n",
       "5                             8.98156                 25925   \n",
       "\n",
       "   metric.netDebtInterim  metric.pbAnnual  metric.pbQuarterly  \\\n",
       "5                  25925         11.17118            11.17118   \n",
       "\n",
       "  metric.pcfShareTTM  ... metric.peExclExtraTTM metric.peExclLowTTM  \\\n",
       "5                     ...                                   7.93118   \n",
       "\n",
       "  metric.peInclExtraTTM metric.peNormalizedAnnual metric.pfcfShareAnnual  \\\n",
       "5                                         12.5675                45.6778   \n",
       "\n",
       "  metric.pfcfShareTTM metric.psAnnual metric.psTTM metric.ptbvAnnual  \\\n",
       "5             45.6778         2.76868      2.76868                     \n",
       "\n",
       "   metric.ptbvQuarterly  \n",
       "5                        \n",
       "\n",
       "[1 rows x 23 columns]"
      ]
     },
     "execution_count": 51,
     "metadata": {},
     "output_type": "execute_result"
    }
   ],
   "source": [
    "results = []\n",
    "\n",
    "for items in tick: \n",
    "    with rate_limiter:\n",
    "        data = url + metric + ext6.format(items, api_key1)\n",
    "        req = requests.get(data).json()\n",
    "        with open ('backup/valuation2.py', 'a+') as f:\n",
    "            json.dump(req,f)\n",
    "        results.append(req)\n",
    "        m5 = json_normalize(results)\n",
    "        m5.dropna(inplace=True)\n",
    "m5.to_csv('data_api/valuation1.csv')\n",
    "m5.sample()"
   ]
  },
  {
   "cell_type": "markdown",
   "metadata": {
    "Collapsed": "false",
    "toc-hr-collapsed": true
   },
   "source": [
    "# DataSet Construction"
   ]
  },
  {
   "cell_type": "markdown",
   "metadata": {
    "Collapsed": "false"
   },
   "source": [
    "## Dataset:\n",
    "   - findata frame will be used for scaling and modelling purposes"
   ]
  },
  {
   "cell_type": "code",
   "execution_count": 131,
   "metadata": {
    "Collapsed": "false"
   },
   "outputs": [],
   "source": [
    "findata = pd.read_csv('metric_final_set.csv')"
   ]
  },
  {
   "cell_type": "code",
   "execution_count": 132,
   "metadata": {
    "Collapsed": "false"
   },
   "outputs": [],
   "source": [
    "findata.drop(columns = ['Unnamed: 0'] , inplace = True)\n",
    "corr_df = findata.iloc[:,1:89]"
   ]
  },
  {
   "cell_type": "code",
   "execution_count": 177,
   "metadata": {
    "Collapsed": "false"
   },
   "outputs": [
    {
     "data": {
      "text/plain": [
       "(8831, 42)"
      ]
     },
     "execution_count": 177,
     "metadata": {},
     "output_type": "execute_result"
    }
   ],
   "source": [
    "feature_select = ['TTM', 'Quaterly']\n",
    "\n",
    "findata = findata[findata.columns.drop(list(findata.filter(regex = 'TTM')))]\n",
    "findata = findata[findata.columns.drop(list(findata.filter(regex = 'Quarterly')))]\n",
    "\n",
    "findata.dropna(thresh = findata.shape[0]*0.6, how = 'all', axis =1, inplace = True)\n",
    "findata.shape"
   ]
  },
  {
   "cell_type": "markdown",
   "metadata": {
    "Collapsed": "false"
   },
   "source": [
    "## KNN Imputer to fill Null Values\n",
    "   - We elected KNNImputer to fill in missing values with the rationale that similar companies in terms of ratios would be grouped within the matrix dimensions and provide accurate inputs that would not affect the clustering outcomes. "
   ]
  },
  {
   "cell_type": "code",
   "execution_count": 178,
   "metadata": {
    "Collapsed": "false"
   },
   "outputs": [],
   "source": [
    "X = findata.iloc[:,1:42]\n",
    "y_full = findata.iloc[:,1:42]\n",
    "N_SPLITS = 5\n"
   ]
  },
  {
   "cell_type": "code",
   "execution_count": 179,
   "metadata": {
    "Collapsed": "false"
   },
   "outputs": [],
   "source": [
    "imputer = KNNImputer(n_neighbors = 20)"
   ]
  },
  {
   "cell_type": "code",
   "execution_count": 180,
   "metadata": {
    "Collapsed": "false"
   },
   "outputs": [],
   "source": [
    "comb2 = imputer.fit_transform(X)"
   ]
  },
  {
   "cell_type": "code",
   "execution_count": 181,
   "metadata": {
    "Collapsed": "false"
   },
   "outputs": [
    {
     "data": {
      "text/plain": [
       "array([[ 7.38880000e-01,  4.01344600e+01,  4.10825300e+05, ...,\n",
       "         2.15145435e+01,  1.50129000e+00,  1.19404800e+02],\n",
       "       [ 6.54800000e-01,  1.05634195e+01,  1.33155300e+05, ...,\n",
       "         2.29221170e+01,  6.02577000e-01,  1.61458000e+02],\n",
       "       [ 1.44638000e+00,  8.78851000e+00,  1.60525800e+04, ...,\n",
       "         1.89335900e+01,  8.63630000e-01,  6.73799500e+01],\n",
       "       ...,\n",
       "       [ 4.59832000e+00,  9.58863000e+00, -1.79042000e+04, ...,\n",
       "        -6.08028000e+00,  7.07650000e-01,  8.16128100e+01],\n",
       "       [ 1.13807000e+00,  8.13695000e+00, -7.95495756e+05, ...,\n",
       "        -4.77797000e+00,  3.11520000e-01,  8.12866000e+00],\n",
       "       [ 4.28800000e-01,  3.25453570e+01, -5.12501324e+04, ...,\n",
       "        -2.56892000e+00,  5.63946500e-01,  3.36664100e+03]])"
      ]
     },
     "execution_count": 181,
     "metadata": {},
     "output_type": "execute_result"
    }
   ],
   "source": [
    "comb2"
   ]
  },
  {
   "cell_type": "code",
   "execution_count": 182,
   "metadata": {
    "Collapsed": "false"
   },
   "outputs": [],
   "source": [
    "findata2 = pd.DataFrame(comb2, index = [findata.index, findata.iloc[:,0]], columns = X.columns)\n",
    "findata2.reset_index(inplace = True)\n",
    "findata2.drop(findata2.columns[0], axis = 1, inplace = True)"
   ]
  },
  {
   "cell_type": "markdown",
   "metadata": {
    "Collapsed": "false"
   },
   "source": [
    "#### Clean dataframe with ticker fields - Full Name / Sector / Country / Exchange"
   ]
  },
  {
   "cell_type": "code",
   "execution_count": 183,
   "metadata": {
    "Collapsed": "false"
   },
   "outputs": [],
   "source": [
    "tickers_final = pd.read_csv('tickers_final.csv')\n",
    "tickers_final.drop(columns = ['Unnamed: 0'], inplace = True)"
   ]
  },
  {
   "cell_type": "code",
   "execution_count": 184,
   "metadata": {
    "Collapsed": "false"
   },
   "outputs": [],
   "source": [
    "findata3 = findata2.merge(tickers_final, left_on = 'symbol', right_on = 'Ticker', how = 'left')\n"
   ]
  },
  {
   "cell_type": "code",
   "execution_count": 187,
   "metadata": {
    "Collapsed": "false"
   },
   "outputs": [],
   "source": [
    "X1 = findata3.iloc[:,1:42]\n",
    "X2 = findata3.iloc[:,1:20]"
   ]
  },
  {
   "cell_type": "code",
   "execution_count": 188,
   "metadata": {
    "Collapsed": "false"
   },
   "outputs": [
    {
     "data": {
      "image/png": "[encoded data removed]",
      "text/plain": [
       "<Figure size 2160x2160 with 2 Axes>"
      ]
     },
     "metadata": {
      "needs_background": "light"
     },
     "output_type": "display_data"
    }
   ],
   "source": [
    "plt.figure(figsize=(30,30))\n",
    "corr = sns.heatmap(X2.corr(), annot=True, fmt='.1g');"
   ]
  },
  {
   "cell_type": "code",
   "execution_count": 189,
   "metadata": {
    "Collapsed": "false"
   },
   "outputs": [
    {
     "data": {
      "text/html": [
       "<div>\n",
       "<style scoped>\n",
       "    .dataframe tbody tr th:only-of-type {\n",
       "        vertical-align: middle;\n",
       "    }\n",
       "\n",
       "    .dataframe tbody tr th {\n",
       "        vertical-align: top;\n",
       "    }\n",
       "\n",
       "    .dataframe thead tr th {\n",
       "        text-align: left;\n",
       "    }\n",
       "\n",
       "    .dataframe thead tr:last-of-type th {\n",
       "        text-align: right;\n",
       "    }\n",
       "</style>\n",
       "<table border=\"1\" class=\"dataframe\">\n",
       "  <thead>\n",
       "    <tr>\n",
       "      <th></th>\n",
       "      <th colspan=\"8\" halign=\"left\">metric.assetTurnoverAnnual</th>\n",
       "      <th colspan=\"2\" halign=\"left\">metric.inventoryTurnoverAnnual</th>\n",
       "      <th>...</th>\n",
       "      <th colspan=\"2\" halign=\"left\">metric.quickRatioAnnual</th>\n",
       "      <th colspan=\"8\" halign=\"left\">metric.totalDebt/totalEquityAnnual</th>\n",
       "    </tr>\n",
       "    <tr>\n",
       "      <th></th>\n",
       "      <th>count</th>\n",
       "      <th>mean</th>\n",
       "      <th>std</th>\n",
       "      <th>min</th>\n",
       "      <th>25%</th>\n",
       "      <th>50%</th>\n",
       "      <th>75%</th>\n",
       "      <th>max</th>\n",
       "      <th>count</th>\n",
       "      <th>mean</th>\n",
       "      <th>...</th>\n",
       "      <th>75%</th>\n",
       "      <th>max</th>\n",
       "      <th>count</th>\n",
       "      <th>mean</th>\n",
       "      <th>std</th>\n",
       "      <th>min</th>\n",
       "      <th>25%</th>\n",
       "      <th>50%</th>\n",
       "      <th>75%</th>\n",
       "      <th>max</th>\n",
       "    </tr>\n",
       "    <tr>\n",
       "      <th>Category Name</th>\n",
       "      <th></th>\n",
       "      <th></th>\n",
       "      <th></th>\n",
       "      <th></th>\n",
       "      <th></th>\n",
       "      <th></th>\n",
       "      <th></th>\n",
       "      <th></th>\n",
       "      <th></th>\n",
       "      <th></th>\n",
       "      <th></th>\n",
       "      <th></th>\n",
       "      <th></th>\n",
       "      <th></th>\n",
       "      <th></th>\n",
       "      <th></th>\n",
       "      <th></th>\n",
       "      <th></th>\n",
       "      <th></th>\n",
       "      <th></th>\n",
       "      <th></th>\n",
       "    </tr>\n",
       "  </thead>\n",
       "  <tbody>\n",
       "    <tr>\n",
       "      <th>Accident &amp; Health Insurance</th>\n",
       "      <td>16.0</td>\n",
       "      <td>0.444229</td>\n",
       "      <td>0.537268</td>\n",
       "      <td>0.07143</td>\n",
       "      <td>0.145410</td>\n",
       "      <td>0.212945</td>\n",
       "      <td>0.332757</td>\n",
       "      <td>1.65237</td>\n",
       "      <td>16.0</td>\n",
       "      <td>19.029089</td>\n",
       "      <td>...</td>\n",
       "      <td>1.976741</td>\n",
       "      <td>3.184619</td>\n",
       "      <td>16.0</td>\n",
       "      <td>32.999356</td>\n",
       "      <td>25.828732</td>\n",
       "      <td>1.97289</td>\n",
       "      <td>17.071852</td>\n",
       "      <td>25.553470</td>\n",
       "      <td>43.140600</td>\n",
       "      <td>80.947190</td>\n",
       "    </tr>\n",
       "    <tr>\n",
       "      <th>Advertising Agencies</th>\n",
       "      <td>33.0</td>\n",
       "      <td>0.962269</td>\n",
       "      <td>0.678523</td>\n",
       "      <td>0.24484</td>\n",
       "      <td>0.536930</td>\n",
       "      <td>0.778770</td>\n",
       "      <td>1.156950</td>\n",
       "      <td>3.32927</td>\n",
       "      <td>33.0</td>\n",
       "      <td>46.578038</td>\n",
       "      <td>...</td>\n",
       "      <td>2.098377</td>\n",
       "      <td>6.428085</td>\n",
       "      <td>33.0</td>\n",
       "      <td>57.035465</td>\n",
       "      <td>69.426113</td>\n",
       "      <td>0.00000</td>\n",
       "      <td>8.453220</td>\n",
       "      <td>31.500820</td>\n",
       "      <td>82.754230</td>\n",
       "      <td>271.664800</td>\n",
       "    </tr>\n",
       "    <tr>\n",
       "      <th>Aerospace/Defense - Major Diversified</th>\n",
       "      <td>52.0</td>\n",
       "      <td>0.734615</td>\n",
       "      <td>0.348315</td>\n",
       "      <td>0.05940</td>\n",
       "      <td>0.545975</td>\n",
       "      <td>0.722355</td>\n",
       "      <td>0.899690</td>\n",
       "      <td>1.78691</td>\n",
       "      <td>52.0</td>\n",
       "      <td>9.781847</td>\n",
       "      <td>...</td>\n",
       "      <td>1.823217</td>\n",
       "      <td>15.231030</td>\n",
       "      <td>52.0</td>\n",
       "      <td>70.528851</td>\n",
       "      <td>84.396509</td>\n",
       "      <td>0.00000</td>\n",
       "      <td>15.491030</td>\n",
       "      <td>47.524080</td>\n",
       "      <td>78.713563</td>\n",
       "      <td>410.120700</td>\n",
       "    </tr>\n",
       "    <tr>\n",
       "      <th>Aerospace/Defense Products &amp; Services</th>\n",
       "      <td>26.0</td>\n",
       "      <td>0.837738</td>\n",
       "      <td>0.312806</td>\n",
       "      <td>0.02876</td>\n",
       "      <td>0.648895</td>\n",
       "      <td>0.844280</td>\n",
       "      <td>1.008900</td>\n",
       "      <td>1.34903</td>\n",
       "      <td>26.0</td>\n",
       "      <td>13.822989</td>\n",
       "      <td>...</td>\n",
       "      <td>2.730100</td>\n",
       "      <td>11.484940</td>\n",
       "      <td>26.0</td>\n",
       "      <td>107.717115</td>\n",
       "      <td>153.233471</td>\n",
       "      <td>0.00000</td>\n",
       "      <td>17.520375</td>\n",
       "      <td>62.917285</td>\n",
       "      <td>122.911310</td>\n",
       "      <td>699.000861</td>\n",
       "    </tr>\n",
       "    <tr>\n",
       "      <th>Agricultural Chemicals</th>\n",
       "      <td>27.0</td>\n",
       "      <td>0.645174</td>\n",
       "      <td>0.565339</td>\n",
       "      <td>0.00000</td>\n",
       "      <td>0.353780</td>\n",
       "      <td>0.551630</td>\n",
       "      <td>0.755685</td>\n",
       "      <td>2.88662</td>\n",
       "      <td>27.0</td>\n",
       "      <td>7.086854</td>\n",
       "      <td>...</td>\n",
       "      <td>1.669880</td>\n",
       "      <td>5.901279</td>\n",
       "      <td>27.0</td>\n",
       "      <td>62.809237</td>\n",
       "      <td>59.680635</td>\n",
       "      <td>0.00000</td>\n",
       "      <td>15.115575</td>\n",
       "      <td>50.234610</td>\n",
       "      <td>79.807210</td>\n",
       "      <td>229.803800</td>\n",
       "    </tr>\n",
       "    <tr>\n",
       "      <th>...</th>\n",
       "      <td>...</td>\n",
       "      <td>...</td>\n",
       "      <td>...</td>\n",
       "      <td>...</td>\n",
       "      <td>...</td>\n",
       "      <td>...</td>\n",
       "      <td>...</td>\n",
       "      <td>...</td>\n",
       "      <td>...</td>\n",
       "      <td>...</td>\n",
       "      <td>...</td>\n",
       "      <td>...</td>\n",
       "      <td>...</td>\n",
       "      <td>...</td>\n",
       "      <td>...</td>\n",
       "      <td>...</td>\n",
       "      <td>...</td>\n",
       "      <td>...</td>\n",
       "      <td>...</td>\n",
       "      <td>...</td>\n",
       "      <td>...</td>\n",
       "    </tr>\n",
       "    <tr>\n",
       "      <th>Trucking</th>\n",
       "      <td>23.0</td>\n",
       "      <td>1.244361</td>\n",
       "      <td>0.779199</td>\n",
       "      <td>0.01101</td>\n",
       "      <td>0.649135</td>\n",
       "      <td>1.165600</td>\n",
       "      <td>1.539585</td>\n",
       "      <td>2.91255</td>\n",
       "      <td>23.0</td>\n",
       "      <td>73.073320</td>\n",
       "      <td>...</td>\n",
       "      <td>1.624076</td>\n",
       "      <td>3.792340</td>\n",
       "      <td>23.0</td>\n",
       "      <td>80.708734</td>\n",
       "      <td>86.028316</td>\n",
       "      <td>0.00000</td>\n",
       "      <td>19.921965</td>\n",
       "      <td>42.398530</td>\n",
       "      <td>116.589900</td>\n",
       "      <td>337.227400</td>\n",
       "    </tr>\n",
       "    <tr>\n",
       "      <th>Trucks &amp; Other Vehicles</th>\n",
       "      <td>14.0</td>\n",
       "      <td>1.135426</td>\n",
       "      <td>0.557625</td>\n",
       "      <td>0.08435</td>\n",
       "      <td>0.710212</td>\n",
       "      <td>1.063635</td>\n",
       "      <td>1.578830</td>\n",
       "      <td>1.88119</td>\n",
       "      <td>14.0</td>\n",
       "      <td>6.943497</td>\n",
       "      <td>...</td>\n",
       "      <td>1.242465</td>\n",
       "      <td>4.138210</td>\n",
       "      <td>14.0</td>\n",
       "      <td>61.298371</td>\n",
       "      <td>39.293686</td>\n",
       "      <td>0.00000</td>\n",
       "      <td>34.722620</td>\n",
       "      <td>56.939595</td>\n",
       "      <td>86.100625</td>\n",
       "      <td>125.006267</td>\n",
       "    </tr>\n",
       "    <tr>\n",
       "      <th>Waste Management</th>\n",
       "      <td>44.0</td>\n",
       "      <td>0.780024</td>\n",
       "      <td>0.608561</td>\n",
       "      <td>0.01699</td>\n",
       "      <td>0.318610</td>\n",
       "      <td>0.684525</td>\n",
       "      <td>1.036752</td>\n",
       "      <td>2.67424</td>\n",
       "      <td>44.0</td>\n",
       "      <td>70.214928</td>\n",
       "      <td>...</td>\n",
       "      <td>1.666440</td>\n",
       "      <td>10.222340</td>\n",
       "      <td>44.0</td>\n",
       "      <td>102.302765</td>\n",
       "      <td>124.946824</td>\n",
       "      <td>0.00000</td>\n",
       "      <td>25.770520</td>\n",
       "      <td>65.208935</td>\n",
       "      <td>121.104725</td>\n",
       "      <td>669.148900</td>\n",
       "    </tr>\n",
       "    <tr>\n",
       "      <th>Water Utilities</th>\n",
       "      <td>18.0</td>\n",
       "      <td>0.304647</td>\n",
       "      <td>0.284657</td>\n",
       "      <td>0.00604</td>\n",
       "      <td>0.155133</td>\n",
       "      <td>0.207135</td>\n",
       "      <td>0.291587</td>\n",
       "      <td>1.05793</td>\n",
       "      <td>18.0</td>\n",
       "      <td>15.192747</td>\n",
       "      <td>...</td>\n",
       "      <td>1.130167</td>\n",
       "      <td>8.378090</td>\n",
       "      <td>18.0</td>\n",
       "      <td>133.143574</td>\n",
       "      <td>123.541338</td>\n",
       "      <td>0.00000</td>\n",
       "      <td>76.260828</td>\n",
       "      <td>110.916865</td>\n",
       "      <td>181.417175</td>\n",
       "      <td>520.075600</td>\n",
       "    </tr>\n",
       "    <tr>\n",
       "      <th>Wireless Communications</th>\n",
       "      <td>147.0</td>\n",
       "      <td>0.680615</td>\n",
       "      <td>0.593743</td>\n",
       "      <td>0.00737</td>\n",
       "      <td>0.471330</td>\n",
       "      <td>0.526860</td>\n",
       "      <td>0.631970</td>\n",
       "      <td>5.08124</td>\n",
       "      <td>147.0</td>\n",
       "      <td>37.053426</td>\n",
       "      <td>...</td>\n",
       "      <td>1.375490</td>\n",
       "      <td>6.859375</td>\n",
       "      <td>147.0</td>\n",
       "      <td>58.454556</td>\n",
       "      <td>98.944987</td>\n",
       "      <td>0.00000</td>\n",
       "      <td>6.731730</td>\n",
       "      <td>16.930640</td>\n",
       "      <td>60.027274</td>\n",
       "      <td>686.798600</td>\n",
       "    </tr>\n",
       "  </tbody>\n",
       "</table>\n",
       "<p>208 rows × 328 columns</p>\n",
       "</div>"
      ],
      "text/plain": [
       "                                      metric.assetTurnoverAnnual            \\\n",
       "                                                           count      mean   \n",
       "Category Name                                                                \n",
       "Accident & Health Insurance                                 16.0  0.444229   \n",
       "Advertising Agencies                                        33.0  0.962269   \n",
       "Aerospace/Defense - Major Diversified                       52.0  0.734615   \n",
       "Aerospace/Defense Products & Services                       26.0  0.837738   \n",
       "Agricultural Chemicals                                      27.0  0.645174   \n",
       "...                                                          ...       ...   \n",
       "Trucking                                                    23.0  1.244361   \n",
       "Trucks & Other Vehicles                                     14.0  1.135426   \n",
       "Waste Management                                            44.0  0.780024   \n",
       "Water Utilities                                             18.0  0.304647   \n",
       "Wireless Communications                                    147.0  0.680615   \n",
       "\n",
       "                                                                              \\\n",
       "                                            std      min       25%       50%   \n",
       "Category Name                                                                  \n",
       "Accident & Health Insurance            0.537268  0.07143  0.145410  0.212945   \n",
       "Advertising Agencies                   0.678523  0.24484  0.536930  0.778770   \n",
       "Aerospace/Defense - Major Diversified  0.348315  0.05940  0.545975  0.722355   \n",
       "Aerospace/Defense Products & Services  0.312806  0.02876  0.648895  0.844280   \n",
       "Agricultural Chemicals                 0.565339  0.00000  0.353780  0.551630   \n",
       "...                                         ...      ...       ...       ...   \n",
       "Trucking                               0.779199  0.01101  0.649135  1.165600   \n",
       "Trucks & Other Vehicles                0.557625  0.08435  0.710212  1.063635   \n",
       "Waste Management                       0.608561  0.01699  0.318610  0.684525   \n",
       "Water Utilities                        0.284657  0.00604  0.155133  0.207135   \n",
       "Wireless Communications                0.593743  0.00737  0.471330  0.526860   \n",
       "\n",
       "                                                          \\\n",
       "                                            75%      max   \n",
       "Category Name                                              \n",
       "Accident & Health Insurance            0.332757  1.65237   \n",
       "Advertising Agencies                   1.156950  3.32927   \n",
       "Aerospace/Defense - Major Diversified  0.899690  1.78691   \n",
       "Aerospace/Defense Products & Services  1.008900  1.34903   \n",
       "Agricultural Chemicals                 0.755685  2.88662   \n",
       "...                                         ...      ...   \n",
       "Trucking                               1.539585  2.91255   \n",
       "Trucks & Other Vehicles                1.578830  1.88119   \n",
       "Waste Management                       1.036752  2.67424   \n",
       "Water Utilities                        0.291587  1.05793   \n",
       "Wireless Communications                0.631970  5.08124   \n",
       "\n",
       "                                      metric.inventoryTurnoverAnnual  \\\n",
       "                                                               count   \n",
       "Category Name                                                          \n",
       "Accident & Health Insurance                                     16.0   \n",
       "Advertising Agencies                                            33.0   \n",
       "Aerospace/Defense - Major Diversified                           52.0   \n",
       "Aerospace/Defense Products & Services                           26.0   \n",
       "Agricultural Chemicals                                          27.0   \n",
       "...                                                              ...   \n",
       "Trucking                                                        23.0   \n",
       "Trucks & Other Vehicles                                         14.0   \n",
       "Waste Management                                                44.0   \n",
       "Water Utilities                                                 18.0   \n",
       "Wireless Communications                                        147.0   \n",
       "\n",
       "                                                  ... metric.quickRatioAnnual  \\\n",
       "                                            mean  ...                     75%   \n",
       "Category Name                                     ...                           \n",
       "Accident & Health Insurance            19.029089  ...                1.976741   \n",
       "Advertising Agencies                   46.578038  ...                2.098377   \n",
       "Aerospace/Defense - Major Diversified   9.781847  ...                1.823217   \n",
       "Aerospace/Defense Products & Services  13.822989  ...                2.730100   \n",
       "Agricultural Chemicals                  7.086854  ...                1.669880   \n",
       "...                                          ...  ...                     ...   \n",
       "Trucking                               73.073320  ...                1.624076   \n",
       "Trucks & Other Vehicles                 6.943497  ...                1.242465   \n",
       "Waste Management                       70.214928  ...                1.666440   \n",
       "Water Utilities                        15.192747  ...                1.130167   \n",
       "Wireless Communications                37.053426  ...                1.375490   \n",
       "\n",
       "                                                  \\\n",
       "                                             max   \n",
       "Category Name                                      \n",
       "Accident & Health Insurance             3.184619   \n",
       "Advertising Agencies                    6.428085   \n",
       "Aerospace/Defense - Major Diversified  15.231030   \n",
       "Aerospace/Defense Products & Services  11.484940   \n",
       "Agricultural Chemicals                  5.901279   \n",
       "...                                          ...   \n",
       "Trucking                                3.792340   \n",
       "Trucks & Other Vehicles                 4.138210   \n",
       "Waste Management                       10.222340   \n",
       "Water Utilities                         8.378090   \n",
       "Wireless Communications                 6.859375   \n",
       "\n",
       "                                      metric.totalDebt/totalEquityAnnual  \\\n",
       "                                                                   count   \n",
       "Category Name                                                              \n",
       "Accident & Health Insurance                                         16.0   \n",
       "Advertising Agencies                                                33.0   \n",
       "Aerospace/Defense - Major Diversified                               52.0   \n",
       "Aerospace/Defense Products & Services                               26.0   \n",
       "Agricultural Chemicals                                              27.0   \n",
       "...                                                                  ...   \n",
       "Trucking                                                            23.0   \n",
       "Trucks & Other Vehicles                                             14.0   \n",
       "Waste Management                                                    44.0   \n",
       "Water Utilities                                                     18.0   \n",
       "Wireless Communications                                            147.0   \n",
       "\n",
       "                                                                        \\\n",
       "                                             mean         std      min   \n",
       "Category Name                                                            \n",
       "Accident & Health Insurance             32.999356   25.828732  1.97289   \n",
       "Advertising Agencies                    57.035465   69.426113  0.00000   \n",
       "Aerospace/Defense - Major Diversified   70.528851   84.396509  0.00000   \n",
       "Aerospace/Defense Products & Services  107.717115  153.233471  0.00000   \n",
       "Agricultural Chemicals                  62.809237   59.680635  0.00000   \n",
       "...                                           ...         ...      ...   \n",
       "Trucking                                80.708734   86.028316  0.00000   \n",
       "Trucks & Other Vehicles                 61.298371   39.293686  0.00000   \n",
       "Waste Management                       102.302765  124.946824  0.00000   \n",
       "Water Utilities                        133.143574  123.541338  0.00000   \n",
       "Wireless Communications                 58.454556   98.944987  0.00000   \n",
       "\n",
       "                                                                          \\\n",
       "                                             25%         50%         75%   \n",
       "Category Name                                                              \n",
       "Accident & Health Insurance            17.071852   25.553470   43.140600   \n",
       "Advertising Agencies                    8.453220   31.500820   82.754230   \n",
       "Aerospace/Defense - Major Diversified  15.491030   47.524080   78.713563   \n",
       "Aerospace/Defense Products & Services  17.520375   62.917285  122.911310   \n",
       "Agricultural Chemicals                 15.115575   50.234610   79.807210   \n",
       "...                                          ...         ...         ...   \n",
       "Trucking                               19.921965   42.398530  116.589900   \n",
       "Trucks & Other Vehicles                34.722620   56.939595   86.100625   \n",
       "Waste Management                       25.770520   65.208935  121.104725   \n",
       "Water Utilities                        76.260828  110.916865  181.417175   \n",
       "Wireless Communications                 6.731730   16.930640   60.027274   \n",
       "\n",
       "                                                   \n",
       "                                              max  \n",
       "Category Name                                      \n",
       "Accident & Health Insurance             80.947190  \n",
       "Advertising Agencies                   271.664800  \n",
       "Aerospace/Defense - Major Diversified  410.120700  \n",
       "Aerospace/Defense Products & Services  699.000861  \n",
       "Agricultural Chemicals                 229.803800  \n",
       "...                                           ...  \n",
       "Trucking                               337.227400  \n",
       "Trucks & Other Vehicles                125.006267  \n",
       "Waste Management                       669.148900  \n",
       "Water Utilities                        520.075600  \n",
       "Wireless Communications                686.798600  \n",
       "\n",
       "[208 rows x 328 columns]"
      ]
     },
     "execution_count": 189,
     "metadata": {},
     "output_type": "execute_result"
    }
   ],
   "source": [
    "findata3.groupby('Category Name').describe()"
   ]
  },
  {
   "cell_type": "markdown",
   "metadata": {
    "Collapsed": "true"
   },
   "source": [
    "## Iterative Imputer"
   ]
  },
  {
   "cell_type": "markdown",
   "metadata": {
    "Collapsed": "true"
   },
   "source": [
    "#### IterativeTest"
   ]
  },
  {
   "cell_type": "code",
   "execution_count": 15,
   "metadata": {
    "Collapsed": "false"
   },
   "outputs": [],
   "source": [
    "N_SPLITS = 5\n",
    "rng = np.random.RandomState(0)"
   ]
  },
  {
   "cell_type": "code",
   "execution_count": 16,
   "metadata": {
    "Collapsed": "false"
   },
   "outputs": [],
   "source": [
    "X1 = X.dropna().to_numpy()\n",
    "X_full = X.to_numpy() #taking continuous subset of variables\n",
    "y_full = X['metric.assetTurnoverAnnual'].to_numpy()\n",
    "\n",
    "n_samples, n_features = X_full.shape\n",
    "REGRESSOR = RandomForestRegressor(random_state=0)\n"
   ]
  },
  {
   "cell_type": "code",
   "execution_count": 120,
   "metadata": {
    "Collapsed": "false"
   },
   "outputs": [],
   "source": [
    "imp_mean = IterativeImputer(estimator = dt, random_state=0)"
   ]
  },
  {
   "cell_type": "code",
   "execution_count": 121,
   "metadata": {
    "Collapsed": "false"
   },
   "outputs": [
    {
     "name": "stderr",
     "output_type": "stream",
     "text": [
      "/anaconda3/lib/python3.6/site-packages/sklearn/impute/_iterative.py:638: ConvergenceWarning: [IterativeImputer] Early stopping criterion not reached.\n",
      "  \" reached.\", ConvergenceWarning)\n"
     ]
    },
    {
     "data": {
      "text/plain": [
       "IterativeImputer(add_indicator=False,\n",
       "                 estimator=DecisionTreeRegressor(ccp_alpha=0.0, criterion='mse',\n",
       "                                                 max_depth=None,\n",
       "                                                 max_features=None,\n",
       "                                                 max_leaf_nodes=None,\n",
       "                                                 min_impurity_decrease=0.0,\n",
       "                                                 min_impurity_split=None,\n",
       "                                                 min_samples_leaf=1,\n",
       "                                                 min_samples_split=2,\n",
       "                                                 min_weight_fraction_leaf=0.0,\n",
       "                                                 presort='deprecated',\n",
       "                                                 random_state=None,\n",
       "                                                 splitter='best'),\n",
       "                 imputation_order='ascending', initial_strategy='mean',\n",
       "                 max_iter=10, max_value=None, min_value=None,\n",
       "                 missing_values=nan, n_nearest_features=None, random_state=0,\n",
       "                 sample_posterior=False, skip_complete=False, tol=0.001,\n",
       "                 verbose=0)"
      ]
     },
     "execution_count": 121,
     "metadata": {},
     "output_type": "execute_result"
    }
   ],
   "source": [
    "imp_mean.fit(X_full)"
   ]
  },
  {
   "cell_type": "code",
   "execution_count": 122,
   "metadata": {
    "Collapsed": "false"
   },
   "outputs": [],
   "source": [
    "comb3 = imp_mean.transform(X_full)"
   ]
  },
  {
   "cell_type": "code",
   "execution_count": 123,
   "metadata": {
    "Collapsed": "false"
   },
   "outputs": [],
   "source": [
    "tst1 = pd.DataFrame(comb3, index = [comb1.index, comb1.iloc[:,0]], columns = X.columns)\n"
   ]
  },
  {
   "cell_type": "code",
   "execution_count": 84,
   "metadata": {
    "Collapsed": "false"
   },
   "outputs": [],
   "source": [
    "tst1.reset_index(inplace = True)\n",
    "tst1.drop(tst1.columns[0], axis = 1, inplace = True)\n",
    "tst1.head()"
   ]
  },
  {
   "cell_type": "markdown",
   "metadata": {
    "Collapsed": "false"
   },
   "source": [
    "# Dimensionality Reduction Using PCA"
   ]
  },
  {
   "cell_type": "markdown",
   "metadata": {
    "Collapsed": "false"
   },
   "source": [
    "We are able to reduce the dimensions of the dataset using PCA. From the below 96% of the variance is explained by the first 55 principal components."
   ]
  },
  {
   "cell_type": "code",
   "execution_count": 270,
   "metadata": {
    "Collapsed": "false"
   },
   "outputs": [],
   "source": [
    "from sklearn.decomposition import PCA\n",
    "from sklearn.preprocessing import StandardScaler\n",
    "\n",
    "sc = StandardScaler()\n",
    "scaled = sc.fit_transform(X1)"
   ]
  },
  {
   "cell_type": "code",
   "execution_count": 271,
   "metadata": {
    "Collapsed": "false"
   },
   "outputs": [],
   "source": [
    "pca = PCA(n_components = None)"
   ]
  },
  {
   "cell_type": "code",
   "execution_count": 276,
   "metadata": {
    "Collapsed": "false"
   },
   "outputs": [],
   "source": [
    "XD = pca.fit_transform(scaled)"
   ]
  },
  {
   "cell_type": "code",
   "execution_count": 277,
   "metadata": {
    "Collapsed": "false"
   },
   "outputs": [
    {
     "data": {
      "text/plain": [
       "array([1.01057933e-01, 8.40734518e-02, 7.37324017e-02, 6.22388695e-02,\n",
       "       5.57761824e-02, 5.31182274e-02, 4.68770429e-02, 4.60082676e-02,\n",
       "       4.00842727e-02, 3.84682107e-02, 3.20686819e-02, 3.04009670e-02,\n",
       "       2.87129697e-02, 2.77397108e-02, 2.51273366e-02, 2.47071331e-02,\n",
       "       2.41016325e-02, 2.34763357e-02, 2.22869345e-02, 2.15744500e-02,\n",
       "       2.01566161e-02, 1.79373119e-02, 1.71827057e-02, 1.65285610e-02,\n",
       "       1.52753803e-02, 1.45583790e-02, 8.76962511e-03, 6.99071704e-03,\n",
       "       6.55029652e-03, 4.85714533e-03, 3.06985756e-03, 2.12101316e-03,\n",
       "       1.67440846e-03, 9.09473212e-04, 8.46768469e-04, 7.89776677e-04,\n",
       "       7.41953012e-05, 4.41287590e-05, 2.94007161e-05, 2.76538190e-06,\n",
       "       4.63379371e-07])"
      ]
     },
     "execution_count": 277,
     "metadata": {},
     "output_type": "execute_result"
    }
   ],
   "source": [
    "pca.explained_variance_ratio_"
   ]
  },
  {
   "cell_type": "code",
   "execution_count": 278,
   "metadata": {
    "Collapsed": "false"
   },
   "outputs": [
    {
     "data": {
      "text/plain": [
       "41"
      ]
     },
     "execution_count": 278,
     "metadata": {},
     "output_type": "execute_result"
    }
   ],
   "source": [
    "len(pca.explained_variance_ratio_)"
   ]
  },
  {
   "cell_type": "code",
   "execution_count": 279,
   "metadata": {
    "Collapsed": "false"
   },
   "outputs": [
    {
     "data": {
      "text/html": [
       "<div>\n",
       "<style scoped>\n",
       "    .dataframe tbody tr th:only-of-type {\n",
       "        vertical-align: middle;\n",
       "    }\n",
       "\n",
       "    .dataframe tbody tr th {\n",
       "        vertical-align: top;\n",
       "    }\n",
       "\n",
       "    .dataframe thead th {\n",
       "        text-align: right;\n",
       "    }\n",
       "</style>\n",
       "<table border=\"1\" class=\"dataframe\">\n",
       "  <thead>\n",
       "    <tr style=\"text-align: right;\">\n",
       "      <th></th>\n",
       "      <th>PC1</th>\n",
       "      <th>PC2</th>\n",
       "      <th>PC3</th>\n",
       "      <th>PC4</th>\n",
       "      <th>PC5</th>\n",
       "      <th>PC6</th>\n",
       "      <th>PC7</th>\n",
       "      <th>PC8</th>\n",
       "      <th>PC9</th>\n",
       "      <th>PC10</th>\n",
       "      <th>...</th>\n",
       "      <th>PC32</th>\n",
       "      <th>PC33</th>\n",
       "      <th>PC34</th>\n",
       "      <th>PC35</th>\n",
       "      <th>PC36</th>\n",
       "      <th>PC37</th>\n",
       "      <th>PC38</th>\n",
       "      <th>PC39</th>\n",
       "      <th>PC40</th>\n",
       "      <th>PC41</th>\n",
       "    </tr>\n",
       "  </thead>\n",
       "  <tbody>\n",
       "    <tr>\n",
       "      <th>0</th>\n",
       "      <td>-0.152110</td>\n",
       "      <td>-0.061324</td>\n",
       "      <td>0.047620</td>\n",
       "      <td>0.259454</td>\n",
       "      <td>0.248862</td>\n",
       "      <td>0.033342</td>\n",
       "      <td>0.067489</td>\n",
       "      <td>-0.028979</td>\n",
       "      <td>0.201742</td>\n",
       "      <td>-0.219344</td>\n",
       "      <td>...</td>\n",
       "      <td>-0.204261</td>\n",
       "      <td>-0.141311</td>\n",
       "      <td>0.006484</td>\n",
       "      <td>0.001501</td>\n",
       "      <td>0.029512</td>\n",
       "      <td>-0.001576</td>\n",
       "      <td>0.000181</td>\n",
       "      <td>-0.000272</td>\n",
       "      <td>-0.000019</td>\n",
       "      <td>-0.000140</td>\n",
       "    </tr>\n",
       "    <tr>\n",
       "      <th>1</th>\n",
       "      <td>-0.165005</td>\n",
       "      <td>-0.064786</td>\n",
       "      <td>0.123240</td>\n",
       "      <td>0.151703</td>\n",
       "      <td>-0.047352</td>\n",
       "      <td>0.299804</td>\n",
       "      <td>0.085033</td>\n",
       "      <td>-0.232535</td>\n",
       "      <td>-0.151614</td>\n",
       "      <td>-0.060058</td>\n",
       "      <td>...</td>\n",
       "      <td>0.018280</td>\n",
       "      <td>0.018406</td>\n",
       "      <td>0.045572</td>\n",
       "      <td>0.002888</td>\n",
       "      <td>-0.003298</td>\n",
       "      <td>-0.000816</td>\n",
       "      <td>0.003744</td>\n",
       "      <td>-0.000224</td>\n",
       "      <td>-0.000083</td>\n",
       "      <td>-0.000054</td>\n",
       "    </tr>\n",
       "    <tr>\n",
       "      <th>2</th>\n",
       "      <td>-0.664502</td>\n",
       "      <td>-1.048743</td>\n",
       "      <td>3.348750</td>\n",
       "      <td>-0.766013</td>\n",
       "      <td>0.223386</td>\n",
       "      <td>-0.055801</td>\n",
       "      <td>0.240095</td>\n",
       "      <td>-0.069715</td>\n",
       "      <td>-1.021228</td>\n",
       "      <td>1.609742</td>\n",
       "      <td>...</td>\n",
       "      <td>-0.096222</td>\n",
       "      <td>-0.161149</td>\n",
       "      <td>0.017480</td>\n",
       "      <td>-0.006695</td>\n",
       "      <td>0.042586</td>\n",
       "      <td>-0.000229</td>\n",
       "      <td>0.003593</td>\n",
       "      <td>0.001411</td>\n",
       "      <td>-0.000164</td>\n",
       "      <td>0.000167</td>\n",
       "    </tr>\n",
       "    <tr>\n",
       "      <th>3</th>\n",
       "      <td>-0.168378</td>\n",
       "      <td>-0.096977</td>\n",
       "      <td>0.272624</td>\n",
       "      <td>-0.003950</td>\n",
       "      <td>-0.164774</td>\n",
       "      <td>0.129725</td>\n",
       "      <td>0.079786</td>\n",
       "      <td>-0.320107</td>\n",
       "      <td>-0.354221</td>\n",
       "      <td>0.224518</td>\n",
       "      <td>...</td>\n",
       "      <td>0.076437</td>\n",
       "      <td>-0.013486</td>\n",
       "      <td>-0.019661</td>\n",
       "      <td>0.001224</td>\n",
       "      <td>-0.002444</td>\n",
       "      <td>-0.000980</td>\n",
       "      <td>0.000238</td>\n",
       "      <td>-0.000451</td>\n",
       "      <td>-0.000128</td>\n",
       "      <td>-0.000095</td>\n",
       "    </tr>\n",
       "    <tr>\n",
       "      <th>4</th>\n",
       "      <td>-0.323614</td>\n",
       "      <td>-0.407616</td>\n",
       "      <td>1.151730</td>\n",
       "      <td>-0.125067</td>\n",
       "      <td>-0.132234</td>\n",
       "      <td>-0.099762</td>\n",
       "      <td>0.089695</td>\n",
       "      <td>-0.142944</td>\n",
       "      <td>-0.136906</td>\n",
       "      <td>0.239900</td>\n",
       "      <td>...</td>\n",
       "      <td>-0.134603</td>\n",
       "      <td>-0.043983</td>\n",
       "      <td>0.002488</td>\n",
       "      <td>0.002908</td>\n",
       "      <td>0.013949</td>\n",
       "      <td>-0.001173</td>\n",
       "      <td>0.003319</td>\n",
       "      <td>-0.000070</td>\n",
       "      <td>-0.000030</td>\n",
       "      <td>-0.000037</td>\n",
       "    </tr>\n",
       "  </tbody>\n",
       "</table>\n",
       "<p>5 rows × 41 columns</p>\n",
       "</div>"
      ],
      "text/plain": [
       "        PC1       PC2       PC3       PC4       PC5       PC6       PC7  \\\n",
       "0 -0.152110 -0.061324  0.047620  0.259454  0.248862  0.033342  0.067489   \n",
       "1 -0.165005 -0.064786  0.123240  0.151703 -0.047352  0.299804  0.085033   \n",
       "2 -0.664502 -1.048743  3.348750 -0.766013  0.223386 -0.055801  0.240095   \n",
       "3 -0.168378 -0.096977  0.272624 -0.003950 -0.164774  0.129725  0.079786   \n",
       "4 -0.323614 -0.407616  1.151730 -0.125067 -0.132234 -0.099762  0.089695   \n",
       "\n",
       "        PC8       PC9      PC10  ...      PC32      PC33      PC34      PC35  \\\n",
       "0 -0.028979  0.201742 -0.219344  ... -0.204261 -0.141311  0.006484  0.001501   \n",
       "1 -0.232535 -0.151614 -0.060058  ...  0.018280  0.018406  0.045572  0.002888   \n",
       "2 -0.069715 -1.021228  1.609742  ... -0.096222 -0.161149  0.017480 -0.006695   \n",
       "3 -0.320107 -0.354221  0.224518  ...  0.076437 -0.013486 -0.019661  0.001224   \n",
       "4 -0.142944 -0.136906  0.239900  ... -0.134603 -0.043983  0.002488  0.002908   \n",
       "\n",
       "       PC36      PC37      PC38      PC39      PC40      PC41  \n",
       "0  0.029512 -0.001576  0.000181 -0.000272 -0.000019 -0.000140  \n",
       "1 -0.003298 -0.000816  0.003744 -0.000224 -0.000083 -0.000054  \n",
       "2  0.042586 -0.000229  0.003593  0.001411 -0.000164  0.000167  \n",
       "3 -0.002444 -0.000980  0.000238 -0.000451 -0.000128 -0.000095  \n",
       "4  0.013949 -0.001173  0.003319 -0.000070 -0.000030 -0.000037  \n",
       "\n",
       "[5 rows x 41 columns]"
      ]
     },
     "execution_count": 279,
     "metadata": {},
     "output_type": "execute_result"
    }
   ],
   "source": [
    "pca_df = pd.DataFrame(XD, columns=[f'PC{x+1}' for x in range((pca.n_components_))])\n",
    "\n",
    "pca_df.head()"
   ]
  },
  {
   "cell_type": "code",
   "execution_count": 280,
   "metadata": {
    "Collapsed": "false"
   },
   "outputs": [
    {
     "data": {
      "image/png": "[encoded data removed]",
      "text/plain": [
       "<Figure size 432x288 with 1 Axes>"
      ]
     },
     "metadata": {
      "needs_background": "light"
     },
     "output_type": "display_data"
    }
   ],
   "source": [
    "plt.figure()\n",
    "plt.plot(np.cumsum(pca.explained_variance_ratio_))\n",
    "plt.xlabel('Number of Components')\n",
    "plt.ylabel('Variance (%)') #for each component\n",
    "plt.title('Companies Dataset Explained Variance')\n",
    "plt.show()"
   ]
  },
  {
   "cell_type": "code",
   "execution_count": 284,
   "metadata": {
    "Collapsed": "false"
   },
   "outputs": [],
   "source": [
    "pca1 = PCA(n_components = 30)"
   ]
  },
  {
   "cell_type": "code",
   "execution_count": 286,
   "metadata": {
    "Collapsed": "false"
   },
   "outputs": [
    {
     "name": "stdout",
     "output_type": "stream",
     "text": [
      "30 principal components explain: 0.9904377489189922 of the data variance\n"
     ]
    }
   ],
   "source": [
    "XD1 = pca1.fit_transform(scaled)\n",
    "print('30 principal components explain:', pca1.explained_variance_ratio_.sum(), 'of the data variance')\n"
   ]
  },
  {
   "cell_type": "markdown",
   "metadata": {
    "Collapsed": "false"
   },
   "source": [
    "# Clustering"
   ]
  },
  {
   "cell_type": "markdown",
   "metadata": {
    "Collapsed": "false"
   },
   "source": [
    "## K-Means on PCA Data"
   ]
  },
  {
   "cell_type": "code",
   "execution_count": 311,
   "metadata": {
    "Collapsed": "false"
   },
   "outputs": [
    {
     "data": {
      "text/plain": [
       "100082.1031376648"
      ]
     },
     "execution_count": 311,
     "metadata": {},
     "output_type": "execute_result"
    }
   ],
   "source": [
    "from sklearn.cluster import KMeans\n",
    "    \n",
    "pca_kmeans = KMeans(n_clusters = 30, n_init = 10, random_state =0).fit(XD)\n",
    "pca_kmeans.inertia_"
   ]
  },
  {
   "cell_type": "code",
   "execution_count": 312,
   "metadata": {
    "Collapsed": "false"
   },
   "outputs": [],
   "source": [
    "pred = pca_kmeans.predict(XD)\n",
    "df = pd.DataFrame(pred, columns = ['pred'])"
   ]
  },
  {
   "cell_type": "code",
   "execution_count": 313,
   "metadata": {
    "Collapsed": "false"
   },
   "outputs": [
    {
     "data": {
      "text/plain": [
       "13    5249\n",
       "29    2226\n",
       "0      975\n",
       "22     189\n",
       "23     123\n",
       "10      15\n",
       "28      14\n",
       "16       5\n",
       "12       5\n",
       "14       5\n",
       "25       3\n",
       "8        2\n",
       "27       2\n",
       "15       2\n",
       "6        1\n",
       "24       1\n",
       "1        1\n",
       "9        1\n",
       "17       1\n",
       "2        1\n",
       "3        1\n",
       "18       1\n",
       "26       1\n",
       "11       1\n",
       "4        1\n",
       "20       1\n",
       "5        1\n",
       "7        1\n",
       "21       1\n",
       "19       1\n",
       "Name: pred, dtype: int64"
      ]
     },
     "execution_count": 313,
     "metadata": {},
     "output_type": "execute_result"
    }
   ],
   "source": [
    "df.pred.value_counts()"
   ]
  },
  {
   "cell_type": "code",
   "execution_count": 314,
   "metadata": {
    "Collapsed": "false"
   },
   "outputs": [
    {
     "data": {
      "image/png": "[encoded data removed]",
      "text/plain": [
       "<Figure size 432x288 with 1 Axes>"
      ]
     },
     "metadata": {
      "needs_background": "light"
     },
     "output_type": "display_data"
    }
   ],
   "source": [
    "km = KMeans(n_clusters=30)\n",
    "km.fit(scaled)\n",
    "predicted = km.predict(XD)\n",
    "plt.scatter(X1.iloc[:, 0], \n",
    "            X1.iloc[:, 1], c=predicted, s=50, cmap='viridis');"
   ]
  },
  {
   "cell_type": "markdown",
   "metadata": {
    "Collapsed": "false"
   },
   "source": [
    "## K-Means on Original Data"
   ]
  },
  {
   "cell_type": "code",
   "execution_count": 306,
   "metadata": {
    "Collapsed": "false"
   },
   "outputs": [
    {
     "data": {
      "text/plain": [
       "100082.10313766473"
      ]
     },
     "execution_count": 306,
     "metadata": {},
     "output_type": "execute_result"
    }
   ],
   "source": [
    "from sklearn.cluster import KMeans\n",
    "    \n",
    "std_km = KMeans(n_clusters = 30, n_init = 10, random_state =0).fit(scaled)\n",
    "std_km.inertia_"
   ]
  },
  {
   "cell_type": "code",
   "execution_count": 309,
   "metadata": {
    "Collapsed": "false"
   },
   "outputs": [
    {
     "data": {
      "text/plain": [
       "13    5249\n",
       "29    2226\n",
       "0      975\n",
       "22     189\n",
       "23     123\n",
       "10      15\n",
       "28      14\n",
       "16       5\n",
       "12       5\n",
       "14       5\n",
       "25       3\n",
       "8        2\n",
       "27       2\n",
       "15       2\n",
       "6        1\n",
       "24       1\n",
       "1        1\n",
       "9        1\n",
       "17       1\n",
       "2        1\n",
       "3        1\n",
       "18       1\n",
       "26       1\n",
       "11       1\n",
       "4        1\n",
       "20       1\n",
       "5        1\n",
       "7        1\n",
       "21       1\n",
       "19       1\n",
       "Name: pred, dtype: int64"
      ]
     },
     "execution_count": 309,
     "metadata": {},
     "output_type": "execute_result"
    }
   ],
   "source": [
    "pred = std_km.predict(scaled)\n",
    "df = pd.DataFrame(pred, columns = ['pred'])\n",
    "df.pred.value_counts()"
   ]
  },
  {
   "cell_type": "code",
   "execution_count": 315,
   "metadata": {
    "Collapsed": "false"
   },
   "outputs": [
    {
     "data": {
      "image/png": "[encoded data removed]",
      "text/plain": [
       "<Figure size 432x288 with 1 Axes>"
      ]
     },
     "metadata": {
      "needs_background": "light"
     },
     "output_type": "display_data"
    }
   ],
   "source": [
    "km = KMeans(n_clusters=30)\n",
    "km.fit(scaled)\n",
    "predicted = km.predict(scaled)\n",
    "plt.scatter(X1.iloc[:, 0], \n",
    "            X1.iloc[:, 1], c=predicted, s=50, cmap='viridis');"
   ]
  },
  {
   "cell_type": "markdown",
   "metadata": {
    "Collapsed": "false"
   },
   "source": [
    "### Elbow Method - Finding the optimal number of clusters"
   ]
  },
  {
   "cell_type": "markdown",
   "metadata": {
    "Collapsed": "false"
   },
   "source": [
    "The below method suggests a high number of clusters ~30 required to establish clear separation. We use cosine distance which works better than Euclidian distance in high dimensional datasets. "
   ]
  },
  {
   "cell_type": "code",
   "execution_count": 292,
   "metadata": {
    "Collapsed": "false"
   },
   "outputs": [
    {
     "data": {
      "text/plain": [
       "Text(0.5, 1.0, 'Inertia of Cosine k-Means versus number of clusters')"
      ]
     },
     "execution_count": 292,
     "metadata": {},
     "output_type": "execute_result"
    },
    {
     "data": {
      "image/png": "[encoded data removed]",
      "text/plain": [
       "<Figure size 432x288 with 1 Axes>"
      ]
     },
     "metadata": {
      "needs_background": "light"
     },
     "output_type": "display_data"
    }
   ],
   "source": [
    "scores = [KMeans(n_clusters=i+2).fit(scaled).inertia_ for i in range(30)]\n",
    "sns.lineplot(np.arange(2, 32), scores)\n",
    "plt.xlabel('Number of clusters')\n",
    "plt.ylabel(\"Inertia\")\n",
    "plt.title(\"Inertia of Cosine k-Means versus number of clusters\")"
   ]
  },
  {
   "cell_type": "code",
   "execution_count": 293,
   "metadata": {
    "Collapsed": "false"
   },
   "outputs": [
    {
     "data": {
      "image/png": "[encoded data removed]",
      "text/plain": [
       "<Figure size 720x720 with 1 Axes>"
      ]
     },
     "metadata": {
      "needs_background": "light"
     },
     "output_type": "display_data"
    }
   ],
   "source": [
    "sse = []\n",
    "list_k = list(range(1, 50))\n",
    "\n",
    "for k in list_k:\n",
    "    km = KMeans(n_clusters=k)\n",
    "    km.fit(scaled)\n",
    "    sse.append(km.inertia_)\n",
    "\n",
    "# Plot sse against k\n",
    "plt.figure(figsize=(10, 10))\n",
    "plt.plot(list_k, sse, '-o')\n",
    "plt.xlabel(r'Number of clusters *k*')\n",
    "plt.ylabel('Sum of squared distance');"
   ]
  },
  {
   "cell_type": "markdown",
   "metadata": {
    "Collapsed": "false"
   },
   "source": [
    "## Silhouette Method - Evaluation"
   ]
  },
  {
   "cell_type": "code",
   "execution_count": 118,
   "metadata": {
    "Collapsed": "false"
   },
   "outputs": [],
   "source": [
    "from sklearn.metrics import silhouette_score"
   ]
  },
  {
   "cell_type": "code",
   "execution_count": 301,
   "metadata": {
    "Collapsed": "false"
   },
   "outputs": [],
   "source": [
    "kmeans = KMeans(n_clusters =30).fit(XD)\n",
    "normalized_km = KMeans(n_clusters =30).fit(XD)\n",
    "min_samples = df.shape[1]+1\n",
    "dbscan = DBSCAN(eps = 3.5, min_samples = 30).fit(XD)"
   ]
  },
  {
   "cell_type": "code",
   "execution_count": 303,
   "metadata": {
    "Collapsed": "false"
   },
   "outputs": [
    {
     "name": "stdout",
     "output_type": "stream",
     "text": [
      "kmeans: 0.2017032540158418\n",
      "Cosine kmeans:-0.14678999331092163\n",
      "DBSCAN: -0.14678999331092163\n"
     ]
    }
   ],
   "source": [
    "print('kmeans: {}'.format(silhouette_score(XD, kmeans.labels_, \n",
    "                                           metric='euclidean')))\n",
    "print('Cosine kmeans:{}'.format(silhouette_score(scaled,\n",
    "                                          kmeans.labels_,\n",
    "                                          metric='cosine')))\n",
    "print('DBSCAN: {}'.format(silhouette_score(XD, kmeans.labels_, \n",
    "                                           metric='cosine')))"
   ]
  },
  {
   "cell_type": "markdown",
   "metadata": {
    "Collapsed": "false"
   },
   "source": [
    "### Bayesian Gaussian Mixture Models"
   ]
  },
  {
   "cell_type": "code",
   "execution_count": 17,
   "metadata": {
    "Collapsed": "false"
   },
   "outputs": [],
   "source": [
    "from sklearn.mixture import BayesianGaussianMixture"
   ]
  },
  {
   "cell_type": "code",
   "execution_count": 21,
   "metadata": {
    "Collapsed": "false"
   },
   "outputs": [],
   "source": [
    "bgm = BayesianGaussianMixture(n_components = 100, n_init = 10)"
   ]
  },
  {
   "cell_type": "code",
   "execution_count": 22,
   "metadata": {
    "Collapsed": "false"
   },
   "outputs": [
    {
     "data": {
      "text/plain": [
       "BayesianGaussianMixture(covariance_prior=None, covariance_type='full',\n",
       "                        degrees_of_freedom_prior=None, init_params='kmeans',\n",
       "                        max_iter=100, mean_precision_prior=None,\n",
       "                        mean_prior=None, n_components=100, n_init=10,\n",
       "                        random_state=None, reg_covar=1e-06, tol=0.001,\n",
       "                        verbose=0, verbose_interval=10, warm_start=False,\n",
       "                        weight_concentration_prior=None,\n",
       "                        weight_concentration_prior_type='dirichlet_process')"
      ]
     },
     "execution_count": 22,
     "metadata": {},
     "output_type": "execute_result"
    }
   ],
   "source": [
    "bgm.fit(comb2)"
   ]
  },
  {
   "cell_type": "code",
   "execution_count": 23,
   "metadata": {
    "Collapsed": "false"
   },
   "outputs": [
    {
     "data": {
      "text/plain": [
       "array([0.02, 0.  , 0.  , 0.  , 0.  , 0.  , 0.  , 0.  , 0.  , 0.  , 0.  ,\n",
       "       0.  , 0.  , 0.  , 0.  , 0.  , 0.  , 0.  , 0.  , 0.  , 0.  , 0.  ,\n",
       "       0.  , 0.  , 0.  , 0.04, 0.  , 0.  , 0.  , 0.  , 0.  , 0.01, 0.  ,\n",
       "       0.  , 0.  , 0.  , 0.01, 0.  , 0.  , 0.  , 0.  , 0.  , 0.  , 0.  ,\n",
       "       0.02, 0.  , 0.  , 0.  , 0.  , 0.  , 0.  , 0.  , 0.  , 0.  , 0.  ,\n",
       "       0.07, 0.  , 0.  , 0.  , 0.  , 0.  , 0.  , 0.  , 0.  , 0.  , 0.  ,\n",
       "       0.  , 0.  , 0.  , 0.  , 0.  , 0.06, 0.  , 0.  , 0.  , 0.  , 0.  ,\n",
       "       0.  , 0.62, 0.  , 0.  , 0.  , 0.  , 0.  , 0.  , 0.  , 0.  , 0.  ,\n",
       "       0.  , 0.01, 0.  , 0.  , 0.  , 0.09, 0.  , 0.  , 0.  , 0.  , 0.  ,\n",
       "       0.  ])"
      ]
     },
     "execution_count": 23,
     "metadata": {},
     "output_type": "execute_result"
    }
   ],
   "source": [
    "np.round(bgm.weights_, 2)"
   ]
  }
 ],
 "metadata": {
  "kernelspec": {
   "display_name": "Python 3",
   "language": "python",
   "name": "python3"
  },
  "language_info": {
   "codemirror_mode": {
    "name": "ipython",
    "version": 3
   },
   "file_extension": ".py",
   "mimetype": "text/x-python",
   "name": "python",
   "nbconvert_exporter": "python",
   "pygments_lexer": "ipython3",
   "version": "3.6.8"
  },
  "toc-showmarkdowntxt": false,
  "toc-showtags": false
 },
 "nbformat": 4,
 "nbformat_minor": 4
}
