{
 "cells": [
  {
   "cell_type": "code",
   "execution_count": 35,
   "metadata": {
    "Collapsed": "false"
   },
   "outputs": [
    {
     "name": "stdout",
     "output_type": "stream",
     "text": [
      "The autoreload extension is already loaded. To reload it, use:\n",
      "  %reload_ext autoreload\n"
     ]
    }
   ],
   "source": [
    "import websocket\n",
    "import pandas as pd\n",
    "import requests\n",
    "from pandas.io.json import json_normalize\n",
    "import json\n",
    "from code_ref import get_keys\n",
    "from code_ref import findata\n",
    "from code_ref import FinnhubRequestException\n",
    "from code_ref import FinnhubAPIException\n",
    "import time\n",
    "import threading\n",
    "%matplotlib inline\n",
    "%load_ext autoreload\n",
    "%autoreload 2\n"
   ]
  },
  {
   "cell_type": "code",
   "execution_count": 36,
   "metadata": {
    "Collapsed": "false"
   },
   "outputs": [],
   "source": [
    "keys = get_keys(\"/Users/augustingoudet/.secret/code_file\") #Finnhub Key\n",
    "api_key1 = keys ['finnhub'] #api_key\n",
    "company = \"SBUX\" #Company Ticker\n",
    "\n",
    "query = findata(api_key = api_key1)\n"
   ]
  },
  {
   "cell_type": "code",
   "execution_count": 42,
   "metadata": {
    "Collapsed": "false"
   },
   "outputs": [],
   "source": [
    "url = \"https://finnhub.io/api/v1/\"\n",
    "\n",
    "ext1 = \"?symbol={}&token={}\"\n",
    "ext2 = \"?symbol={}&metric=management&token={}\"\n",
    "ext3 = \"?symbol={}&metric=margin&token={}\"\n",
    "ext4 = \"?symbol={}&metric=growth&token={}\"\n",
    "ext5 = \"?symbol={}&metric=price&token={}\"\n",
    "\n",
    "profile =\"stock/profile\"\n",
    "ceo_comp = \"stock/ceo-compensation\"\n",
    "board = \"stock/executive\"\n",
    "reco = \"stock/recommendation\"\n",
    "price_target = \"stock/price-target\"\n",
    "up_down = \"stock/upgrade-downgrade\"\n",
    "peers = \"stock/peers\"\n",
    "rev_est = \"stock/revenue-estimate\"\n",
    "eps_est = \"stock/eps-estimate\"\n",
    "ownership = \"stock/investor-ownership\"\n",
    "metric_1 = \"stock/metric\"\n",
    "quote = \"quote\"\n",
    "news = \"news\"\n",
    "covid = \"covid19\"\n",
    "transcript = \"stock/transcripts\"\n",
    "divs = \"stock/dividend?symbol={}&from=2019-02-01&to=2020-02-01\"\n",
    "split = \"stock/split?symbol=AAPL&from=2010-02-01&to=2020-02-01\"\n",
    "inc = \"stock/financials?symbol={}&statement=is&freq=annual\"\n",
    "bs = \"stock/financials?symbol={}&statement=bs&freq=annual\"\n",
    "cfs = \"stock/financials?symbol={}&statement=cf&freq=annual\"\n"
   ]
  },
  {
   "cell_type": "code",
   "execution_count": 38,
   "metadata": {
    "Collapsed": "false"
   },
   "outputs": [],
   "source": [
    "tickers = pd.read_csv('Ticker_list_1.csv')"
   ]
  },
  {
   "cell_type": "code",
   "execution_count": 39,
   "metadata": {
    "Collapsed": "false"
   },
   "outputs": [],
   "source": [
    "tick = list(tickers.Ticker)\n",
    "tick1 = tick[:7]"
   ]
  },
  {
   "cell_type": "markdown",
   "metadata": {
    "Collapsed": "false"
   },
   "source": [
    "## Profiling Data"
   ]
  },
  {
   "cell_type": "code",
   "execution_count": 40,
   "metadata": {
    "Collapsed": "false"
   },
   "outputs": [
    {
     "name": "stdout",
     "output_type": "stream",
     "text": [
      "CPU times: user 3 µs, sys: 0 ns, total: 3 µs\n",
      "Wall time: 13.1 µs\n"
     ]
    }
   ],
   "source": [
    "results = []\n",
    "\n",
    "for items in tick1: \n",
    "    data = query.ceo_compensation(symbol = items)\n",
    "    results.append(data)\n",
    "    df = pd.DataFrame(results)\n",
    "    df.dropna(inplace = True)\n",
    "\n",
    "\n",
    "%time"
   ]
  },
  {
   "cell_type": "code",
   "execution_count": 41,
   "metadata": {
    "Collapsed": "false"
   },
   "outputs": [
    {
     "data": {
      "text/html": [
       "<div>\n",
       "<style scoped>\n",
       "    .dataframe tbody tr th:only-of-type {\n",
       "        vertical-align: middle;\n",
       "    }\n",
       "\n",
       "    .dataframe tbody tr th {\n",
       "        vertical-align: top;\n",
       "    }\n",
       "\n",
       "    .dataframe thead th {\n",
       "        text-align: right;\n",
       "    }\n",
       "</style>\n",
       "<table border=\"1\" class=\"dataframe\">\n",
       "  <thead>\n",
       "    <tr style=\"text-align: right;\">\n",
       "      <th></th>\n",
       "      <th>bonus</th>\n",
       "      <th>companyName</th>\n",
       "      <th>location</th>\n",
       "      <th>name</th>\n",
       "      <th>nonEquityIncentives</th>\n",
       "      <th>optionAwards</th>\n",
       "      <th>otherComp</th>\n",
       "      <th>pensionAndDeferred</th>\n",
       "      <th>salary</th>\n",
       "      <th>stockAwards</th>\n",
       "      <th>symbol</th>\n",
       "      <th>total</th>\n",
       "      <th>year</th>\n",
       "    </tr>\n",
       "  </thead>\n",
       "  <tbody>\n",
       "    <tr>\n",
       "      <th>1</th>\n",
       "      <td>0.0</td>\n",
       "      <td>Apple Inc.</td>\n",
       "      <td>Cupertino, CA</td>\n",
       "      <td>Timothy Cook</td>\n",
       "      <td>12000000.0</td>\n",
       "      <td>0.0</td>\n",
       "      <td>682219.0</td>\n",
       "      <td>0.0</td>\n",
       "      <td>3000000.0</td>\n",
       "      <td>0.0</td>\n",
       "      <td>AAPL</td>\n",
       "      <td>15682219.0</td>\n",
       "      <td>2018</td>\n",
       "    </tr>\n",
       "    <tr>\n",
       "      <th>2</th>\n",
       "      <td>0.0</td>\n",
       "      <td>Bank of America Corp</td>\n",
       "      <td>Charlotte, NC</td>\n",
       "      <td>Brian Moynihan</td>\n",
       "      <td>0.0</td>\n",
       "      <td>0.0</td>\n",
       "      <td>382263.0</td>\n",
       "      <td>320159.0</td>\n",
       "      <td>1500000.0</td>\n",
       "      <td>20552088.0</td>\n",
       "      <td>BAC</td>\n",
       "      <td>22754510.0</td>\n",
       "      <td>2018</td>\n",
       "    </tr>\n",
       "    <tr>\n",
       "      <th>3</th>\n",
       "      <td>0.0</td>\n",
       "      <td>Amazon.com Inc.</td>\n",
       "      <td>Seattle, WA</td>\n",
       "      <td>Jeffrey Bezos</td>\n",
       "      <td>0.0</td>\n",
       "      <td>0.0</td>\n",
       "      <td>1600000.0</td>\n",
       "      <td>0.0</td>\n",
       "      <td>81840.0</td>\n",
       "      <td>0.0</td>\n",
       "      <td>AMZN</td>\n",
       "      <td>1681840.0</td>\n",
       "      <td>2018</td>\n",
       "    </tr>\n",
       "    <tr>\n",
       "      <th>4</th>\n",
       "      <td>0.0</td>\n",
       "      <td>AT&amp;T Inc.</td>\n",
       "      <td>Dallas, TX</td>\n",
       "      <td>Randall Stephenson</td>\n",
       "      <td>5192000.0</td>\n",
       "      <td>0.0</td>\n",
       "      <td>1538538.0</td>\n",
       "      <td>3517806.0</td>\n",
       "      <td>1800000.0</td>\n",
       "      <td>17069774.0</td>\n",
       "      <td>T</td>\n",
       "      <td>29118118.0</td>\n",
       "      <td>2018</td>\n",
       "    </tr>\n",
       "    <tr>\n",
       "      <th>6</th>\n",
       "      <td>0.0</td>\n",
       "      <td>Altria Group Inc</td>\n",
       "      <td>Richmond, VA</td>\n",
       "      <td>Martin Barrington</td>\n",
       "      <td>833300.0</td>\n",
       "      <td>0.0</td>\n",
       "      <td>175665.0</td>\n",
       "      <td>1505621.0</td>\n",
       "      <td>684816.0</td>\n",
       "      <td>0.0</td>\n",
       "      <td>MO</td>\n",
       "      <td>3199402.0</td>\n",
       "      <td>2018</td>\n",
       "    </tr>\n",
       "  </tbody>\n",
       "</table>\n",
       "</div>"
      ],
      "text/plain": [
       "   bonus           companyName       location                name  \\\n",
       "1    0.0            Apple Inc.  Cupertino, CA        Timothy Cook   \n",
       "2    0.0  Bank of America Corp  Charlotte, NC      Brian Moynihan   \n",
       "3    0.0       Amazon.com Inc.    Seattle, WA       Jeffrey Bezos   \n",
       "4    0.0             AT&T Inc.     Dallas, TX  Randall Stephenson   \n",
       "6    0.0      Altria Group Inc   Richmond, VA   Martin Barrington   \n",
       "\n",
       "   nonEquityIncentives  optionAwards  otherComp  pensionAndDeferred  \\\n",
       "1           12000000.0           0.0   682219.0                 0.0   \n",
       "2                  0.0           0.0   382263.0            320159.0   \n",
       "3                  0.0           0.0  1600000.0                 0.0   \n",
       "4            5192000.0           0.0  1538538.0           3517806.0   \n",
       "6             833300.0           0.0   175665.0           1505621.0   \n",
       "\n",
       "      salary  stockAwards symbol       total  year  \n",
       "1  3000000.0          0.0   AAPL  15682219.0  2018  \n",
       "2  1500000.0   20552088.0    BAC  22754510.0  2018  \n",
       "3    81840.0          0.0   AMZN   1681840.0  2018  \n",
       "4  1800000.0   17069774.0      T  29118118.0  2018  \n",
       "6   684816.0          0.0     MO   3199402.0  2018  "
      ]
     },
     "execution_count": 41,
     "metadata": {},
     "output_type": "execute_result"
    }
   ],
   "source": [
    "df"
   ]
  },
  {
   "cell_type": "markdown",
   "metadata": {
    "Collapsed": "false"
   },
   "source": [
    "## board members / executive"
   ]
  },
  {
   "cell_type": "code",
   "execution_count": 59,
   "metadata": {
    "Collapsed": "false"
   },
   "outputs": [],
   "source": [
    "results = []\n",
    "\n",
    "for items in tick1: \n",
    "    data = url + ceo_comp + ext1.format(items, api_key1)\n",
    "    req = requests.get(data)\n",
    "    content = req.json()\n",
    "    results.append(content)\n",
    "    df1 = pd.DataFrame(results)\n",
    "    df1.dropna(inplace = True)"
   ]
  },
  {
   "cell_type": "code",
   "execution_count": 60,
   "metadata": {
    "Collapsed": "false"
   },
   "outputs": [
    {
     "data": {
      "text/html": [
       "<div>\n",
       "<style scoped>\n",
       "    .dataframe tbody tr th:only-of-type {\n",
       "        vertical-align: middle;\n",
       "    }\n",
       "\n",
       "    .dataframe tbody tr th {\n",
       "        vertical-align: top;\n",
       "    }\n",
       "\n",
       "    .dataframe thead th {\n",
       "        text-align: right;\n",
       "    }\n",
       "</style>\n",
       "<table border=\"1\" class=\"dataframe\">\n",
       "  <thead>\n",
       "    <tr style=\"text-align: right;\">\n",
       "      <th></th>\n",
       "      <th>bonus</th>\n",
       "      <th>companyName</th>\n",
       "      <th>location</th>\n",
       "      <th>name</th>\n",
       "      <th>nonEquityIncentives</th>\n",
       "      <th>optionAwards</th>\n",
       "      <th>otherComp</th>\n",
       "      <th>pensionAndDeferred</th>\n",
       "      <th>salary</th>\n",
       "      <th>stockAwards</th>\n",
       "      <th>symbol</th>\n",
       "      <th>total</th>\n",
       "      <th>year</th>\n",
       "    </tr>\n",
       "  </thead>\n",
       "  <tbody>\n",
       "    <tr>\n",
       "      <th>1</th>\n",
       "      <td>0.0</td>\n",
       "      <td>Apple Inc.</td>\n",
       "      <td>Cupertino, CA</td>\n",
       "      <td>Timothy Cook</td>\n",
       "      <td>12000000.0</td>\n",
       "      <td>0.0</td>\n",
       "      <td>682219.0</td>\n",
       "      <td>0.0</td>\n",
       "      <td>3000000.0</td>\n",
       "      <td>0.0</td>\n",
       "      <td>AAPL</td>\n",
       "      <td>15682219.0</td>\n",
       "      <td>2018</td>\n",
       "    </tr>\n",
       "    <tr>\n",
       "      <th>2</th>\n",
       "      <td>0.0</td>\n",
       "      <td>Bank of America Corp</td>\n",
       "      <td>Charlotte, NC</td>\n",
       "      <td>Brian Moynihan</td>\n",
       "      <td>0.0</td>\n",
       "      <td>0.0</td>\n",
       "      <td>382263.0</td>\n",
       "      <td>320159.0</td>\n",
       "      <td>1500000.0</td>\n",
       "      <td>20552088.0</td>\n",
       "      <td>BAC</td>\n",
       "      <td>22754510.0</td>\n",
       "      <td>2018</td>\n",
       "    </tr>\n",
       "    <tr>\n",
       "      <th>3</th>\n",
       "      <td>0.0</td>\n",
       "      <td>Amazon.com Inc.</td>\n",
       "      <td>Seattle, WA</td>\n",
       "      <td>Jeffrey Bezos</td>\n",
       "      <td>0.0</td>\n",
       "      <td>0.0</td>\n",
       "      <td>1600000.0</td>\n",
       "      <td>0.0</td>\n",
       "      <td>81840.0</td>\n",
       "      <td>0.0</td>\n",
       "      <td>AMZN</td>\n",
       "      <td>1681840.0</td>\n",
       "      <td>2018</td>\n",
       "    </tr>\n",
       "    <tr>\n",
       "      <th>4</th>\n",
       "      <td>0.0</td>\n",
       "      <td>AT&amp;T Inc.</td>\n",
       "      <td>Dallas, TX</td>\n",
       "      <td>Randall Stephenson</td>\n",
       "      <td>5192000.0</td>\n",
       "      <td>0.0</td>\n",
       "      <td>1538538.0</td>\n",
       "      <td>3517806.0</td>\n",
       "      <td>1800000.0</td>\n",
       "      <td>17069774.0</td>\n",
       "      <td>T</td>\n",
       "      <td>29118118.0</td>\n",
       "      <td>2018</td>\n",
       "    </tr>\n",
       "    <tr>\n",
       "      <th>6</th>\n",
       "      <td>0.0</td>\n",
       "      <td>Altria Group Inc</td>\n",
       "      <td>Richmond, VA</td>\n",
       "      <td>Martin Barrington</td>\n",
       "      <td>833300.0</td>\n",
       "      <td>0.0</td>\n",
       "      <td>175665.0</td>\n",
       "      <td>1505621.0</td>\n",
       "      <td>684816.0</td>\n",
       "      <td>0.0</td>\n",
       "      <td>MO</td>\n",
       "      <td>3199402.0</td>\n",
       "      <td>2018</td>\n",
       "    </tr>\n",
       "  </tbody>\n",
       "</table>\n",
       "</div>"
      ],
      "text/plain": [
       "   bonus           companyName       location                name  \\\n",
       "1    0.0            Apple Inc.  Cupertino, CA        Timothy Cook   \n",
       "2    0.0  Bank of America Corp  Charlotte, NC      Brian Moynihan   \n",
       "3    0.0       Amazon.com Inc.    Seattle, WA       Jeffrey Bezos   \n",
       "4    0.0             AT&T Inc.     Dallas, TX  Randall Stephenson   \n",
       "6    0.0      Altria Group Inc   Richmond, VA   Martin Barrington   \n",
       "\n",
       "   nonEquityIncentives  optionAwards  otherComp  pensionAndDeferred  \\\n",
       "1           12000000.0           0.0   682219.0                 0.0   \n",
       "2                  0.0           0.0   382263.0            320159.0   \n",
       "3                  0.0           0.0  1600000.0                 0.0   \n",
       "4            5192000.0           0.0  1538538.0           3517806.0   \n",
       "6             833300.0           0.0   175665.0           1505621.0   \n",
       "\n",
       "      salary  stockAwards symbol       total  year  \n",
       "1  3000000.0          0.0   AAPL  15682219.0  2018  \n",
       "2  1500000.0   20552088.0    BAC  22754510.0  2018  \n",
       "3    81840.0          0.0   AMZN   1681840.0  2018  \n",
       "4  1800000.0   17069774.0      T  29118118.0  2018  \n",
       "6   684816.0          0.0     MO   3199402.0  2018  "
      ]
     },
     "execution_count": 60,
     "metadata": {},
     "output_type": "execute_result"
    }
   ],
   "source": [
    "df1"
   ]
  },
  {
   "cell_type": "markdown",
   "metadata": {
    "Collapsed": "false"
   },
   "source": [
    "## analyst recommendation "
   ]
  },
  {
   "cell_type": "code",
   "execution_count": 68,
   "metadata": {
    "Collapsed": "false"
   },
   "outputs": [
    {
     "data": {
      "text/html": [
       "<div>\n",
       "<style scoped>\n",
       "    .dataframe tbody tr th:only-of-type {\n",
       "        vertical-align: middle;\n",
       "    }\n",
       "\n",
       "    .dataframe tbody tr th {\n",
       "        vertical-align: top;\n",
       "    }\n",
       "\n",
       "    .dataframe thead th {\n",
       "        text-align: right;\n",
       "    }\n",
       "</style>\n",
       "<table border=\"1\" class=\"dataframe\">\n",
       "  <thead>\n",
       "    <tr style=\"text-align: right;\">\n",
       "      <th></th>\n",
       "      <th>actual</th>\n",
       "      <th>estimate</th>\n",
       "      <th>period</th>\n",
       "      <th>symbol</th>\n",
       "    </tr>\n",
       "  </thead>\n",
       "  <tbody>\n",
       "    <tr>\n",
       "      <th>0</th>\n",
       "      <td>0.79000</td>\n",
       "      <td>0.75864</td>\n",
       "      <td>2019-12-31</td>\n",
       "      <td>SBUX</td>\n",
       "    </tr>\n",
       "    <tr>\n",
       "      <th>1</th>\n",
       "      <td>0.70000</td>\n",
       "      <td>0.69867</td>\n",
       "      <td>2019-09-30</td>\n",
       "      <td>SBUX</td>\n",
       "    </tr>\n",
       "    <tr>\n",
       "      <th>2</th>\n",
       "      <td>0.78000</td>\n",
       "      <td>0.72407</td>\n",
       "      <td>2019-06-30</td>\n",
       "      <td>SBUX</td>\n",
       "    </tr>\n",
       "    <tr>\n",
       "      <th>3</th>\n",
       "      <td>0.60000</td>\n",
       "      <td>0.56313</td>\n",
       "      <td>2019-03-31</td>\n",
       "      <td>SBUX</td>\n",
       "    </tr>\n",
       "    <tr>\n",
       "      <th>4</th>\n",
       "      <td>0.68000</td>\n",
       "      <td>0.64839</td>\n",
       "      <td>2018-12-31</td>\n",
       "      <td>SBUX</td>\n",
       "    </tr>\n",
       "    <tr>\n",
       "      <th>...</th>\n",
       "      <td>...</td>\n",
       "      <td>...</td>\n",
       "      <td>...</td>\n",
       "      <td>...</td>\n",
       "    </tr>\n",
       "    <tr>\n",
       "      <th>72</th>\n",
       "      <td>0.03750</td>\n",
       "      <td>0.03684</td>\n",
       "      <td>2001-12-31</td>\n",
       "      <td>SBUX</td>\n",
       "    </tr>\n",
       "    <tr>\n",
       "      <th>73</th>\n",
       "      <td>0.03500</td>\n",
       "      <td>0.03334</td>\n",
       "      <td>2001-09-30</td>\n",
       "      <td>SBUX</td>\n",
       "    </tr>\n",
       "    <tr>\n",
       "      <th>74</th>\n",
       "      <td>0.03000</td>\n",
       "      <td>0.03035</td>\n",
       "      <td>2001-06-30</td>\n",
       "      <td>SBUX</td>\n",
       "    </tr>\n",
       "    <tr>\n",
       "      <th>75</th>\n",
       "      <td>0.02000</td>\n",
       "      <td>0.01986</td>\n",
       "      <td>2001-03-31</td>\n",
       "      <td>SBUX</td>\n",
       "    </tr>\n",
       "    <tr>\n",
       "      <th>76</th>\n",
       "      <td>0.03125</td>\n",
       "      <td>0.02890</td>\n",
       "      <td>2000-12-31</td>\n",
       "      <td>SBUX</td>\n",
       "    </tr>\n",
       "  </tbody>\n",
       "</table>\n",
       "<p>77 rows × 4 columns</p>\n",
       "</div>"
      ],
      "text/plain": [
       "     actual  estimate      period symbol\n",
       "0   0.79000   0.75864  2019-12-31   SBUX\n",
       "1   0.70000   0.69867  2019-09-30   SBUX\n",
       "2   0.78000   0.72407  2019-06-30   SBUX\n",
       "3   0.60000   0.56313  2019-03-31   SBUX\n",
       "4   0.68000   0.64839  2018-12-31   SBUX\n",
       "..      ...       ...         ...    ...\n",
       "72  0.03750   0.03684  2001-12-31   SBUX\n",
       "73  0.03500   0.03334  2001-09-30   SBUX\n",
       "74  0.03000   0.03035  2001-06-30   SBUX\n",
       "75  0.02000   0.01986  2001-03-31   SBUX\n",
       "76  0.03125   0.02890  2000-12-31   SBUX\n",
       "\n",
       "[77 rows x 4 columns]"
      ]
     },
     "execution_count": 68,
     "metadata": {},
     "output_type": "execute_result"
    }
   ],
   "source": [
    "pd.DataFrame(query.earnings(symbol = \"SBUX\"))"
   ]
  },
  {
   "cell_type": "code",
   "execution_count": 73,
   "metadata": {
    "Collapsed": "false"
   },
   "outputs": [
    {
     "name": "stdout",
     "output_type": "stream",
     "text": [
      "[]\n",
      "[{'actual': 4.99, 'estimate': 4.54738, 'period': '2019-12-31', 'symbol': 'AAPL'}, {'actual': 3.03, 'estimate': 2.83934, 'period': '2019-09-30', 'symbol': 'AAPL'}, {'actual': 2.18, 'estimate': 2.09819, 'period': '2019-06-30', 'symbol': 'AAPL'}, {'actual': 2.46, 'estimate': 2.36141, 'period': '2019-03-31', 'symbol': 'AAPL'}, {'actual': 4.18, 'estimate': 4.16694, 'period': '2018-12-31', 'symbol': 'AAPL'}, {'actual': 2.91, 'estimate': 2.78306, 'period': '2018-09-30', 'symbol': 'AAPL'}, {'actual': 2.34, 'estimate': 2.18136, 'period': '2018-06-30', 'symbol': 'AAPL'}, {'actual': 2.73, 'estimate': 2.67285, 'period': '2018-03-31', 'symbol': 'AAPL'}, {'actual': 3.89, 'estimate': 3.857, 'period': '2017-12-31', 'symbol': 'AAPL'}, {'actual': 2.07, 'estimate': 1.86736, 'period': '2017-09-30', 'symbol': 'AAPL'}, {'actual': 1.67, 'estimate': 1.57153, 'period': '2017-06-30', 'symbol': 'AAPL'}, {'actual': 2.1, 'estimate': 2.01987, 'period': '2017-03-31', 'symbol': 'AAPL'}, {'actual': 3.36, 'estimate': 3.21381, 'period': '2016-12-31', 'symbol': 'AAPL'}, {'actual': 1.67, 'estimate': 1.65608, 'period': '2016-09-30', 'symbol': 'AAPL'}, {'actual': 1.42, 'estimate': 1.38403, 'period': '2016-06-30', 'symbol': 'AAPL'}, {'actual': 1.9, 'estimate': 1.99761, 'period': '2016-03-31', 'symbol': 'AAPL'}, {'actual': 3.28, 'estimate': 3.22731, 'period': '2015-12-31', 'symbol': 'AAPL'}, {'actual': 1.96, 'estimate': 1.87991, 'period': '2015-09-30', 'symbol': 'AAPL'}, {'actual': 1.85, 'estimate': 1.81149, 'period': '2015-06-30', 'symbol': 'AAPL'}, {'actual': 2.33, 'estimate': 2.15871, 'period': '2015-03-31', 'symbol': 'AAPL'}, {'actual': 3.06, 'estimate': 2.60188, 'period': '2014-12-31', 'symbol': 'AAPL'}, {'actual': 1.42, 'estimate': 1.30512, 'period': '2014-09-30', 'symbol': 'AAPL'}, {'actual': 1.28, 'estimate': 1.23103, 'period': '2014-06-30', 'symbol': 'AAPL'}, {'actual': 1.66, 'estimate': 1.45628, 'period': '2014-03-31', 'symbol': 'AAPL'}, {'actual': 2.07143, 'estimate': 2.00952, 'period': '2013-12-31', 'symbol': 'AAPL'}, {'actual': 1.18, 'estimate': 1.13656, 'period': '2013-09-30', 'symbol': 'AAPL'}, {'actual': 1.06714, 'estimate': 1.04571, 'period': '2013-06-30', 'symbol': 'AAPL'}, {'actual': 1.44143, 'estimate': 1.42884, 'period': '2013-03-31', 'symbol': 'AAPL'}, {'actual': 1.97286, 'estimate': 1.92437, 'period': '2012-12-31', 'symbol': 'AAPL'}, {'actual': 1.23857, 'estimate': 1.25, 'period': '2012-09-30', 'symbol': 'AAPL'}, {'actual': 1.33143, 'estimate': 1.48126, 'period': '2012-06-30', 'symbol': 'AAPL'}, {'actual': 1.75714, 'estimate': 1.43378, 'period': '2012-03-31', 'symbol': 'AAPL'}, {'actual': 1.98143, 'estimate': 1.45205, 'period': '2011-12-31', 'symbol': 'AAPL'}, {'actual': 1.00714, 'estimate': 1.05506, 'period': '2011-09-30', 'symbol': 'AAPL'}, {'actual': 1.11286, 'estimate': 0.83308, 'period': '2011-06-30', 'symbol': 'AAPL'}, {'actual': 0.91428, 'estimate': 0.76771, 'period': '2011-03-31', 'symbol': 'AAPL'}, {'actual': 0.91857, 'estimate': 0.77186, 'period': '2010-12-31', 'symbol': 'AAPL'}, {'actual': 0.66286, 'estimate': 0.58276, 'period': '2010-09-30', 'symbol': 'AAPL'}, {'actual': 0.50143, 'estimate': 0.44499, 'period': '2010-06-30', 'symbol': 'AAPL'}, {'actual': 0.47571, 'estimate': 0.34954, 'period': '2010-03-31', 'symbol': 'AAPL'}, {'actual': 0.52429, 'estimate': 0.29927, 'period': '2009-12-31', 'symbol': 'AAPL'}, {'actual': 0.26, 'estimate': 0.2038, 'period': '2009-09-30', 'symbol': 'AAPL'}, {'actual': 0.19286, 'estimate': 0.16793, 'period': '2009-06-30', 'symbol': 'AAPL'}, {'actual': 0.19, 'estimate': 0.15588, 'period': '2009-03-31', 'symbol': 'AAPL'}, {'actual': 0.25429, 'estimate': 0.19826, 'period': '2008-12-31', 'symbol': 'AAPL'}, {'actual': 0.18, 'estimate': 0.15887, 'period': '2008-09-30', 'symbol': 'AAPL'}, {'actual': 0.17, 'estimate': 0.15399, 'period': '2008-06-30', 'symbol': 'AAPL'}, {'actual': 0.16571, 'estimate': 0.15329, 'period': '2008-03-31', 'symbol': 'AAPL'}, {'actual': 0.25143, 'estimate': 0.23097, 'period': '2007-12-31', 'symbol': 'AAPL'}, {'actual': 0.14429, 'estimate': 0.1224, 'period': '2007-09-30', 'symbol': 'AAPL'}, {'actual': 0.13143, 'estimate': 0.10343, 'period': '2007-06-30', 'symbol': 'AAPL'}, {'actual': 0.12429, 'estimate': 0.09143, 'period': '2007-03-31', 'symbol': 'AAPL'}, {'actual': 0.16286, 'estimate': 0.11202, 'period': '2006-12-31', 'symbol': 'AAPL'}, {'actual': 0.08857, 'estimate': 0.07227, 'period': '2006-09-30', 'symbol': 'AAPL'}, {'actual': 0.07714, 'estimate': 0.06279, 'period': '2006-06-30', 'symbol': 'AAPL'}, {'actual': 0.06714, 'estimate': 0.06204, 'period': '2006-03-31', 'symbol': 'AAPL'}, {'actual': 0.09286, 'estimate': 0.08671, 'period': '2005-12-31', 'symbol': 'AAPL'}, {'actual': 0.05429, 'estimate': 0.05314, 'period': '2005-09-30', 'symbol': 'AAPL'}, {'actual': 0.05286, 'estimate': 0.04481, 'period': '2005-06-30', 'symbol': 'AAPL'}, {'actual': 0.04857, 'estimate': 0.03477, 'period': '2005-03-31', 'symbol': 'AAPL'}, {'actual': 0.05, 'estimate': 0.03474, 'period': '2004-12-31', 'symbol': 'AAPL'}, {'actual': 0.01929, 'estimate': 0.01306, 'period': '2004-09-30', 'symbol': 'AAPL'}, {'actual': 0.01214, 'estimate': 0.01056, 'period': '2004-06-30', 'symbol': 'AAPL'}, {'actual': 0.01, 'estimate': 0.00676, 'period': '2004-03-31', 'symbol': 'AAPL'}, {'actual': 0.01143, 'estimate': 0.01038, 'period': '2003-12-31', 'symbol': 'AAPL'}, {'actual': 0.00571, 'estimate': 0.00474, 'period': '2003-09-30', 'symbol': 'AAPL'}, {'actual': 0.00357, 'estimate': 0.00219, 'period': '2003-06-30', 'symbol': 'AAPL'}, {'actual': 0.00286, 'estimate': 0.00143, 'period': '2003-03-31', 'symbol': 'AAPL'}, {'actual': 0.00214, 'estimate': 0.0041, 'period': '2002-12-31', 'symbol': 'AAPL'}, {'actual': 0.00143, 'estimate': 0.00432, 'period': '2002-09-30', 'symbol': 'AAPL'}, {'actual': 0.00643, 'estimate': 0.00624, 'period': '2002-06-30', 'symbol': 'AAPL'}, {'actual': 0.00786, 'estimate': 0.0071, 'period': '2002-03-31', 'symbol': 'AAPL'}, {'actual': 0.03143, 'estimate': 0.00769, 'period': '2001-12-31', 'symbol': 'AAPL'}, {'actual': 0.01286, 'estimate': 0.01158, 'period': '2001-09-30', 'symbol': 'AAPL'}, {'actual': 0.01214, 'estimate': 0.01088, 'period': '2001-06-30', 'symbol': 'AAPL'}, {'actual': 0.00786, 'estimate': 0.00044, 'period': '2001-03-31', 'symbol': 'AAPL'}, {'actual': -0.05214, 'estimate': -0.04615, 'period': '2000-12-31', 'symbol': 'AAPL'}]\n",
      "[{'actual': 0.75, 'estimate': 0.68357, 'period': '2019-12-31', 'symbol': 'BAC'}, {'actual': 0.56, 'estimate': 0.50644, 'period': '2019-09-30', 'symbol': 'BAC'}, {'actual': 0.75, 'estimate': 0.70738, 'period': '2019-06-30', 'symbol': 'BAC'}, {'actual': 0.71, 'estimate': 0.65535, 'period': '2019-03-31', 'symbol': 'BAC'}, {'actual': 0.7, 'estimate': 0.63096, 'period': '2018-12-31', 'symbol': 'BAC'}, {'actual': 0.67, 'estimate': 0.62017, 'period': '2018-09-30', 'symbol': 'BAC'}, {'actual': 0.64, 'estimate': 0.57045, 'period': '2018-06-30', 'symbol': 'BAC'}, {'actual': 0.62, 'estimate': 0.59233, 'period': '2018-03-31', 'symbol': 'BAC'}, {'actual': 0.48, 'estimate': 0.43841, 'period': '2017-12-31', 'symbol': 'BAC'}, {'actual': 0.48, 'estimate': 0.45384, 'period': '2017-09-30', 'symbol': 'BAC'}, {'actual': 0.46, 'estimate': 0.42908, 'period': '2017-06-30', 'symbol': 'BAC'}, {'actual': 0.41, 'estimate': 0.34685, 'period': '2017-03-31', 'symbol': 'BAC'}, {'actual': 0.41, 'estimate': 0.3759, 'period': '2016-12-31', 'symbol': 'BAC'}, {'actual': 0.41, 'estimate': 0.33335, 'period': '2016-09-30', 'symbol': 'BAC'}, {'actual': 0.37, 'estimate': 0.3267, 'period': '2016-06-30', 'symbol': 'BAC'}, {'actual': 0.2, 'estimate': 0.20496, 'period': '2016-03-31', 'symbol': 'BAC'}, {'actual': 0.29, 'estimate': 0.26354, 'period': '2015-12-31', 'symbol': 'BAC'}, {'actual': 0.34, 'estimate': 0.33079, 'period': '2015-09-30', 'symbol': 'BAC'}, {'actual': 0.37, 'estimate': 0.35729, 'period': '2015-06-30', 'symbol': 'BAC'}, {'actual': 0.3, 'estimate': 0.29118, 'period': '2015-03-31', 'symbol': 'BAC'}, {'actual': 0.32, 'estimate': 0.31104, 'period': '2014-12-31', 'symbol': 'BAC'}, {'actual': -0.03, 'estimate': -0.09047, 'period': '2014-09-30', 'symbol': 'BAC'}, {'actual': 0.22, 'estimate': 0.28557, 'period': '2014-06-30', 'symbol': 'BAC'}, {'actual': 0.1, 'estimate': 0.05063, 'period': '2014-03-31', 'symbol': 'BAC'}, {'actual': 0.29, 'estimate': 0.2619, 'period': '2013-12-31', 'symbol': 'BAC'}, {'actual': 0.2, 'estimate': 0.18264, 'period': '2013-09-30', 'symbol': 'BAC'}, {'actual': 0.32, 'estimate': 0, 'period': '2013-06-30', 'symbol': 'BAC'}, {'actual': 0.2, 'estimate': 0.22279, 'period': '2013-03-31', 'symbol': 'BAC'}, {'actual': 0.03, 'estimate': 0.02227, 'period': '2012-12-31', 'symbol': 'BAC'}, {'actual': 0, 'estimate': -0.07105, 'period': '2012-09-30', 'symbol': 'BAC'}, {'actual': 0.17, 'estimate': 0.14083, 'period': '2012-06-30', 'symbol': 'BAC'}, {'actual': 0.24, 'estimate': 0.12185, 'period': '2012-03-31', 'symbol': 'BAC'}, {'actual': 0.15, 'estimate': 0.14933, 'period': '2011-12-31', 'symbol': 'BAC'}, {'actual': 0.31, 'estimate': 0.19381, 'period': '2011-09-30', 'symbol': 'BAC'}, {'actual': -0.9, 'estimate': -0.90333, 'period': '2011-06-30', 'symbol': 'BAC'}, {'actual': 0.17, 'estimate': 0.26692, 'period': '2011-03-31', 'symbol': 'BAC'}, {'actual': 0.04, 'estimate': 0.14421, 'period': '2010-12-31', 'symbol': 'BAC'}, {'actual': 0.27, 'estimate': 0.16208, 'period': '2010-09-30', 'symbol': 'BAC'}, {'actual': 0.27, 'estimate': 0.2196, 'period': '2010-06-30', 'symbol': 'BAC'}, {'actual': 0.28, 'estimate': 0.09261, 'period': '2010-03-31', 'symbol': 'BAC'}, {'actual': -0.6, 'estimate': -0.5316, 'period': '2009-12-31', 'symbol': 'BAC'}, {'actual': -0.26, 'estimate': -0.20533, 'period': '2009-09-30', 'symbol': 'BAC'}, {'actual': 0.33, 'estimate': 0.2755, 'period': '2009-06-30', 'symbol': 'BAC'}, {'actual': 0.44, 'estimate': 0.048, 'period': '2009-03-31', 'symbol': 'BAC'}, {'actual': -0.48, 'estimate': 0.015, 'period': '2008-12-31', 'symbol': 'BAC'}, {'actual': 0.15, 'estimate': 0.63706, 'period': '2008-09-30', 'symbol': 'BAC'}, {'actual': 0.72, 'estimate': 0.532, 'period': '2008-06-30', 'symbol': 'BAC'}, {'actual': 0.23, 'estimate': 0.41, 'period': '2008-03-31', 'symbol': 'BAC'}, {'actual': 0.05, 'estimate': 0.17895, 'period': '2007-12-31', 'symbol': 'BAC'}, {'actual': 0.82, 'estimate': 1.05524, 'period': '2007-09-30', 'symbol': 'BAC'}, {'actual': 1.28, 'estimate': 1.19857, 'period': '2007-06-30', 'symbol': 'BAC'}, {'actual': 1.17, 'estimate': 1.15083, 'period': '2007-03-31', 'symbol': 'BAC'}, {'actual': 1.19, 'estimate': 1.18, 'period': '2006-12-31', 'symbol': 'BAC'}, {'actual': 1.22, 'estimate': 1.154, 'period': '2006-09-30', 'symbol': 'BAC'}, {'actual': 1.22, 'estimate': 1.09615, 'period': '2006-06-30', 'symbol': 'BAC'}, {'actual': 1.08, 'estimate': 0.998, 'period': '2006-03-31', 'symbol': 'BAC'}, {'actual': 0.94, 'estimate': 1.02246, 'period': '2005-12-31', 'symbol': 'BAC'}, {'actual': 1.04, 'estimate': 1.02012, 'period': '2005-09-30', 'symbol': 'BAC'}, {'actual': 1.08, 'estimate': 1.0092, 'period': '2005-06-30', 'symbol': 'BAC'}, {'actual': 1.16, 'estimate': 0.97304, 'period': '2005-03-31', 'symbol': 'BAC'}, {'actual': 0.94, 'estimate': 0.94333, 'period': '2004-12-31', 'symbol': 'BAC'}, {'actual': 0.91, 'estimate': 0.90467, 'period': '2004-09-30', 'symbol': 'BAC'}, {'actual': 0.93, 'estimate': 0.87188, 'period': '2004-06-30', 'symbol': 'BAC'}, {'actual': 0.915, 'estimate': 0.895, 'period': '2004-03-31', 'symbol': 'BAC'}, {'actual': 0.915, 'estimate': 0.88952, 'period': '2003-12-31', 'symbol': 'BAC'}, {'actual': 0.96, 'estimate': 0.84605, 'period': '2003-09-30', 'symbol': 'BAC'}, {'actual': 0.9, 'estimate': 0.785, 'period': '2003-06-30', 'symbol': 'BAC'}, {'actual': 0.795, 'estimate': 0.73944, 'period': '2003-03-31', 'symbol': 'BAC'}, {'actual': 0.845, 'estimate': 0.818, 'period': '2002-12-31', 'symbol': 'BAC'}, {'actual': 0.725, 'estimate': 0.70761, 'period': '2002-09-30', 'symbol': 'BAC'}, {'actual': 0.7, 'estimate': 0.6962, 'period': '2002-06-30', 'symbol': 'BAC'}, {'actual': 0.69, 'estimate': 0.67109, 'period': '2002-03-31', 'symbol': 'BAC'}]\n",
      "[{'actual': 6.47, 'estimate': 4.0283, 'period': '2019-12-31', 'symbol': 'AMZN'}, {'actual': 4.23, 'estimate': 4.61932, 'period': '2019-09-30', 'symbol': 'AMZN'}, {'actual': 5.22, 'estimate': 5.5693, 'period': '2019-06-30', 'symbol': 'AMZN'}, {'actual': 7.09, 'estimate': 4.7231, 'period': '2019-03-31', 'symbol': 'AMZN'}, {'actual': 6.04, 'estimate': 5.68009, 'period': '2018-12-31', 'symbol': 'AMZN'}, {'actual': 5.75, 'estimate': 3.14245, 'period': '2018-09-30', 'symbol': 'AMZN'}, {'actual': 5.07, 'estimate': 2.53705, 'period': '2018-06-30', 'symbol': 'AMZN'}, {'actual': 3.27, 'estimate': 1.25933, 'period': '2018-03-31', 'symbol': 'AMZN'}, {'actual': 2.16, 'estimate': 1.8409, 'period': '2017-12-31', 'symbol': 'AMZN'}, {'actual': 0.52, 'estimate': 0.02955, 'period': '2017-09-30', 'symbol': 'AMZN'}, {'actual': 0.4, 'estimate': 1.41891, 'period': '2017-06-30', 'symbol': 'AMZN'}, {'actual': 1.48, 'estimate': 1.08465, 'period': '2017-03-31', 'symbol': 'AMZN'}, {'actual': 1.54, 'estimate': 1.34687, 'period': '2016-12-31', 'symbol': 'AMZN'}, {'actual': 0.52, 'estimate': 0.77908, 'period': '2016-09-30', 'symbol': 'AMZN'}, {'actual': 1.78, 'estimate': 1.108, 'period': '2016-06-30', 'symbol': 'AMZN'}, {'actual': 1.07, 'estimate': 0.58976, 'period': '2016-03-31', 'symbol': 'AMZN'}, {'actual': 1, 'estimate': 1.57137, 'period': '2015-12-31', 'symbol': 'AMZN'}, {'actual': 0.17, 'estimate': -0.13561, 'period': '2015-09-30', 'symbol': 'AMZN'}, {'actual': 0.19, 'estimate': -0.13847, 'period': '2015-06-30', 'symbol': 'AMZN'}, {'actual': -0.12, 'estimate': -0.12241, 'period': '2015-03-31', 'symbol': 'AMZN'}, {'actual': 0.45, 'estimate': 0.16781, 'period': '2014-12-31', 'symbol': 'AMZN'}, {'actual': -0.95, 'estimate': -0.74459, 'period': '2014-09-30', 'symbol': 'AMZN'}, {'actual': -0.27, 'estimate': -0.14557, 'period': '2014-06-30', 'symbol': 'AMZN'}, {'actual': 0.23, 'estimate': 0.22806, 'period': '2014-03-31', 'symbol': 'AMZN'}, {'actual': 0.51, 'estimate': 0.66185, 'period': '2013-12-31', 'symbol': 'AMZN'}, {'actual': -0.09, 'estimate': -0.08797, 'period': '2013-09-30', 'symbol': 'AMZN'}, {'actual': -0.02, 'estimate': 0.05359, 'period': '2013-06-30', 'symbol': 'AMZN'}, {'actual': 0.18, 'estimate': 0.078, 'period': '2013-03-31', 'symbol': 'AMZN'}, {'actual': 0.21, 'estimate': 0.27851, 'period': '2012-12-31', 'symbol': 'AMZN'}, {'actual': -0.23, 'estimate': -0.07895, 'period': '2012-09-30', 'symbol': 'AMZN'}, {'actual': 0.16, 'estimate': 0.02442, 'period': '2012-06-30', 'symbol': 'AMZN'}, {'actual': 0.28, 'estimate': 0.07121, 'period': '2012-03-31', 'symbol': 'AMZN'}, {'actual': 0.38, 'estimate': 0.16749, 'period': '2011-12-31', 'symbol': 'AMZN'}, {'actual': 0.14, 'estimate': 0.24429, 'period': '2011-09-30', 'symbol': 'AMZN'}, {'actual': 0.41, 'estimate': 0.34959, 'period': '2011-06-30', 'symbol': 'AMZN'}, {'actual': 0.44, 'estimate': 0.60531, 'period': '2011-03-31', 'symbol': 'AMZN'}, {'actual': 0.91, 'estimate': 0.88328, 'period': '2010-12-31', 'symbol': 'AMZN'}, {'actual': 0.51, 'estimate': 0.47452, 'period': '2010-09-30', 'symbol': 'AMZN'}, {'actual': 0.45, 'estimate': 0.53807, 'period': '2010-06-30', 'symbol': 'AMZN'}, {'actual': 0.66, 'estimate': 0.606, 'period': '2010-03-31', 'symbol': 'AMZN'}, {'actual': 0.85, 'estimate': 0.71939, 'period': '2009-12-31', 'symbol': 'AMZN'}, {'actual': 0.45, 'estimate': 0.32714, 'period': '2009-09-30', 'symbol': 'AMZN'}, {'actual': 0.32, 'estimate': 0.31148, 'period': '2009-06-30', 'symbol': 'AMZN'}, {'actual': 0.41, 'estimate': 0.30929, 'period': '2009-03-31', 'symbol': 'AMZN'}, {'actual': 0.52, 'estimate': 0.39037, 'period': '2008-12-31', 'symbol': 'AMZN'}, {'actual': 0.27, 'estimate': 0.24619, 'period': '2008-09-30', 'symbol': 'AMZN'}, {'actual': 0.37, 'estimate': 0.26046, 'period': '2008-06-30', 'symbol': 'AMZN'}, {'actual': 0.34, 'estimate': 0.32348, 'period': '2008-03-31', 'symbol': 'AMZN'}, {'actual': 0.48, 'estimate': 0.47682, 'period': '2007-12-31', 'symbol': 'AMZN'}, {'actual': 0.19, 'estimate': 0.1813, 'period': '2007-09-30', 'symbol': 'AMZN'}, {'actual': 0.19, 'estimate': 0.15773, 'period': '2007-06-30', 'symbol': 'AMZN'}, {'actual': 0.26, 'estimate': 0.15429, 'period': '2007-03-31', 'symbol': 'AMZN'}, {'actual': 0.23, 'estimate': 0.2113, 'period': '2006-12-31', 'symbol': 'AMZN'}, {'actual': 0.05, 'estimate': 0.03322, 'period': '2006-09-30', 'symbol': 'AMZN'}, {'actual': 0.05, 'estimate': 0.06476, 'period': '2006-06-30', 'symbol': 'AMZN'}, {'actual': 0.12, 'estimate': 0.11722, 'period': '2006-03-31', 'symbol': 'AMZN'}, {'actual': 0.47, 'estimate': 0.21278, 'period': '2005-12-31', 'symbol': 'AMZN'}, {'actual': 0.07, 'estimate': 0.09917, 'period': '2005-09-30', 'symbol': 'AMZN'}, {'actual': 0.12, 'estimate': 0.10539, 'period': '2005-06-30', 'symbol': 'AMZN'}, {'actual': 0.18, 'estimate': 0.2275, 'period': '2005-03-31', 'symbol': 'AMZN'}, {'actual': 0.35, 'estimate': 0.39864, 'period': '2004-12-31', 'symbol': 'AMZN'}, {'actual': 0.17, 'estimate': 0.1775, 'period': '2004-09-30', 'symbol': 'AMZN'}, {'actual': 0.18, 'estimate': 0.1895, 'period': '2004-06-30', 'symbol': 'AMZN'}, {'actual': 0.23, 'estimate': 0.19684, 'period': '2004-03-31', 'symbol': 'AMZN'}, {'actual': 0.29, 'estimate': 0.28938, 'period': '2003-12-31', 'symbol': 'AMZN'}, {'actual': 0.11, 'estimate': 0.09769, 'period': '2003-09-30', 'symbol': 'AMZN'}, {'actual': 0.1, 'estimate': 0.06077, 'period': '2003-06-30', 'symbol': 'AMZN'}, {'actual': 0.1, 'estimate': 0.04214, 'period': '2003-03-31', 'symbol': 'AMZN'}, {'actual': 0.19, 'estimate': 0.14308, 'period': '2002-12-31', 'symbol': 'AMZN'}, {'actual': 0, 'estimate': -0.04333, 'period': '2002-09-30', 'symbol': 'AMZN'}, {'actual': -0.01, 'estimate': -0.05563, 'period': '2002-06-30', 'symbol': 'AMZN'}, {'actual': -0.01, 'estimate': -0.09263, 'period': '2002-03-31', 'symbol': 'AMZN'}]\n",
      "[{'actual': 0.89, 'estimate': 0.86916, 'period': '2019-12-31', 'symbol': 'T'}, {'actual': 0.94, 'estimate': 0.93305, 'period': '2019-09-30', 'symbol': 'T'}, {'actual': 0.89, 'estimate': 0.89168, 'period': '2019-06-30', 'symbol': 'T'}, {'actual': 0.86, 'estimate': 0.85813, 'period': '2019-03-31', 'symbol': 'T'}, {'actual': 0.86, 'estimate': 0.86222, 'period': '2018-12-31', 'symbol': 'T'}, {'actual': 0.9, 'estimate': 0.9394, 'period': '2018-09-30', 'symbol': 'T'}, {'actual': 0.91, 'estimate': 0.84675, 'period': '2018-06-30', 'symbol': 'T'}, {'actual': 0.85, 'estimate': 0.8713, 'period': '2018-03-31', 'symbol': 'T'}, {'actual': 0.78, 'estimate': 0.65005, 'period': '2017-12-31', 'symbol': 'T'}, {'actual': 0.74, 'estimate': 0.74509, 'period': '2017-09-30', 'symbol': 'T'}, {'actual': 0.79, 'estimate': 0.73344, 'period': '2017-06-30', 'symbol': 'T'}, {'actual': 0.74, 'estimate': 0.73896, 'period': '2017-03-31', 'symbol': 'T'}, {'actual': 0.66, 'estimate': 0.6601, 'period': '2016-12-31', 'symbol': 'T'}, {'actual': 0.74, 'estimate': 0.73822, 'period': '2016-09-30', 'symbol': 'T'}, {'actual': 0.72, 'estimate': 0.71756, 'period': '2016-06-30', 'symbol': 'T'}, {'actual': 0.72, 'estimate': 0.69119, 'period': '2016-03-31', 'symbol': 'T'}, {'actual': 0.63, 'estimate': 0.6325, 'period': '2015-12-31', 'symbol': 'T'}, {'actual': 0.74, 'estimate': 0.68457, 'period': '2015-09-30', 'symbol': 'T'}, {'actual': 0.69, 'estimate': 0.62932, 'period': '2015-06-30', 'symbol': 'T'}, {'actual': 0.63, 'estimate': 0.61667, 'period': '2015-03-31', 'symbol': 'T'}, {'actual': 0.55, 'estimate': 0.54181, 'period': '2014-12-31', 'symbol': 'T'}, {'actual': 0.63, 'estimate': 0.63744, 'period': '2014-09-30', 'symbol': 'T'}, {'actual': 0.62, 'estimate': 0.62804, 'period': '2014-06-30', 'symbol': 'T'}, {'actual': 0.71, 'estimate': 0.69842, 'period': '2014-03-31', 'symbol': 'T'}, {'actual': 0.53, 'estimate': 0.50219, 'period': '2013-12-31', 'symbol': 'T'}, {'actual': 0.66, 'estimate': 0.65179, 'period': '2013-09-30', 'symbol': 'T'}, {'actual': 0.67, 'estimate': 0.68274, 'period': '2013-06-30', 'symbol': 'T'}, {'actual': 0.64, 'estimate': 0.64104, 'period': '2013-03-31', 'symbol': 'T'}, {'actual': 0.44, 'estimate': 0.45453, 'period': '2012-12-31', 'symbol': 'T'}, {'actual': 0.63, 'estimate': 0.60012, 'period': '2012-09-30', 'symbol': 'T'}, {'actual': 0.66, 'estimate': 0.62618, 'period': '2012-06-30', 'symbol': 'T'}, {'actual': 0.6, 'estimate': 0.57277, 'period': '2012-03-31', 'symbol': 'T'}, {'actual': 0.42, 'estimate': 0.42972, 'period': '2011-12-31', 'symbol': 'T'}, {'actual': 0.61, 'estimate': 0.60915, 'period': '2011-09-30', 'symbol': 'T'}, {'actual': 0.6, 'estimate': 0.59417, 'period': '2011-06-30', 'symbol': 'T'}, {'actual': 0.57, 'estimate': 0.56882, 'period': '2011-03-31', 'symbol': 'T'}, {'actual': 0.55, 'estimate': 0.54287, 'period': '2010-12-31', 'symbol': 'T'}, {'actual': 0.55, 'estimate': 0.54893, 'period': '2010-09-30', 'symbol': 'T'}, {'actual': 0.61, 'estimate': 0.56703, 'period': '2010-06-30', 'symbol': 'T'}, {'actual': 0.59, 'estimate': 0.54483, 'period': '2010-03-31', 'symbol': 'T'}, {'actual': 0.51, 'estimate': 0.51063, 'period': '2009-12-31', 'symbol': 'T'}, {'actual': 0.54, 'estimate': 0.49815, 'period': '2009-09-30', 'symbol': 'T'}, {'actual': 0.54, 'estimate': 0.50769, 'period': '2009-06-30', 'symbol': 'T'}, {'actual': 0.53, 'estimate': 0.48264, 'period': '2009-03-31', 'symbol': 'T'}, {'actual': 0.64, 'estimate': 0.64976, 'period': '2008-12-31', 'symbol': 'T'}, {'actual': 0.67, 'estimate': 0.70917, 'period': '2008-09-30', 'symbol': 'T'}, {'actual': 0.76, 'estimate': 0.76167, 'period': '2008-06-30', 'symbol': 'T'}, {'actual': 0.74, 'estimate': 0.7408, 'period': '2008-03-31', 'symbol': 'T'}, {'actual': 0.71, 'estimate': 0.7112, 'period': '2007-12-31', 'symbol': 'T'}, {'actual': 0.71, 'estimate': 0.71, 'period': '2007-09-30', 'symbol': 'T'}, {'actual': 0.7, 'estimate': 0.67077, 'period': '2007-06-30', 'symbol': 'T'}, {'actual': 0.65, 'estimate': 0.61231, 'period': '2007-03-31', 'symbol': 'T'}, {'actual': 0.61, 'estimate': 0.59539, 'period': '2006-12-31', 'symbol': 'T'}, {'actual': 0.63, 'estimate': 0.58039, 'period': '2006-09-30', 'symbol': 'T'}, {'actual': 0.58, 'estimate': 0.53039, 'period': '2006-06-30', 'symbol': 'T'}, {'actual': 0.52, 'estimate': 0.485, 'period': '2006-03-31', 'symbol': 'T'}, {'actual': 0.48, 'estimate': 0.44762, 'period': '2005-12-31', 'symbol': 'T'}, {'actual': 0.47, 'estimate': 0.4125, 'period': '2005-09-30', 'symbol': 'T'}, {'actual': 0.43, 'estimate': 0.36846, 'period': '2005-06-30', 'symbol': 'T'}, {'actual': 0.34, 'estimate': 0.33167, 'period': '2005-03-31', 'symbol': 'T'}, {'actual': 0.34, 'estimate': 0.33091, 'period': '2004-12-31', 'symbol': 'T'}, {'actual': 0.38, 'estimate': 0.38161, 'period': '2004-09-30', 'symbol': 'T'}, {'actual': 0.4, 'estimate': 0.36185, 'period': '2004-06-30', 'symbol': 'T'}, {'actual': 0.37, 'estimate': 0.32346, 'period': '2004-03-31', 'symbol': 'T'}, {'actual': 0.34, 'estimate': 0.34118, 'period': '2003-12-31', 'symbol': 'T'}, {'actual': 0.37, 'estimate': 0.39, 'period': '2003-09-30', 'symbol': 'T'}, {'actual': 0.42, 'estimate': 0.40964, 'period': '2003-06-30', 'symbol': 'T'}, {'actual': 0.42, 'estimate': 0.36179, 'period': '2003-03-31', 'symbol': 'T'}, {'actual': 0.62, 'estimate': 0.61704, 'period': '2002-12-31', 'symbol': 'T'}, {'actual': 0.51, 'estimate': 0.53609, 'period': '2002-09-30', 'symbol': 'T'}, {'actual': 0.61, 'estimate': 0.58526, 'period': '2002-06-30', 'symbol': 'T'}, {'actual': 0.51, 'estimate': 0.50833, 'period': '2002-03-31', 'symbol': 'T'}]\n",
      "[{'actual': 15.35, 'estimate': 12.59, 'period': '2019-12-31', 'symbol': 'GOOG'}, {'actual': 10.12, 'estimate': 12.46, 'period': '2019-09-30', 'symbol': 'GOOG'}, {'actual': 14.21, 'estimate': 11.33, 'period': '2019-06-30', 'symbol': 'GOOG'}, {'actual': 9.5, 'estimate': 10.63, 'period': '2019-03-31', 'symbol': 'GOOG'}]\n",
      "[{'actual': 1.02, 'estimate': 1.01908, 'period': '2019-12-31', 'symbol': 'MO'}, {'actual': 1.19, 'estimate': 1.14892, 'period': '2019-09-30', 'symbol': 'MO'}, {'actual': 1.1, 'estimate': 1.10571, 'period': '2019-06-30', 'symbol': 'MO'}, {'actual': 0.9, 'estimate': 0.92179, 'period': '2019-03-31', 'symbol': 'MO'}, {'actual': 0.95, 'estimate': 0.94986, 'period': '2018-12-31', 'symbol': 'MO'}, {'actual': 1.08, 'estimate': 1.06592, 'period': '2018-09-30', 'symbol': 'MO'}, {'actual': 1.01, 'estimate': 1.00293, 'period': '2018-06-30', 'symbol': 'MO'}, {'actual': 0.95, 'estimate': 0.92491, 'period': '2018-03-31', 'symbol': 'MO'}, {'actual': 0.91, 'estimate': 0.8022, 'period': '2017-12-31', 'symbol': 'MO'}, {'actual': 0.9, 'estimate': 0.8744, 'period': '2017-09-30', 'symbol': 'MO'}, {'actual': 0.85, 'estimate': 0.86, 'period': '2017-06-30', 'symbol': 'MO'}, {'actual': 0.73, 'estimate': 0.735, 'period': '2017-03-31', 'symbol': 'MO'}, {'actual': 0.68, 'estimate': 0.6678, 'period': '2016-12-31', 'symbol': 'MO'}, {'actual': 0.82, 'estimate': 0.80444, 'period': '2016-09-30', 'symbol': 'MO'}, {'actual': 0.81, 'estimate': 0.7975, 'period': '2016-06-30', 'symbol': 'MO'}, {'actual': 0.72, 'estimate': 0.6835, 'period': '2016-03-31', 'symbol': 'MO'}, {'actual': 0.67, 'estimate': 0.67957, 'period': '2015-12-31', 'symbol': 'MO'}, {'actual': 0.75, 'estimate': 0.75443, 'period': '2015-09-30', 'symbol': 'MO'}, {'actual': 0.74, 'estimate': 0.7139, 'period': '2015-06-30', 'symbol': 'MO'}, {'actual': 0.63, 'estimate': 0.62278, 'period': '2015-03-31', 'symbol': 'MO'}, {'actual': 0.66, 'estimate': 0.66478, 'period': '2014-12-31', 'symbol': 'MO'}, {'actual': 0.69, 'estimate': 0.68133, 'period': '2014-09-30', 'symbol': 'MO'}, {'actual': 0.65, 'estimate': 0.65689, 'period': '2014-06-30', 'symbol': 'MO'}, {'actual': 0.57, 'estimate': 0.56822, 'period': '2014-03-31', 'symbol': 'MO'}, {'actual': 0.57, 'estimate': 0.58308, 'period': '2013-12-31', 'symbol': 'MO'}, {'actual': 0.65, 'estimate': 0.6365, 'period': '2013-09-30', 'symbol': 'MO'}, {'actual': 0.62, 'estimate': 0.63036, 'period': '2013-06-30', 'symbol': 'MO'}, {'actual': 0.54, 'estimate': 0.5275, 'period': '2013-03-31', 'symbol': 'MO'}, {'actual': 0.55, 'estimate': 0.5466, 'period': '2012-12-31', 'symbol': 'MO'}, {'actual': 0.58, 'estimate': 0.57667, 'period': '2012-09-30', 'symbol': 'MO'}, {'actual': 0.59, 'estimate': 0.57154, 'period': '2012-06-30', 'symbol': 'MO'}, {'actual': 0.49, 'estimate': 0.48833, 'period': '2012-03-31', 'symbol': 'MO'}, {'actual': 0.5, 'estimate': 0.48636, 'period': '2011-12-31', 'symbol': 'MO'}, {'actual': 0.56, 'estimate': 0.562, 'period': '2011-09-30', 'symbol': 'MO'}, {'actual': 0.53, 'estimate': 0.53, 'period': '2011-06-30', 'symbol': 'MO'}, {'actual': 0.44, 'estimate': 0.44, 'period': '2011-03-31', 'symbol': 'MO'}, {'actual': 0.44, 'estimate': 0.44333, 'period': '2010-12-31', 'symbol': 'MO'}, {'actual': 0.54, 'estimate': 0.522, 'period': '2010-09-30', 'symbol': 'MO'}, {'actual': 0.5, 'estimate': 0.501, 'period': '2010-06-30', 'symbol': 'MO'}, {'actual': 0.42, 'estimate': 0.404, 'period': '2010-03-31', 'symbol': 'MO'}, {'actual': 0.39, 'estimate': 0.395, 'period': '2009-12-31', 'symbol': 'MO'}, {'actual': 0.48, 'estimate': 0.46455, 'period': '2009-09-30', 'symbol': 'MO'}, {'actual': 0.5, 'estimate': 0.46909, 'period': '2009-06-30', 'symbol': 'MO'}, {'actual': 0.39, 'estimate': 0.384, 'period': '2009-03-31', 'symbol': 'MO'}, {'actual': 0.37, 'estimate': 0.371, 'period': '2008-12-31', 'symbol': 'MO'}, {'actual': 0.46, 'estimate': 0.442, 'period': '2008-09-30', 'symbol': 'MO'}, {'actual': 0.46, 'estimate': 0.453, 'period': '2008-06-30', 'symbol': 'MO'}, {'actual': 0.37, 'estimate': 0.365, 'period': '2008-03-31', 'symbol': 'MO'}, {'actual': 1, 'estimate': 0.9725, 'period': '2007-12-31', 'symbol': 'MO'}, {'actual': 1.21, 'estimate': 1.14, 'period': '2007-09-30', 'symbol': 'MO'}, {'actual': 1.15, 'estimate': 1.131, 'period': '2007-06-30', 'symbol': 'MO'}, {'actual': 1.03, 'estimate': 1.05444, 'period': '2007-03-31', 'symbol': 'MO'}, {'actual': 1.27, 'estimate': 1.22455, 'period': '2006-12-31', 'symbol': 'MO'}, {'actual': 1.39, 'estimate': 1.40727, 'period': '2006-09-30', 'symbol': 'MO'}, {'actual': 1.41, 'estimate': 1.37091, 'period': '2006-06-30', 'symbol': 'MO'}, {'actual': 1.28, 'estimate': 1.26667, 'period': '2006-03-31', 'symbol': 'MO'}, {'actual': 1.17, 'estimate': 1.16664, 'period': '2005-12-31', 'symbol': 'MO'}, {'actual': 1.38, 'estimate': 1.33, 'period': '2005-09-30', 'symbol': 'MO'}, {'actual': 1.32, 'estimate': 1.335, 'period': '2005-06-30', 'symbol': 'MO'}, {'actual': 1.24, 'estimate': 1.226, 'period': '2005-03-31', 'symbol': 'MO'}, {'actual': 1.08, 'estimate': 1.05636, 'period': '2004-12-31', 'symbol': 'MO'}, {'actual': 1.24, 'estimate': 1.254, 'period': '2004-09-30', 'symbol': 'MO'}, {'actual': 1.25, 'estimate': 1.277, 'period': '2004-06-30', 'symbol': 'MO'}, {'actual': 1.16, 'estimate': 1.13364, 'period': '2004-03-31', 'symbol': 'MO'}, {'actual': 1.06, 'estimate': 1.06, 'period': '2003-12-31', 'symbol': 'MO'}, {'actual': 1.23, 'estimate': 1.21455, 'period': '2003-09-30', 'symbol': 'MO'}, {'actual': 1.26, 'estimate': 1.19182, 'period': '2003-06-30', 'symbol': 'MO'}, {'actual': 1.07, 'estimate': 1.06, 'period': '2003-03-31', 'symbol': 'MO'}, {'actual': 0.93, 'estimate': 0.92444, 'period': '2002-12-31', 'symbol': 'MO'}, {'actual': 1.26, 'estimate': 1.26, 'period': '2002-09-30', 'symbol': 'MO'}, {'actual': 1.24, 'estimate': 1.22875, 'period': '2002-06-30', 'symbol': 'MO'}, {'actual': 1.14, 'estimate': 1.13167, 'period': '2002-03-31', 'symbol': 'MO'}]\n"
     ]
    }
   ],
   "source": [
    "results = []\n",
    "\n",
    "for items in tick1: \n",
    "    data = query.earnings(symbol = items)\n",
    "    earnings = pd.DataFrame(data)  "
   ]
  },
  {
   "cell_type": "code",
   "execution_count": 76,
   "metadata": {
    "Collapsed": "false"
   },
   "outputs": [
    {
     "data": {
      "text/html": [
       "<div>\n",
       "<style scoped>\n",
       "    .dataframe tbody tr th:only-of-type {\n",
       "        vertical-align: middle;\n",
       "    }\n",
       "\n",
       "    .dataframe tbody tr th {\n",
       "        vertical-align: top;\n",
       "    }\n",
       "\n",
       "    .dataframe thead th {\n",
       "        text-align: right;\n",
       "    }\n",
       "</style>\n",
       "<table border=\"1\" class=\"dataframe\">\n",
       "  <thead>\n",
       "    <tr style=\"text-align: right;\">\n",
       "      <th></th>\n",
       "      <th>actual</th>\n",
       "      <th>estimate</th>\n",
       "      <th>period</th>\n",
       "      <th>symbol</th>\n",
       "    </tr>\n",
       "  </thead>\n",
       "  <tbody>\n",
       "    <tr>\n",
       "      <th>0</th>\n",
       "      <td>1.02</td>\n",
       "      <td>1.01908</td>\n",
       "      <td>2019-12-31</td>\n",
       "      <td>MO</td>\n",
       "    </tr>\n",
       "    <tr>\n",
       "      <th>1</th>\n",
       "      <td>1.19</td>\n",
       "      <td>1.14892</td>\n",
       "      <td>2019-09-30</td>\n",
       "      <td>MO</td>\n",
       "    </tr>\n",
       "    <tr>\n",
       "      <th>2</th>\n",
       "      <td>1.10</td>\n",
       "      <td>1.10571</td>\n",
       "      <td>2019-06-30</td>\n",
       "      <td>MO</td>\n",
       "    </tr>\n",
       "    <tr>\n",
       "      <th>3</th>\n",
       "      <td>0.90</td>\n",
       "      <td>0.92179</td>\n",
       "      <td>2019-03-31</td>\n",
       "      <td>MO</td>\n",
       "    </tr>\n",
       "    <tr>\n",
       "      <th>4</th>\n",
       "      <td>0.95</td>\n",
       "      <td>0.94986</td>\n",
       "      <td>2018-12-31</td>\n",
       "      <td>MO</td>\n",
       "    </tr>\n",
       "    <tr>\n",
       "      <th>...</th>\n",
       "      <td>...</td>\n",
       "      <td>...</td>\n",
       "      <td>...</td>\n",
       "      <td>...</td>\n",
       "    </tr>\n",
       "    <tr>\n",
       "      <th>67</th>\n",
       "      <td>1.07</td>\n",
       "      <td>1.06000</td>\n",
       "      <td>2003-03-31</td>\n",
       "      <td>MO</td>\n",
       "    </tr>\n",
       "    <tr>\n",
       "      <th>68</th>\n",
       "      <td>0.93</td>\n",
       "      <td>0.92444</td>\n",
       "      <td>2002-12-31</td>\n",
       "      <td>MO</td>\n",
       "    </tr>\n",
       "    <tr>\n",
       "      <th>69</th>\n",
       "      <td>1.26</td>\n",
       "      <td>1.26000</td>\n",
       "      <td>2002-09-30</td>\n",
       "      <td>MO</td>\n",
       "    </tr>\n",
       "    <tr>\n",
       "      <th>70</th>\n",
       "      <td>1.24</td>\n",
       "      <td>1.22875</td>\n",
       "      <td>2002-06-30</td>\n",
       "      <td>MO</td>\n",
       "    </tr>\n",
       "    <tr>\n",
       "      <th>71</th>\n",
       "      <td>1.14</td>\n",
       "      <td>1.13167</td>\n",
       "      <td>2002-03-31</td>\n",
       "      <td>MO</td>\n",
       "    </tr>\n",
       "  </tbody>\n",
       "</table>\n",
       "<p>72 rows × 4 columns</p>\n",
       "</div>"
      ],
      "text/plain": [
       "    actual  estimate      period symbol\n",
       "0     1.02   1.01908  2019-12-31     MO\n",
       "1     1.19   1.14892  2019-09-30     MO\n",
       "2     1.10   1.10571  2019-06-30     MO\n",
       "3     0.90   0.92179  2019-03-31     MO\n",
       "4     0.95   0.94986  2018-12-31     MO\n",
       "..     ...       ...         ...    ...\n",
       "67    1.07   1.06000  2003-03-31     MO\n",
       "68    0.93   0.92444  2002-12-31     MO\n",
       "69    1.26   1.26000  2002-09-30     MO\n",
       "70    1.24   1.22875  2002-06-30     MO\n",
       "71    1.14   1.13167  2002-03-31     MO\n",
       "\n",
       "[72 rows x 4 columns]"
      ]
     },
     "execution_count": 76,
     "metadata": {},
     "output_type": "execute_result"
    }
   ],
   "source": [
    "df = pd.DataFrame(data)\n",
    "df"
   ]
  },
  {
   "cell_type": "markdown",
   "metadata": {
    "Collapsed": "false"
   },
   "source": [
    "## price target"
   ]
  },
  {
   "cell_type": "code",
   "execution_count": null,
   "metadata": {
    "Collapsed": "false"
   },
   "outputs": [],
   "source": [
    "url3 = \"https://finnhub.io/api/v1/stock/price-target?symbol={}&token={}\".format(company, api_key) #url\n",
    "req3 = requests.get(url3) "
   ]
  },
  {
   "cell_type": "code",
   "execution_count": null,
   "metadata": {
    "Collapsed": "false"
   },
   "outputs": [],
   "source": [
    "print(req3.json())"
   ]
  },
  {
   "cell_type": "markdown",
   "metadata": {
    "Collapsed": "false"
   },
   "source": [
    "## Stock Upgrade / Downgrade"
   ]
  },
  {
   "cell_type": "code",
   "execution_count": null,
   "metadata": {
    "Collapsed": "false"
   },
   "outputs": [],
   "source": [
    "url4 = \"https://finnhub.io/api/v1/stock/upgrade-downgrade?symbol={}&token={}\".format(company, api_key) #url\n",
    "req4 = requests.get(url4) \n",
    "status = pd.DataFrame(req4.json())"
   ]
  },
  {
   "cell_type": "code",
   "execution_count": null,
   "metadata": {
    "Collapsed": "false"
   },
   "outputs": [],
   "source": [
    "status"
   ]
  },
  {
   "cell_type": "markdown",
   "metadata": {
    "Collapsed": "false"
   },
   "source": [
    "### Peers"
   ]
  },
  {
   "cell_type": "code",
   "execution_count": null,
   "metadata": {
    "Collapsed": "false"
   },
   "outputs": [],
   "source": [
    "url5 = \"https://finnhub.io/api/v1/stock/peers?symbol={}&token={}\".format(company, api_key) #url\n",
    "req5 = requests.get(url5) "
   ]
  },
  {
   "cell_type": "code",
   "execution_count": null,
   "metadata": {
    "Collapsed": "false"
   },
   "outputs": [],
   "source": [
    "print(req5.json())"
   ]
  },
  {
   "cell_type": "markdown",
   "metadata": {
    "Collapsed": "false"
   },
   "source": [
    "## Revenue Estimates"
   ]
  },
  {
   "cell_type": "code",
   "execution_count": null,
   "metadata": {
    "Collapsed": "false"
   },
   "outputs": [],
   "source": [
    "url6 = \"https://finnhub.io/api/v1/stock/revenue-estimate?symbol={}&token={}\".format(company, api_key) #url\n",
    "req6 = requests.get(url6) \n",
    "rev = pd.DataFrame(req6.json())\n",
    "rev1 = json_normalize(rev['data'])\n",
    "rev1"
   ]
  },
  {
   "cell_type": "markdown",
   "metadata": {
    "Collapsed": "false"
   },
   "source": [
    "## Earnings Estimate"
   ]
  },
  {
   "cell_type": "code",
   "execution_count": null,
   "metadata": {
    "Collapsed": "false"
   },
   "outputs": [],
   "source": [
    "url7 = \"https://finnhub.io/api/v1/stock/eps-estimate?symbol={}&token={}\".format(company, api_key) #url\n",
    "req7 = requests.get(url7) \n",
    "print(req7.json())"
   ]
  },
  {
   "cell_type": "code",
   "execution_count": null,
   "metadata": {
    "Collapsed": "false"
   },
   "outputs": [],
   "source": [
    "eps = pd.DataFrame(req7.json())\n",
    "eps1 = json_normalize(eps['data'])\n",
    "eps1"
   ]
  },
  {
   "cell_type": "markdown",
   "metadata": {
    "Collapsed": "false"
   },
   "source": [
    "## Investor Ownership"
   ]
  },
  {
   "cell_type": "code",
   "execution_count": null,
   "metadata": {
    "Collapsed": "false"
   },
   "outputs": [],
   "source": [
    "url8 = \"https://finnhub.io/api/v1/stock/investor-ownership?symbol={}&token={}\".format(company, api_key) #url\n",
    "req8 = requests.get(url8) \n",
    "# print(req8.json())\n",
    "own = req8.json()"
   ]
  },
  {
   "cell_type": "code",
   "execution_count": null,
   "metadata": {
    "Collapsed": "false"
   },
   "outputs": [],
   "source": [
    "ownership = pd.DataFrame(own.items(), columns =['Features', 'Value'])\n",
    "# print(req8.json())\n",
    "owner = pd.DataFrame(req8.json())\n",
    "owner1 = json_normalize(owner['ownership'])"
   ]
  },
  {
   "cell_type": "code",
   "execution_count": null,
   "metadata": {
    "Collapsed": "false"
   },
   "outputs": [],
   "source": [
    "owner1"
   ]
  },
  {
   "cell_type": "markdown",
   "metadata": {
    "Collapsed": "false"
   },
   "source": [
    "## Fund Ownership"
   ]
  },
  {
   "cell_type": "code",
   "execution_count": null,
   "metadata": {
    "Collapsed": "false"
   },
   "outputs": [],
   "source": [
    "url9 = \"https://finnhub.io/api/v1/stock/fund-ownership?symbol={}&token={}\".format(company, api_key) #url\n",
    "req9 = requests.get(url9)\n",
    "fdowner = pd.DataFrame(req9.json())\n",
    "fdowner1 = json_normalize(fdowner['ownership'])\n",
    "fdowner1"
   ]
  },
  {
   "cell_type": "markdown",
   "metadata": {
    "Collapsed": "false"
   },
   "source": [
    "## performance metrics"
   ]
  },
  {
   "cell_type": "code",
   "execution_count": null,
   "metadata": {
    "Collapsed": "false"
   },
   "outputs": [],
   "source": [
    "url9 = \"https://finnhub.io/api/v1/stock/metric?symbol={}&metric=margin&token={}\".format(company, api_key) #url\n",
    "req9 = requests.get(url9) \n",
    "print(req9.json())"
   ]
  },
  {
   "cell_type": "code",
   "execution_count": null,
   "metadata": {
    "Collapsed": "false"
   },
   "outputs": [],
   "source": [
    "perf = pd.DataFrame(req9.json())\n",
    "perf"
   ]
  },
  {
   "cell_type": "markdown",
   "metadata": {
    "Collapsed": "false"
   },
   "source": [
    "## stock quote"
   ]
  },
  {
   "cell_type": "code",
   "execution_count": null,
   "metadata": {
    "Collapsed": "false"
   },
   "outputs": [],
   "source": [
    "url10 = \"https://finnhub.io/api/v1/quote?symbol={}&token={}\".format(company, api_key) #url\n",
    "req10 = requests.get(url10) \n",
    "print(req10.json())"
   ]
  },
  {
   "cell_type": "code",
   "execution_count": null,
   "metadata": {
    "Collapsed": "false"
   },
   "outputs": [],
   "source": [
    "url10 = \"https://finnhub.io/api/v1/quote?symbol=BINANCE:BTCEUR&token={}\".format(api_key) #url\n",
    "req10 = requests.get(url10) \n",
    "print(req10.json())"
   ]
  },
  {
   "cell_type": "markdown",
   "metadata": {
    "Collapsed": "false"
   },
   "source": [
    "## General News"
   ]
  },
  {
   "cell_type": "code",
   "execution_count": null,
   "metadata": {
    "Collapsed": "false"
   },
   "outputs": [],
   "source": [
    "url11 = \"https://finnhub.io/api/v1/news?category=general&token={}\".format(api_key) #url\n",
    "req11 = requests.get(url11) \n",
    "news = pd.DataFrame(req11.json())\n",
    "news"
   ]
  },
  {
   "cell_type": "markdown",
   "metadata": {
    "Collapsed": "false"
   },
   "source": [
    "## company news "
   ]
  },
  {
   "cell_type": "code",
   "execution_count": null,
   "metadata": {
    "Collapsed": "false"
   },
   "outputs": [],
   "source": [
    "url12 = \"https://finnhub.io/api/v1/news/{}?token={}\".format(company,api_key) #url\n",
    "req12 = requests.get(url12) \n",
    "compnews = pd.DataFrame(req12.json())\n",
    "compnews"
   ]
  },
  {
   "cell_type": "markdown",
   "metadata": {
    "Collapsed": "false"
   },
   "source": [
    "## Major Developments"
   ]
  },
  {
   "cell_type": "code",
   "execution_count": null,
   "metadata": {
    "Collapsed": "false"
   },
   "outputs": [],
   "source": [
    "url13 = \"https://finnhub.io/api/v1/major-development?symbol={}&token={}'\".format(company,api_key) #url\n",
    "req13 = requests.get(url13) \n",
    "# print(req13.json())"
   ]
  },
  {
   "cell_type": "markdown",
   "metadata": {
    "Collapsed": "false"
   },
   "source": [
    "## New Sentiment"
   ]
  },
  {
   "cell_type": "code",
   "execution_count": null,
   "metadata": {
    "Collapsed": "false"
   },
   "outputs": [],
   "source": [
    "url14 = \"https://finnhub.io/api/v1/news-sentiment?symbol={}&token={}\".format(company,api_key) #url\n",
    "req14 = requests.get(url14) \n",
    "\n",
    "cpn = pd.DataFrame(req14.json())\n",
    "print(req14.json())"
   ]
  },
  {
   "cell_type": "markdown",
   "metadata": {
    "Collapsed": "false"
   },
   "source": [
    "## Economic Code & Data\n"
   ]
  },
  {
   "cell_type": "code",
   "execution_count": null,
   "metadata": {
    "Collapsed": "false"
   },
   "outputs": [],
   "source": [
    "url15 = \"https://finnhub.io/api/v1/economic/code?token={}\".format(api_key) #url\n",
    "req15 = requests.get(url15) \n",
    "# print(req15.json())\n"
   ]
  },
  {
   "cell_type": "code",
   "execution_count": null,
   "metadata": {
    "Collapsed": "false"
   },
   "outputs": [],
   "source": [
    "code = pd.DataFrame(req15.json())\n",
    "code.head(n=15)"
   ]
  },
  {
   "cell_type": "code",
   "execution_count": null,
   "metadata": {
    "Collapsed": "false"
   },
   "outputs": [],
   "source": [
    "df = code.loc[code['country'] == 'United States']"
   ]
  },
  {
   "cell_type": "code",
   "execution_count": null,
   "metadata": {
    "Collapsed": "false"
   },
   "outputs": [],
   "source": [
    "code.code.value_counts().sum()"
   ]
  },
  {
   "cell_type": "code",
   "execution_count": null,
   "metadata": {
    "Collapsed": "false"
   },
   "outputs": [],
   "source": [
    "url16 = \"https://finnhub.io/api/v1/economic?code=A-FRA-6682&token={}\".format(api_key) #url\n",
    "req16 = requests.get(url16) \n",
    "eco = pd.DataFrame(req16.json(), columns =['Date', 'Monthly Bankruptices in France'])\n",
    "eco"
   ]
  },
  {
   "cell_type": "code",
   "execution_count": null,
   "metadata": {
    "Collapsed": "false"
   },
   "outputs": [],
   "source": [
    "url17 = \"https://finnhub.io/api/v1/covid19/us?token={}\".format(api_key) #url\n",
    "req17 = requests.get(url17) \n",
    "# print(req17.json())\n",
    "\n",
    "covid = pd.DataFrame(req17.json())\n",
    "covid.head(n=20)"
   ]
  },
  {
   "cell_type": "code",
   "execution_count": null,
   "metadata": {
    "Collapsed": "false"
   },
   "outputs": [],
   "source": []
  }
 ],
 "metadata": {
  "kernelspec": {
   "display_name": "Python 3",
   "language": "python",
   "name": "python3"
  },
  "language_info": {
   "codemirror_mode": {
    "name": "ipython",
    "version": 3
   },
   "file_extension": ".py",
   "mimetype": "text/x-python",
   "name": "python",
   "nbconvert_exporter": "python",
   "pygments_lexer": "ipython3",
   "version": "3.6.8"
  }
 },
 "nbformat": 4,
 "nbformat_minor": 4
}
