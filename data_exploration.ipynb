{
 "cells": [
  {
   "cell_type": "code",
   "execution_count": 36,
   "metadata": {
    "Collapsed": "false"
   },
   "outputs": [
    {
     "name": "stdout",
     "output_type": "stream",
     "text": [
      "The autoreload extension is already loaded. To reload it, use:\n",
      "  %reload_ext autoreload\n"
     ]
    }
   ],
   "source": [
    "import websocket\n",
    "import pandas as pd\n",
    "import requests\n",
    "from pandas.io.json import json_normalize\n",
    "import json\n",
    "from code_ref import get_keys\n",
    "from code_ref import findata\n",
    "from code_ref import FinnhubRequestException\n",
    "from code_ref import FinnhubAPIException\n",
    "import time\n",
    "import threading\n",
    "%matplotlib inline\n",
    "%load_ext autoreload\n",
    "%autoreload 2\n",
    "from ratelimit import limits\n",
    "from ratelimiter import RateLimiter\n",
    "import numpy as np\n"
   ]
  },
  {
   "cell_type": "code",
   "execution_count": 37,
   "metadata": {
    "Collapsed": "false"
   },
   "outputs": [],
   "source": [
    "keys = get_keys(\"/Users/augustingoudet/.secret/code_file\") #Finnhub Key\n",
    "api_key1 = keys ['finnhub'] #api_key\n",
    "company = \"KER.PA\" #Company Ticker\n",
    "query = findata(api_key = api_key1)\n",
    "rate_limiter = RateLimiter(max_calls=45, period=60)"
   ]
  },
  {
   "cell_type": "code",
   "execution_count": 38,
   "metadata": {
    "Collapsed": "false"
   },
   "outputs": [],
   "source": [
    "url = \"https://finnhub.io/api/v1/\"\n",
    "ext1 = \"?symbol={}&token={}\"\n",
    "ext2 = \"?symbol={}&metric=management&token={}\"\n",
    "ext3 = \"?symbol={}&metric=margin&token={}\"\n",
    "ext4 = \"?symbol={}&metric=growth&token={}\"\n",
    "ext5 = \"?symbol={}&metric=price&token={}\"\n",
    "ext6 = \"?symbol={}&metric=valuation&token={}\"\n",
    "ext7 = \"?symbol={}&metric=financialStrength&token={}\"\n",
    "ext8 = \"?symbol={}&metric=perShare&token={}\"\n",
    "profile =\"stock/profile\"\n",
    "ceo_comp = \"stock/ceo-compensation\"\n",
    "board = \"stock/executive\"\n",
    "reco = \"stock/recommendation\"\n",
    "price_target = \"stock/price-target\"\n",
    "up_down = \"stock/upgrade-downgrade\"\n",
    "peers = \"stock/peers\"\n",
    "rev_est = \"stock/revenue-estimate\"\n",
    "eps_est = \"stock/eps-estimate\"\n",
    "ownership = \"stock/investor-ownership\"\n",
    "metric= \"stock/metric\"\n",
    "quote = \"quote\"\n",
    "news = \"news\"\n",
    "covid = \"covid19\"\n",
    "transcript = \"stock/transcripts\"\n",
    "divs = \"stock/dividend?symbol={}&from=2019-02-01&to=2020-02-01\"\n",
    "split = \"stock/split?symbol=AAPL&from=2010-02-01&to=2020-02-01\"\n",
    "inc = \"stock/financials?symbol={}&statement=is&freq=annual\"\n",
    "bs = \"stock/financials?symbol={}&statement=bs&freq=annual\"\n",
    "cfs = \"stock/financials?symbol={}&statement=cf&freq=annual\"\n"
   ]
  },
  {
   "cell_type": "code",
   "execution_count": 39,
   "metadata": {
    "Collapsed": "false"
   },
   "outputs": [],
   "source": [
    "tickers = pd.read_csv('Ticker_list_1.csv')\n",
    "tickers.drop(tickers[tickers['Exchange'] == 'PNK'].index, inplace = True)\n",
    "drop = ['Argentina', 'Brazil', 'Estonia', 'Greece', 'Iceland', 'India', 'Indonesia', 'Latvia', 'Lithuania', 'Malaysia', 'Mexico', 'New Zealand', 'Qatar', 'Russia', 'Taiwan', 'Thailand', 'Turkey','China']\n",
    "drop1 = ['MUN', 'STU', 'DUS', 'HAM', 'HAN', 'EUX', 'FRA', \"ENX\", 'BER', 'CNQ', 'VAN', 'IOB', 'KOE', 'PCX', 'OBB']\n",
    "tickers.dropna(subset = ['Country'], inplace = True)"
   ]
  },
  {
   "cell_type": "code",
   "execution_count": 42,
   "metadata": {
    "Collapsed": "false"
   },
   "outputs": [],
   "source": [
    "for values in drop:\n",
    "    tickers.drop(tickers[tickers['Country'] == values].index, inplace = True)\n",
    "for exch in drop1: \n",
    "    tickers.drop(tickers[tickers['Exchange'] == exch].index, inplace = True)"
   ]
  },
  {
   "cell_type": "code",
   "execution_count": 43,
   "metadata": {
    "Collapsed": "false"
   },
   "outputs": [],
   "source": [
    "tickers['Category Name'].fillna(1, inplace = True)\n",
    "drop2 = tickers[(tickers['Country'] == 'USA') & (tickers['Category Name'] == 1)].index\n",
    "tickers.drop(drop2, inplace = True)"
   ]
  },
  {
   "cell_type": "code",
   "execution_count": 44,
   "metadata": {
    "Collapsed": "false"
   },
   "outputs": [
    {
     "data": {
      "text/plain": [
       "(18025, 5)"
      ]
     },
     "execution_count": 44,
     "metadata": {},
     "output_type": "execute_result"
    }
   ],
   "source": [
    "tickers.drop_duplicates(subset = 'Name', keep = 'first', inplace = True)\n",
    "tickers.shape"
   ]
  },
  {
   "cell_type": "code",
   "execution_count": 45,
   "metadata": {
    "Collapsed": "false"
   },
   "outputs": [],
   "source": [
    "tick = list(tickers.Ticker)\n",
    "tick1 = tick[0:5]"
   ]
  },
  {
   "cell_type": "markdown",
   "metadata": {
    "Collapsed": "false"
   },
   "source": [
    "## Metrics "
   ]
  },
  {
   "cell_type": "code",
   "execution_count": 46,
   "metadata": {
    "Collapsed": "false"
   },
   "outputs": [
    {
     "name": "stdout",
     "output_type": "stream",
     "text": [
      "CPU times: user 2 µs, sys: 0 ns, total: 2 µs\n",
      "Wall time: 5.01 µs\n"
     ]
    }
   ],
   "source": [
    "results = []\n",
    "\n",
    "for items in tick1:\n",
    "    with rate_limiter:\n",
    "        data = url + metric + ext2.format(items, api_key1)\n",
    "        req = requests.get(data).json()\n",
    "        with open ('backup/mgmt.py', 'a+') as f:\n",
    "            json.dump(req,f)\n",
    "        results.append(req)\n",
    "        m1 = json_normalize(results)\n",
    "m1.to_csv('data_api/management1.csv')\n",
    "\n",
    "%time"
   ]
  },
  {
   "cell_type": "code",
   "execution_count": 47,
   "metadata": {
    "Collapsed": "false"
   },
   "outputs": [],
   "source": [
    "results = []\n",
    "\n",
    "for items in tick1: \n",
    "    with rate_limiter:\n",
    "        data = url + metric + ext3.format(items, api_key1)\n",
    "        req = requests.get(data).json()\n",
    "        with open ('backup/margin.py', 'a+') as f:\n",
    "            json.dump(req,f)\n",
    "        results.append(req)\n",
    "        m2 = json_normalize(results)\n",
    "m2.to_csv('data_api/margin1.csv')"
   ]
  },
  {
   "cell_type": "code",
   "execution_count": 48,
   "metadata": {
    "Collapsed": "false"
   },
   "outputs": [],
   "source": [
    "results = []\n",
    "\n",
    "for items in tick1: \n",
    "    with rate_limiter:\n",
    "        data = url + metric + ext4.format(items, api_key1)\n",
    "        req = requests.get(data).json()\n",
    "        with open ('backup/growth.py', 'a+') as f:\n",
    "            json.dump(req,f)\n",
    "        results.append(req)\n",
    "        m3 = json_normalize(results)\n",
    "m3.to_csv('data_api/growth1.csv')"
   ]
  },
  {
   "cell_type": "markdown",
   "metadata": {
    "Collapsed": "true"
   },
   "source": [
    "## Review Later"
   ]
  },
  {
   "cell_type": "code",
   "execution_count": 26,
   "metadata": {
    "Collapsed": "false"
   },
   "outputs": [],
   "source": [
    "# results = []\n",
    "\n",
    "# for items in tick1: \n",
    "#     with rate_limiter:\n",
    "#         data = url + metric + ext6.format(items, api_key1)\n",
    "#         req = requests.get(data).json()\n",
    "#         results.append(req)\n",
    "#         m5 = json_normalize(results)\n",
    "#         m5.dropna(inplace=True)\n",
    "# m5"
   ]
  },
  {
   "cell_type": "code",
   "execution_count": 24,
   "metadata": {
    "Collapsed": "false"
   },
   "outputs": [],
   "source": [
    "# results = []\n",
    "\n",
    "# for items in tick1: \n",
    "#     with rate_limiter:\n",
    "#         data = url + metric + ext7.format(items, api_key1)\n",
    "#         req = requests.get(data).json()\n",
    "#         results.append(req)\n",
    "#         m6 = json_normalize(results)\n",
    "#         m6.dropna(inplace=True)\n",
    "# m6"
   ]
  },
  {
   "cell_type": "code",
   "execution_count": 25,
   "metadata": {
    "Collapsed": "false"
   },
   "outputs": [],
   "source": [
    "# results = []\n",
    "\n",
    "# for items in tick1: \n",
    "#     with rate_limiter:\n",
    "#         data = url + metric + ext8.format(items, api_key1)\n",
    "#         req = requests.get(data).json()\n",
    "#         results.append(req)\n",
    "#         m7 = json_normalize(results)\n",
    "#         m7.dropna(inplace=True)\n",
    "    \n",
    "# m7"
   ]
  },
  {
   "cell_type": "code",
   "execution_count": 16,
   "metadata": {
    "Collapsed": "false"
   },
   "outputs": [
    {
     "name": "stdout",
     "output_type": "stream",
     "text": [
      "CPU times: user 4 µs, sys: 1e+03 ns, total: 5 µs\n",
      "Wall time: 8.82 µs\n"
     ]
    }
   ],
   "source": [
    "results = []\n",
    "\n",
    "\n",
    "for items in tick1:\n",
    "#     @limits(calls = 12, period = ONE_MINUTE)\n",
    "    data = query.ceo_compensation(symbol = items)\n",
    "    results.append(data)\n",
    "    df = pd.DataFrame(results)\n",
    "    df.dropna(inplace = True)\n",
    "    time.sleep(65)\n",
    "\n",
    "%time"
   ]
  },
  {
   "cell_type": "markdown",
   "metadata": {
    "Collapsed": "true"
   },
   "source": [
    "## Stock Upgrade / Downgrade"
   ]
  },
  {
   "cell_type": "code",
   "execution_count": 6,
   "metadata": {
    "Collapsed": "false"
   },
   "outputs": [],
   "source": [
    "url4 = \"https://finnhub.io/api/v1/stock/upgrade-downgrade?symbol={}&token={}\".format(company, api_key1) #url\n",
    "req4 = requests.get(url4) \n",
    "status = pd.DataFrame(req4.json())"
   ]
  },
  {
   "cell_type": "code",
   "execution_count": 7,
   "metadata": {
    "Collapsed": "false"
   },
   "outputs": [
    {
     "data": {
      "text/html": [
       "<div>\n",
       "<style scoped>\n",
       "    .dataframe tbody tr th:only-of-type {\n",
       "        vertical-align: middle;\n",
       "    }\n",
       "\n",
       "    .dataframe tbody tr th {\n",
       "        vertical-align: top;\n",
       "    }\n",
       "\n",
       "    .dataframe thead th {\n",
       "        text-align: right;\n",
       "    }\n",
       "</style>\n",
       "<table border=\"1\" class=\"dataframe\">\n",
       "  <thead>\n",
       "    <tr style=\"text-align: right;\">\n",
       "      <th></th>\n",
       "      <th>symbol</th>\n",
       "      <th>gradeTime</th>\n",
       "      <th>company</th>\n",
       "      <th>fromGrade</th>\n",
       "      <th>toGrade</th>\n",
       "      <th>action</th>\n",
       "    </tr>\n",
       "  </thead>\n",
       "  <tbody>\n",
       "    <tr>\n",
       "      <th>0</th>\n",
       "      <td>KER.PA</td>\n",
       "      <td>1541116800</td>\n",
       "      <td>RBC Capital</td>\n",
       "      <td>Sector Perform</td>\n",
       "      <td>Outperform</td>\n",
       "      <td>up</td>\n",
       "    </tr>\n",
       "  </tbody>\n",
       "</table>\n",
       "</div>"
      ],
      "text/plain": [
       "   symbol   gradeTime      company       fromGrade     toGrade action\n",
       "0  KER.PA  1541116800  RBC Capital  Sector Perform  Outperform     up"
      ]
     },
     "execution_count": 7,
     "metadata": {},
     "output_type": "execute_result"
    }
   ],
   "source": [
    "status"
   ]
  },
  {
   "cell_type": "markdown",
   "metadata": {
    "Collapsed": "false"
   },
   "source": [
    "### Peers"
   ]
  },
  {
   "cell_type": "code",
   "execution_count": null,
   "metadata": {
    "Collapsed": "false"
   },
   "outputs": [],
   "source": [
    "url5 = \"https://finnhub.io/api/v1/stock/peers?symbol={}&token={}\".format(company, api_key) #url\n",
    "req5 = requests.get(url5) "
   ]
  },
  {
   "cell_type": "code",
   "execution_count": null,
   "metadata": {
    "Collapsed": "false"
   },
   "outputs": [],
   "source": [
    "print(req5.json())"
   ]
  },
  {
   "cell_type": "markdown",
   "metadata": {
    "Collapsed": "true"
   },
   "source": [
    "## Revenue Estimates"
   ]
  },
  {
   "cell_type": "code",
   "execution_count": null,
   "metadata": {
    "Collapsed": "false"
   },
   "outputs": [],
   "source": [
    "url6 = \"https://finnhub.io/api/v1/stock/revenue-estimate?symbol={}&token={}\".format(company, api_key) #url\n",
    "req6 = requests.get(url6) \n",
    "rev = pd.DataFrame(req6.json())\n",
    "rev1 = json_normalize(rev['data'])\n",
    "rev1"
   ]
  },
  {
   "cell_type": "markdown",
   "metadata": {
    "Collapsed": "true"
   },
   "source": [
    "## Earnings Estimate"
   ]
  },
  {
   "cell_type": "code",
   "execution_count": null,
   "metadata": {
    "Collapsed": "false"
   },
   "outputs": [],
   "source": [
    "url7 = \"https://finnhub.io/api/v1/stock/eps-estimate?symbol={}&token={}\".format(company, api_key) #url\n",
    "req7 = requests.get(url7) \n",
    "print(req7.json())"
   ]
  },
  {
   "cell_type": "code",
   "execution_count": null,
   "metadata": {
    "Collapsed": "false"
   },
   "outputs": [],
   "source": [
    "eps = pd.DataFrame(req7.json())\n",
    "eps1 = json_normalize(eps['data'])\n",
    "eps1"
   ]
  },
  {
   "cell_type": "markdown",
   "metadata": {
    "Collapsed": "true"
   },
   "source": [
    "## Investor Ownership"
   ]
  },
  {
   "cell_type": "code",
   "execution_count": null,
   "metadata": {
    "Collapsed": "false"
   },
   "outputs": [],
   "source": [
    "url8 = \"https://finnhub.io/api/v1/stock/investor-ownership?symbol={}&token={}\".format(company, api_key) #url\n",
    "req8 = requests.get(url8) \n",
    "# print(req8.json())\n",
    "own = req8.json()"
   ]
  },
  {
   "cell_type": "code",
   "execution_count": null,
   "metadata": {
    "Collapsed": "false"
   },
   "outputs": [],
   "source": [
    "ownership = pd.DataFrame(own.items(), columns =['Features', 'Value'])\n",
    "# print(req8.json())\n",
    "owner = pd.DataFrame(req8.json())\n",
    "owner1 = json_normalize(owner['ownership'])"
   ]
  },
  {
   "cell_type": "code",
   "execution_count": null,
   "metadata": {
    "Collapsed": "false"
   },
   "outputs": [],
   "source": [
    "owner1"
   ]
  },
  {
   "cell_type": "markdown",
   "metadata": {
    "Collapsed": "true"
   },
   "source": [
    "## Fund Ownership"
   ]
  },
  {
   "cell_type": "code",
   "execution_count": null,
   "metadata": {
    "Collapsed": "false"
   },
   "outputs": [],
   "source": [
    "url9 = \"https://finnhub.io/api/v1/stock/fund-ownership?symbol={}&token={}\".format(company, api_key) #url\n",
    "req9 = requests.get(url9)\n",
    "fdowner = pd.DataFrame(req9.json())\n",
    "fdowner1 = json_normalize(fdowner['ownership'])\n",
    "fdowner1"
   ]
  },
  {
   "cell_type": "markdown",
   "metadata": {
    "Collapsed": "true"
   },
   "source": [
    "## stock quote"
   ]
  },
  {
   "cell_type": "code",
   "execution_count": null,
   "metadata": {
    "Collapsed": "false"
   },
   "outputs": [],
   "source": [
    "url10 = \"https://finnhub.io/api/v1/quote?symbol={}&token={}\".format(company, api_key) #url\n",
    "req10 = requests.get(url10) \n",
    "print(req10.json())"
   ]
  },
  {
   "cell_type": "code",
   "execution_count": null,
   "metadata": {
    "Collapsed": "false"
   },
   "outputs": [],
   "source": [
    "url10 = \"https://finnhub.io/api/v1/quote?symbol=BINANCE:BTCEUR&token={}\".format(api_key) #url\n",
    "req10 = requests.get(url10) \n",
    "print(req10.json())"
   ]
  },
  {
   "cell_type": "markdown",
   "metadata": {
    "Collapsed": "true"
   },
   "source": [
    "## General News"
   ]
  },
  {
   "cell_type": "code",
   "execution_count": null,
   "metadata": {
    "Collapsed": "false"
   },
   "outputs": [],
   "source": [
    "url11 = \"https://finnhub.io/api/v1/news?category=general&token={}\".format(api_key) #url\n",
    "req11 = requests.get(url11) \n",
    "news = pd.DataFrame(req11.json())\n",
    "news"
   ]
  },
  {
   "cell_type": "markdown",
   "metadata": {
    "Collapsed": "true"
   },
   "source": [
    "## company news "
   ]
  },
  {
   "cell_type": "code",
   "execution_count": null,
   "metadata": {
    "Collapsed": "false"
   },
   "outputs": [],
   "source": [
    "url12 = \"https://finnhub.io/api/v1/news/{}?token={}\".format(company,api_key) #url\n",
    "req12 = requests.get(url12) \n",
    "compnews = pd.DataFrame(req12.json())\n",
    "compnews"
   ]
  },
  {
   "cell_type": "markdown",
   "metadata": {
    "Collapsed": "true"
   },
   "source": [
    "## Major Developments"
   ]
  },
  {
   "cell_type": "code",
   "execution_count": null,
   "metadata": {
    "Collapsed": "false"
   },
   "outputs": [],
   "source": [
    "url13 = \"https://finnhub.io/api/v1/major-development?symbol={}&token={}'\".format(company,api_key) #url\n",
    "req13 = requests.get(url13) \n",
    "# print(req13.json())"
   ]
  },
  {
   "cell_type": "markdown",
   "metadata": {
    "Collapsed": "true"
   },
   "source": [
    "## New Sentiment"
   ]
  },
  {
   "cell_type": "code",
   "execution_count": null,
   "metadata": {
    "Collapsed": "false"
   },
   "outputs": [],
   "source": [
    "url14 = \"https://finnhub.io/api/v1/news-sentiment?symbol={}&token={}\".format(company,api_key) #url\n",
    "req14 = requests.get(url14) \n",
    "\n",
    "cpn = pd.DataFrame(req14.json())\n",
    "print(req14.json())"
   ]
  },
  {
   "cell_type": "markdown",
   "metadata": {
    "Collapsed": "true"
   },
   "source": [
    "## Economic Code & Data\n"
   ]
  },
  {
   "cell_type": "code",
   "execution_count": null,
   "metadata": {
    "Collapsed": "false"
   },
   "outputs": [],
   "source": []
  },
  {
   "cell_type": "code",
   "execution_count": null,
   "metadata": {
    "Collapsed": "false"
   },
   "outputs": [],
   "source": [
    "url15 = \"https://finnhub.io/api/v1/economic/code?token={}\".format(api_key) #url\n",
    "req15 = requests.get(url15) \n",
    "# print(req15.json())\n"
   ]
  },
  {
   "cell_type": "code",
   "execution_count": null,
   "metadata": {
    "Collapsed": "false"
   },
   "outputs": [],
   "source": [
    "code = pd.DataFrame(req15.json())\n",
    "code.head(n=15)"
   ]
  },
  {
   "cell_type": "code",
   "execution_count": null,
   "metadata": {
    "Collapsed": "false"
   },
   "outputs": [],
   "source": [
    "df = code.loc[code['country'] == 'United States']"
   ]
  },
  {
   "cell_type": "code",
   "execution_count": null,
   "metadata": {
    "Collapsed": "false"
   },
   "outputs": [],
   "source": [
    "code.code.value_counts().sum()"
   ]
  },
  {
   "cell_type": "code",
   "execution_count": null,
   "metadata": {
    "Collapsed": "false"
   },
   "outputs": [],
   "source": [
    "url16 = \"https://finnhub.io/api/v1/economic?code=A-FRA-6682&token={}\".format(api_key) #url\n",
    "req16 = requests.get(url16) \n",
    "eco = pd.DataFrame(req16.json(), columns =['Date', 'Monthly Bankruptices in France'])\n",
    "eco"
   ]
  },
  {
   "cell_type": "code",
   "execution_count": null,
   "metadata": {
    "Collapsed": "false"
   },
   "outputs": [],
   "source": [
    "url17 = \"https://finnhub.io/api/v1/covid19/us?token={}\".format(api_key) #url\n",
    "req17 = requests.get(url17) \n",
    "# print(req17.json())\n",
    "\n",
    "covid = pd.DataFrame(req17.json())\n",
    "covid.head(n=20)"
   ]
  },
  {
   "cell_type": "markdown",
   "metadata": {
    "Collapsed": "true"
   },
   "source": [
    "## Financials"
   ]
  },
  {
   "cell_type": "code",
   "execution_count": 111,
   "metadata": {
    "Collapsed": "false"
   },
   "outputs": [],
   "source": [
    "\n",
    "import csv, json, sys\n",
    "if sys.argv[1] is not None and sys.argv[2] is not None:\n",
    "    fileInput = sys.argv[1]\n",
    "    fileOutput = sys.argv[2]"
   ]
  },
  {
   "cell_type": "code",
   "execution_count": 122,
   "metadata": {
    "Collapsed": "false"
   },
   "outputs": [
    {
     "name": "stdout",
     "output_type": "stream",
     "text": [
      "{'financials': [{'accountsPayable': 46236, 'accountsReceivableTradeNet': 22926, 'accruedExpenses': 20951, 'accumulatedDepreciationTotal': -58579, 'cash': 12204, 'cashEquivalents': 36640, 'cashandShortTermInvestments': 100557, 'commonStockTotal': 45174, 'currentPortofLTDebtCapitalLeases': 10260, 'deferredIncomeTax': 31504, 'goodwillNet': 5414, 'intangiblesNet': 3206, 'longTermDebt': 91807, 'longTermInvestments': 105341, 'notesPayableShortTermDebt': 5980, 'otherCurrentAssetsTotal': 12352, 'otherCurrentliabilitiesTotal': 43242, 'otherEquityTotal': -1291, 'otherLiabilitiesTotal': 50503, 'otherLongTermAssetsTotal': 32978, 'period': '2019-09-28', 'propertyPlantEquipmentTotalGross': 95957, 'propertyPlantEquipmentTotalNet': 37378, 'retainedEarningsAccumulatedDeficit': 45898, 'shortTermInvestments': 51713, 'tangibleBookValueperShare': 20.36534, 'totalAssets': 338516, 'totalCommonSharesOutstanding': 4443.236, 'totalCurrentAssets': 162819, 'totalCurrentLiabilities': 105718, 'totalDebt': 108047, 'totalEquity': 90488, 'totalInventory': 4106, 'totalLiabilities': 248028, 'totalLiabilitiesShareholdersEquity': 338516, 'totalLongTermDebt': 91807, 'totalReceivablesNet': 45804, 'unrealizedGainLoss': 707}, {'accountsPayable': 55888, 'accountsReceivableTradeNet': 23186, 'accruedExpenses': 24169, 'accumulatedDepreciationTotal': -49099, 'cash': 11575, 'cashEquivalents': 14338, 'cashandShortTermInvestments': 66301, 'commonStockTotal': 40201, 'currentPortofLTDebtCapitalLeases': 8784, 'deferredIncomeTax': 26019, 'goodwillNet': 5116, 'intangiblesNet': 3893, 'longTermDebt': 93735, 'longTermInvestments': 170799, 'notesPayableShortTermDebt': 11964, 'otherCurrentAssetsTotal': 12087, 'otherCurrentliabilitiesTotal': 39293, 'otherEquityTotal': -245, 'otherLiabilitiesTotal': 48914, 'otherLongTermAssetsTotal': 22283, 'period': '2018-09-29', 'propertyPlantEquipmentTotalGross': 90403, 'propertyPlantEquipmentTotalNet': 41304, 'retainedEarningsAccumulatedDeficit': 70400, 'shortTermInvestments': 40388, 'tangibleBookValueperShare': 22.53361, 'totalAssets': 365725, 'totalCommonSharesOutstanding': 4754.986, 'totalCurrentAssets': 131339, 'totalCurrentLiabilities': 115929, 'totalDebt': 114483, 'totalEquity': 107147, 'totalInventory': 3956, 'totalLiabilities': 258578, 'totalLiabilitiesShareholdersEquity': 365725, 'totalLongTermDebt': 93735, 'totalReceivablesNet': 48995, 'unrealizedGainLoss': -3209}, {'accountsPayable': 44242, 'accountsReceivableTradeNet': 17874, 'accruedExpenses': 7689, 'accumulatedDepreciationTotal': -41293, 'cash': 7982, 'cashEquivalents': 12307, 'cashandShortTermInvestments': 74181, 'commonStockTotal': 35867, 'currentPortofLTDebtCapitalLeases': 6496, 'deferredIncomeTax': 24062, 'goodwillNet': 4616, 'intangiblesNet': 4142, 'longTermDebt': 97207, 'longTermInvestments': 194714, 'notesPayableShortTermDebt': 11977, 'otherCurrentAssetsTotal': 13936, 'otherCurrentliabilitiesTotal': 38099, 'otherEquityTotal': -478, 'otherLiabilitiesTotal': 11747, 'otherLongTermAssetsTotal': 18177, 'period': '2017-09-30', 'propertyPlantEquipmentTotalGross': 75076, 'propertyPlantEquipmentTotalNet': 33783, 'retainedEarningsAccumulatedDeficit': 98330, 'shortTermInvestments': 53892, 'tangibleBookValueperShare': 26.14938, 'totalAssets': 375319, 'totalCommonSharesOutstanding': 5126.201, 'totalCurrentAssets': 128645, 'totalCurrentLiabilities': 100814, 'totalDebt': 115680, 'totalEquity': 134047, 'totalInventory': 4855, 'totalLiabilities': 241272, 'totalLiabilitiesShareholdersEquity': 375319, 'totalLongTermDebt': 97207, 'totalReceivablesNet': 35673, 'unrealizedGainLoss': 328}, {'accountsPayable': 37294, 'accountsReceivableTradeNet': 15754, 'accruedExpenses': 0, 'accumulatedDepreciationTotal': -34235, 'cash': 8601, 'cashEquivalents': 11883, 'cashandShortTermInvestments': 67155, 'commonStockTotal': 31251, 'currentPortofLTDebtCapitalLeases': 3500, 'deferredIncomeTax': 20259, 'goodwillNet': 0, 'intangiblesNet': 0, 'longTermDebt': 75427, 'longTermInvestments': 170430, 'notesPayableShortTermDebt': 8105, 'otherCurrentAssetsTotal': 8283, 'otherCurrentliabilitiesTotal': 9156, 'otherEquityTotal': -540, 'otherLiabilitiesTotal': 12985, 'otherLongTermAssetsTotal': 8757, 'period': '2016-09-24', 'propertyPlantEquipmentTotalGross': 61245, 'propertyPlantEquipmentTotalNet': 27010, 'retainedEarningsAccumulatedDeficit': 96364, 'shortTermInvestments': 46671, 'tangibleBookValueperShare': 22.41853, 'totalAssets': 321686, 'totalCommonSharesOutstanding': 5336.166, 'totalCurrentAssets': 106869, 'totalCurrentLiabilities': 79006, 'totalDebt': 87032, 'totalEquity': 128249, 'totalInventory': 2132, 'totalLiabilities': 193437, 'totalLiabilitiesShareholdersEquity': 321686, 'totalLongTermDebt': 75427, 'totalReceivablesNet': 29299, 'unrealizedGainLoss': 1174}, {'accountsPayable': 35490, 'accountsReceivableTradeNet': 16849, 'accruedExpenses': 0, 'accumulatedDepreciationTotal': -26786, 'cash': 11389, 'cashEquivalents': 9731, 'cashandShortTermInvestments': 41601, 'commonStockTotal': 27416, 'currentPortofLTDebtCapitalLeases': 2500, 'deferredIncomeTax': 0, 'goodwillNet': 0, 'intangiblesNet': 0, 'longTermDebt': 53329, 'longTermInvestments': 164065, 'notesPayableShortTermDebt': 8499, 'otherCurrentAssetsTotal': 15085, 'otherCurrentliabilitiesTotal': 9952, 'otherEquityTotal': 308, 'otherLiabilitiesTotal': 12989, 'otherLongTermAssetsTotal': 5422, 'period': '2015-09-26', 'propertyPlantEquipmentTotalGross': 49257, 'propertyPlantEquipmentTotalNet': 22471, 'retainedEarningsAccumulatedDeficit': 92284, 'shortTermInvestments': 20481, 'tangibleBookValueperShare': 19.77969, 'totalAssets': 290345, 'totalCommonSharesOutstanding': 5578.753, 'totalCurrentAssets': 89378, 'totalCurrentLiabilities': 80610, 'totalDebt': 64328, 'totalEquity': 119355, 'totalInventory': 2349, 'totalLiabilities': 170990, 'totalLiabilitiesShareholdersEquity': 290345, 'totalLongTermDebt': 53329, 'totalReceivablesNet': 30343, 'unrealizedGainLoss': -653}], 'symbol': 'AAPL'}\n"
     ]
    }
   ],
   "source": [
    "import requests\n",
    "r = requests.get('https://finnhub.io/api/v1/stock/financials?symbol=AAPL&statement=bs&freq=annual&token=bq06smvrh5rddd65esl0')\n",
    "data = r.json()\n",
    "print(data)"
   ]
  },
  {
   "cell_type": "code",
   "execution_count": 121,
   "metadata": {
    "Collapsed": "false"
   },
   "outputs": [
    {
     "data": {
      "text/plain": [
       "['financials', 'symbol']"
      ]
     },
     "execution_count": 121,
     "metadata": {},
     "output_type": "execute_result"
    }
   ],
   "source": [
    "key_list = []\n",
    "\n",
    "for key in data: \n",
    "    key_list.append(key)"
   ]
  },
  {
   "cell_type": "code",
   "execution_count": 123,
   "metadata": {
    "Collapsed": "false"
   },
   "outputs": [],
   "source": [
    "f = csv.writer(open(\"test.csv\", \"w\"))\n",
    "f.writerows(key_list)\n",
    "\n"
   ]
  },
  {
   "cell_type": "code",
   "execution_count": 131,
   "metadata": {
    "Collapsed": "false"
   },
   "outputs": [
    {
     "ename": "IndentationError",
     "evalue": "unindent does not match any outer indentation level (<tokenize>, line 8)",
     "output_type": "error",
     "traceback": [
      "\u001b[0;36m  File \u001b[0;32m\"<tokenize>\"\u001b[0;36m, line \u001b[0;32m8\u001b[0m\n\u001b[0;31m    for record in jsonobj:\u001b[0m\n\u001b[0m    ^\u001b[0m\n\u001b[0;31mIndentationError\u001b[0m\u001b[0;31m:\u001b[0m unindent does not match any outer indentation level\n"
     ]
    }
   ],
   "source": [
    "# def jsontocsv(input_json, output_path):\n",
    "# keylist = []\n",
    "# for key in jsonobj[0]:\n",
    "#     keylist.append(key)\n",
    "#     f = csv.writer(open(output_path, \"w\"))\n",
    "#     f.writerow(keylist)\n",
    " \n",
    "#   for record in jsonobj:\n",
    "#     currentrecord = []\n",
    "#     for key in keylist:\n",
    "#       currentrecord.append(record[key])\n",
    "#       f.writerow(currentrecord)"
   ]
  },
  {
   "cell_type": "code",
   "execution_count": 54,
   "metadata": {
    "Collapsed": "false"
   },
   "outputs": [],
   "source": [
    "df = pd.DataFrame(r.json())"
   ]
  },
  {
   "cell_type": "code",
   "execution_count": 56,
   "metadata": {
    "Collapsed": "false"
   },
   "outputs": [],
   "source": [
    "df1 = json_normalize(df['financials'])"
   ]
  },
  {
   "cell_type": "code",
   "execution_count": 58,
   "metadata": {
    "Collapsed": "false"
   },
   "outputs": [
    {
     "data": {
      "text/plain": [
       "Index(['accountsPayable', 'accountsReceivableTradeNet', 'accruedExpenses',\n",
       "       'accumulatedDepreciationTotal', 'cash', 'cashEquivalents',\n",
       "       'cashandShortTermInvestments', 'commonStockTotal',\n",
       "       'currentPortofLTDebtCapitalLeases', 'deferredIncomeTax', 'goodwillNet',\n",
       "       'intangiblesNet', 'longTermDebt', 'longTermInvestments',\n",
       "       'notesPayableShortTermDebt', 'otherCurrentAssetsTotal',\n",
       "       'otherCurrentliabilitiesTotal', 'otherEquityTotal',\n",
       "       'otherLiabilitiesTotal', 'otherLongTermAssetsTotal', 'period',\n",
       "       'propertyPlantEquipmentTotalGross', 'propertyPlantEquipmentTotalNet',\n",
       "       'retainedEarningsAccumulatedDeficit', 'shortTermInvestments',\n",
       "       'tangibleBookValueperShare', 'totalAssets',\n",
       "       'totalCommonSharesOutstanding', 'totalCurrentAssets',\n",
       "       'totalCurrentLiabilities', 'totalDebt', 'totalEquity', 'totalInventory',\n",
       "       'totalLiabilities', 'totalLiabilitiesShareholdersEquity',\n",
       "       'totalLongTermDebt', 'totalReceivablesNet', 'unrealizedGainLoss'],\n",
       "      dtype='object')"
      ]
     },
     "execution_count": 58,
     "metadata": {},
     "output_type": "execute_result"
    }
   ],
   "source": [
    "\n",
    "\n",
    "df1.columns"
   ]
  },
  {
   "cell_type": "code",
   "execution_count": null,
   "metadata": {
    "Collapsed": "false"
   },
   "outputs": [],
   "source": []
  }
 ],
 "metadata": {
  "kernelspec": {
   "display_name": "Python 3",
   "language": "python",
   "name": "python3"
  },
  "language_info": {
   "codemirror_mode": {
    "name": "ipython",
    "version": 3
   },
   "file_extension": ".py",
   "mimetype": "text/x-python",
   "name": "python",
   "nbconvert_exporter": "python",
   "pygments_lexer": "ipython3",
   "version": "3.6.8"
  }
 },
 "nbformat": 4,
 "nbformat_minor": 4
}
