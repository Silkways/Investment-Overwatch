{
 "cells": [
  {
   "cell_type": "code",
   "execution_count": 35,
   "metadata": {
    "Collapsed": "false"
   },
   "outputs": [
    {
     "name": "stdout",
     "output_type": "stream",
     "text": [
      "The autoreload extension is already loaded. To reload it, use:\n",
      "  %reload_ext autoreload\n"
     ]
    }
   ],
   "source": [
    "import websocket\n",
    "import pandas as pd\n",
    "import requests\n",
    "from pandas.io.json import json_normalize\n",
    "import json\n",
    "from code_ref import get_keys\n",
    "from code_ref import findata\n",
    "from code_ref import FinnhubRequestException\n",
    "from code_ref import FinnhubAPIException\n",
    "import time\n",
    "import threading\n",
    "%matplotlib inline\n",
    "%load_ext autoreload\n",
    "%autoreload 2\n"
   ]
  },
  {
   "cell_type": "code",
   "execution_count": 36,
   "metadata": {
    "Collapsed": "false"
   },
   "outputs": [],
   "source": [
    "keys = get_keys(\"/Users/augustingoudet/.secret/code_file\") #Finnhub Key\n",
    "api_key1 = keys ['finnhub'] #api_key\n",
    "company = \"SBUX\" #Company Ticker\n",
    "\n",
    "query = findata(api_key = api_key1)\n"
   ]
  },
  {
   "cell_type": "code",
   "execution_count": 42,
   "metadata": {
    "Collapsed": "false"
   },
   "outputs": [],
   "source": [
    "url = \"https://finnhub.io/api/v1/\"\n",
    "\n",
    "ext1 = \"?symbol={}&token={}\"\n",
    "ext2 = \"?symbol={}&metric=management&token={}\"\n",
    "ext3 = \"?symbol={}&metric=margin&token={}\"\n",
    "ext4 = \"?symbol={}&metric=growth&token={}\"\n",
    "ext5 = \"?symbol={}&metric=price&token={}\"\n",
    "\n",
    "profile =\"stock/profile\"\n",
    "ceo_comp = \"stock/ceo-compensation\"\n",
    "board = \"stock/executive\"\n",
    "reco = \"stock/recommendation\"\n",
    "price_target = \"stock/price-target\"\n",
    "up_down = \"stock/upgrade-downgrade\"\n",
    "peers = \"stock/peers\"\n",
    "rev_est = \"stock/revenue-estimate\"\n",
    "eps_est = \"stock/eps-estimate\"\n",
    "ownership = \"stock/investor-ownership\"\n",
    "metric_1 = \"stock/metric\"\n",
    "quote = \"quote\"\n",
    "news = \"news\"\n",
    "covid = \"covid19\"\n",
    "transcript = \"stock/transcripts\"\n",
    "divs = \"stock/dividend?symbol={}&from=2019-02-01&to=2020-02-01\"\n",
    "split = \"stock/split?symbol=AAPL&from=2010-02-01&to=2020-02-01\"\n",
    "inc = \"stock/financials?symbol={}&statement=is&freq=annual\"\n",
    "bs = \"stock/financials?symbol={}&statement=bs&freq=annual\"\n",
    "cfs = \"stock/financials?symbol={}&statement=cf&freq=annual\"\n"
   ]
  },
  {
   "cell_type": "code",
   "execution_count": 38,
   "metadata": {
    "Collapsed": "false"
   },
   "outputs": [],
   "source": [
    "tickers = pd.read_csv('Ticker_list_1.csv')"
   ]
  },
  {
   "cell_type": "code",
   "execution_count": 39,
   "metadata": {
    "Collapsed": "false"
   },
   "outputs": [],
   "source": [
    "tick = list(tickers.Ticker)\n",
    "tick1 = tick[:7]"
   ]
  },
  {
   "cell_type": "markdown",
   "metadata": {
    "Collapsed": "false"
   },
   "source": [
    "## Profiling Data"
   ]
  },
  {
   "cell_type": "code",
   "execution_count": 40,
   "metadata": {
    "Collapsed": "false"
   },
   "outputs": [
    {
     "name": "stdout",
     "output_type": "stream",
     "text": [
      "CPU times: user 3 µs, sys: 0 ns, total: 3 µs\n",
      "Wall time: 13.1 µs\n"
     ]
    }
   ],
   "source": [
    "results = []\n",
    "\n",
    "for items in tick1: \n",
    "    data = query.ceo_compensation(symbol = items)\n",
    "    results.append(data)\n",
    "    df = pd.DataFrame(results)\n",
    "    df.dropna(inplace = True)\n",
    "\n",
    "\n",
    "%time"
   ]
  },
  {
   "cell_type": "code",
   "execution_count": 41,
   "metadata": {
    "Collapsed": "false"
   },
   "outputs": [
    {
     "data": {
      "text/html": [
       "<div>\n",
       "<style scoped>\n",
       "    .dataframe tbody tr th:only-of-type {\n",
       "        vertical-align: middle;\n",
       "    }\n",
       "\n",
       "    .dataframe tbody tr th {\n",
       "        vertical-align: top;\n",
       "    }\n",
       "\n",
       "    .dataframe thead th {\n",
       "        text-align: right;\n",
       "    }\n",
       "</style>\n",
       "<table border=\"1\" class=\"dataframe\">\n",
       "  <thead>\n",
       "    <tr style=\"text-align: right;\">\n",
       "      <th></th>\n",
       "      <th>bonus</th>\n",
       "      <th>companyName</th>\n",
       "      <th>location</th>\n",
       "      <th>name</th>\n",
       "      <th>nonEquityIncentives</th>\n",
       "      <th>optionAwards</th>\n",
       "      <th>otherComp</th>\n",
       "      <th>pensionAndDeferred</th>\n",
       "      <th>salary</th>\n",
       "      <th>stockAwards</th>\n",
       "      <th>symbol</th>\n",
       "      <th>total</th>\n",
       "      <th>year</th>\n",
       "    </tr>\n",
       "  </thead>\n",
       "  <tbody>\n",
       "    <tr>\n",
       "      <th>1</th>\n",
       "      <td>0.0</td>\n",
       "      <td>Apple Inc.</td>\n",
       "      <td>Cupertino, CA</td>\n",
       "      <td>Timothy Cook</td>\n",
       "      <td>12000000.0</td>\n",
       "      <td>0.0</td>\n",
       "      <td>682219.0</td>\n",
       "      <td>0.0</td>\n",
       "      <td>3000000.0</td>\n",
       "      <td>0.0</td>\n",
       "      <td>AAPL</td>\n",
       "      <td>15682219.0</td>\n",
       "      <td>2018</td>\n",
       "    </tr>\n",
       "    <tr>\n",
       "      <th>2</th>\n",
       "      <td>0.0</td>\n",
       "      <td>Bank of America Corp</td>\n",
       "      <td>Charlotte, NC</td>\n",
       "      <td>Brian Moynihan</td>\n",
       "      <td>0.0</td>\n",
       "      <td>0.0</td>\n",
       "      <td>382263.0</td>\n",
       "      <td>320159.0</td>\n",
       "      <td>1500000.0</td>\n",
       "      <td>20552088.0</td>\n",
       "      <td>BAC</td>\n",
       "      <td>22754510.0</td>\n",
       "      <td>2018</td>\n",
       "    </tr>\n",
       "    <tr>\n",
       "      <th>3</th>\n",
       "      <td>0.0</td>\n",
       "      <td>Amazon.com Inc.</td>\n",
       "      <td>Seattle, WA</td>\n",
       "      <td>Jeffrey Bezos</td>\n",
       "      <td>0.0</td>\n",
       "      <td>0.0</td>\n",
       "      <td>1600000.0</td>\n",
       "      <td>0.0</td>\n",
       "      <td>81840.0</td>\n",
       "      <td>0.0</td>\n",
       "      <td>AMZN</td>\n",
       "      <td>1681840.0</td>\n",
       "      <td>2018</td>\n",
       "    </tr>\n",
       "    <tr>\n",
       "      <th>4</th>\n",
       "      <td>0.0</td>\n",
       "      <td>AT&amp;T Inc.</td>\n",
       "      <td>Dallas, TX</td>\n",
       "      <td>Randall Stephenson</td>\n",
       "      <td>5192000.0</td>\n",
       "      <td>0.0</td>\n",
       "      <td>1538538.0</td>\n",
       "      <td>3517806.0</td>\n",
       "      <td>1800000.0</td>\n",
       "      <td>17069774.0</td>\n",
       "      <td>T</td>\n",
       "      <td>29118118.0</td>\n",
       "      <td>2018</td>\n",
       "    </tr>\n",
       "    <tr>\n",
       "      <th>6</th>\n",
       "      <td>0.0</td>\n",
       "      <td>Altria Group Inc</td>\n",
       "      <td>Richmond, VA</td>\n",
       "      <td>Martin Barrington</td>\n",
       "      <td>833300.0</td>\n",
       "      <td>0.0</td>\n",
       "      <td>175665.0</td>\n",
       "      <td>1505621.0</td>\n",
       "      <td>684816.0</td>\n",
       "      <td>0.0</td>\n",
       "      <td>MO</td>\n",
       "      <td>3199402.0</td>\n",
       "      <td>2018</td>\n",
       "    </tr>\n",
       "  </tbody>\n",
       "</table>\n",
       "</div>"
      ],
      "text/plain": [
       "   bonus           companyName       location                name  \\\n",
       "1    0.0            Apple Inc.  Cupertino, CA        Timothy Cook   \n",
       "2    0.0  Bank of America Corp  Charlotte, NC      Brian Moynihan   \n",
       "3    0.0       Amazon.com Inc.    Seattle, WA       Jeffrey Bezos   \n",
       "4    0.0             AT&T Inc.     Dallas, TX  Randall Stephenson   \n",
       "6    0.0      Altria Group Inc   Richmond, VA   Martin Barrington   \n",
       "\n",
       "   nonEquityIncentives  optionAwards  otherComp  pensionAndDeferred  \\\n",
       "1           12000000.0           0.0   682219.0                 0.0   \n",
       "2                  0.0           0.0   382263.0            320159.0   \n",
       "3                  0.0           0.0  1600000.0                 0.0   \n",
       "4            5192000.0           0.0  1538538.0           3517806.0   \n",
       "6             833300.0           0.0   175665.0           1505621.0   \n",
       "\n",
       "      salary  stockAwards symbol       total  year  \n",
       "1  3000000.0          0.0   AAPL  15682219.0  2018  \n",
       "2  1500000.0   20552088.0    BAC  22754510.0  2018  \n",
       "3    81840.0          0.0   AMZN   1681840.0  2018  \n",
       "4  1800000.0   17069774.0      T  29118118.0  2018  \n",
       "6   684816.0          0.0     MO   3199402.0  2018  "
      ]
     },
     "execution_count": 41,
     "metadata": {},
     "output_type": "execute_result"
    }
   ],
   "source": [
    "df"
   ]
  },
  {
   "cell_type": "markdown",
   "metadata": {
    "Collapsed": "false"
   },
   "source": [
    "## board members / executive"
   ]
  },
  {
   "cell_type": "code",
   "execution_count": 59,
   "metadata": {
    "Collapsed": "false"
   },
   "outputs": [],
   "source": [
    "results = []\n",
    "\n",
    "for items in tick1: \n",
    "    data = url + ceo_comp + ext1.format(items, api_key1)\n",
    "    req = requests.get(data)\n",
    "    content = req.json()\n",
    "    results.append(content)\n",
    "    df1 = pd.DataFrame(results)\n",
    "    df1.dropna(inplace = True)"
   ]
  },
  {
   "cell_type": "code",
   "execution_count": 60,
   "metadata": {
    "Collapsed": "false"
   },
   "outputs": [
    {
     "data": {
      "text/html": [
       "<div>\n",
       "<style scoped>\n",
       "    .dataframe tbody tr th:only-of-type {\n",
       "        vertical-align: middle;\n",
       "    }\n",
       "\n",
       "    .dataframe tbody tr th {\n",
       "        vertical-align: top;\n",
       "    }\n",
       "\n",
       "    .dataframe thead th {\n",
       "        text-align: right;\n",
       "    }\n",
       "</style>\n",
       "<table border=\"1\" class=\"dataframe\">\n",
       "  <thead>\n",
       "    <tr style=\"text-align: right;\">\n",
       "      <th></th>\n",
       "      <th>bonus</th>\n",
       "      <th>companyName</th>\n",
       "      <th>location</th>\n",
       "      <th>name</th>\n",
       "      <th>nonEquityIncentives</th>\n",
       "      <th>optionAwards</th>\n",
       "      <th>otherComp</th>\n",
       "      <th>pensionAndDeferred</th>\n",
       "      <th>salary</th>\n",
       "      <th>stockAwards</th>\n",
       "      <th>symbol</th>\n",
       "      <th>total</th>\n",
       "      <th>year</th>\n",
       "    </tr>\n",
       "  </thead>\n",
       "  <tbody>\n",
       "    <tr>\n",
       "      <th>1</th>\n",
       "      <td>0.0</td>\n",
       "      <td>Apple Inc.</td>\n",
       "      <td>Cupertino, CA</td>\n",
       "      <td>Timothy Cook</td>\n",
       "      <td>12000000.0</td>\n",
       "      <td>0.0</td>\n",
       "      <td>682219.0</td>\n",
       "      <td>0.0</td>\n",
       "      <td>3000000.0</td>\n",
       "      <td>0.0</td>\n",
       "      <td>AAPL</td>\n",
       "      <td>15682219.0</td>\n",
       "      <td>2018</td>\n",
       "    </tr>\n",
       "    <tr>\n",
       "      <th>2</th>\n",
       "      <td>0.0</td>\n",
       "      <td>Bank of America Corp</td>\n",
       "      <td>Charlotte, NC</td>\n",
       "      <td>Brian Moynihan</td>\n",
       "      <td>0.0</td>\n",
       "      <td>0.0</td>\n",
       "      <td>382263.0</td>\n",
       "      <td>320159.0</td>\n",
       "      <td>1500000.0</td>\n",
       "      <td>20552088.0</td>\n",
       "      <td>BAC</td>\n",
       "      <td>22754510.0</td>\n",
       "      <td>2018</td>\n",
       "    </tr>\n",
       "    <tr>\n",
       "      <th>3</th>\n",
       "      <td>0.0</td>\n",
       "      <td>Amazon.com Inc.</td>\n",
       "      <td>Seattle, WA</td>\n",
       "      <td>Jeffrey Bezos</td>\n",
       "      <td>0.0</td>\n",
       "      <td>0.0</td>\n",
       "      <td>1600000.0</td>\n",
       "      <td>0.0</td>\n",
       "      <td>81840.0</td>\n",
       "      <td>0.0</td>\n",
       "      <td>AMZN</td>\n",
       "      <td>1681840.0</td>\n",
       "      <td>2018</td>\n",
       "    </tr>\n",
       "    <tr>\n",
       "      <th>4</th>\n",
       "      <td>0.0</td>\n",
       "      <td>AT&amp;T Inc.</td>\n",
       "      <td>Dallas, TX</td>\n",
       "      <td>Randall Stephenson</td>\n",
       "      <td>5192000.0</td>\n",
       "      <td>0.0</td>\n",
       "      <td>1538538.0</td>\n",
       "      <td>3517806.0</td>\n",
       "      <td>1800000.0</td>\n",
       "      <td>17069774.0</td>\n",
       "      <td>T</td>\n",
       "      <td>29118118.0</td>\n",
       "      <td>2018</td>\n",
       "    </tr>\n",
       "    <tr>\n",
       "      <th>6</th>\n",
       "      <td>0.0</td>\n",
       "      <td>Altria Group Inc</td>\n",
       "      <td>Richmond, VA</td>\n",
       "      <td>Martin Barrington</td>\n",
       "      <td>833300.0</td>\n",
       "      <td>0.0</td>\n",
       "      <td>175665.0</td>\n",
       "      <td>1505621.0</td>\n",
       "      <td>684816.0</td>\n",
       "      <td>0.0</td>\n",
       "      <td>MO</td>\n",
       "      <td>3199402.0</td>\n",
       "      <td>2018</td>\n",
       "    </tr>\n",
       "  </tbody>\n",
       "</table>\n",
       "</div>"
      ],
      "text/plain": [
       "   bonus           companyName       location                name  \\\n",
       "1    0.0            Apple Inc.  Cupertino, CA        Timothy Cook   \n",
       "2    0.0  Bank of America Corp  Charlotte, NC      Brian Moynihan   \n",
       "3    0.0       Amazon.com Inc.    Seattle, WA       Jeffrey Bezos   \n",
       "4    0.0             AT&T Inc.     Dallas, TX  Randall Stephenson   \n",
       "6    0.0      Altria Group Inc   Richmond, VA   Martin Barrington   \n",
       "\n",
       "   nonEquityIncentives  optionAwards  otherComp  pensionAndDeferred  \\\n",
       "1           12000000.0           0.0   682219.0                 0.0   \n",
       "2                  0.0           0.0   382263.0            320159.0   \n",
       "3                  0.0           0.0  1600000.0                 0.0   \n",
       "4            5192000.0           0.0  1538538.0           3517806.0   \n",
       "6             833300.0           0.0   175665.0           1505621.0   \n",
       "\n",
       "      salary  stockAwards symbol       total  year  \n",
       "1  3000000.0          0.0   AAPL  15682219.0  2018  \n",
       "2  1500000.0   20552088.0    BAC  22754510.0  2018  \n",
       "3    81840.0          0.0   AMZN   1681840.0  2018  \n",
       "4  1800000.0   17069774.0      T  29118118.0  2018  \n",
       "6   684816.0          0.0     MO   3199402.0  2018  "
      ]
     },
     "execution_count": 60,
     "metadata": {},
     "output_type": "execute_result"
    }
   ],
   "source": [
    "df1"
   ]
  },
  {
   "cell_type": "markdown",
   "metadata": {
    "Collapsed": "false"
   },
   "source": [
    "## analyst recommendation "
   ]
  },
  {
   "cell_type": "code",
   "execution_count": 68,
   "metadata": {
    "Collapsed": "false"
   },
   "outputs": [
    {
     "data": {
      "text/html": [
       "<div>\n",
       "<style scoped>\n",
       "    .dataframe tbody tr th:only-of-type {\n",
       "        vertical-align: middle;\n",
       "    }\n",
       "\n",
       "    .dataframe tbody tr th {\n",
       "        vertical-align: top;\n",
       "    }\n",
       "\n",
       "    .dataframe thead th {\n",
       "        text-align: right;\n",
       "    }\n",
       "</style>\n",
       "<table border=\"1\" class=\"dataframe\">\n",
       "  <thead>\n",
       "    <tr style=\"text-align: right;\">\n",
       "      <th></th>\n",
       "      <th>actual</th>\n",
       "      <th>estimate</th>\n",
       "      <th>period</th>\n",
       "      <th>symbol</th>\n",
       "    </tr>\n",
       "  </thead>\n",
       "  <tbody>\n",
       "    <tr>\n",
       "      <th>0</th>\n",
       "      <td>0.79000</td>\n",
       "      <td>0.75864</td>\n",
       "      <td>2019-12-31</td>\n",
       "      <td>SBUX</td>\n",
       "    </tr>\n",
       "    <tr>\n",
       "      <th>1</th>\n",
       "      <td>0.70000</td>\n",
       "      <td>0.69867</td>\n",
       "      <td>2019-09-30</td>\n",
       "      <td>SBUX</td>\n",
       "    </tr>\n",
       "    <tr>\n",
       "      <th>2</th>\n",
       "      <td>0.78000</td>\n",
       "      <td>0.72407</td>\n",
       "      <td>2019-06-30</td>\n",
       "      <td>SBUX</td>\n",
       "    </tr>\n",
       "    <tr>\n",
       "      <th>3</th>\n",
       "      <td>0.60000</td>\n",
       "      <td>0.56313</td>\n",
       "      <td>2019-03-31</td>\n",
       "      <td>SBUX</td>\n",
       "    </tr>\n",
       "    <tr>\n",
       "      <th>4</th>\n",
       "      <td>0.68000</td>\n",
       "      <td>0.64839</td>\n",
       "      <td>2018-12-31</td>\n",
       "      <td>SBUX</td>\n",
       "    </tr>\n",
       "    <tr>\n",
       "      <th>...</th>\n",
       "      <td>...</td>\n",
       "      <td>...</td>\n",
       "      <td>...</td>\n",
       "      <td>...</td>\n",
       "    </tr>\n",
       "    <tr>\n",
       "      <th>72</th>\n",
       "      <td>0.03750</td>\n",
       "      <td>0.03684</td>\n",
       "      <td>2001-12-31</td>\n",
       "      <td>SBUX</td>\n",
       "    </tr>\n",
       "    <tr>\n",
       "      <th>73</th>\n",
       "      <td>0.03500</td>\n",
       "      <td>0.03334</td>\n",
       "      <td>2001-09-30</td>\n",
       "      <td>SBUX</td>\n",
       "    </tr>\n",
       "    <tr>\n",
       "      <th>74</th>\n",
       "      <td>0.03000</td>\n",
       "      <td>0.03035</td>\n",
       "      <td>2001-06-30</td>\n",
       "      <td>SBUX</td>\n",
       "    </tr>\n",
       "    <tr>\n",
       "      <th>75</th>\n",
       "      <td>0.02000</td>\n",
       "      <td>0.01986</td>\n",
       "      <td>2001-03-31</td>\n",
       "      <td>SBUX</td>\n",
       "    </tr>\n",
       "    <tr>\n",
       "      <th>76</th>\n",
       "      <td>0.03125</td>\n",
       "      <td>0.02890</td>\n",
       "      <td>2000-12-31</td>\n",
       "      <td>SBUX</td>\n",
       "    </tr>\n",
       "  </tbody>\n",
       "</table>\n",
       "<p>77 rows × 4 columns</p>\n",
       "</div>"
      ],
      "text/plain": [
       "     actual  estimate      period symbol\n",
       "0   0.79000   0.75864  2019-12-31   SBUX\n",
       "1   0.70000   0.69867  2019-09-30   SBUX\n",
       "2   0.78000   0.72407  2019-06-30   SBUX\n",
       "3   0.60000   0.56313  2019-03-31   SBUX\n",
       "4   0.68000   0.64839  2018-12-31   SBUX\n",
       "..      ...       ...         ...    ...\n",
       "72  0.03750   0.03684  2001-12-31   SBUX\n",
       "73  0.03500   0.03334  2001-09-30   SBUX\n",
       "74  0.03000   0.03035  2001-06-30   SBUX\n",
       "75  0.02000   0.01986  2001-03-31   SBUX\n",
       "76  0.03125   0.02890  2000-12-31   SBUX\n",
       "\n",
       "[77 rows x 4 columns]"
      ]
     },
     "execution_count": 68,
     "metadata": {},
     "output_type": "execute_result"
    }
   ],
   "source": [
    "pd.DataFrame(query.earnings(symbol = \"SBUX\"))"
   ]
  },
  {
   "cell_type": "code",
   "execution_count": 77,
   "metadata": {
    "Collapsed": "false"
   },
   "outputs": [],
   "source": [
    "results = []\n",
    "\n",
    "for items in tick1: \n",
    "    data = query.earnings(symbol = items)\n",
    "    earnings = pd.DataFrame(data)  "
   ]
  },
  {
   "cell_type": "code",
   "execution_count": 78,
   "metadata": {
    "Collapsed": "false"
   },
   "outputs": [
    {
     "data": {
      "text/html": [
       "<div>\n",
       "<style scoped>\n",
       "    .dataframe tbody tr th:only-of-type {\n",
       "        vertical-align: middle;\n",
       "    }\n",
       "\n",
       "    .dataframe tbody tr th {\n",
       "        vertical-align: top;\n",
       "    }\n",
       "\n",
       "    .dataframe thead th {\n",
       "        text-align: right;\n",
       "    }\n",
       "</style>\n",
       "<table border=\"1\" class=\"dataframe\">\n",
       "  <thead>\n",
       "    <tr style=\"text-align: right;\">\n",
       "      <th></th>\n",
       "      <th>actual</th>\n",
       "      <th>estimate</th>\n",
       "      <th>period</th>\n",
       "      <th>symbol</th>\n",
       "    </tr>\n",
       "  </thead>\n",
       "  <tbody>\n",
       "    <tr>\n",
       "      <th>0</th>\n",
       "      <td>1.02</td>\n",
       "      <td>1.01908</td>\n",
       "      <td>2019-12-31</td>\n",
       "      <td>MO</td>\n",
       "    </tr>\n",
       "    <tr>\n",
       "      <th>1</th>\n",
       "      <td>1.19</td>\n",
       "      <td>1.14892</td>\n",
       "      <td>2019-09-30</td>\n",
       "      <td>MO</td>\n",
       "    </tr>\n",
       "    <tr>\n",
       "      <th>2</th>\n",
       "      <td>1.10</td>\n",
       "      <td>1.10571</td>\n",
       "      <td>2019-06-30</td>\n",
       "      <td>MO</td>\n",
       "    </tr>\n",
       "    <tr>\n",
       "      <th>3</th>\n",
       "      <td>0.90</td>\n",
       "      <td>0.92179</td>\n",
       "      <td>2019-03-31</td>\n",
       "      <td>MO</td>\n",
       "    </tr>\n",
       "    <tr>\n",
       "      <th>4</th>\n",
       "      <td>0.95</td>\n",
       "      <td>0.94986</td>\n",
       "      <td>2018-12-31</td>\n",
       "      <td>MO</td>\n",
       "    </tr>\n",
       "    <tr>\n",
       "      <th>...</th>\n",
       "      <td>...</td>\n",
       "      <td>...</td>\n",
       "      <td>...</td>\n",
       "      <td>...</td>\n",
       "    </tr>\n",
       "    <tr>\n",
       "      <th>67</th>\n",
       "      <td>1.07</td>\n",
       "      <td>1.06000</td>\n",
       "      <td>2003-03-31</td>\n",
       "      <td>MO</td>\n",
       "    </tr>\n",
       "    <tr>\n",
       "      <th>68</th>\n",
       "      <td>0.93</td>\n",
       "      <td>0.92444</td>\n",
       "      <td>2002-12-31</td>\n",
       "      <td>MO</td>\n",
       "    </tr>\n",
       "    <tr>\n",
       "      <th>69</th>\n",
       "      <td>1.26</td>\n",
       "      <td>1.26000</td>\n",
       "      <td>2002-09-30</td>\n",
       "      <td>MO</td>\n",
       "    </tr>\n",
       "    <tr>\n",
       "      <th>70</th>\n",
       "      <td>1.24</td>\n",
       "      <td>1.22875</td>\n",
       "      <td>2002-06-30</td>\n",
       "      <td>MO</td>\n",
       "    </tr>\n",
       "    <tr>\n",
       "      <th>71</th>\n",
       "      <td>1.14</td>\n",
       "      <td>1.13167</td>\n",
       "      <td>2002-03-31</td>\n",
       "      <td>MO</td>\n",
       "    </tr>\n",
       "  </tbody>\n",
       "</table>\n",
       "<p>72 rows × 4 columns</p>\n",
       "</div>"
      ],
      "text/plain": [
       "    actual  estimate      period symbol\n",
       "0     1.02   1.01908  2019-12-31     MO\n",
       "1     1.19   1.14892  2019-09-30     MO\n",
       "2     1.10   1.10571  2019-06-30     MO\n",
       "3     0.90   0.92179  2019-03-31     MO\n",
       "4     0.95   0.94986  2018-12-31     MO\n",
       "..     ...       ...         ...    ...\n",
       "67    1.07   1.06000  2003-03-31     MO\n",
       "68    0.93   0.92444  2002-12-31     MO\n",
       "69    1.26   1.26000  2002-09-30     MO\n",
       "70    1.24   1.22875  2002-06-30     MO\n",
       "71    1.14   1.13167  2002-03-31     MO\n",
       "\n",
       "[72 rows x 4 columns]"
      ]
     },
     "execution_count": 78,
     "metadata": {},
     "output_type": "execute_result"
    }
   ],
   "source": [
    "earnings"
   ]
  },
  {
   "cell_type": "markdown",
   "metadata": {
    "Collapsed": "false"
   },
   "source": [
    "## price target"
   ]
  },
  {
   "cell_type": "code",
   "execution_count": null,
   "metadata": {
    "Collapsed": "false"
   },
   "outputs": [],
   "source": [
    "url3 = \"https://finnhub.io/api/v1/stock/price-target?symbol={}&token={}\".format(company, api_key) #url\n",
    "req3 = requests.get(url3) "
   ]
  },
  {
   "cell_type": "code",
   "execution_count": null,
   "metadata": {
    "Collapsed": "false"
   },
   "outputs": [],
   "source": [
    "print(req3.json())"
   ]
  },
  {
   "cell_type": "markdown",
   "metadata": {
    "Collapsed": "false"
   },
   "source": [
    "## Stock Upgrade / Downgrade"
   ]
  },
  {
   "cell_type": "code",
   "execution_count": null,
   "metadata": {
    "Collapsed": "false"
   },
   "outputs": [],
   "source": [
    "url4 = \"https://finnhub.io/api/v1/stock/upgrade-downgrade?symbol={}&token={}\".format(company, api_key) #url\n",
    "req4 = requests.get(url4) \n",
    "status = pd.DataFrame(req4.json())"
   ]
  },
  {
   "cell_type": "code",
   "execution_count": null,
   "metadata": {
    "Collapsed": "false"
   },
   "outputs": [],
   "source": [
    "status"
   ]
  },
  {
   "cell_type": "markdown",
   "metadata": {
    "Collapsed": "false"
   },
   "source": [
    "### Peers"
   ]
  },
  {
   "cell_type": "code",
   "execution_count": null,
   "metadata": {
    "Collapsed": "false"
   },
   "outputs": [],
   "source": [
    "url5 = \"https://finnhub.io/api/v1/stock/peers?symbol={}&token={}\".format(company, api_key) #url\n",
    "req5 = requests.get(url5) "
   ]
  },
  {
   "cell_type": "code",
   "execution_count": null,
   "metadata": {
    "Collapsed": "false"
   },
   "outputs": [],
   "source": [
    "print(req5.json())"
   ]
  },
  {
   "cell_type": "markdown",
   "metadata": {
    "Collapsed": "false"
   },
   "source": [
    "## Revenue Estimates"
   ]
  },
  {
   "cell_type": "code",
   "execution_count": null,
   "metadata": {
    "Collapsed": "false"
   },
   "outputs": [],
   "source": [
    "url6 = \"https://finnhub.io/api/v1/stock/revenue-estimate?symbol={}&token={}\".format(company, api_key) #url\n",
    "req6 = requests.get(url6) \n",
    "rev = pd.DataFrame(req6.json())\n",
    "rev1 = json_normalize(rev['data'])\n",
    "rev1"
   ]
  },
  {
   "cell_type": "markdown",
   "metadata": {
    "Collapsed": "false"
   },
   "source": [
    "## Earnings Estimate"
   ]
  },
  {
   "cell_type": "code",
   "execution_count": null,
   "metadata": {
    "Collapsed": "false"
   },
   "outputs": [],
   "source": [
    "url7 = \"https://finnhub.io/api/v1/stock/eps-estimate?symbol={}&token={}\".format(company, api_key) #url\n",
    "req7 = requests.get(url7) \n",
    "print(req7.json())"
   ]
  },
  {
   "cell_type": "code",
   "execution_count": null,
   "metadata": {
    "Collapsed": "false"
   },
   "outputs": [],
   "source": [
    "eps = pd.DataFrame(req7.json())\n",
    "eps1 = json_normalize(eps['data'])\n",
    "eps1"
   ]
  },
  {
   "cell_type": "markdown",
   "metadata": {
    "Collapsed": "false"
   },
   "source": [
    "## Investor Ownership"
   ]
  },
  {
   "cell_type": "code",
   "execution_count": null,
   "metadata": {
    "Collapsed": "false"
   },
   "outputs": [],
   "source": [
    "url8 = \"https://finnhub.io/api/v1/stock/investor-ownership?symbol={}&token={}\".format(company, api_key) #url\n",
    "req8 = requests.get(url8) \n",
    "# print(req8.json())\n",
    "own = req8.json()"
   ]
  },
  {
   "cell_type": "code",
   "execution_count": null,
   "metadata": {
    "Collapsed": "false"
   },
   "outputs": [],
   "source": [
    "ownership = pd.DataFrame(own.items(), columns =['Features', 'Value'])\n",
    "# print(req8.json())\n",
    "owner = pd.DataFrame(req8.json())\n",
    "owner1 = json_normalize(owner['ownership'])"
   ]
  },
  {
   "cell_type": "code",
   "execution_count": null,
   "metadata": {
    "Collapsed": "false"
   },
   "outputs": [],
   "source": [
    "owner1"
   ]
  },
  {
   "cell_type": "markdown",
   "metadata": {
    "Collapsed": "false"
   },
   "source": [
    "## Fund Ownership"
   ]
  },
  {
   "cell_type": "code",
   "execution_count": null,
   "metadata": {
    "Collapsed": "false"
   },
   "outputs": [],
   "source": [
    "url9 = \"https://finnhub.io/api/v1/stock/fund-ownership?symbol={}&token={}\".format(company, api_key) #url\n",
    "req9 = requests.get(url9)\n",
    "fdowner = pd.DataFrame(req9.json())\n",
    "fdowner1 = json_normalize(fdowner['ownership'])\n",
    "fdowner1"
   ]
  },
  {
   "cell_type": "markdown",
   "metadata": {
    "Collapsed": "false"
   },
   "source": [
    "## performance metrics"
   ]
  },
  {
   "cell_type": "code",
   "execution_count": null,
   "metadata": {
    "Collapsed": "false"
   },
   "outputs": [],
   "source": [
    "url9 = \"https://finnhub.io/api/v1/stock/metric?symbol={}&metric=margin&token={}\".format(company, api_key) #url\n",
    "req9 = requests.get(url9) \n",
    "print(req9.json())"
   ]
  },
  {
   "cell_type": "code",
   "execution_count": null,
   "metadata": {
    "Collapsed": "false"
   },
   "outputs": [],
   "source": [
    "perf = pd.DataFrame(req9.json())\n",
    "perf"
   ]
  },
  {
   "cell_type": "markdown",
   "metadata": {
    "Collapsed": "false"
   },
   "source": [
    "## stock quote"
   ]
  },
  {
   "cell_type": "code",
   "execution_count": null,
   "metadata": {
    "Collapsed": "false"
   },
   "outputs": [],
   "source": [
    "url10 = \"https://finnhub.io/api/v1/quote?symbol={}&token={}\".format(company, api_key) #url\n",
    "req10 = requests.get(url10) \n",
    "print(req10.json())"
   ]
  },
  {
   "cell_type": "code",
   "execution_count": null,
   "metadata": {
    "Collapsed": "false"
   },
   "outputs": [],
   "source": [
    "url10 = \"https://finnhub.io/api/v1/quote?symbol=BINANCE:BTCEUR&token={}\".format(api_key) #url\n",
    "req10 = requests.get(url10) \n",
    "print(req10.json())"
   ]
  },
  {
   "cell_type": "markdown",
   "metadata": {
    "Collapsed": "false"
   },
   "source": [
    "## General News"
   ]
  },
  {
   "cell_type": "code",
   "execution_count": null,
   "metadata": {
    "Collapsed": "false"
   },
   "outputs": [],
   "source": [
    "url11 = \"https://finnhub.io/api/v1/news?category=general&token={}\".format(api_key) #url\n",
    "req11 = requests.get(url11) \n",
    "news = pd.DataFrame(req11.json())\n",
    "news"
   ]
  },
  {
   "cell_type": "markdown",
   "metadata": {
    "Collapsed": "false"
   },
   "source": [
    "## company news "
   ]
  },
  {
   "cell_type": "code",
   "execution_count": null,
   "metadata": {
    "Collapsed": "false"
   },
   "outputs": [],
   "source": [
    "url12 = \"https://finnhub.io/api/v1/news/{}?token={}\".format(company,api_key) #url\n",
    "req12 = requests.get(url12) \n",
    "compnews = pd.DataFrame(req12.json())\n",
    "compnews"
   ]
  },
  {
   "cell_type": "markdown",
   "metadata": {
    "Collapsed": "false"
   },
   "source": [
    "## Major Developments"
   ]
  },
  {
   "cell_type": "code",
   "execution_count": null,
   "metadata": {
    "Collapsed": "false"
   },
   "outputs": [],
   "source": [
    "url13 = \"https://finnhub.io/api/v1/major-development?symbol={}&token={}'\".format(company,api_key) #url\n",
    "req13 = requests.get(url13) \n",
    "# print(req13.json())"
   ]
  },
  {
   "cell_type": "markdown",
   "metadata": {
    "Collapsed": "false"
   },
   "source": [
    "## New Sentiment"
   ]
  },
  {
   "cell_type": "code",
   "execution_count": null,
   "metadata": {
    "Collapsed": "false"
   },
   "outputs": [],
   "source": [
    "url14 = \"https://finnhub.io/api/v1/news-sentiment?symbol={}&token={}\".format(company,api_key) #url\n",
    "req14 = requests.get(url14) \n",
    "\n",
    "cpn = pd.DataFrame(req14.json())\n",
    "print(req14.json())"
   ]
  },
  {
   "cell_type": "markdown",
   "metadata": {
    "Collapsed": "false"
   },
   "source": [
    "## Economic Code & Data\n"
   ]
  },
  {
   "cell_type": "code",
   "execution_count": null,
   "metadata": {
    "Collapsed": "false"
   },
   "outputs": [],
   "source": [
    "url15 = \"https://finnhub.io/api/v1/economic/code?token={}\".format(api_key) #url\n",
    "req15 = requests.get(url15) \n",
    "# print(req15.json())\n"
   ]
  },
  {
   "cell_type": "code",
   "execution_count": null,
   "metadata": {
    "Collapsed": "false"
   },
   "outputs": [],
   "source": [
    "code = pd.DataFrame(req15.json())\n",
    "code.head(n=15)"
   ]
  },
  {
   "cell_type": "code",
   "execution_count": null,
   "metadata": {
    "Collapsed": "false"
   },
   "outputs": [],
   "source": [
    "df = code.loc[code['country'] == 'United States']"
   ]
  },
  {
   "cell_type": "code",
   "execution_count": null,
   "metadata": {
    "Collapsed": "false"
   },
   "outputs": [],
   "source": [
    "code.code.value_counts().sum()"
   ]
  },
  {
   "cell_type": "code",
   "execution_count": null,
   "metadata": {
    "Collapsed": "false"
   },
   "outputs": [],
   "source": [
    "url16 = \"https://finnhub.io/api/v1/economic?code=A-FRA-6682&token={}\".format(api_key) #url\n",
    "req16 = requests.get(url16) \n",
    "eco = pd.DataFrame(req16.json(), columns =['Date', 'Monthly Bankruptices in France'])\n",
    "eco"
   ]
  },
  {
   "cell_type": "code",
   "execution_count": null,
   "metadata": {
    "Collapsed": "false"
   },
   "outputs": [],
   "source": [
    "url17 = \"https://finnhub.io/api/v1/covid19/us?token={}\".format(api_key) #url\n",
    "req17 = requests.get(url17) \n",
    "# print(req17.json())\n",
    "\n",
    "covid = pd.DataFrame(req17.json())\n",
    "covid.head(n=20)"
   ]
  },
  {
   "cell_type": "code",
   "execution_count": null,
   "metadata": {
    "Collapsed": "false"
   },
   "outputs": [],
   "source": []
  }
 ],
 "metadata": {
  "kernelspec": {
   "display_name": "Python 3",
   "language": "python",
   "name": "python3"
  },
  "language_info": {
   "codemirror_mode": {
    "name": "ipython",
    "version": 3
   },
   "file_extension": ".py",
   "mimetype": "text/x-python",
   "name": "python",
   "nbconvert_exporter": "python",
   "pygments_lexer": "ipython3",
   "version": "3.6.8"
  }
 },
 "nbformat": 4,
 "nbformat_minor": 4
}
