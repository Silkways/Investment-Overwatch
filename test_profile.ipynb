{
 "cells": [
  {
   "cell_type": "code",
   "execution_count": 2,
   "metadata": {
    "Collapsed": "false"
   },
   "outputs": [],
   "source": [
    "import websocket\n",
    "import pandas as pd\n",
    "import requests\n"
   ]
  },
  {
   "cell_type": "code",
   "execution_count": 3,
   "metadata": {
    "Collapsed": "false"
   },
   "outputs": [],
   "source": [
    "def get_keys(path):\n",
    "    with open(path) as f:\n",
    "        return json.load(f)"
   ]
  },
  {
   "cell_type": "code",
   "execution_count": 10,
   "metadata": {
    "Collapsed": "false"
   },
   "outputs": [],
   "source": [
    "keys = get_keys(\"/Users/augustingoudet/.secret/code_file\") #Finnhub Key\n",
    "\n",
    "company = \"SK.PA\" #Company Ticker\n",
    "api_key = keys ['finnhub'] #api_key\n",
    "\n",
    "url = \"https://finnhub.io/api/v1/stock/profile?symbol={}&token={}\".format(company, api_key) #url\n",
    "req = requests.get(url)"
   ]
  },
  {
   "cell_type": "code",
   "execution_count": 11,
   "metadata": {
    "Collapsed": "false"
   },
   "outputs": [
    {
     "data": {
      "text/plain": [
       "{'address': 'Campus SEB - 112, chemin du Moulin Carron',\n",
       " 'city': 'ECULLY',\n",
       " 'country': 'FR',\n",
       " 'currency': 'EUR',\n",
       " 'cusip': 'F82059100',\n",
       " 'description': 'SEB SA is a France-based manufacturer of household equipment. The Company is present in three complementary sectors: Cookware, Kitchen Electrics and Home and Personal Care. The Cookware sector includes frying pans, oven dishes, pressure cookers, kitchen utensils, among others. The Kitchen Electrics is divided into two smaller groups: Electric cooking, which includes deep fryers, table-top ovens, rice cookers, induction hobs, barbecues, informal meal appliances and Preparation, which consists of food processors, beaters, mixers, blenders, juicers, coffee makers. The Home and Personal Care is divided into Linen care (including steam irons and steam generators), Home care (fans, portable heaters and air-conditioners appliances, among others) and Personal care (hair care appliances, depilators, bathroom scales). SEB SA has six multi-regional brands: All-Clad, Rowenta, Moulinex, Tefal, Lagostina and Krups. It operates through SWIZZZ PROZZZ.',\n",
       " 'employeeTotal': '32690',\n",
       " 'exchange': 'NYSE EURONEXT - EURONEXT PARIS',\n",
       " 'ggroup': 'Consumer Durables & Apparel',\n",
       " 'gind': 'Household Durables',\n",
       " 'gsector': 'Consumer Discretionary',\n",
       " 'gsubind': 'Household Appliances',\n",
       " 'ipo': '1985-01-07',\n",
       " 'isin': 'FR0000121709',\n",
       " 'marketCapitalization': 5468.378,\n",
       " 'naics': 'Household Appliance Manufacturing',\n",
       " 'naicsNationalIndustry': 'Electric Housewares and Household Fan Manufacturing',\n",
       " 'naicsSector': 'Manufacturing',\n",
       " 'naicsSubsector': 'Electrical Equipment, Appliance, and Component Manufacturing',\n",
       " 'name': 'SEB SA',\n",
       " 'phone': '33472181818',\n",
       " 'sedol': '4792132',\n",
       " 'shareOutstanding': 49.778922,\n",
       " 'state': 'AUVERGNE-RHONE-ALPES',\n",
       " 'ticker': 'SK.PA',\n",
       " 'weburl': 'http://www.groupeseb.com'}"
      ]
     },
     "execution_count": 11,
     "metadata": {},
     "output_type": "execute_result"
    }
   ],
   "source": [
    "r = req.json()\n",
    "r"
   ]
  },
  {
   "cell_type": "code",
   "execution_count": 12,
   "metadata": {
    "Collapsed": "false"
   },
   "outputs": [],
   "source": [
    "df = pd.DataFrame(r.items(), columns =['Features', 'Value'])"
   ]
  },
  {
   "cell_type": "code",
   "execution_count": 13,
   "metadata": {
    "Collapsed": "false"
   },
   "outputs": [
    {
     "data": {
      "text/html": [
       "<div>\n",
       "<style scoped>\n",
       "    .dataframe tbody tr th:only-of-type {\n",
       "        vertical-align: middle;\n",
       "    }\n",
       "\n",
       "    .dataframe tbody tr th {\n",
       "        vertical-align: top;\n",
       "    }\n",
       "\n",
       "    .dataframe thead th {\n",
       "        text-align: right;\n",
       "    }\n",
       "</style>\n",
       "<table border=\"1\" class=\"dataframe\">\n",
       "  <thead>\n",
       "    <tr style=\"text-align: right;\">\n",
       "      <th></th>\n",
       "      <th>Features</th>\n",
       "      <th>Value</th>\n",
       "    </tr>\n",
       "  </thead>\n",
       "  <tbody>\n",
       "    <tr>\n",
       "      <th>0</th>\n",
       "      <td>address</td>\n",
       "      <td>Campus SEB - 112, chemin du Moulin Carron</td>\n",
       "    </tr>\n",
       "    <tr>\n",
       "      <th>1</th>\n",
       "      <td>city</td>\n",
       "      <td>ECULLY</td>\n",
       "    </tr>\n",
       "    <tr>\n",
       "      <th>2</th>\n",
       "      <td>country</td>\n",
       "      <td>FR</td>\n",
       "    </tr>\n",
       "    <tr>\n",
       "      <th>3</th>\n",
       "      <td>currency</td>\n",
       "      <td>EUR</td>\n",
       "    </tr>\n",
       "    <tr>\n",
       "      <th>4</th>\n",
       "      <td>cusip</td>\n",
       "      <td>F82059100</td>\n",
       "    </tr>\n",
       "    <tr>\n",
       "      <th>5</th>\n",
       "      <td>description</td>\n",
       "      <td>SEB SA is a France-based manufacturer of house...</td>\n",
       "    </tr>\n",
       "    <tr>\n",
       "      <th>6</th>\n",
       "      <td>employeeTotal</td>\n",
       "      <td>32690</td>\n",
       "    </tr>\n",
       "    <tr>\n",
       "      <th>7</th>\n",
       "      <td>exchange</td>\n",
       "      <td>NYSE EURONEXT - EURONEXT PARIS</td>\n",
       "    </tr>\n",
       "    <tr>\n",
       "      <th>8</th>\n",
       "      <td>ggroup</td>\n",
       "      <td>Consumer Durables &amp; Apparel</td>\n",
       "    </tr>\n",
       "    <tr>\n",
       "      <th>9</th>\n",
       "      <td>gind</td>\n",
       "      <td>Household Durables</td>\n",
       "    </tr>\n",
       "    <tr>\n",
       "      <th>10</th>\n",
       "      <td>gsector</td>\n",
       "      <td>Consumer Discretionary</td>\n",
       "    </tr>\n",
       "    <tr>\n",
       "      <th>11</th>\n",
       "      <td>gsubind</td>\n",
       "      <td>Household Appliances</td>\n",
       "    </tr>\n",
       "    <tr>\n",
       "      <th>12</th>\n",
       "      <td>ipo</td>\n",
       "      <td>1985-01-07</td>\n",
       "    </tr>\n",
       "    <tr>\n",
       "      <th>13</th>\n",
       "      <td>isin</td>\n",
       "      <td>FR0000121709</td>\n",
       "    </tr>\n",
       "    <tr>\n",
       "      <th>14</th>\n",
       "      <td>marketCapitalization</td>\n",
       "      <td>5468.38</td>\n",
       "    </tr>\n",
       "    <tr>\n",
       "      <th>15</th>\n",
       "      <td>naics</td>\n",
       "      <td>Household Appliance Manufacturing</td>\n",
       "    </tr>\n",
       "    <tr>\n",
       "      <th>16</th>\n",
       "      <td>naicsNationalIndustry</td>\n",
       "      <td>Electric Housewares and Household Fan Manufact...</td>\n",
       "    </tr>\n",
       "    <tr>\n",
       "      <th>17</th>\n",
       "      <td>naicsSector</td>\n",
       "      <td>Manufacturing</td>\n",
       "    </tr>\n",
       "    <tr>\n",
       "      <th>18</th>\n",
       "      <td>naicsSubsector</td>\n",
       "      <td>Electrical Equipment, Appliance, and Component...</td>\n",
       "    </tr>\n",
       "    <tr>\n",
       "      <th>19</th>\n",
       "      <td>name</td>\n",
       "      <td>SEB SA</td>\n",
       "    </tr>\n",
       "    <tr>\n",
       "      <th>20</th>\n",
       "      <td>phone</td>\n",
       "      <td>33472181818</td>\n",
       "    </tr>\n",
       "    <tr>\n",
       "      <th>21</th>\n",
       "      <td>sedol</td>\n",
       "      <td>4792132</td>\n",
       "    </tr>\n",
       "    <tr>\n",
       "      <th>22</th>\n",
       "      <td>shareOutstanding</td>\n",
       "      <td>49.7789</td>\n",
       "    </tr>\n",
       "    <tr>\n",
       "      <th>23</th>\n",
       "      <td>state</td>\n",
       "      <td>AUVERGNE-RHONE-ALPES</td>\n",
       "    </tr>\n",
       "    <tr>\n",
       "      <th>24</th>\n",
       "      <td>ticker</td>\n",
       "      <td>SK.PA</td>\n",
       "    </tr>\n",
       "    <tr>\n",
       "      <th>25</th>\n",
       "      <td>weburl</td>\n",
       "      <td>http://www.groupeseb.com</td>\n",
       "    </tr>\n",
       "  </tbody>\n",
       "</table>\n",
       "</div>"
      ],
      "text/plain": [
       "                 Features                                              Value\n",
       "0                 address          Campus SEB - 112, chemin du Moulin Carron\n",
       "1                    city                                             ECULLY\n",
       "2                 country                                                 FR\n",
       "3                currency                                                EUR\n",
       "4                   cusip                                          F82059100\n",
       "5             description  SEB SA is a France-based manufacturer of house...\n",
       "6           employeeTotal                                              32690\n",
       "7                exchange                     NYSE EURONEXT - EURONEXT PARIS\n",
       "8                  ggroup                        Consumer Durables & Apparel\n",
       "9                    gind                                 Household Durables\n",
       "10                gsector                             Consumer Discretionary\n",
       "11                gsubind                               Household Appliances\n",
       "12                    ipo                                         1985-01-07\n",
       "13                   isin                                       FR0000121709\n",
       "14   marketCapitalization                                            5468.38\n",
       "15                  naics                  Household Appliance Manufacturing\n",
       "16  naicsNationalIndustry  Electric Housewares and Household Fan Manufact...\n",
       "17            naicsSector                                      Manufacturing\n",
       "18         naicsSubsector  Electrical Equipment, Appliance, and Component...\n",
       "19                   name                                             SEB SA\n",
       "20                  phone                                        33472181818\n",
       "21                  sedol                                            4792132\n",
       "22       shareOutstanding                                            49.7789\n",
       "23                  state                               AUVERGNE-RHONE-ALPES\n",
       "24                 ticker                                              SK.PA\n",
       "25                 weburl                           http://www.groupeseb.com"
      ]
     },
     "execution_count": 13,
     "metadata": {},
     "output_type": "execute_result"
    }
   ],
   "source": [
    "df"
   ]
  },
  {
   "cell_type": "code",
   "execution_count": null,
   "metadata": {
    "Collapsed": "false"
   },
   "outputs": [],
   "source": []
  }
 ],
 "metadata": {
  "kernelspec": {
   "display_name": "Python 3",
   "language": "python",
   "name": "python3"
  },
  "language_info": {
   "codemirror_mode": {
    "name": "ipython",
    "version": 3
   },
   "file_extension": ".py",
   "mimetype": "text/x-python",
   "name": "python",
   "nbconvert_exporter": "python",
   "pygments_lexer": "ipython3",
   "version": "3.6.8"
  }
 },
 "nbformat": 4,
 "nbformat_minor": 4
}
